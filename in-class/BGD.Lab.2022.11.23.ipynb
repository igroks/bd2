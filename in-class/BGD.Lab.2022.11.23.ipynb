{
 "cells": [
  {
   "cell_type": "markdown",
   "id": "ce5f97b0",
   "metadata": {
    "cell_style": "center",
    "slideshow": {
     "slide_type": "slide"
    }
   },
   "source": [
    "## Configuração \n",
    "---\n",
    "          \n",
    "- Opção 1: Cluster simulado pelo ambiente Spark local para teste\n",
    "  - Pode ser monitorado em http://localhost:4040/jobs/\n",
    "\n",
    "- Opção 2: \n",
    "  - Cluster com dois Worker Nodes instalados na minha máquina RioBello\n",
    "  - Essa URL localiza o MasterNode que reconhe os Workers\n",
    "  - Esse cluster pode ser monitorado aqui: http://riobello:8080/\n",
    "     \n",
    "  "
   ]
  },
  {
   "cell_type": "markdown",
   "id": "17c8923a",
   "metadata": {
    "cell_style": "center",
    "slideshow": {
     "slide_type": "slide"
    }
   },
   "source": [
    "## Arquitetura\n",
    "---\n",
    "\n",
    "<img src=\"https://drive.google.com/uc?id=1L0YRx_JyflW6GiLXsVoY5q7xpy7ZGlob\" width=500/> \n",
    "  "
   ]
  },
  {
   "cell_type": "code",
   "execution_count": 1,
   "id": "c7e63144",
   "metadata": {
    "cell_style": "center",
    "slideshow": {
     "slide_type": "slide"
    }
   },
   "outputs": [
    {
     "name": "stderr",
     "output_type": "stream",
     "text": [
      "Setting default log level to \"WARN\".\n",
      "To adjust logging level use sc.setLogLevel(newLevel). For SparkR, use setLogLevel(newLevel).\n"
     ]
    },
    {
     "name": "stdout",
     "output_type": "stream",
     "text": [
      "22/11/23 10:16:32 WARN NativeCodeLoader: Unable to load native-hadoop library for your platform... using builtin-java classes where applicable\n"
     ]
    }
   ],
   "source": [
    "import warnings\n",
    "warnings.filterwarnings('ignore')\n",
    "\n",
    "from pyspark import SparkConf, SparkContext\n",
    "\n",
    "\n",
    "# Desconecta o SparkContext, caso esteja conectado\n",
    "# sc.stop()\n",
    "\n",
    "# Opção 1\n",
    "conf = SparkConf().setMaster(\"local\").setAppName(\"UFAM-Local\")\n",
    "\n",
    "# Opção 2 \n",
    "#conf = SparkConf().setMaster(\"spark://RioBello:7077\").setAppName(\"UFAM-RioBello\")\n",
    "\n",
    "# Conecta ao Cluster Spark\n",
    "sc = SparkContext(conf = conf)"
   ]
  },
  {
   "attachments": {},
   "cell_type": "markdown",
   "id": "9fec9288",
   "metadata": {
    "slideshow": {
     "slide_type": "slide"
    }
   },
   "source": [
    "## Exemplo: RDD criado de um arquivo de texto\n",
    "--- \n",
    "- San Francisco Crime Classification Dataset\n",
    "    - 878.050 registros de incidentes criminais em São Francisco de 01/03 a 05/15 \n",
    "- Computar o número de registros em cada categoria \n"
   ]
  },
  {
   "attachments": {},
   "cell_type": "markdown",
   "id": "bdea2c0e",
   "metadata": {
    "slideshow": {
     "slide_type": "slide"
    }
   },
   "source": [
    "## Exemplo: RDD criado de um arquivo de texto - Estrutura do Arquivo\n",
    "--- \n",
    " \n",
    "<table>\n",
    "    <tr>\n",
    "   <td>  </td> <td>  </td>\n",
    "  </tr>\n",
    "  <tr>\n",
    " <td>\n",
    "    <center> <img src=\"https://drive.google.com/uc?id=1LB4X6KZoUxKzYihoHPgSrN-_0B4WH4G5\" width=700/> </center>\n",
    "</td>\n",
    "   <td>\n",
    "       \n",
    "- Dates: timestamp do incidente do crime\n",
    "- Category: categoria do incidente do crime. \n",
    "- São 39 categorias distintas\n",
    "- Descript: descrição detalhada do incidente do crime \n",
    "- DayOfWeek: o dia da semana\n",
    "- PdDistric: nome do Distrito do Departamento de Polícia\n",
    "- Resolution: como o incidente do crime foi resolvido\n",
    "- Address: o endereço aproximado do incidente do crime\n",
    "\n",
    "   <td>\n",
    "</tr>\n",
    "</table>   \n"
   ]
  },
  {
   "cell_type": "code",
   "execution_count": 2,
   "id": "55de8f19",
   "metadata": {
    "slideshow": {
     "slide_type": "slide"
    }
   },
   "outputs": [],
   "source": [
    "# Leitura do arquivo contendo os dados e criação do rdd basee\n",
    "rbase = sc.textFile(\"/Users/alti/Downloads/sf-crime.csv\")"
   ]
  },
  {
   "cell_type": "code",
   "execution_count": 3,
   "id": "29832e2e",
   "metadata": {},
   "outputs": [],
   "source": [
    "# Quebra das linhas em virgulas para obter os campos do arquivo\n",
    "r1 = rbase.map(lambda line:line.split(\",\"))"
   ]
  },
  {
   "cell_type": "code",
   "execution_count": 4,
   "id": "3458dc29",
   "metadata": {},
   "outputs": [],
   "source": [
    "# Filtra as linha com vazias\n",
    "r2 = r1.filter(lambda line: line[0]!=\"Dates\")"
   ]
  },
  {
   "cell_type": "code",
   "execution_count": 5,
   "id": "79479a1d",
   "metadata": {},
   "outputs": [],
   "source": [
    "# Extrair somente as categorias\n",
    "r3 = r2.map(lambda line: (line[2],1))"
   ]
  },
  {
   "cell_type": "code",
   "execution_count": 6,
   "id": "d40ef54c",
   "metadata": {},
   "outputs": [],
   "source": [
    "# Agregação e soma pela categoria\n",
    "r4 = r3.reduceByKey(lambda a,b:a+b)"
   ]
  },
  {
   "cell_type": "code",
   "execution_count": 7,
   "id": "c18f2b57",
   "metadata": {},
   "outputs": [
    {
     "name": "stderr",
     "output_type": "stream",
     "text": [
      "/opt/homebrew/lib/python3.9/site-packages/pyspark/python/lib/pyspark.zip/pyspark/shuffle.py:65: UserWarning: Please install psutil to have better support with spilling\n",
      "  warnings.warn(\"Please install psutil to have better \" \"support with spilling\")\n",
      "                                                                                \r"
     ]
    }
   ],
   "source": [
    "# Ordenação pela ordem da categoria\n",
    "r5 = r4.sortByKey()"
   ]
  },
  {
   "cell_type": "code",
   "execution_count": 8,
   "id": "fa3c8aa0",
   "metadata": {},
   "outputs": [
    {
     "name": "stdout",
     "output_type": "stream",
     "text": [
      "[('\"ACCESS CARD INFORMATION', 319), ('\"AEROSOL CONTAINER; SALE', 24), ('\"AGGRAVATED ASSAULT OF POLICE OFFICER', 171), ('\"AIDED CASE', 24148), ('\"ALCOHOLIC BEVERAGE', 1), ('\"AMMUNITION', 128), ('\"ANIMAL', 15), ('\"ARMOR PENETRATING AMMUNITION', 2), ('\"ASSAULT', 228), ('\"ATTEMPTED KIDNAPPING', 93)]\n"
     ]
    }
   ],
   "source": [
    "# Envio do resultado de volta para o Driver\n",
    "resultado = r5.collect()\n",
    "print(resultado[0:10])"
   ]
  },
  {
   "cell_type": "code",
   "execution_count": 9,
   "id": "6ac26b5f",
   "metadata": {},
   "outputs": [
    {
     "name": "stderr",
     "output_type": "stream",
     "text": [
      "                                                                                \r"
     ]
    },
    {
     "name": "stdout",
     "output_type": "stream",
     "text": [
      "[('\"ACCESS CARD INFORMATION', 319), ('\"AEROSOL CONTAINER; SALE', 24), ('\"AGGRAVATED ASSAULT OF POLICE OFFICER', 171), ('\"AIDED CASE', 24148), ('\"ALCOHOLIC BEVERAGE', 1), ('\"AMMUNITION', 128), ('\"ANIMAL', 15), ('\"ARMOR PENETRATING AMMUNITION', 2), ('\"ASSAULT', 228), ('\"ATTEMPTED KIDNAPPING', 93)]\n"
     ]
    }
   ],
   "source": [
    "# Pipeline Completo\n",
    "resultado = sc.textFile(\"/Users/alti/Downloads/sf-crime.csv\")\\\n",
    "              .map(lambda line:line.split(\",\"))\\\n",
    "              .filter(lambda line: line[0]!=\"Dates\")\\\n",
    "              .map(lambda line: (line[2],1))\\\n",
    "              .reduceByKey(lambda a,b:a+b)\\\n",
    "              .sortByKey()\\\n",
    "              .collect()\n",
    "\n",
    "print(resultado[0:10])"
   ]
  },
  {
   "cell_type": "markdown",
   "id": "3bdd18fd",
   "metadata": {
    "slideshow": {
     "slide_type": "slide"
    }
   },
   "source": [
    "## Resultado de Cada Operação\n",
    "---"
   ]
  },
  {
   "cell_type": "code",
   "execution_count": 10,
   "id": "34c3606a",
   "metadata": {
    "slideshow": {
     "slide_type": "-"
    }
   },
   "outputs": [
    {
     "name": "stderr",
     "output_type": "stream",
     "text": [
      "                                                                                \r"
     ]
    },
    {
     "data": {
      "text/plain": [
       "['Dates,Category,Descript,DayOfWeek,PdDistrict,Resolution,Address,X,Y',\n",
       " '2015-05-13 23:53:00,WARRANTS,WARRANT ARREST,Wednesday,NORTHERN,\"ARREST, BOOKED\",OAK ST / LAGUNA ST,-122.425891675136,37.7745985956747',\n",
       " '2015-05-13 23:53:00,OTHER OFFENSES,TRAFFIC VIOLATION ARREST,Wednesday,NORTHERN,\"ARREST, BOOKED\",OAK ST / LAGUNA ST,-122.425891675136,37.7745985956747',\n",
       " '2015-05-13 23:33:00,OTHER OFFENSES,TRAFFIC VIOLATION ARREST,Wednesday,NORTHERN,\"ARREST, BOOKED\",VANNESS AV / GREENWICH ST,-122.42436302145,37.8004143219856',\n",
       " '2015-05-13 23:30:00,LARCENY/THEFT,GRAND THEFT FROM LOCKED AUTO,Wednesday,NORTHERN,NONE,1500 Block of LOMBARD ST,-122.42699532676599,37.80087263276921']"
      ]
     },
     "execution_count": 10,
     "metadata": {},
     "output_type": "execute_result"
    }
   ],
   "source": [
    "# Leitura do arquivo contendo os dados e criação do rdd basee\n",
    "rbase = sc.textFile(\"/Users/alti/Downloads/sf-crime.csv\")\n",
    "rbase.cache().collect()[0:5]"
   ]
  },
  {
   "cell_type": "code",
   "execution_count": 11,
   "id": "a1731d32",
   "metadata": {
    "slideshow": {
     "slide_type": "slide"
    }
   },
   "outputs": [
    {
     "name": "stderr",
     "output_type": "stream",
     "text": [
      "                                                                                \r"
     ]
    },
    {
     "data": {
      "text/plain": [
       "[['Dates',\n",
       "  'Category',\n",
       "  'Descript',\n",
       "  'DayOfWeek',\n",
       "  'PdDistrict',\n",
       "  'Resolution',\n",
       "  'Address',\n",
       "  'X',\n",
       "  'Y'],\n",
       " ['2015-05-13 23:53:00',\n",
       "  'WARRANTS',\n",
       "  'WARRANT ARREST',\n",
       "  'Wednesday',\n",
       "  'NORTHERN',\n",
       "  '\"ARREST',\n",
       "  ' BOOKED\"',\n",
       "  'OAK ST / LAGUNA ST',\n",
       "  '-122.425891675136',\n",
       "  '37.7745985956747'],\n",
       " ['2015-05-13 23:53:00',\n",
       "  'OTHER OFFENSES',\n",
       "  'TRAFFIC VIOLATION ARREST',\n",
       "  'Wednesday',\n",
       "  'NORTHERN',\n",
       "  '\"ARREST',\n",
       "  ' BOOKED\"',\n",
       "  'OAK ST / LAGUNA ST',\n",
       "  '-122.425891675136',\n",
       "  '37.7745985956747'],\n",
       " ['2015-05-13 23:33:00',\n",
       "  'OTHER OFFENSES',\n",
       "  'TRAFFIC VIOLATION ARREST',\n",
       "  'Wednesday',\n",
       "  'NORTHERN',\n",
       "  '\"ARREST',\n",
       "  ' BOOKED\"',\n",
       "  'VANNESS AV / GREENWICH ST',\n",
       "  '-122.42436302145',\n",
       "  '37.8004143219856'],\n",
       " ['2015-05-13 23:30:00',\n",
       "  'LARCENY/THEFT',\n",
       "  'GRAND THEFT FROM LOCKED AUTO',\n",
       "  'Wednesday',\n",
       "  'NORTHERN',\n",
       "  'NONE',\n",
       "  '1500 Block of LOMBARD ST',\n",
       "  '-122.42699532676599',\n",
       "  '37.80087263276921']]"
      ]
     },
     "execution_count": 11,
     "metadata": {},
     "output_type": "execute_result"
    }
   ],
   "source": [
    "# Quebra das linhas em virgulas para obter os campos do arquivo\n",
    "r1 = rbase.map(lambda line:line.split(\",\"))\n",
    "r1.cache().collect()[0:5]"
   ]
  },
  {
   "cell_type": "code",
   "execution_count": 12,
   "id": "ee1c54f4",
   "metadata": {
    "slideshow": {
     "slide_type": "slide"
    }
   },
   "outputs": [
    {
     "name": "stderr",
     "output_type": "stream",
     "text": [
      "                                                                                \r"
     ]
    },
    {
     "data": {
      "text/plain": [
       "[['2015-05-13 23:53:00',\n",
       "  'WARRANTS',\n",
       "  'WARRANT ARREST',\n",
       "  'Wednesday',\n",
       "  'NORTHERN',\n",
       "  '\"ARREST',\n",
       "  ' BOOKED\"',\n",
       "  'OAK ST / LAGUNA ST',\n",
       "  '-122.425891675136',\n",
       "  '37.7745985956747'],\n",
       " ['2015-05-13 23:53:00',\n",
       "  'OTHER OFFENSES',\n",
       "  'TRAFFIC VIOLATION ARREST',\n",
       "  'Wednesday',\n",
       "  'NORTHERN',\n",
       "  '\"ARREST',\n",
       "  ' BOOKED\"',\n",
       "  'OAK ST / LAGUNA ST',\n",
       "  '-122.425891675136',\n",
       "  '37.7745985956747'],\n",
       " ['2015-05-13 23:33:00',\n",
       "  'OTHER OFFENSES',\n",
       "  'TRAFFIC VIOLATION ARREST',\n",
       "  'Wednesday',\n",
       "  'NORTHERN',\n",
       "  '\"ARREST',\n",
       "  ' BOOKED\"',\n",
       "  'VANNESS AV / GREENWICH ST',\n",
       "  '-122.42436302145',\n",
       "  '37.8004143219856'],\n",
       " ['2015-05-13 23:30:00',\n",
       "  'LARCENY/THEFT',\n",
       "  'GRAND THEFT FROM LOCKED AUTO',\n",
       "  'Wednesday',\n",
       "  'NORTHERN',\n",
       "  'NONE',\n",
       "  '1500 Block of LOMBARD ST',\n",
       "  '-122.42699532676599',\n",
       "  '37.80087263276921'],\n",
       " ['2015-05-13 23:30:00',\n",
       "  'LARCENY/THEFT',\n",
       "  'GRAND THEFT FROM LOCKED AUTO',\n",
       "  'Wednesday',\n",
       "  'PARK',\n",
       "  'NONE',\n",
       "  '100 Block of BRODERICK ST',\n",
       "  '-122.438737622757',\n",
       "  '37.771541172057795']]"
      ]
     },
     "execution_count": 12,
     "metadata": {},
     "output_type": "execute_result"
    }
   ],
   "source": [
    "# Filtra as linha com vazias\n",
    "r2 = r1.filter(lambda line: line[0]!=\"Dates\")\n",
    "r2.cache().collect()[0:5]"
   ]
  },
  {
   "cell_type": "code",
   "execution_count": 13,
   "id": "c38fa4cc",
   "metadata": {
    "slideshow": {
     "slide_type": "slide"
    }
   },
   "outputs": [
    {
     "name": "stderr",
     "output_type": "stream",
     "text": [
      "                                                                                \r"
     ]
    },
    {
     "data": {
      "text/plain": [
       "[('WARRANT ARREST', 1),\n",
       " ('TRAFFIC VIOLATION ARREST', 1),\n",
       " ('TRAFFIC VIOLATION ARREST', 1),\n",
       " ('GRAND THEFT FROM LOCKED AUTO', 1),\n",
       " ('GRAND THEFT FROM LOCKED AUTO', 1)]"
      ]
     },
     "execution_count": 13,
     "metadata": {},
     "output_type": "execute_result"
    }
   ],
   "source": [
    "# Extrair somente as categorias\n",
    "r3 = r2.map(lambda line: (line[2],1))\n",
    "r3.cache().collect()[0:5]"
   ]
  },
  {
   "cell_type": "code",
   "execution_count": 14,
   "id": "dd839bcc",
   "metadata": {},
   "outputs": [
    {
     "data": {
      "text/plain": [
       "[('GRAND THEFT FROM UNLOCKED AUTO', 4096),\n",
       " ('\"MALICIOUS MISCHIEF', 43753),\n",
       " ('\"ROBBERY', 6460),\n",
       " ('SUSPICIOUS PACKAGE', 25),\n",
       " ('\"AIDED CASE', 24148)]"
      ]
     },
     "execution_count": 14,
     "metadata": {},
     "output_type": "execute_result"
    }
   ],
   "source": [
    "# Agregação e soma pela categoria\n",
    "r4 = r3.reduceByKey(lambda a,b:a+b)\n",
    "r4.cache().collect()[0:5]"
   ]
  },
  {
   "cell_type": "code",
   "execution_count": 102,
   "id": "b4ae4896",
   "metadata": {},
   "outputs": [
    {
     "name": "stderr",
     "output_type": "stream",
     "text": [
      "/opt/homebrew/lib/python3.9/site-packages/pyspark/python/lib/pyspark.zip/pyspark/shuffle.py:65: UserWarning: Please install psutil to have better support with spilling\n",
      "  warnings.warn(\"Please install psutil to have better \" \"support with spilling\")\n"
     ]
    },
    {
     "data": {
      "text/plain": [
       "[('YOUTH COURT', 15),\n",
       " ('WILLFUL CRUELTY TO CHILD', 114),\n",
       " ('WEARING THE APPAREL OF OPPOSITE SEX TO DECEIVE', 1),\n",
       " ('WEARING MASK OR DISGUISE FOR UNLAWFUL PURPOSE', 4),\n",
       " ('WEAPONS POSSESSION BY JUVENILE SUSPECT', 13)]"
      ]
     },
     "execution_count": 102,
     "metadata": {},
     "output_type": "execute_result"
    }
   ],
   "source": [
    "# Ordenação pela ordem da categoria\n",
    "r5 = r4.sortByKey()\n",
    "r5.cache().collect()[0:5]"
   ]
  },
  {
   "cell_type": "code",
   "execution_count": 103,
   "id": "9b025834",
   "metadata": {},
   "outputs": [
    {
     "data": {
      "text/plain": [
       "[('YOUTH COURT', 15),\n",
       " ('WILLFUL CRUELTY TO CHILD', 114),\n",
       " ('WEARING THE APPAREL OF OPPOSITE SEX TO DECEIVE', 1),\n",
       " ('WEARING MASK OR DISGUISE FOR UNLAWFUL PURPOSE', 4),\n",
       " ('WEAPONS POSSESSION BY JUVENILE SUSPECT', 13)]"
      ]
     },
     "execution_count": 103,
     "metadata": {},
     "output_type": "execute_result"
    }
   ],
   "source": [
    "r5.top(5)"
   ]
  },
  {
   "cell_type": "code",
   "execution_count": 104,
   "id": "5a204189",
   "metadata": {},
   "outputs": [
    {
     "data": {
      "text/plain": [
       "[('\"ACCESS CARD INFORMATION', 319),\n",
       " ('\"AEROSOL CONTAINER; SALE', 24),\n",
       " ('\"AGGRAVATED ASSAULT OF POLICE OFFICER', 171),\n",
       " ('\"AIDED CASE', 24148),\n",
       " ('\"ALCOHOLIC BEVERAGE', 1)]"
      ]
     },
     "execution_count": 104,
     "metadata": {},
     "output_type": "execute_result"
    }
   ],
   "source": [
    "r5.take(5)"
   ]
  },
  {
   "cell_type": "code",
   "execution_count": 16,
   "id": "77e9c196",
   "metadata": {},
   "outputs": [
    {
     "name": "stdout",
     "output_type": "stream",
     "text": [
      "[('\"ACCESS CARD INFORMATION', 319), ('\"AEROSOL CONTAINER; SALE', 24), ('\"AGGRAVATED ASSAULT OF POLICE OFFICER', 171), ('\"AIDED CASE', 24148), ('\"ALCOHOLIC BEVERAGE', 1), ('\"AMMUNITION', 128), ('\"ANIMAL', 15), ('\"ARMOR PENETRATING AMMUNITION', 2), ('\"ASSAULT', 228), ('\"ATTEMPTED KIDNAPPING', 93)]\n"
     ]
    }
   ],
   "source": [
    "# Envio do resultado de volta para o Driver\n",
    "resultado = r5.collect()\n",
    "print(resultado[0:10])"
   ]
  },
  {
   "cell_type": "markdown",
   "id": "4244468b",
   "metadata": {},
   "source": [
    "## Exemplo: RDD criado em memória\n",
    "--- "
   ]
  },
  {
   "cell_type": "code",
   "execution_count": 88,
   "id": "bda04115",
   "metadata": {},
   "outputs": [],
   "source": [
    "texto = (\"Project Gutenberg’s\",\n",
    "    \"Alice’s Adventures in Wonderland\",\n",
    "    \"Project Gutenberg’s\",\n",
    "    \"Adventures in Wonderland\",\n",
    "    \"Project Gutenberg’s\")"
   ]
  },
  {
   "cell_type": "code",
   "execution_count": 89,
   "id": "9d6dc1d1",
   "metadata": {},
   "outputs": [
    {
     "data": {
      "text/plain": [
       "['Project Gutenberg’s',\n",
       " 'Alice’s Adventures in Wonderland',\n",
       " 'Project Gutenberg’s',\n",
       " 'Adventures in Wonderland',\n",
       " 'Project Gutenberg’s']"
      ]
     },
     "execution_count": 89,
     "metadata": {},
     "output_type": "execute_result"
    }
   ],
   "source": [
    "rtexto=sc.parallelize(texto)\n",
    "rtexto.collect()"
   ]
  },
  {
   "cell_type": "code",
   "execution_count": 90,
   "id": "c0a16767",
   "metadata": {},
   "outputs": [
    {
     "data": {
      "text/plain": [
       "[['Project', 'Gutenberg’s'],\n",
       " ['Alice’s', 'Adventures', 'in', 'Wonderland'],\n",
       " ['Project', 'Gutenberg’s'],\n",
       " ['Adventures', 'in', 'Wonderland'],\n",
       " ['Project', 'Gutenberg’s']]"
      ]
     },
     "execution_count": 90,
     "metadata": {},
     "output_type": "execute_result"
    }
   ],
   "source": [
    "texto_quebra1 = rtexto.map(lambda x : x.split())\n",
    "texto_quebra1.collect()"
   ]
  },
  {
   "cell_type": "code",
   "execution_count": 91,
   "id": "e2169e43",
   "metadata": {},
   "outputs": [
    {
     "data": {
      "text/plain": [
       "['Project',\n",
       " 'Gutenberg’s',\n",
       " 'Alice’s',\n",
       " 'Adventures',\n",
       " 'in',\n",
       " 'Wonderland',\n",
       " 'Project',\n",
       " 'Gutenberg’s',\n",
       " 'Adventures',\n",
       " 'in',\n",
       " 'Wonderland',\n",
       " 'Project',\n",
       " 'Gutenberg’s']"
      ]
     },
     "execution_count": 91,
     "metadata": {},
     "output_type": "execute_result"
    }
   ],
   "source": [
    "texto_quebra2 = rtexto.flatMap(lambda x : x.split())\n",
    "texto_quebra2.collect()"
   ]
  },
  {
   "cell_type": "code",
   "execution_count": 92,
   "id": "f70a3b43",
   "metadata": {},
   "outputs": [
    {
     "data": {
      "text/plain": [
       "[('Project', 1),\n",
       " ('Gutenberg’s', 1),\n",
       " ('Alice’s', 1),\n",
       " ('Adventures', 1),\n",
       " ('in', 1),\n",
       " ('Wonderland', 1),\n",
       " ('Project', 1),\n",
       " ('Gutenberg’s', 1),\n",
       " ('Adventures', 1),\n",
       " ('in', 1),\n",
       " ('Wonderland', 1),\n",
       " ('Project', 1),\n",
       " ('Gutenberg’s', 1)]"
      ]
     },
     "execution_count": 92,
     "metadata": {},
     "output_type": "execute_result"
    }
   ],
   "source": [
    "rpalavras = texto_quebra2.map(lambda x:(x,1))\n",
    "rpalavras.collect()"
   ]
  },
  {
   "cell_type": "code",
   "execution_count": 59,
   "id": "a8bbcca6",
   "metadata": {},
   "outputs": [
    {
     "data": {
      "text/plain": [
       "[('Project', 3),\n",
       " ('Gutenberg’s', 3),\n",
       " ('Alice’s', 1),\n",
       " ('Adventures', 2),\n",
       " ('in', 2),\n",
       " ('Wonderland', 2)]"
      ]
     },
     "execution_count": 59,
     "metadata": {},
     "output_type": "execute_result"
    }
   ],
   "source": [
    "import warnings\n",
    "warnings.filterwarnings('ignore')\n",
    "\n",
    "rcontador=rpalavras.reduceByKey(lambda a,b: a+b)\n",
    "rcontador.collect()                             "
   ]
  },
  {
   "cell_type": "code",
   "execution_count": 79,
   "id": "4d7e5711",
   "metadata": {},
   "outputs": [
    {
     "data": {
      "text/plain": [
       "[['Project', 'Gutenberg’s'],\n",
       " ['Alice’s', 'Adventures', 'in', 'Wonderland'],\n",
       " ['Project', 'Gutenberg’s'],\n",
       " ['Adventures', 'in', 'Wonderland'],\n",
       " ['Project', 'Gutenberg’s']]"
      ]
     },
     "execution_count": 79,
     "metadata": {},
     "output_type": "execute_result"
    }
   ],
   "source": [
    "texto_quebra1.collect()"
   ]
  },
  {
   "cell_type": "code",
   "execution_count": 101,
   "id": "0f96f047",
   "metadata": {},
   "outputs": [
    {
     "data": {
      "text/plain": [
       "[('Project', [['Gutenberg’s'], ['Gutenberg’s'], ['Gutenberg’s']]),\n",
       " ('Alice’s', [['Adventures', 'in', 'Wonderland']]),\n",
       " ('Adventures', [['in', 'Wonderland']])]"
      ]
     },
     "execution_count": 101,
     "metadata": {},
     "output_type": "execute_result"
    }
   ],
   "source": [
    "texto_quebra1.map(lambda x:(x[0],x[1:])).groupByKey().mapValues(list).collect()"
   ]
  }
 ],
 "metadata": {
  "celltoolbar": "Slideshow",
  "kernelspec": {
   "display_name": "Python 3 (ipykernel)",
   "language": "python",
   "name": "python3"
  },
  "language_info": {
   "codemirror_mode": {
    "name": "ipython",
    "version": 3
   },
   "file_extension": ".py",
   "mimetype": "text/x-python",
   "name": "python",
   "nbconvert_exporter": "python",
   "pygments_lexer": "ipython3",
   "version": "3.9.15"
  }
 },
 "nbformat": 4,
 "nbformat_minor": 5
}
