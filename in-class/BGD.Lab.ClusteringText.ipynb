{
 "cells": [
  {
   "cell_type": "markdown",
   "id": "bc529c7d",
   "metadata": {
    "slideshow": {
     "slide_type": "slide"
    }
   },
   "source": [
    " <img src=\"https://drive.google.com/uc?id=18x0Fa9XWHlnH5OWkZ-UMrJVQCdsEmYQw\" width=300/>\n",
    "\n",
    "## Big Data - Prática em BD e BD II [2022/02] </br></br> Laboratório: Clustering de Texto\n",
    "\n",
    "### Professor Altigran da Silva"
   ]
  },
  {
   "cell_type": "markdown",
   "id": "ba033c11",
   "metadata": {
    "slideshow": {
     "slide_type": "slide"
    }
   },
   "source": [
    "## Aplicação de Exemplo - Agrupamento de Comentários\n",
    "---\n",
    "\n",
    "- Dispomos de comentários de usuários sobre viagens aérea que realizaram. Cada texto de comentário será considerado um documento.\n",
    "\n",
    "- A tarefa é agrupar comentários similares usando algoritmo K-means\n",
    "\n",
    "- Para isso, para cada documento, vamos gerar um vetor de acordo com o modelo vetorial\n",
    "\n",
    "- Os dados serão lidos de um arquivo texto e processados usando os recursos Spark, com DataFrames e MLlib.\n"
   ]
  },
  {
   "cell_type": "markdown",
   "id": "3e3c5723",
   "metadata": {
    "slideshow": {
     "slide_type": "slide"
    }
   },
   "source": [
    "## Tratamento de Documentos Textuais\n",
    "--- \n",
    "\n",
    "- Diversas aplicações importantes envolvem tratamento de documentos textuais. \n",
    "- Esta aplicações podem utilizar várias técnicas computacionais, entre elas:\n",
    "  - Mineração de texto: cluster de documentos, extração de tópicos \n",
    "  - Categorização: atribuir documentos a categorias em taxonomias\n",
    "  - Extração de entidades: extração de nomes, endereços, dados de produtos etc.\n",
    "  - Análise de sentimento: avaliar se um documento/ é positiva, negativa ou neutro quanto a um tópico\n",
    "  - Linguística: extração de semântica, propósito, etc.\n",
    "- Técnicas implementadas por algoritmos de ML e/ou RI"
   ]
  },
  {
   "cell_type": "markdown",
   "id": "0b0b5241",
   "metadata": {
    "slideshow": {
     "slide_type": "slide"
    }
   },
   "source": [
    "## Tratamento de Documentos Textuais\n",
    "---\n",
    "\n",
    "- Vários destes algoritmos manipulam __vetores de características__ (_feature vectores_) \n",
    "\n",
    "- No caso de documentos textuais é preciso representar adequadamente os documentos utilizando estes vetores.\n",
    "\n",
    "- Exemplos de documentos: páginas Web, avaliações de usuários, artigos científicos, posts de usuários em redes sociais, documentos legais, médicos, financeiros, administrativos, ...\n",
    "\n",
    "- Embora muitos diversos entre si, existem formas de representação comuns que funcionam bem para várias aplicações.\n",
    "\n"
   ]
  },
  {
   "cell_type": "markdown",
   "id": "18c88c5a",
   "metadata": {
    "slideshow": {
     "slide_type": "slide"
    }
   },
   "source": [
    "## Representação de Documentos\n",
    "---\n",
    "\n",
    "- Vetor  $\\color{blue}{d = \\langle w_1,w_2,\\ldots,w_n \\rangle}$ representa o doc no espaço $\\color{blue}{n}$-dimensional\n",
    "\n",
    "- Alternativas\n",
    "  -  Ocorrência: $\\color{blue}{w_i}=1$ se ocorre no doc ou $\\color{blue}{w_i}=0$ se não ocorre\n",
    "  - _Bag-of-Words_: $\\color{blue}{w_i}$ é a frequência do termo no documento\n",
    "  - _n-gramas_ : $\\color{blue}{w_i}$ é a frequência do n-grama no documento\n",
    "  - _TF-IDF_:  $\\color{blue}{w_i}$ calculado usando pesos TF-IDF\n",
    "  - _Embdeddingd_:  $\\color{blue}{w_i}$ reflete o contexto linguístico da palavra\n",
    "\n"
   ]
  },
  {
   "cell_type": "markdown",
   "id": "1011be92",
   "metadata": {
    "slideshow": {
     "slide_type": "slide"
    }
   },
   "source": [
    "## Modelo Vetorial\n",
    "---\n",
    "- _Vector Space Moldel_ [[Salton et al.,1975]](https://dl.acm.org/doi/10.1145/361219.361220)\n",
    "- Documentos de texto representados por vetores \n",
    "  - $\\color{blue}{d = \\langle w_1, w_2,\\ldots, w_n\\rangle}$\n",
    "  - $\\color{blue}{w_i \\neq 0}$ se a palavra $\\color{blue}{x_i}$ ocorre no documento\n",
    "  - $\\color{blue}{w_i = 0}$ se a palavra $\\color{blue}{x_i}$ não ocorre no documento\n",
    " -  $\\color{blue}{\\{ x_1, x_2,\\ldots, x_n\\}}$ = __vocabulário__ : conjunto de todas as palavras que ocorrem na coleção de documentos\n"
   ]
  },
  {
   "cell_type": "markdown",
   "id": "c42e9180",
   "metadata": {
    "slideshow": {
     "slide_type": "slide"
    }
   },
   "source": [
    "## Modelo Vetorial\n",
    "--- \n",
    "\n",
    "  - A cada palvra ou _termo_ $\\color{blue}{x_i}$ é associado um vetor unário \n",
    "    - Assume-se que os vetores de termos são ortogonais\n",
    "    - Isso implica em que assumir que os termos ocorrem independentemente\n",
    "  - Os $\\color{blue}{t}$ vetores unários formam a base ortonormal de um espaço $\\color{blue}{t}$-dimensional\n",
    "  \n",
    "  - Neste espaço, documentos são representados como vetores ponderados.\n",
    " \n",
    "<center>\n",
    "$\\color{blue}{\\overrightarrow{d_{j}}=\\left(w_{1 j}, w_{2 j}, \\ldots, w_{tj}\\right), k_{i} \\in d_j w_{ij}>0}$\n",
    "</center>\n",
    "\n",
    "  - No contexto de busca de documentos, _consultas_ também são representados assim\n",
    " \n",
    "<center>\n",
    "$\\color{blue}{\\overrightarrow{q}=\\left(w_{1 q}, w_{2 q}, \\ldots, w_{tq}\\right), k_{i} \\in q, w_{iq}>0}$\n",
    " </center>\n",
    "    \n"
   ]
  },
  {
   "cell_type": "markdown",
   "id": "cba8e86d",
   "metadata": {
    "slideshow": {
     "slide_type": "slide"
    }
   },
   "source": [
    "## Modelo Vetorial - Pesos Baseados em Ocorrência\n",
    "---\n",
    "- Projeções com tamanho 0 ou 1: Peso 1 se o termo ocorre no doc, ou 0 se não ocorre\n",
    "\n",
    "<table>\n",
    "    <tr>\n",
    "   <td>  </td> <td>  </td>\n",
    "  </tr>\n",
    "  <tr>\n",
    " <td>\n",
    "    <center> <img src=\"https://drive.google.com/uc?id=1FTgozyIe09-88Anhu8M5PQmy7d8OzELg\" width=300/> </center>\n",
    "</td>\n",
    "   <td>\n",
    "       \n",
    "|       | hard  | drive | test  | $$Q\\cdot{D_x}$$   | $$||D_x||$$     | $$\\cos(\\theta)$$ | $$\\theta$$ (graus) |\n",
    "| :---  | :---: | :---: | :---: | :---:              | :---: | :---:      | :---:              |\n",
    "| $$Q$$     |     1 | 1     | 1     |                    | 1.732 |            |                    |\n",
    "|$$D_1$$| 1 | 0 | 0 | 1 | 1.000 | 0.577 | 54.736 |\n",
    "|$$D_2$$| 1 | 1 | 0 | 2 | 1.414 | 0.816 | 35.264 |\n",
    "|$$D_3$$| 0 | 1 | 1 | 2 | 1.414 | 0.816 | 35.264 |\n",
    "|$$D_4$$| 1 | 1 | 1 | 3 | 1.732 | 1.000 | 0 |\n",
    "|$$D_5$$| 1 | 0 | 1 | 2 | 1.414 | 0.816 | 35.264 |\n",
    "       \n",
    "   <td>\n",
    "</tr>\n",
    "</table>       \n",
    "\n",
    "<table>\n",
    "<tr> <td> $Q$ = <b>hard drive test</b> <td> </tr>\n",
    "<tr> <td> $D_1$ = \"...it's <b>hard</b> to determine...\" <td> </tr>\n",
    "    <tr> <td> $D_2$  = \"...this <b>hard drive</b> has 100GB of memory...make sure the <b>drive</b> is fully installed...} <td> </tr>\n",
    "<tr> <td> $D_3$  = \"...before I bought my new car, I took it out for a <b>test drive</b>...\"  <td> </tr>\n",
    "<tr> <td> $D_4$  = \"...as part of the factory acceptance, every unit gets a <b>hard drive test</b>...\"  <td> </tr>\n",
    "<tr> <td> $D_5$  = \"...I think I failed, that was a <b>hard test</b>...a standardized <b>test</b> is design to be <b>hard</b> for...\" <td> </tr>\n",
    "<table>\n",
    "    \n",
    "    \n",
    "<font size=\"2\">[Adaptado de Simple Data Bining Blog](http://simpledatamining.blogspot.com/2015/03/simple-text-retrieval-vector-space.html)</font>    "
   ]
  },
  {
   "cell_type": "markdown",
   "id": "4187b07d",
   "metadata": {
    "slideshow": {
     "slide_type": "slide"
    }
   },
   "source": [
    "## Modelo Vetorial - Pesos Baseados em Frequência\n",
    "---\n",
    "- Assume projeções/pesos baseados na frequência dos termos dos documentos\n",
    "\n",
    "<table>\n",
    "    <tr>\n",
    "   <td>  </td> <td>  </td>\n",
    "  </tr>\n",
    "  <tr>\n",
    " <td>\n",
    "    <center> <img src=\"https://drive.google.com/uc?id=1FT5fNwHUQBj0lcX6WiMkbBTZRuGcluMq\" width=300/> </center>\n",
    "</td>\n",
    "   <td>\n",
    "       \n",
    "|       | hard  | drive | test  | $$Q\\cdot{D_x}$$   | $$||D_x||$$     | $$\\cos(\\theta)$$ | $$\\theta$$ (graus) |\n",
    "| :---  | :---: | :---: | :---: | :---:              | :---: | :---:      | :---:              |\n",
    "| Q     |     1 | 1     | 1     |                    | 1.732 |            |                    |\n",
    "|$$D_1$$| 1 | 0 | 0 | 1 | 1.000 | 0.577 | 54.736 |\n",
    "|$$D_2$$| 1 | 2 | 0 | 3 | 2.236 | 0.775 | 39.232 |\n",
    "|$$D_3$$| 0 | 1 | 1 | 2 | 1.414 | 0.816 | 35.264 |\n",
    "|$$D_4$$| 1 | 1 | 1 | 3 | 1.732 | 1.000 | 0 |\n",
    "|$$D_5$$| 2 | 0 | 2 | 4 | 2.828 | 0.816 | 35.264 |\n",
    "       \n",
    "   <td>\n",
    "</tr>\n",
    "</table>       \n",
    "\n",
    "<table>\n",
    "<tr> <td> $Q$ = <b>hard drive test</b> <td> </tr>\n",
    "<tr> <td> $D_1$ = \"...it's <b>hard</b> to determine...\" <td> </tr>\n",
    "    <tr> <td> $D_2$  = \"...this <b>hard drive</b> has 100GB of memory...make sure the <b>drive</b> is fully installed...} <td> </tr>\n",
    "<tr> <td> $D_3$  = \"...before I bought my new car, I took it out for a <b>test drive</b>...\"  <td> </tr>\n",
    "<tr> <td> $D_4$  = \"...as part of the factory acceptance, every unit gets a <b>hard drive test</b>...\"  <td> </tr>\n",
    "<tr> <td> $D_5$  = \"...I think I failed, that was a <b>hard test</b>...a standardized <b>test</b> is design to be <b>hard</b> for...\" <td> </tr>\n",
    "<table>\n",
    "    \n",
    "    \n",
    "<font size=\"2\">[Adaptado de Simple Data Bining Blog](http://simpledatamining.blogspot.com/2015/03/simple-text-retrieval-vector-space.html)</font>    "
   ]
  },
  {
   "cell_type": "markdown",
   "id": "db74cdb9",
   "metadata": {
    "slideshow": {
     "slide_type": "slide"
    }
   },
   "source": [
    "## Modelo Vetorial - Caso Geral\n",
    "---\n",
    "\n",
    "- Coleção de Documentos: $\\color{blue}{d_1,d_2,\\ldots,d_j,\\ldots,d_{n-1},d_{n}}$\n",
    "\n",
    "- $\\color{blue}{w_{i,j}}$: tamanho da projeção do termo $\\color{blue}{x_{i}}$ no eixo $\\color{blue}{j}$ ou “peso” de $\\color{blue}{x_{i}}$ no documento $\\color{blue}{d_j}$\n",
    "\n",
    "- $\\color{blue}{\\overrightarrow{d_{j}}=\\left(w_{1 j}, w_{2 j}, \\ldots, w_{tj}\\right), k_{i} \\in d_j \\mbox{ e } w_{ij}>0}$: Vetor que representa  $\\color{blue}{d_j}$ no espaço multi-dimensional de termos.\n",
    "\n",
    "\n",
    "- _Bag-of-Words_ é um caso particular do modelo vetorial onde $\\color{blue}{w_{i,j}}$  é a frequência do termo no documento"
   ]
  },
  {
   "cell_type": "markdown",
   "id": "fad2a60b",
   "metadata": {
    "slideshow": {
     "slide_type": "slide"
    }
   },
   "source": [
    "## Pesos - Intuição\n",
    "---\n",
    "\n",
    "- Sejam\n",
    "  - $\\color{blue}{C}$ uma coleção de documentos (corpus) \n",
    "  - $\\color{blue}{A \\subseteq C}$ um conjunto de documentos considerados relevantes de acordo com a especificação de uma consulta do usuário\n",
    "  \n",
    "- Determinar\n",
    "  - O que caracteriza os docs em a $\\color{blue}{A}$ ⇨ Similaridade Intra-Cluster (SIC)\n",
    "  -  O que caracteriza os docs fora de  $\\color{blue}{A}$ ⇨ Disimilaridade Inter-Cluster (DIC)\n"
   ]
  },
  {
   "cell_type": "markdown",
   "id": "0f533476",
   "metadata": {
    "slideshow": {
     "slide_type": "slide"
    }
   },
   "source": [
    "## Pesos - Intuição\n",
    "---\n",
    "\n",
    "- Similaridade Intra-Cluster: medida pela frequência bruta de $\\color{blue}{x_i}$ em $\\color{blue}{d_j}$\n",
    "  - Fator $\\color{blue}{\\textit{tf}(i,j)}$: fornece a medida de quão bem o termo descreve o documento.\n",
    "  \n",
    "- A disimilaridade Inter-Cluster mede o inverso da frequência do termo $\\color{blue}{x_i}$ na coleção \n",
    "   - Fator $\\color{blue}{\\textit{idf}(i)}$: termos que aparecem em muitos documentos não são uteis para distinguir a sua relevância.\n",
    "   \n",
    "- Devemos tentar _balancear_ estes dois efeitos\n",
    "  - $\\color{blue}{w_{i,j}=\\textit{tf}(i,j)\\times\\textit{idf}(i)}$\n"
   ]
  },
  {
   "cell_type": "markdown",
   "id": "4d29cebf",
   "metadata": {
    "slideshow": {
     "slide_type": "slide"
    }
   },
   "source": [
    "## Frequência do Termo - tf\n",
    "---\n",
    "\n",
    "-  _Term Frequency_  \n",
    "-  A frequência normalizada do termo $\\color{blue}{x_i}$ no doc $\\color{blue}{d_j}$ é:\n",
    "   - $\\color{blue}{\\text{tf}(i,j)=\\frac{\\text{freq}_{i,j}}{\\max_l\\text{freq}_{l,j}}}$\n",
    "   \n",
    "- $\\color{blue}{\\text{freq}_{i,j}}$= freq. bruta do termo $\\color{blue}{x_i}$ no doc $\\color{blue}{d_j}$  = num. de vezes em que $\\color{blue}{x_i}$  aparece em $\\color{blue}{d_j}$\n",
    "\n",
    "- $\\color{blue}{\\max_l\\text{freq}_{l,j}}$ = freq. bruta do termo $\\color{blue}{x_l}$ mais frequente em $\\color{blue}{d_j}$\n"
   ]
  },
  {
   "cell_type": "markdown",
   "id": "fa59dc60",
   "metadata": {
    "slideshow": {
     "slide_type": "slide"
    }
   },
   "source": [
    "## Frequência Inversa em Documentos - idf\n",
    "---\n",
    "\n",
    "- _Inverse Document Frequency_ \n",
    "\n",
    "- $\\color{blue}{\\text{idf}(i)=\\log \\left(\\frac{N}{n_i}\\right)}$\n",
    "  - $\\color{blue}{N}$ = nr. total de docs. na coleção\n",
    "  - $\\color{blue}{n_i}$ = nr. de docs. em que o termo  $\\color{blue}{x_i}$ ocorre\n",
    "\n",
    "- Tenta expressar a importância de um termo dentro de uma coleção.\n",
    "\n",
    "- Quanto mais raro o termo, maior seu idf\n"
   ]
  },
  {
   "cell_type": "markdown",
   "id": "a60d08cb",
   "metadata": {
    "slideshow": {
     "slide_type": "slide"
    }
   },
   "source": [
    "## Pesos: Esquema tf-idf\n",
    "---\n",
    "\n",
    "- Assim temos:\n",
    "\n",
    "    - $\\color{blue}{w_{i,j}=\\textit{tf}(i,j)\\times\\textit{idf}(i)}$\n",
    "\n",
    "    - $\\color{blue}{w_{i,j}=\\textit{tf}(i,j)\\times\\log \\left(\\frac{N}{n_i}\\right)}$\n",
    "    \n",
    "- O log tem a função de tornar as duas grandezas comparáveis.\n"
   ]
  },
  {
   "cell_type": "markdown",
   "id": "1a61b00f",
   "metadata": {
    "slideshow": {
     "slide_type": "slide"
    }
   },
   "source": [
    "## Exemplo\n",
    "---\n",
    "\n",
    "<table>\n",
    "    <tr>\n",
    "   <td> \n",
    "       \n",
    "|     Docs    |     Termos     |\n",
    "|:-:|:-:|\n",
    "|     $$\\color{blue}{d_1}$$      |     A A A B    |\n",
    "|     $$\\color{blue}{d_2}$$     |     A A C      |\n",
    "|     $$\\color{blue}{d_3}$$     |     A A        |\n",
    "|     $$\\color{blue}{d_4}$$     |     B B        |\n",
    "   \n",
    "       \n",
    "   <td>  \n",
    "        $$\\color{blue}{\\text{idf}(A)=\\log \\left(\\frac{4}{3}\\right)=0,28}$$  \n",
    "\n",
    "$$\\color{blue}{\\text{idf}(B)=\\log \\left(\\frac{4}{2}\\right)=0,69}$$\n",
    "\n",
    "$$\\color{blue}{w\\left(d_1, A\\right)=i d f(A) \\times t f\\left(d_1, A\\right)-0,28 \\times 3=0,84}$$ \n",
    "\n",
    "$$\\color{blue}{w\\left(d_1, B\\right)=i d f(B) \\times t f\\left(d_1, B\\right)-0,69 \\times 1=0,69}$$\n",
    "\n",
    "$$\\color{blue}{w\\left(d_1, C\\right)=i d f(C) \\times t f\\left(d_1, C\\right)-1,28 \\times 0=0}$$\n",
    "\n",
    "$$\\color{blue}{\\overrightarrow{d_1}=(0,84 ; 0,69 ; 0)}$$\n",
    "   </td>\n",
    "  </tr>\n",
    "<table>\n"
   ]
  },
  {
   "cell_type": "markdown",
   "id": "ec95c830",
   "metadata": {
    "slideshow": {
     "slide_type": "slide"
    }
   },
   "source": [
    "## Modelo Vetorial - Similaridade \n",
    "--- \n",
    "\n",
    "- _Similariade_ entre documentos: o quão próximo os vetores estão no espaço de termos?\n",
    "\n",
    "<center> <img src=\"https://drive.google.com/uc?id=1FN9czlmZEkp4IwWgDWUCGgzOZrswwwHA\" width=600/> </center>\n"
   ]
  },
  {
   "cell_type": "markdown",
   "id": "64edb49f",
   "metadata": {
    "slideshow": {
     "slide_type": "slide"
    }
   },
   "source": [
    "## Modelo Vetorial - Medida do Cosseno\n",
    "---\n",
    "\n",
    "- _Similariade_ entre documentos: o quão próximo os vetores estão no espaço de termos?\n",
    "\n",
    "   - $\\color{blue}{\\text{sim}\\left(d_j, d_k\\right)=\\cos(\\theta)}$\n",
    "\n",
    "   - $\\color{blue}{\\text{sim}\\left(d_j, d_k\\right)=\\frac{\\vec{d_j} \\bullet \\vec{d_k}}{|\\vec{d_j}| \\times|\\vec{d_k}|}=\\frac{\\sum_{i=1}^t w_{i,j} \\times w_{i,k}}{\\sqrt{\\sum_{i=1}^t w_{i,j}^2} \\times \\sqrt{\\sum_{i=1}^t w_{i,k}^2}}}$\n",
    "\n",
    "- Para $\\color{blue}{w_{i,j} \\geq 0}$  e  $\\color{blue}{w_{i,k} \\geq 0}$,  $\\color{blue}{\\text{sim}\\left(d_j, k\\right) \\in [0,1]}$\n",
    "\n",
    "\n",
    "- No contexto de tarefas de busca,  $\\color{blue}{d_k}$ é uma consulta $\\color{blue}{q}$."
   ]
  },
  {
   "cell_type": "markdown",
   "id": "15e912ae",
   "metadata": {
    "slideshow": {
     "slide_type": "slide"
    }
   },
   "source": [
    "## Aplicação de Exemplo - Agrupamento de Comentários\n",
    "---\n",
    "\n",
    "- Dispomos de comentários de usuários sobre viagens aérea que realizaram. Cada texto de comentário será considerado um documento.\n",
    "\n",
    "- A tarefa é agrupar comentários similares usando algoritmo K-means\n",
    "\n",
    "- Para isso, para cada documento, vamos gerar um vetor de acordo com o modelo vetorial\n",
    "\n",
    "- Os dados serão lidos de um arquivo texto e processados usando os recursos Spark, com DataFrames e MLlib.\n"
   ]
  },
  {
   "cell_type": "code",
   "execution_count": 1,
   "id": "5a7e4ed7",
   "metadata": {},
   "outputs": [],
   "source": [
    "spark.stop()"
   ]
  },
  {
   "cell_type": "code",
   "execution_count": 2,
   "id": "93c60840",
   "metadata": {},
   "outputs": [],
   "source": [
    "from pyspark import *\n",
    "from pyspark.sql import *\n",
    "spark = SparkSession.builder.appName('LabTextClustering').getOrCreate()"
   ]
  },
  {
   "cell_type": "code",
   "execution_count": 3,
   "id": "890046d2",
   "metadata": {
    "slideshow": {
     "slide_type": "slide"
    }
   },
   "outputs": [
    {
     "name": "stdout",
     "output_type": "stream",
     "text": [
      "root\n",
      " |-- airline_name: string (nullable = true)\n",
      " |-- link: string (nullable = true)\n",
      " |-- title: string (nullable = true)\n",
      " |-- author: string (nullable = true)\n",
      " |-- author_country: string (nullable = true)\n",
      " |-- date: string (nullable = true)\n",
      " |-- content: string (nullable = true)\n",
      " |-- aircraft: string (nullable = true)\n",
      " |-- type_traveller: string (nullable = true)\n",
      " |-- cabin_flown: string (nullable = true)\n",
      " |-- route: string (nullable = true)\n",
      " |-- overall_rating: string (nullable = true)\n",
      " |-- seat_comfort_rating: string (nullable = true)\n",
      " |-- cabin_staff_rating: string (nullable = true)\n",
      " |-- food_beverages_rating: string (nullable = true)\n",
      " |-- inflight_entertainment_rating: string (nullable = true)\n",
      " |-- ground_service_rating: string (nullable = true)\n",
      " |-- wifi_connectivity_rating: string (nullable = true)\n",
      " |-- value_money_rating: string (nullable = true)\n",
      " |-- recommended: string (nullable = true)\n",
      "\n"
     ]
    }
   ],
   "source": [
    "from pyspark.sql.functions import monotonically_increasing_id\n",
    "\n",
    "## Arquivo obtido em https://github.com/pouyafattahi/Airline_Ranking/blob/master/airline.csv\n",
    "## Criar dataframe \"rawdata\" com os registros dos comentários\n",
    "rawdata = spark.read.load(\"/Users/alti/Downloads/airline.csv\", format=\"csv\", header=True)\n",
    "\n",
    "rawdata.printSchema()"
   ]
  },
  {
   "cell_type": "code",
   "execution_count": 4,
   "id": "b13cfe0a",
   "metadata": {
    "slideshow": {
     "slide_type": "slide"
    }
   },
   "outputs": [
    {
     "data": {
      "text/html": [
       "<div>\n",
       "<style scoped>\n",
       "    .dataframe tbody tr th:only-of-type {\n",
       "        vertical-align: middle;\n",
       "    }\n",
       "\n",
       "    .dataframe tbody tr th {\n",
       "        vertical-align: top;\n",
       "    }\n",
       "\n",
       "    .dataframe thead th {\n",
       "        text-align: right;\n",
       "    }\n",
       "</style>\n",
       "<table border=\"1\" class=\"dataframe\">\n",
       "  <thead>\n",
       "    <tr style=\"text-align: right;\">\n",
       "      <th></th>\n",
       "      <th>airline_name</th>\n",
       "      <th>link</th>\n",
       "      <th>title</th>\n",
       "      <th>author</th>\n",
       "      <th>author_country</th>\n",
       "      <th>date</th>\n",
       "      <th>content</th>\n",
       "      <th>aircraft</th>\n",
       "      <th>type_traveller</th>\n",
       "      <th>cabin_flown</th>\n",
       "      <th>route</th>\n",
       "      <th>overall_rating</th>\n",
       "      <th>seat_comfort_rating</th>\n",
       "      <th>cabin_staff_rating</th>\n",
       "      <th>food_beverages_rating</th>\n",
       "      <th>inflight_entertainment_rating</th>\n",
       "      <th>ground_service_rating</th>\n",
       "      <th>wifi_connectivity_rating</th>\n",
       "      <th>value_money_rating</th>\n",
       "      <th>recommended</th>\n",
       "    </tr>\n",
       "  </thead>\n",
       "  <tbody>\n",
       "    <tr>\n",
       "      <th>0</th>\n",
       "      <td>adria-airways</td>\n",
       "      <td>/airline-reviews/adria-airways</td>\n",
       "      <td>Adria Airways customer review</td>\n",
       "      <td>D Ito</td>\n",
       "      <td>Germany</td>\n",
       "      <td>2015-04-10</td>\n",
       "      <td>Outbound flight FRA/PRN A319. 2 hours 10 min flight. I thought drinks/snacks for sale but sandwich soft drinks were served complimentary. Inbound flights SKP/LJU/FRA CRJ900. each 1 hour 30 min flight. Skyshop menu was in a seat pocket and drinks/snacks were for sale. All flight crews were friendly. Security check at the Ljubljana airport for transit passengers was chaos however it's possible to go to a gate within 30min.</td>\n",
       "      <td>None</td>\n",
       "      <td>None</td>\n",
       "      <td>Economy</td>\n",
       "      <td>None</td>\n",
       "      <td>7.0</td>\n",
       "      <td>4.0</td>\n",
       "      <td>4.0</td>\n",
       "      <td>4.0</td>\n",
       "      <td>0.0</td>\n",
       "      <td>None</td>\n",
       "      <td>None</td>\n",
       "      <td>4.0</td>\n",
       "      <td>1</td>\n",
       "    </tr>\n",
       "    <tr>\n",
       "      <th>1</th>\n",
       "      <td>adria-airways</td>\n",
       "      <td>/airline-reviews/adria-airways</td>\n",
       "      <td>Adria Airways customer review</td>\n",
       "      <td>Ron Kuhlmann</td>\n",
       "      <td>United States</td>\n",
       "      <td>2015-01-05</td>\n",
       "      <td>Two short hops ZRH-LJU and LJU-VIE. Very fast on CRJ 90. Seats comfortable and crew was fine. Ground services good and lounge was quite nice.</td>\n",
       "      <td>None</td>\n",
       "      <td>None</td>\n",
       "      <td>Business Class</td>\n",
       "      <td>None</td>\n",
       "      <td>10.0</td>\n",
       "      <td>4.0</td>\n",
       "      <td>5.0</td>\n",
       "      <td>4.0</td>\n",
       "      <td>1.0</td>\n",
       "      <td>None</td>\n",
       "      <td>None</td>\n",
       "      <td>5.0</td>\n",
       "      <td>1</td>\n",
       "    </tr>\n",
       "    <tr>\n",
       "      <th>2</th>\n",
       "      <td>adria-airways</td>\n",
       "      <td>/airline-reviews/adria-airways</td>\n",
       "      <td>Adria Airways customer review</td>\n",
       "      <td>E Albin</td>\n",
       "      <td>Switzerland</td>\n",
       "      <td>2014-09-14</td>\n",
       "      <td>Flew Zurich-Ljubljana on JP365 newish CRJ900. Flight almost full departure on time. Service on board by 2 pleasant and friendly female flight attendants. I bought coffee mineral water and a very nice and fresh filled croissant for EUR 6. Good value!</td>\n",
       "      <td>None</td>\n",
       "      <td>None</td>\n",
       "      <td>Economy</td>\n",
       "      <td>None</td>\n",
       "      <td>9.0</td>\n",
       "      <td>5.0</td>\n",
       "      <td>5.0</td>\n",
       "      <td>4.0</td>\n",
       "      <td>0.0</td>\n",
       "      <td>None</td>\n",
       "      <td>None</td>\n",
       "      <td>5.0</td>\n",
       "      <td>1</td>\n",
       "    </tr>\n",
       "    <tr>\n",
       "      <th>3</th>\n",
       "      <td>adria-airways</td>\n",
       "      <td>/airline-reviews/adria-airways</td>\n",
       "      <td>Adria Airways customer review</td>\n",
       "      <td>Tercon Bojan</td>\n",
       "      <td>Singapore</td>\n",
       "      <td>2014-09-06</td>\n",
       "      <td>Adria serves this 100 min flight from Ljubljana to Amsterdam on a brand new CRJ900 Next Gen which has a hugely improved cabin. Much more spacious higher ceiling and with big windows. The seats seem to be more comfortable and have more legroom. The business class is not separated from the main cabin though not even with the standard back seat curtain. The food offering could be slightly improved for usually I've had good meals on Adria.</td>\n",
       "      <td>None</td>\n",
       "      <td>None</td>\n",
       "      <td>Business Class</td>\n",
       "      <td>None</td>\n",
       "      <td>8.0</td>\n",
       "      <td>4.0</td>\n",
       "      <td>4.0</td>\n",
       "      <td>3.0</td>\n",
       "      <td>1.0</td>\n",
       "      <td>None</td>\n",
       "      <td>None</td>\n",
       "      <td>4.0</td>\n",
       "      <td>1</td>\n",
       "    </tr>\n",
       "    <tr>\n",
       "      <th>4</th>\n",
       "      <td>adria-airways</td>\n",
       "      <td>/airline-reviews/adria-airways</td>\n",
       "      <td>Adria Airways customer review</td>\n",
       "      <td>L James</td>\n",
       "      <td>Poland</td>\n",
       "      <td>2014-06-16</td>\n",
       "      <td>\"WAW-SKJ Economy. No free snacks or drinks on this Star Alliance partner. Just full legacy carrier fares for basically a budget airline. Flying out of Poland had no Euros or USD on me. I was thirsty and asked to purchase a bottle of water. The stewardess said that I could not buy it and could not use a credit card or purchase it in cash without their preferred currency. When I pointed out that they were able to sell duty free with visa cards she huffed and puffed and basically said it would be \"\"difficult\"\". She never offered me a tiny cup of water. On the way back I switched to Turkish Airlines via IST and got a free 3 course meal on both segments and friendly service.\"</td>\n",
       "      <td>None</td>\n",
       "      <td>None</td>\n",
       "      <td>Economy</td>\n",
       "      <td>None</td>\n",
       "      <td>4.0</td>\n",
       "      <td>4.0</td>\n",
       "      <td>2.0</td>\n",
       "      <td>1.0</td>\n",
       "      <td>2.0</td>\n",
       "      <td>None</td>\n",
       "      <td>None</td>\n",
       "      <td>2.0</td>\n",
       "      <td>0</td>\n",
       "    </tr>\n",
       "  </tbody>\n",
       "</table>\n",
       "</div>"
      ],
      "text/plain": [
       "    airline_name                            link                          title        author author_country        date                                                                                                                                                                                                                                                                                                                                                                                                                                                                                                                                                                                                                                                                                                  content aircraft type_traveller     cabin_flown route overall_rating seat_comfort_rating cabin_staff_rating food_beverages_rating inflight_entertainment_rating ground_service_rating wifi_connectivity_rating value_money_rating recommended\n",
       "0  adria-airways  /airline-reviews/adria-airways  Adria Airways customer review         D Ito        Germany  2015-04-10                                                                                                                                                                                                                                                                 Outbound flight FRA/PRN A319. 2 hours 10 min flight. I thought drinks/snacks for sale but sandwich soft drinks were served complimentary. Inbound flights SKP/LJU/FRA CRJ900. each 1 hour 30 min flight. Skyshop menu was in a seat pocket and drinks/snacks were for sale. All flight crews were friendly. Security check at the Ljubljana airport for transit passengers was chaos however it's possible to go to a gate within 30min.     None           None         Economy  None            7.0                 4.0                4.0                   4.0                           0.0                  None                     None                4.0           1\n",
       "1  adria-airways  /airline-reviews/adria-airways  Adria Airways customer review  Ron Kuhlmann  United States  2015-01-05                                                                                                                                                                                                                                                                                                                                                                                                                                                                                                                                                            Two short hops ZRH-LJU and LJU-VIE. Very fast on CRJ 90. Seats comfortable and crew was fine. Ground services good and lounge was quite nice.     None           None  Business Class  None           10.0                 4.0                5.0                   4.0                           1.0                  None                     None                5.0           1\n",
       "2  adria-airways  /airline-reviews/adria-airways  Adria Airways customer review       E Albin    Switzerland  2014-09-14                                                                                                                                                                                                                                                                                                                                                                                                                                                Flew Zurich-Ljubljana on JP365 newish CRJ900. Flight almost full departure on time. Service on board by 2 pleasant and friendly female flight attendants. I bought coffee mineral water and a very nice and fresh filled croissant for EUR 6. Good value!     None           None         Economy  None            9.0                 5.0                5.0                   4.0                           0.0                  None                     None                5.0           1\n",
       "3  adria-airways  /airline-reviews/adria-airways  Adria Airways customer review  Tercon Bojan      Singapore  2014-09-06                                                                                                                                                                                                                                                  Adria serves this 100 min flight from Ljubljana to Amsterdam on a brand new CRJ900 Next Gen which has a hugely improved cabin. Much more spacious higher ceiling and with big windows. The seats seem to be more comfortable and have more legroom. The business class is not separated from the main cabin though not even with the standard back seat curtain. The food offering could be slightly improved for usually I've had good meals on Adria.     None           None  Business Class  None            8.0                 4.0                4.0                   3.0                           1.0                  None                     None                4.0           1\n",
       "4  adria-airways  /airline-reviews/adria-airways  Adria Airways customer review       L James         Poland  2014-06-16  \"WAW-SKJ Economy. No free snacks or drinks on this Star Alliance partner. Just full legacy carrier fares for basically a budget airline. Flying out of Poland had no Euros or USD on me. I was thirsty and asked to purchase a bottle of water. The stewardess said that I could not buy it and could not use a credit card or purchase it in cash without their preferred currency. When I pointed out that they were able to sell duty free with visa cards she huffed and puffed and basically said it would be \"\"difficult\"\". She never offered me a tiny cup of water. On the way back I switched to Turkish Airlines via IST and got a free 3 course meal on both segments and friendly service.\"     None           None         Economy  None            4.0                 4.0                2.0                   1.0                           2.0                  None                     None                2.0           0"
      ]
     },
     "execution_count": 4,
     "metadata": {},
     "output_type": "execute_result"
    }
   ],
   "source": [
    "import pandas as pd\n",
    "pd.set_option('display.max_columns', None)\n",
    "pd.set_option('display.expand_frame_repr', False)\n",
    "pd.set_option('max_colwidth', None)\n",
    "\n",
    "rawdata.limit(5).toPandas()\n"
   ]
  },
  {
   "cell_type": "code",
   "execution_count": 5,
   "id": "169f7f07",
   "metadata": {
    "slideshow": {
     "slide_type": "slide"
    }
   },
   "outputs": [
    {
     "data": {
      "text/html": [
       "<div>\n",
       "<style scoped>\n",
       "    .dataframe tbody tr th:only-of-type {\n",
       "        vertical-align: middle;\n",
       "    }\n",
       "\n",
       "    .dataframe tbody tr th {\n",
       "        vertical-align: top;\n",
       "    }\n",
       "\n",
       "    .dataframe thead th {\n",
       "        text-align: right;\n",
       "    }\n",
       "</style>\n",
       "<table border=\"1\" class=\"dataframe\">\n",
       "  <thead>\n",
       "    <tr style=\"text-align: right;\">\n",
       "      <th></th>\n",
       "      <th>content</th>\n",
       "    </tr>\n",
       "  </thead>\n",
       "  <tbody>\n",
       "    <tr>\n",
       "      <th>0</th>\n",
       "      <td>Outbound flight FRA/PRN A319. 2 hours 10 min flight. I thought drinks/snacks for sale but sandwich soft drinks were served complimentary. Inbound flights SKP/LJU/FRA CRJ900. each 1 hour 30 min flight. Skyshop menu was in a seat pocket and drinks/snacks were for sale. All flight crews were friendly. Security check at the Ljubljana airport for transit passengers was chaos however it's possible to go to a gate within 30min.</td>\n",
       "    </tr>\n",
       "    <tr>\n",
       "      <th>1</th>\n",
       "      <td>Two short hops ZRH-LJU and LJU-VIE. Very fast on CRJ 90. Seats comfortable and crew was fine. Ground services good and lounge was quite nice.</td>\n",
       "    </tr>\n",
       "    <tr>\n",
       "      <th>2</th>\n",
       "      <td>Flew Zurich-Ljubljana on JP365 newish CRJ900. Flight almost full departure on time. Service on board by 2 pleasant and friendly female flight attendants. I bought coffee mineral water and a very nice and fresh filled croissant for EUR 6. Good value!</td>\n",
       "    </tr>\n",
       "    <tr>\n",
       "      <th>3</th>\n",
       "      <td>Adria serves this 100 min flight from Ljubljana to Amsterdam on a brand new CRJ900 Next Gen which has a hugely improved cabin. Much more spacious higher ceiling and with big windows. The seats seem to be more comfortable and have more legroom. The business class is not separated from the main cabin though not even with the standard back seat curtain. The food offering could be slightly improved for usually I've had good meals on Adria.</td>\n",
       "    </tr>\n",
       "    <tr>\n",
       "      <th>4</th>\n",
       "      <td>\"WAW-SKJ Economy. No free snacks or drinks on this Star Alliance partner. Just full legacy carrier fares for basically a budget airline. Flying out of Poland had no Euros or USD on me. I was thirsty and asked to purchase a bottle of water. The stewardess said that I could not buy it and could not use a credit card or purchase it in cash without their preferred currency. When I pointed out that they were able to sell duty free with visa cards she huffed and puffed and basically said it would be \"\"difficult\"\". She never offered me a tiny cup of water. On the way back I switched to Turkish Airlines via IST and got a free 3 course meal on both segments and friendly service.\"</td>\n",
       "    </tr>\n",
       "  </tbody>\n",
       "</table>\n",
       "</div>"
      ],
      "text/plain": [
       "                                                                                                                                                                                                                                                                                                                                                                                                                                                                                                                                                                                                                                                                                                   content\n",
       "0                                                                                                                                                                                                                                                                 Outbound flight FRA/PRN A319. 2 hours 10 min flight. I thought drinks/snacks for sale but sandwich soft drinks were served complimentary. Inbound flights SKP/LJU/FRA CRJ900. each 1 hour 30 min flight. Skyshop menu was in a seat pocket and drinks/snacks were for sale. All flight crews were friendly. Security check at the Ljubljana airport for transit passengers was chaos however it's possible to go to a gate within 30min.\n",
       "1                                                                                                                                                                                                                                                                                                                                                                                                                                                                                                                                                            Two short hops ZRH-LJU and LJU-VIE. Very fast on CRJ 90. Seats comfortable and crew was fine. Ground services good and lounge was quite nice.\n",
       "2                                                                                                                                                                                                                                                                                                                                                                                                                                                Flew Zurich-Ljubljana on JP365 newish CRJ900. Flight almost full departure on time. Service on board by 2 pleasant and friendly female flight attendants. I bought coffee mineral water and a very nice and fresh filled croissant for EUR 6. Good value!\n",
       "3                                                                                                                                                                                                                                                  Adria serves this 100 min flight from Ljubljana to Amsterdam on a brand new CRJ900 Next Gen which has a hugely improved cabin. Much more spacious higher ceiling and with big windows. The seats seem to be more comfortable and have more legroom. The business class is not separated from the main cabin though not even with the standard back seat curtain. The food offering could be slightly improved for usually I've had good meals on Adria.\n",
       "4  \"WAW-SKJ Economy. No free snacks or drinks on this Star Alliance partner. Just full legacy carrier fares for basically a budget airline. Flying out of Poland had no Euros or USD on me. I was thirsty and asked to purchase a bottle of water. The stewardess said that I could not buy it and could not use a credit card or purchase it in cash without their preferred currency. When I pointed out that they were able to sell duty free with visa cards she huffed and puffed and basically said it would be \"\"difficult\"\". She never offered me a tiny cup of water. On the way back I switched to Turkish Airlines via IST and got a free 3 course meal on both segments and friendly service.\""
      ]
     },
     "execution_count": 5,
     "metadata": {},
     "output_type": "execute_result"
    }
   ],
   "source": [
    "rawdata.select(\"content\").limit(5).toPandas()"
   ]
  },
  {
   "cell_type": "code",
   "execution_count": 6,
   "id": "bdb43be4",
   "metadata": {
    "slideshow": {
     "slide_type": "slide"
    }
   },
   "outputs": [
    {
     "data": {
      "text/html": [
       "<div>\n",
       "<style scoped>\n",
       "    .dataframe tbody tr th:only-of-type {\n",
       "        vertical-align: middle;\n",
       "    }\n",
       "\n",
       "    .dataframe tbody tr th {\n",
       "        vertical-align: top;\n",
       "    }\n",
       "\n",
       "    .dataframe thead th {\n",
       "        text-align: right;\n",
       "    }\n",
       "</style>\n",
       "<table border=\"1\" class=\"dataframe\">\n",
       "  <thead>\n",
       "    <tr style=\"text-align: right;\">\n",
       "      <th></th>\n",
       "      <th>uid</th>\n",
       "      <th>content</th>\n",
       "    </tr>\n",
       "  </thead>\n",
       "  <tbody>\n",
       "    <tr>\n",
       "      <th>0</th>\n",
       "      <td>0</td>\n",
       "      <td>Outbound flight FRA/PRN A319. 2 hours 10 min flight. I thought drinks/snacks for sale but sandwich soft drinks were served complimentary. Inbound flights SKP/LJU/FRA CRJ900. each 1 hour 30 min flight. Skyshop menu was in a seat pocket and drinks/snacks were for sale. All flight crews were friendly. Security check at the Ljubljana airport for transit passengers was chaos however it's possible to go to a gate within 30min.</td>\n",
       "    </tr>\n",
       "    <tr>\n",
       "      <th>1</th>\n",
       "      <td>1</td>\n",
       "      <td>Two short hops ZRH-LJU and LJU-VIE. Very fast on CRJ 90. Seats comfortable and crew was fine. Ground services good and lounge was quite nice.</td>\n",
       "    </tr>\n",
       "    <tr>\n",
       "      <th>2</th>\n",
       "      <td>2</td>\n",
       "      <td>Flew Zurich-Ljubljana on JP365 newish CRJ900. Flight almost full departure on time. Service on board by 2 pleasant and friendly female flight attendants. I bought coffee mineral water and a very nice and fresh filled croissant for EUR 6. Good value!</td>\n",
       "    </tr>\n",
       "    <tr>\n",
       "      <th>3</th>\n",
       "      <td>3</td>\n",
       "      <td>Adria serves this 100 min flight from Ljubljana to Amsterdam on a brand new CRJ900 Next Gen which has a hugely improved cabin. Much more spacious higher ceiling and with big windows. The seats seem to be more comfortable and have more legroom. The business class is not separated from the main cabin though not even with the standard back seat curtain. The food offering could be slightly improved for usually I've had good meals on Adria.</td>\n",
       "    </tr>\n",
       "    <tr>\n",
       "      <th>4</th>\n",
       "      <td>4</td>\n",
       "      <td>\"WAW-SKJ Economy. No free snacks or drinks on this Star Alliance partner. Just full legacy carrier fares for basically a budget airline. Flying out of Poland had no Euros or USD on me. I was thirsty and asked to purchase a bottle of water. The stewardess said that I could not buy it and could not use a credit card or purchase it in cash without their preferred currency. When I pointed out that they were able to sell duty free with visa cards she huffed and puffed and basically said it would be \"\"difficult\"\". She never offered me a tiny cup of water. On the way back I switched to Turkish Airlines via IST and got a free 3 course meal on both segments and friendly service.\"</td>\n",
       "    </tr>\n",
       "  </tbody>\n",
       "</table>\n",
       "</div>"
      ],
      "text/plain": [
       "   uid                                                                                                                                                                                                                                                                                                                                                                                                                                                                                                                                                                                                                                                                                                  content\n",
       "0    0                                                                                                                                                                                                                                                                 Outbound flight FRA/PRN A319. 2 hours 10 min flight. I thought drinks/snacks for sale but sandwich soft drinks were served complimentary. Inbound flights SKP/LJU/FRA CRJ900. each 1 hour 30 min flight. Skyshop menu was in a seat pocket and drinks/snacks were for sale. All flight crews were friendly. Security check at the Ljubljana airport for transit passengers was chaos however it's possible to go to a gate within 30min.\n",
       "1    1                                                                                                                                                                                                                                                                                                                                                                                                                                                                                                                                                            Two short hops ZRH-LJU and LJU-VIE. Very fast on CRJ 90. Seats comfortable and crew was fine. Ground services good and lounge was quite nice.\n",
       "2    2                                                                                                                                                                                                                                                                                                                                                                                                                                                Flew Zurich-Ljubljana on JP365 newish CRJ900. Flight almost full departure on time. Service on board by 2 pleasant and friendly female flight attendants. I bought coffee mineral water and a very nice and fresh filled croissant for EUR 6. Good value!\n",
       "3    3                                                                                                                                                                                                                                                  Adria serves this 100 min flight from Ljubljana to Amsterdam on a brand new CRJ900 Next Gen which has a hugely improved cabin. Much more spacious higher ceiling and with big windows. The seats seem to be more comfortable and have more legroom. The business class is not separated from the main cabin though not even with the standard back seat curtain. The food offering could be slightly improved for usually I've had good meals on Adria.\n",
       "4    4  \"WAW-SKJ Economy. No free snacks or drinks on this Star Alliance partner. Just full legacy carrier fares for basically a budget airline. Flying out of Poland had no Euros or USD on me. I was thirsty and asked to purchase a bottle of water. The stewardess said that I could not buy it and could not use a credit card or purchase it in cash without their preferred currency. When I pointed out that they were able to sell duty free with visa cards she huffed and puffed and basically said it would be \"\"difficult\"\". She never offered me a tiny cup of water. On the way back I switched to Turkish Airlines via IST and got a free 3 course meal on both segments and friendly service.\""
      ]
     },
     "execution_count": 6,
     "metadata": {},
     "output_type": "execute_result"
    }
   ],
   "source": [
    "## fillna : se a coluna \"content\" tem valor null, substitui pela string vazia \n",
    "rawdata = rawdata.fillna({\"content\":\"\"})\n",
    "\n",
    "# withColumn: adiciona nova coluna uid no DataFrame rawdata. Conteudo é um contador incremental\n",
    "rawdata = rawdata.withColumn(\"uid\", monotonically_increasing_id())\n",
    "\n",
    "# select : projeção das colunas uid e contente. Resultado é o novo Dataframe reviews\n",
    "reviews = rawdata.select(\"uid\",\"content\")\n",
    "reviews.limit(5).toPandas()"
   ]
  },
  {
   "cell_type": "code",
   "execution_count": 7,
   "id": "93656fc6",
   "metadata": {
    "slideshow": {
     "slide_type": "slide"
    }
   },
   "outputs": [],
   "source": [
    "from pyspark.ml.feature import Tokenizer\n",
    "\n",
    "# Cria um extrator de termos ou Tokenizer que lê de inputCol e escreve o resultado em outputCol\n",
    "# Em seguida executa o tokenizer sobre o dataframe \"reviews\" e escreve o resultado em \"reviews\"\n",
    "tokenizer = Tokenizer(inputCol=\"content\", outputCol=\"tokens\")\n",
    "reviews = tokenizer.transform(reviews)"
   ]
  },
  {
   "cell_type": "code",
   "execution_count": 8,
   "id": "2a3ff6ec",
   "metadata": {},
   "outputs": [
    {
     "data": {
      "text/html": [
       "<div>\n",
       "<style scoped>\n",
       "    .dataframe tbody tr th:only-of-type {\n",
       "        vertical-align: middle;\n",
       "    }\n",
       "\n",
       "    .dataframe tbody tr th {\n",
       "        vertical-align: top;\n",
       "    }\n",
       "\n",
       "    .dataframe thead th {\n",
       "        text-align: right;\n",
       "    }\n",
       "</style>\n",
       "<table border=\"1\" class=\"dataframe\">\n",
       "  <thead>\n",
       "    <tr style=\"text-align: right;\">\n",
       "      <th></th>\n",
       "      <th>uid</th>\n",
       "      <th>content</th>\n",
       "      <th>tokens</th>\n",
       "    </tr>\n",
       "  </thead>\n",
       "  <tbody>\n",
       "    <tr>\n",
       "      <th>0</th>\n",
       "      <td>0</td>\n",
       "      <td>Outbound flight FRA/PRN A319. 2 hours 10 min flight. I thought drinks/snacks for sale but sandwich soft drinks were served complimentary. Inbound flights SKP/LJU/FRA CRJ900. each 1 hour 30 min flight. Skyshop menu was in a seat pocket and drinks/snacks were for sale. All flight crews were friendly. Security check at the Ljubljana airport for transit passengers was chaos however it's possible to go to a gate within 30min.</td>\n",
       "      <td>[outbound, flight, fra/prn, a319., 2, hours, 10, min, flight., i, thought, drinks/snacks, for, sale, but, sandwich, soft, drinks, were, served, complimentary., inbound, flights, skp/lju/fra, crj900., each, 1, hour, 30, min, flight., skyshop, menu, was, in, a, seat, pocket, and, drinks/snacks, were, for, sale., all, flight, crews, were, friendly., security, check, at, the, ljubljana, airport, for, transit, passengers, was, chaos, however, it's, possible, to, go, to, a, gate, within, 30min.]</td>\n",
       "    </tr>\n",
       "    <tr>\n",
       "      <th>1</th>\n",
       "      <td>1</td>\n",
       "      <td>Two short hops ZRH-LJU and LJU-VIE. Very fast on CRJ 90. Seats comfortable and crew was fine. Ground services good and lounge was quite nice.</td>\n",
       "      <td>[two, short, hops, zrh-lju, and, lju-vie., very, fast, on, crj, 90., seats, comfortable, and, crew, was, fine., ground, services, good, and, lounge, was, quite, nice.]</td>\n",
       "    </tr>\n",
       "    <tr>\n",
       "      <th>2</th>\n",
       "      <td>2</td>\n",
       "      <td>Flew Zurich-Ljubljana on JP365 newish CRJ900. Flight almost full departure on time. Service on board by 2 pleasant and friendly female flight attendants. I bought coffee mineral water and a very nice and fresh filled croissant for EUR 6. Good value!</td>\n",
       "      <td>[flew, zurich-ljubljana, on, jp365, newish, crj900., flight, almost, full, departure, on, time., service, on, board, by, 2, pleasant, and, friendly, female, flight, attendants., i, bought, coffee, mineral, water, and, a, very, nice, and, fresh, filled, croissant, for, eur, 6., good, value!]</td>\n",
       "    </tr>\n",
       "    <tr>\n",
       "      <th>3</th>\n",
       "      <td>3</td>\n",
       "      <td>Adria serves this 100 min flight from Ljubljana to Amsterdam on a brand new CRJ900 Next Gen which has a hugely improved cabin. Much more spacious higher ceiling and with big windows. The seats seem to be more comfortable and have more legroom. The business class is not separated from the main cabin though not even with the standard back seat curtain. The food offering could be slightly improved for usually I've had good meals on Adria.</td>\n",
       "      <td>[adria, serves, this, 100, min, flight, from, ljubljana, to, amsterdam, on, a, brand, new, crj900, next, gen, which, has, a, hugely, improved, cabin., much, more, spacious, higher, ceiling, and, with, big, windows., the, seats, seem, to, be, more, comfortable, and, have, more, legroom., the, business, class, is, not, separated, from, the, main, cabin, though, not, even, with, the, standard, back, seat, curtain., the, food, offering, could, be, slightly, improved, for, usually, i've, had, good, meals, on, adria.]</td>\n",
       "    </tr>\n",
       "    <tr>\n",
       "      <th>4</th>\n",
       "      <td>4</td>\n",
       "      <td>\"WAW-SKJ Economy. No free snacks or drinks on this Star Alliance partner. Just full legacy carrier fares for basically a budget airline. Flying out of Poland had no Euros or USD on me. I was thirsty and asked to purchase a bottle of water. The stewardess said that I could not buy it and could not use a credit card or purchase it in cash without their preferred currency. When I pointed out that they were able to sell duty free with visa cards she huffed and puffed and basically said it would be \"\"difficult\"\". She never offered me a tiny cup of water. On the way back I switched to Turkish Airlines via IST and got a free 3 course meal on both segments and friendly service.\"</td>\n",
       "      <td>[\"waw-skj, economy., no, free, snacks, or, drinks, on, this, star, alliance, partner., just, full, legacy, carrier, fares, for, basically, a, budget, airline., flying, out, of, poland, had, no, euros, or, usd, on, me., i, was, thirsty, and, asked, to, purchase, a, bottle, of, water., the, stewardess, said, that, i, could, not, buy, it, and, could, not, use, a, credit, card, or, purchase, it, in, cash, without, their, preferred, currency., when, i, pointed, out, that, they, were, able, to, sell, duty, free, with, visa, cards, she, huffed, and, puffed, and, basically, said, it, would, be, \"\"difficult\"\"., she, never, offered, me, a, ...]</td>\n",
       "    </tr>\n",
       "  </tbody>\n",
       "</table>\n",
       "</div>"
      ],
      "text/plain": [
       "   uid                                                                                                                                                                                                                                                                                                                                                                                                                                                                                                                                                                                                                                                                                                  content                                                                                                                                                                                                                                                                                                                                                                                                                                                                                                                                                                                                                                                              tokens\n",
       "0    0                                                                                                                                                                                                                                                                 Outbound flight FRA/PRN A319. 2 hours 10 min flight. I thought drinks/snacks for sale but sandwich soft drinks were served complimentary. Inbound flights SKP/LJU/FRA CRJ900. each 1 hour 30 min flight. Skyshop menu was in a seat pocket and drinks/snacks were for sale. All flight crews were friendly. Security check at the Ljubljana airport for transit passengers was chaos however it's possible to go to a gate within 30min.                                                                                                                                                      [outbound, flight, fra/prn, a319., 2, hours, 10, min, flight., i, thought, drinks/snacks, for, sale, but, sandwich, soft, drinks, were, served, complimentary., inbound, flights, skp/lju/fra, crj900., each, 1, hour, 30, min, flight., skyshop, menu, was, in, a, seat, pocket, and, drinks/snacks, were, for, sale., all, flight, crews, were, friendly., security, check, at, the, ljubljana, airport, for, transit, passengers, was, chaos, however, it's, possible, to, go, to, a, gate, within, 30min.]\n",
       "1    1                                                                                                                                                                                                                                                                                                                                                                                                                                                                                                                                                            Two short hops ZRH-LJU and LJU-VIE. Very fast on CRJ 90. Seats comfortable and crew was fine. Ground services good and lounge was quite nice.                                                                                                                                                                                                                                                                                                                                                                                                                                                                                             [two, short, hops, zrh-lju, and, lju-vie., very, fast, on, crj, 90., seats, comfortable, and, crew, was, fine., ground, services, good, and, lounge, was, quite, nice.]\n",
       "2    2                                                                                                                                                                                                                                                                                                                                                                                                                                                Flew Zurich-Ljubljana on JP365 newish CRJ900. Flight almost full departure on time. Service on board by 2 pleasant and friendly female flight attendants. I bought coffee mineral water and a very nice and fresh filled croissant for EUR 6. Good value!                                                                                                                                                                                                                                                                                                                                                                 [flew, zurich-ljubljana, on, jp365, newish, crj900., flight, almost, full, departure, on, time., service, on, board, by, 2, pleasant, and, friendly, female, flight, attendants., i, bought, coffee, mineral, water, and, a, very, nice, and, fresh, filled, croissant, for, eur, 6., good, value!]\n",
       "3    3                                                                                                                                                                                                                                                  Adria serves this 100 min flight from Ljubljana to Amsterdam on a brand new CRJ900 Next Gen which has a hugely improved cabin. Much more spacious higher ceiling and with big windows. The seats seem to be more comfortable and have more legroom. The business class is not separated from the main cabin though not even with the standard back seat curtain. The food offering could be slightly improved for usually I've had good meals on Adria.                                                                                                                               [adria, serves, this, 100, min, flight, from, ljubljana, to, amsterdam, on, a, brand, new, crj900, next, gen, which, has, a, hugely, improved, cabin., much, more, spacious, higher, ceiling, and, with, big, windows., the, seats, seem, to, be, more, comfortable, and, have, more, legroom., the, business, class, is, not, separated, from, the, main, cabin, though, not, even, with, the, standard, back, seat, curtain., the, food, offering, could, be, slightly, improved, for, usually, i've, had, good, meals, on, adria.]\n",
       "4    4  \"WAW-SKJ Economy. No free snacks or drinks on this Star Alliance partner. Just full legacy carrier fares for basically a budget airline. Flying out of Poland had no Euros or USD on me. I was thirsty and asked to purchase a bottle of water. The stewardess said that I could not buy it and could not use a credit card or purchase it in cash without their preferred currency. When I pointed out that they were able to sell duty free with visa cards she huffed and puffed and basically said it would be \"\"difficult\"\". She never offered me a tiny cup of water. On the way back I switched to Turkish Airlines via IST and got a free 3 course meal on both segments and friendly service.\"  [\"waw-skj, economy., no, free, snacks, or, drinks, on, this, star, alliance, partner., just, full, legacy, carrier, fares, for, basically, a, budget, airline., flying, out, of, poland, had, no, euros, or, usd, on, me., i, was, thirsty, and, asked, to, purchase, a, bottle, of, water., the, stewardess, said, that, i, could, not, buy, it, and, could, not, use, a, credit, card, or, purchase, it, in, cash, without, their, preferred, currency., when, i, pointed, out, that, they, were, able, to, sell, duty, free, with, visa, cards, she, huffed, and, puffed, and, basically, said, it, would, be, \"\"difficult\"\"., she, never, offered, me, a, ...]"
      ]
     },
     "execution_count": 8,
     "metadata": {},
     "output_type": "execute_result"
    }
   ],
   "source": [
    "reviews.limit(5).toPandas()"
   ]
  },
  {
   "cell_type": "code",
   "execution_count": 9,
   "id": "a1828564",
   "metadata": {
    "slideshow": {
     "slide_type": "slide"
    }
   },
   "outputs": [],
   "source": [
    "from pyspark.ml.feature import StopWordsRemover\n",
    "\n",
    "locale = sc._jvm.java.util.Locale\n",
    "locale.setDefault(locale.forLanguageTag(\"en-US\"))\n",
    "\n",
    "# StopWordsRemover: Entrada coluna tokens e saída nova coluna words\n",
    "swremover = StopWordsRemover(inputCol=\"tokens\", outputCol=\"words\")\n",
    "\n",
    "# Executa o removedor. Resultado vai para o DataFrame “reviews”\n",
    "reviews = swremover.transform(reviews)\n",
    "\n"
   ]
  },
  {
   "cell_type": "code",
   "execution_count": 10,
   "id": "3c2cffed",
   "metadata": {
    "slideshow": {
     "slide_type": "slide"
    }
   },
   "outputs": [
    {
     "data": {
      "text/html": [
       "<div>\n",
       "<style scoped>\n",
       "    .dataframe tbody tr th:only-of-type {\n",
       "        vertical-align: middle;\n",
       "    }\n",
       "\n",
       "    .dataframe tbody tr th {\n",
       "        vertical-align: top;\n",
       "    }\n",
       "\n",
       "    .dataframe thead th {\n",
       "        text-align: right;\n",
       "    }\n",
       "</style>\n",
       "<table border=\"1\" class=\"dataframe\">\n",
       "  <thead>\n",
       "    <tr style=\"text-align: right;\">\n",
       "      <th></th>\n",
       "      <th>uid</th>\n",
       "      <th>content</th>\n",
       "      <th>tokens</th>\n",
       "      <th>words</th>\n",
       "    </tr>\n",
       "  </thead>\n",
       "  <tbody>\n",
       "    <tr>\n",
       "      <th>0</th>\n",
       "      <td>0</td>\n",
       "      <td>Outbound flight FRA/PRN A319. 2 hours 10 min flight. I thought drinks/snacks for sale but sandwich soft drinks were served complimentary. Inbound flights SKP/LJU/FRA CRJ900. each 1 hour 30 min flight. Skyshop menu was in a seat pocket and drinks/snacks were for sale. All flight crews were friendly. Security check at the Ljubljana airport for transit passengers was chaos however it's possible to go to a gate within 30min.</td>\n",
       "      <td>[outbound, flight, fra/prn, a319., 2, hours, 10, min, flight., i, thought, drinks/snacks, for, sale, but, sandwich, soft, drinks, were, served, complimentary., inbound, flights, skp/lju/fra, crj900., each, 1, hour, 30, min, flight., skyshop, menu, was, in, a, seat, pocket, and, drinks/snacks, were, for, sale., all, flight, crews, were, friendly., security, check, at, the, ljubljana, airport, for, transit, passengers, was, chaos, however, it's, possible, to, go, to, a, gate, within, 30min.]</td>\n",
       "      <td>[outbound, flight, fra/prn, a319., 2, hours, 10, min, flight., thought, drinks/snacks, sale, sandwich, soft, drinks, served, complimentary., inbound, flights, skp/lju/fra, crj900., 1, hour, 30, min, flight., skyshop, menu, seat, pocket, drinks/snacks, sale., flight, crews, friendly., security, check, ljubljana, airport, transit, passengers, chaos, however, possible, go, gate, within, 30min.]</td>\n",
       "    </tr>\n",
       "    <tr>\n",
       "      <th>1</th>\n",
       "      <td>1</td>\n",
       "      <td>Two short hops ZRH-LJU and LJU-VIE. Very fast on CRJ 90. Seats comfortable and crew was fine. Ground services good and lounge was quite nice.</td>\n",
       "      <td>[two, short, hops, zrh-lju, and, lju-vie., very, fast, on, crj, 90., seats, comfortable, and, crew, was, fine., ground, services, good, and, lounge, was, quite, nice.]</td>\n",
       "      <td>[two, short, hops, zrh-lju, lju-vie., fast, crj, 90., seats, comfortable, crew, fine., ground, services, good, lounge, quite, nice.]</td>\n",
       "    </tr>\n",
       "    <tr>\n",
       "      <th>2</th>\n",
       "      <td>2</td>\n",
       "      <td>Flew Zurich-Ljubljana on JP365 newish CRJ900. Flight almost full departure on time. Service on board by 2 pleasant and friendly female flight attendants. I bought coffee mineral water and a very nice and fresh filled croissant for EUR 6. Good value!</td>\n",
       "      <td>[flew, zurich-ljubljana, on, jp365, newish, crj900., flight, almost, full, departure, on, time., service, on, board, by, 2, pleasant, and, friendly, female, flight, attendants., i, bought, coffee, mineral, water, and, a, very, nice, and, fresh, filled, croissant, for, eur, 6., good, value!]</td>\n",
       "      <td>[flew, zurich-ljubljana, jp365, newish, crj900., flight, almost, full, departure, time., service, board, 2, pleasant, friendly, female, flight, attendants., bought, coffee, mineral, water, nice, fresh, filled, croissant, eur, 6., good, value!]</td>\n",
       "    </tr>\n",
       "    <tr>\n",
       "      <th>3</th>\n",
       "      <td>3</td>\n",
       "      <td>Adria serves this 100 min flight from Ljubljana to Amsterdam on a brand new CRJ900 Next Gen which has a hugely improved cabin. Much more spacious higher ceiling and with big windows. The seats seem to be more comfortable and have more legroom. The business class is not separated from the main cabin though not even with the standard back seat curtain. The food offering could be slightly improved for usually I've had good meals on Adria.</td>\n",
       "      <td>[adria, serves, this, 100, min, flight, from, ljubljana, to, amsterdam, on, a, brand, new, crj900, next, gen, which, has, a, hugely, improved, cabin., much, more, spacious, higher, ceiling, and, with, big, windows., the, seats, seem, to, be, more, comfortable, and, have, more, legroom., the, business, class, is, not, separated, from, the, main, cabin, though, not, even, with, the, standard, back, seat, curtain., the, food, offering, could, be, slightly, improved, for, usually, i've, had, good, meals, on, adria.]</td>\n",
       "      <td>[adria, serves, 100, min, flight, ljubljana, amsterdam, brand, new, crj900, next, gen, hugely, improved, cabin., much, spacious, higher, ceiling, big, windows., seats, seem, comfortable, legroom., business, class, separated, main, cabin, though, even, standard, back, seat, curtain., food, offering, slightly, improved, usually, good, meals, adria.]</td>\n",
       "    </tr>\n",
       "    <tr>\n",
       "      <th>4</th>\n",
       "      <td>4</td>\n",
       "      <td>\"WAW-SKJ Economy. No free snacks or drinks on this Star Alliance partner. Just full legacy carrier fares for basically a budget airline. Flying out of Poland had no Euros or USD on me. I was thirsty and asked to purchase a bottle of water. The stewardess said that I could not buy it and could not use a credit card or purchase it in cash without their preferred currency. When I pointed out that they were able to sell duty free with visa cards she huffed and puffed and basically said it would be \"\"difficult\"\". She never offered me a tiny cup of water. On the way back I switched to Turkish Airlines via IST and got a free 3 course meal on both segments and friendly service.\"</td>\n",
       "      <td>[\"waw-skj, economy., no, free, snacks, or, drinks, on, this, star, alliance, partner., just, full, legacy, carrier, fares, for, basically, a, budget, airline., flying, out, of, poland, had, no, euros, or, usd, on, me., i, was, thirsty, and, asked, to, purchase, a, bottle, of, water., the, stewardess, said, that, i, could, not, buy, it, and, could, not, use, a, credit, card, or, purchase, it, in, cash, without, their, preferred, currency., when, i, pointed, out, that, they, were, able, to, sell, duty, free, with, visa, cards, she, huffed, and, puffed, and, basically, said, it, would, be, \"\"difficult\"\"., she, never, offered, me, a, ...]</td>\n",
       "      <td>[\"waw-skj, economy., free, snacks, drinks, star, alliance, partner., full, legacy, carrier, fares, basically, budget, airline., flying, poland, euros, usd, me., thirsty, asked, purchase, bottle, water., stewardess, said, buy, use, credit, card, purchase, cash, without, preferred, currency., pointed, able, sell, duty, free, visa, cards, huffed, puffed, basically, said, \"\"difficult\"\"., never, offered, tiny, cup, water., way, back, switched, turkish, airlines, via, ist, got, free, 3, course, meal, segments, friendly, service.\"]</td>\n",
       "    </tr>\n",
       "  </tbody>\n",
       "</table>\n",
       "</div>"
      ],
      "text/plain": [
       "   uid                                                                                                                                                                                                                                                                                                                                                                                                                                                                                                                                                                                                                                                                                                  content                                                                                                                                                                                                                                                                                                                                                                                                                                                                                                                                                                                                                                                              tokens                                                                                                                                                                                                                                                                                                                                                                                                                                                                                                                                               words\n",
       "0    0                                                                                                                                                                                                                                                                 Outbound flight FRA/PRN A319. 2 hours 10 min flight. I thought drinks/snacks for sale but sandwich soft drinks were served complimentary. Inbound flights SKP/LJU/FRA CRJ900. each 1 hour 30 min flight. Skyshop menu was in a seat pocket and drinks/snacks were for sale. All flight crews were friendly. Security check at the Ljubljana airport for transit passengers was chaos however it's possible to go to a gate within 30min.                                                                                                                                                      [outbound, flight, fra/prn, a319., 2, hours, 10, min, flight., i, thought, drinks/snacks, for, sale, but, sandwich, soft, drinks, were, served, complimentary., inbound, flights, skp/lju/fra, crj900., each, 1, hour, 30, min, flight., skyshop, menu, was, in, a, seat, pocket, and, drinks/snacks, were, for, sale., all, flight, crews, were, friendly., security, check, at, the, ljubljana, airport, for, transit, passengers, was, chaos, however, it's, possible, to, go, to, a, gate, within, 30min.]                                                                                                                                          [outbound, flight, fra/prn, a319., 2, hours, 10, min, flight., thought, drinks/snacks, sale, sandwich, soft, drinks, served, complimentary., inbound, flights, skp/lju/fra, crj900., 1, hour, 30, min, flight., skyshop, menu, seat, pocket, drinks/snacks, sale., flight, crews, friendly., security, check, ljubljana, airport, transit, passengers, chaos, however, possible, go, gate, within, 30min.]\n",
       "1    1                                                                                                                                                                                                                                                                                                                                                                                                                                                                                                                                                            Two short hops ZRH-LJU and LJU-VIE. Very fast on CRJ 90. Seats comfortable and crew was fine. Ground services good and lounge was quite nice.                                                                                                                                                                                                                                                                                                                                                                                                                                                                                             [two, short, hops, zrh-lju, and, lju-vie., very, fast, on, crj, 90., seats, comfortable, and, crew, was, fine., ground, services, good, and, lounge, was, quite, nice.]                                                                                                                                                                                                                                                                                                                                                                                                                [two, short, hops, zrh-lju, lju-vie., fast, crj, 90., seats, comfortable, crew, fine., ground, services, good, lounge, quite, nice.]\n",
       "2    2                                                                                                                                                                                                                                                                                                                                                                                                                                                Flew Zurich-Ljubljana on JP365 newish CRJ900. Flight almost full departure on time. Service on board by 2 pleasant and friendly female flight attendants. I bought coffee mineral water and a very nice and fresh filled croissant for EUR 6. Good value!                                                                                                                                                                                                                                                                                                                                                                 [flew, zurich-ljubljana, on, jp365, newish, crj900., flight, almost, full, departure, on, time., service, on, board, by, 2, pleasant, and, friendly, female, flight, attendants., i, bought, coffee, mineral, water, and, a, very, nice, and, fresh, filled, croissant, for, eur, 6., good, value!]                                                                                                                                                                                                                                                                                                 [flew, zurich-ljubljana, jp365, newish, crj900., flight, almost, full, departure, time., service, board, 2, pleasant, friendly, female, flight, attendants., bought, coffee, mineral, water, nice, fresh, filled, croissant, eur, 6., good, value!]\n",
       "3    3                                                                                                                                                                                                                                                  Adria serves this 100 min flight from Ljubljana to Amsterdam on a brand new CRJ900 Next Gen which has a hugely improved cabin. Much more spacious higher ceiling and with big windows. The seats seem to be more comfortable and have more legroom. The business class is not separated from the main cabin though not even with the standard back seat curtain. The food offering could be slightly improved for usually I've had good meals on Adria.                                                                                                                               [adria, serves, this, 100, min, flight, from, ljubljana, to, amsterdam, on, a, brand, new, crj900, next, gen, which, has, a, hugely, improved, cabin., much, more, spacious, higher, ceiling, and, with, big, windows., the, seats, seem, to, be, more, comfortable, and, have, more, legroom., the, business, class, is, not, separated, from, the, main, cabin, though, not, even, with, the, standard, back, seat, curtain., the, food, offering, could, be, slightly, improved, for, usually, i've, had, good, meals, on, adria.]                                                                                                                                                                                       [adria, serves, 100, min, flight, ljubljana, amsterdam, brand, new, crj900, next, gen, hugely, improved, cabin., much, spacious, higher, ceiling, big, windows., seats, seem, comfortable, legroom., business, class, separated, main, cabin, though, even, standard, back, seat, curtain., food, offering, slightly, improved, usually, good, meals, adria.]\n",
       "4    4  \"WAW-SKJ Economy. No free snacks or drinks on this Star Alliance partner. Just full legacy carrier fares for basically a budget airline. Flying out of Poland had no Euros or USD on me. I was thirsty and asked to purchase a bottle of water. The stewardess said that I could not buy it and could not use a credit card or purchase it in cash without their preferred currency. When I pointed out that they were able to sell duty free with visa cards she huffed and puffed and basically said it would be \"\"difficult\"\". She never offered me a tiny cup of water. On the way back I switched to Turkish Airlines via IST and got a free 3 course meal on both segments and friendly service.\"  [\"waw-skj, economy., no, free, snacks, or, drinks, on, this, star, alliance, partner., just, full, legacy, carrier, fares, for, basically, a, budget, airline., flying, out, of, poland, had, no, euros, or, usd, on, me., i, was, thirsty, and, asked, to, purchase, a, bottle, of, water., the, stewardess, said, that, i, could, not, buy, it, and, could, not, use, a, credit, card, or, purchase, it, in, cash, without, their, preferred, currency., when, i, pointed, out, that, they, were, able, to, sell, duty, free, with, visa, cards, she, huffed, and, puffed, and, basically, said, it, would, be, \"\"difficult\"\"., she, never, offered, me, a, ...]  [\"waw-skj, economy., free, snacks, drinks, star, alliance, partner., full, legacy, carrier, fares, basically, budget, airline., flying, poland, euros, usd, me., thirsty, asked, purchase, bottle, water., stewardess, said, buy, use, credit, card, purchase, cash, without, preferred, currency., pointed, able, sell, duty, free, visa, cards, huffed, puffed, basically, said, \"\"difficult\"\"., never, offered, tiny, cup, water., way, back, switched, turkish, airlines, via, ist, got, free, 3, course, meal, segments, friendly, service.\"]"
      ]
     },
     "execution_count": 10,
     "metadata": {},
     "output_type": "execute_result"
    }
   ],
   "source": [
    "reviews.limit(5).toPandas()"
   ]
  },
  {
   "cell_type": "code",
   "execution_count": 11,
   "id": "776269bd",
   "metadata": {
    "slideshow": {
     "slide_type": "slide"
    }
   },
   "outputs": [
    {
     "name": "stderr",
     "output_type": "stream",
     "text": [
      "                                                                                \r"
     ]
    }
   ],
   "source": [
    "from pyspark.ml.feature import CountVectorizer\n",
    "\n",
    "# CountVectorizer: Conta as ocorrências de valores distintos nos arrays de todas as linhas da coluna words.\n",
    "# Cria um vetor de contadores para cada palavra ocorrendo em cada linha. Saída na nova coluna rawFeatures\n",
    "cv = CountVectorizer(inputCol=\"words\", outputCol=\"rawFeatures\", vocabSize = 1000)\n",
    "cvmodel = cv.fit(reviews)\n",
    "feat_reviews = cvmodel.transform(reviews)"
   ]
  },
  {
   "cell_type": "code",
   "execution_count": 13,
   "id": "c99f195b",
   "metadata": {
    "slideshow": {
     "slide_type": "slide"
    }
   },
   "outputs": [
    {
     "data": {
      "text/html": [
       "<div>\n",
       "<style scoped>\n",
       "    .dataframe tbody tr th:only-of-type {\n",
       "        vertical-align: middle;\n",
       "    }\n",
       "\n",
       "    .dataframe tbody tr th {\n",
       "        vertical-align: top;\n",
       "    }\n",
       "\n",
       "    .dataframe thead th {\n",
       "        text-align: right;\n",
       "    }\n",
       "</style>\n",
       "<table border=\"1\" class=\"dataframe\">\n",
       "  <thead>\n",
       "    <tr style=\"text-align: right;\">\n",
       "      <th></th>\n",
       "      <th>uid</th>\n",
       "      <th>content</th>\n",
       "      <th>tokens</th>\n",
       "      <th>words</th>\n",
       "      <th>rawFeatures</th>\n",
       "    </tr>\n",
       "  </thead>\n",
       "  <tbody>\n",
       "    <tr>\n",
       "      <th>0</th>\n",
       "      <td>0</td>\n",
       "      <td>Outbound flight FRA/PRN A319. 2 hours 10 min flight. I thought drinks/snacks for sale but sandwich soft drinks were served complimentary. Inbound flights SKP/LJU/FRA CRJ900. each 1 hour 30 min flight. Skyshop menu was in a seat pocket and drinks/snacks were for sale. All flight crews were friendly. Security check at the Ljubljana airport for transit passengers was chaos however it's possible to go to a gate within 30min.</td>\n",
       "      <td>[outbound, flight, fra/prn, a319., 2, hours, 10, min, flight., i, thought, drinks/snacks, for, sale, but, sandwich, soft, drinks, were, served, complimentary., inbound, flights, skp/lju/fra, crj900., each, 1, hour, 30, min, flight., skyshop, menu, was, in, a, seat, pocket, and, drinks/snacks, were, for, sale., all, flight, crews, were, friendly., security, check, at, the, ljubljana, airport, for, transit, passengers, was, chaos, however, it's, possible, to, go, to, a, gate, within, 30min.]</td>\n",
       "      <td>[outbound, flight, fra/prn, a319., 2, hours, 10, min, flight., thought, drinks/snacks, sale, sandwich, soft, drinks, served, complimentary., inbound, flights, skp/lju/fra, crj900., 1, hour, 30, min, flight., skyshop, menu, seat, pocket, drinks/snacks, sale., flight, crews, friendly., security, check, ljubljana, airport, transit, passengers, chaos, however, possible, go, gate, within, 30min.]</td>\n",
       "      <td>(2.0, 0.0, 0.0, 0.0, 0.0, 0.0, 0.0, 1.0, 0.0, 0.0, 1.0, 0.0, 0.0, 0.0, 0.0, 0.0, 0.0, 0.0, 0.0, 0.0, 0.0, 1.0, 2.0, 0.0, 0.0, 0.0, 1.0, 0.0, 1.0, 0.0, 0.0, 0.0, 1.0, 0.0, 0.0, 1.0, 1.0, 0.0, 0.0, 0.0, 0.0, 0.0, 0.0, 0.0, 0.0, 0.0, 0.0, 0.0, 0.0, 0.0, 0.0, 0.0, 0.0, 0.0, 0.0, 0.0, 0.0, 0.0, 0.0, 0.0, 0.0, 0.0, 1.0, 0.0, 0.0, 0.0, 0.0, 0.0, 0.0, 1.0, 0.0, 0.0, 0.0, 0.0, 1.0, 0.0, 0.0, 0.0, 0.0, 0.0, 0.0, 0.0, 0.0, 0.0, 0.0, 0.0, 0.0, 0.0, 0.0, 0.0, 0.0, 1.0, 0.0, 0.0, 0.0, 0.0, 0.0, 0.0, 0.0, 0.0, ...)</td>\n",
       "    </tr>\n",
       "    <tr>\n",
       "      <th>1</th>\n",
       "      <td>1</td>\n",
       "      <td>Two short hops ZRH-LJU and LJU-VIE. Very fast on CRJ 90. Seats comfortable and crew was fine. Ground services good and lounge was quite nice.</td>\n",
       "      <td>[two, short, hops, zrh-lju, and, lju-vie., very, fast, on, crj, 90., seats, comfortable, and, crew, was, fine., ground, services, good, and, lounge, was, quite, nice.]</td>\n",
       "      <td>[two, short, hops, zrh-lju, lju-vie., fast, crj, 90., seats, comfortable, crew, fine., ground, services, good, lounge, quite, nice.]</td>\n",
       "      <td>(0.0, 0.0, 0.0, 0.0, 1.0, 1.0, 0.0, 0.0, 1.0, 0.0, 0.0, 0.0, 0.0, 0.0, 0.0, 0.0, 0.0, 0.0, 0.0, 0.0, 0.0, 0.0, 0.0, 0.0, 0.0, 0.0, 0.0, 0.0, 0.0, 0.0, 0.0, 0.0, 0.0, 0.0, 0.0, 0.0, 0.0, 0.0, 0.0, 0.0, 1.0, 0.0, 0.0, 0.0, 0.0, 0.0, 0.0, 0.0, 0.0, 0.0, 0.0, 0.0, 0.0, 0.0, 0.0, 0.0, 0.0, 0.0, 0.0, 0.0, 0.0, 0.0, 0.0, 0.0, 0.0, 0.0, 0.0, 1.0, 0.0, 0.0, 0.0, 0.0, 0.0, 0.0, 0.0, 0.0, 0.0, 0.0, 0.0, 0.0, 0.0, 0.0, 0.0, 1.0, 0.0, 0.0, 0.0, 1.0, 0.0, 0.0, 0.0, 0.0, 0.0, 0.0, 0.0, 0.0, 0.0, 0.0, 0.0, 0.0, ...)</td>\n",
       "    </tr>\n",
       "    <tr>\n",
       "      <th>2</th>\n",
       "      <td>2</td>\n",
       "      <td>Flew Zurich-Ljubljana on JP365 newish CRJ900. Flight almost full departure on time. Service on board by 2 pleasant and friendly female flight attendants. I bought coffee mineral water and a very nice and fresh filled croissant for EUR 6. Good value!</td>\n",
       "      <td>[flew, zurich-ljubljana, on, jp365, newish, crj900., flight, almost, full, departure, on, time., service, on, board, by, 2, pleasant, and, friendly, female, flight, attendants., i, bought, coffee, mineral, water, and, a, very, nice, and, fresh, filled, croissant, for, eur, 6., good, value!]</td>\n",
       "      <td>[flew, zurich-ljubljana, jp365, newish, crj900., flight, almost, full, departure, time., service, board, 2, pleasant, friendly, female, flight, attendants., bought, coffee, mineral, water, nice, fresh, filled, croissant, eur, 6., good, value!]</td>\n",
       "      <td>(2.0, 1.0, 0.0, 0.0, 1.0, 0.0, 0.0, 0.0, 0.0, 0.0, 0.0, 0.0, 0.0, 0.0, 0.0, 0.0, 0.0, 0.0, 0.0, 0.0, 0.0, 0.0, 0.0, 1.0, 0.0, 0.0, 0.0, 0.0, 0.0, 0.0, 0.0, 0.0, 0.0, 0.0, 0.0, 0.0, 1.0, 1.0, 0.0, 0.0, 0.0, 0.0, 0.0, 0.0, 0.0, 0.0, 0.0, 0.0, 0.0, 0.0, 0.0, 0.0, 0.0, 0.0, 0.0, 0.0, 0.0, 0.0, 0.0, 0.0, 0.0, 1.0, 0.0, 1.0, 0.0, 0.0, 0.0, 0.0, 0.0, 0.0, 0.0, 0.0, 0.0, 0.0, 0.0, 0.0, 0.0, 0.0, 0.0, 0.0, 0.0, 0.0, 0.0, 0.0, 0.0, 0.0, 0.0, 0.0, 0.0, 0.0, 0.0, 0.0, 0.0, 0.0, 0.0, 0.0, 0.0, 1.0, 1.0, 0.0, ...)</td>\n",
       "    </tr>\n",
       "    <tr>\n",
       "      <th>3</th>\n",
       "      <td>3</td>\n",
       "      <td>Adria serves this 100 min flight from Ljubljana to Amsterdam on a brand new CRJ900 Next Gen which has a hugely improved cabin. Much more spacious higher ceiling and with big windows. The seats seem to be more comfortable and have more legroom. The business class is not separated from the main cabin though not even with the standard back seat curtain. The food offering could be slightly improved for usually I've had good meals on Adria.</td>\n",
       "      <td>[adria, serves, this, 100, min, flight, from, ljubljana, to, amsterdam, on, a, brand, new, crj900, next, gen, which, has, a, hugely, improved, cabin., much, more, spacious, higher, ceiling, and, with, big, windows., the, seats, seem, to, be, more, comfortable, and, have, more, legroom., the, business, class, is, not, separated, from, the, main, cabin, though, not, even, with, the, standard, back, seat, curtain., the, food, offering, could, be, slightly, improved, for, usually, i've, had, good, meals, on, adria.]</td>\n",
       "      <td>[adria, serves, 100, min, flight, ljubljana, amsterdam, brand, new, crj900, next, gen, hugely, improved, cabin., much, spacious, higher, ceiling, big, windows., seats, seem, comfortable, legroom., business, class, separated, main, cabin, though, even, standard, back, seat, curtain., food, offering, slightly, improved, usually, good, meals, adria.]</td>\n",
       "      <td>(1.0, 0.0, 1.0, 0.0, 1.0, 1.0, 0.0, 1.0, 0.0, 0.0, 0.0, 1.0, 0.0, 0.0, 0.0, 0.0, 1.0, 0.0, 1.0, 0.0, 0.0, 0.0, 0.0, 0.0, 1.0, 0.0, 0.0, 0.0, 0.0, 0.0, 1.0, 1.0, 0.0, 0.0, 0.0, 0.0, 0.0, 0.0, 0.0, 0.0, 1.0, 0.0, 0.0, 0.0, 0.0, 0.0, 0.0, 0.0, 0.0, 1.0, 0.0, 0.0, 0.0, 0.0, 0.0, 0.0, 0.0, 0.0, 0.0, 0.0, 0.0, 0.0, 0.0, 0.0, 1.0, 0.0, 0.0, 0.0, 0.0, 0.0, 0.0, 0.0, 0.0, 0.0, 0.0, 0.0, 0.0, 0.0, 0.0, 0.0, 0.0, 0.0, 0.0, 0.0, 0.0, 0.0, 0.0, 0.0, 0.0, 0.0, 0.0, 0.0, 0.0, 0.0, 0.0, 0.0, 0.0, 0.0, 0.0, 0.0, ...)</td>\n",
       "    </tr>\n",
       "    <tr>\n",
       "      <th>4</th>\n",
       "      <td>4</td>\n",
       "      <td>\"WAW-SKJ Economy. No free snacks or drinks on this Star Alliance partner. Just full legacy carrier fares for basically a budget airline. Flying out of Poland had no Euros or USD on me. I was thirsty and asked to purchase a bottle of water. The stewardess said that I could not buy it and could not use a credit card or purchase it in cash without their preferred currency. When I pointed out that they were able to sell duty free with visa cards she huffed and puffed and basically said it would be \"\"difficult\"\". She never offered me a tiny cup of water. On the way back I switched to Turkish Airlines via IST and got a free 3 course meal on both segments and friendly service.\"</td>\n",
       "      <td>[\"waw-skj, economy., no, free, snacks, or, drinks, on, this, star, alliance, partner., just, full, legacy, carrier, fares, for, basically, a, budget, airline., flying, out, of, poland, had, no, euros, or, usd, on, me., i, was, thirsty, and, asked, to, purchase, a, bottle, of, water., the, stewardess, said, that, i, could, not, buy, it, and, could, not, use, a, credit, card, or, purchase, it, in, cash, without, their, preferred, currency., when, i, pointed, out, that, they, were, able, to, sell, duty, free, with, visa, cards, she, huffed, and, puffed, and, basically, said, it, would, be, \"\"difficult\"\"., she, never, offered, me, a, ...]</td>\n",
       "      <td>[\"waw-skj, economy., free, snacks, drinks, star, alliance, partner., full, legacy, carrier, fares, basically, budget, airline., flying, poland, euros, usd, me., thirsty, asked, purchase, bottle, water., stewardess, said, buy, use, credit, card, purchase, cash, without, preferred, currency., pointed, able, sell, duty, free, visa, cards, huffed, puffed, basically, said, \"\"difficult\"\"., never, offered, tiny, cup, water., way, back, switched, turkish, airlines, via, ist, got, free, 3, course, meal, segments, friendly, service.\"]</td>\n",
       "      <td>(0.0, 0.0, 0.0, 0.0, 0.0, 0.0, 0.0, 0.0, 0.0, 0.0, 0.0, 0.0, 0.0, 0.0, 0.0, 0.0, 0.0, 0.0, 0.0, 0.0, 0.0, 0.0, 0.0, 0.0, 1.0, 0.0, 0.0, 0.0, 0.0, 0.0, 0.0, 0.0, 0.0, 0.0, 0.0, 0.0, 0.0, 1.0, 0.0, 0.0, 0.0, 0.0, 0.0, 0.0, 1.0, 1.0, 1.0, 1.0, 0.0, 0.0, 0.0, 1.0, 0.0, 1.0, 0.0, 0.0, 0.0, 0.0, 0.0, 1.0, 0.0, 0.0, 1.0, 0.0, 0.0, 0.0, 0.0, 0.0, 0.0, 0.0, 0.0, 0.0, 0.0, 0.0, 0.0, 0.0, 0.0, 0.0, 0.0, 0.0, 0.0, 0.0, 0.0, 0.0, 0.0, 0.0, 0.0, 0.0, 0.0, 0.0, 0.0, 0.0, 1.0, 0.0, 0.0, 1.0, 0.0, 1.0, 0.0, 0.0, ...)</td>\n",
       "    </tr>\n",
       "  </tbody>\n",
       "</table>\n",
       "</div>"
      ],
      "text/plain": [
       "   uid                                                                                                                                                                                                                                                                                                                                                                                                                                                                                                                                                                                                                                                                                                  content                                                                                                                                                                                                                                                                                                                                                                                                                                                                                                                                                                                                                                                              tokens                                                                                                                                                                                                                                                                                                                                                                                                                                                                                                                                               words                                                                                                                                                                                                                                                                                                                                                                                                                                                                                                                rawFeatures\n",
       "0    0                                                                                                                                                                                                                                                                 Outbound flight FRA/PRN A319. 2 hours 10 min flight. I thought drinks/snacks for sale but sandwich soft drinks were served complimentary. Inbound flights SKP/LJU/FRA CRJ900. each 1 hour 30 min flight. Skyshop menu was in a seat pocket and drinks/snacks were for sale. All flight crews were friendly. Security check at the Ljubljana airport for transit passengers was chaos however it's possible to go to a gate within 30min.                                                                                                                                                      [outbound, flight, fra/prn, a319., 2, hours, 10, min, flight., i, thought, drinks/snacks, for, sale, but, sandwich, soft, drinks, were, served, complimentary., inbound, flights, skp/lju/fra, crj900., each, 1, hour, 30, min, flight., skyshop, menu, was, in, a, seat, pocket, and, drinks/snacks, were, for, sale., all, flight, crews, were, friendly., security, check, at, the, ljubljana, airport, for, transit, passengers, was, chaos, however, it's, possible, to, go, to, a, gate, within, 30min.]                                                                                                                                          [outbound, flight, fra/prn, a319., 2, hours, 10, min, flight., thought, drinks/snacks, sale, sandwich, soft, drinks, served, complimentary., inbound, flights, skp/lju/fra, crj900., 1, hour, 30, min, flight., skyshop, menu, seat, pocket, drinks/snacks, sale., flight, crews, friendly., security, check, ljubljana, airport, transit, passengers, chaos, however, possible, go, gate, within, 30min.]  (2.0, 0.0, 0.0, 0.0, 0.0, 0.0, 0.0, 1.0, 0.0, 0.0, 1.0, 0.0, 0.0, 0.0, 0.0, 0.0, 0.0, 0.0, 0.0, 0.0, 0.0, 1.0, 2.0, 0.0, 0.0, 0.0, 1.0, 0.0, 1.0, 0.0, 0.0, 0.0, 1.0, 0.0, 0.0, 1.0, 1.0, 0.0, 0.0, 0.0, 0.0, 0.0, 0.0, 0.0, 0.0, 0.0, 0.0, 0.0, 0.0, 0.0, 0.0, 0.0, 0.0, 0.0, 0.0, 0.0, 0.0, 0.0, 0.0, 0.0, 0.0, 0.0, 1.0, 0.0, 0.0, 0.0, 0.0, 0.0, 0.0, 1.0, 0.0, 0.0, 0.0, 0.0, 1.0, 0.0, 0.0, 0.0, 0.0, 0.0, 0.0, 0.0, 0.0, 0.0, 0.0, 0.0, 0.0, 0.0, 0.0, 0.0, 0.0, 1.0, 0.0, 0.0, 0.0, 0.0, 0.0, 0.0, 0.0, 0.0, ...)\n",
       "1    1                                                                                                                                                                                                                                                                                                                                                                                                                                                                                                                                                            Two short hops ZRH-LJU and LJU-VIE. Very fast on CRJ 90. Seats comfortable and crew was fine. Ground services good and lounge was quite nice.                                                                                                                                                                                                                                                                                                                                                                                                                                                                                             [two, short, hops, zrh-lju, and, lju-vie., very, fast, on, crj, 90., seats, comfortable, and, crew, was, fine., ground, services, good, and, lounge, was, quite, nice.]                                                                                                                                                                                                                                                                                                                                                                                                                [two, short, hops, zrh-lju, lju-vie., fast, crj, 90., seats, comfortable, crew, fine., ground, services, good, lounge, quite, nice.]  (0.0, 0.0, 0.0, 0.0, 1.0, 1.0, 0.0, 0.0, 1.0, 0.0, 0.0, 0.0, 0.0, 0.0, 0.0, 0.0, 0.0, 0.0, 0.0, 0.0, 0.0, 0.0, 0.0, 0.0, 0.0, 0.0, 0.0, 0.0, 0.0, 0.0, 0.0, 0.0, 0.0, 0.0, 0.0, 0.0, 0.0, 0.0, 0.0, 0.0, 1.0, 0.0, 0.0, 0.0, 0.0, 0.0, 0.0, 0.0, 0.0, 0.0, 0.0, 0.0, 0.0, 0.0, 0.0, 0.0, 0.0, 0.0, 0.0, 0.0, 0.0, 0.0, 0.0, 0.0, 0.0, 0.0, 0.0, 1.0, 0.0, 0.0, 0.0, 0.0, 0.0, 0.0, 0.0, 0.0, 0.0, 0.0, 0.0, 0.0, 0.0, 0.0, 0.0, 1.0, 0.0, 0.0, 0.0, 1.0, 0.0, 0.0, 0.0, 0.0, 0.0, 0.0, 0.0, 0.0, 0.0, 0.0, 0.0, 0.0, ...)\n",
       "2    2                                                                                                                                                                                                                                                                                                                                                                                                                                                Flew Zurich-Ljubljana on JP365 newish CRJ900. Flight almost full departure on time. Service on board by 2 pleasant and friendly female flight attendants. I bought coffee mineral water and a very nice and fresh filled croissant for EUR 6. Good value!                                                                                                                                                                                                                                                                                                                                                                 [flew, zurich-ljubljana, on, jp365, newish, crj900., flight, almost, full, departure, on, time., service, on, board, by, 2, pleasant, and, friendly, female, flight, attendants., i, bought, coffee, mineral, water, and, a, very, nice, and, fresh, filled, croissant, for, eur, 6., good, value!]                                                                                                                                                                                                                                                                                                 [flew, zurich-ljubljana, jp365, newish, crj900., flight, almost, full, departure, time., service, board, 2, pleasant, friendly, female, flight, attendants., bought, coffee, mineral, water, nice, fresh, filled, croissant, eur, 6., good, value!]  (2.0, 1.0, 0.0, 0.0, 1.0, 0.0, 0.0, 0.0, 0.0, 0.0, 0.0, 0.0, 0.0, 0.0, 0.0, 0.0, 0.0, 0.0, 0.0, 0.0, 0.0, 0.0, 0.0, 1.0, 0.0, 0.0, 0.0, 0.0, 0.0, 0.0, 0.0, 0.0, 0.0, 0.0, 0.0, 0.0, 1.0, 1.0, 0.0, 0.0, 0.0, 0.0, 0.0, 0.0, 0.0, 0.0, 0.0, 0.0, 0.0, 0.0, 0.0, 0.0, 0.0, 0.0, 0.0, 0.0, 0.0, 0.0, 0.0, 0.0, 0.0, 1.0, 0.0, 1.0, 0.0, 0.0, 0.0, 0.0, 0.0, 0.0, 0.0, 0.0, 0.0, 0.0, 0.0, 0.0, 0.0, 0.0, 0.0, 0.0, 0.0, 0.0, 0.0, 0.0, 0.0, 0.0, 0.0, 0.0, 0.0, 0.0, 0.0, 0.0, 0.0, 0.0, 0.0, 0.0, 0.0, 1.0, 1.0, 0.0, ...)\n",
       "3    3                                                                                                                                                                                                                                                  Adria serves this 100 min flight from Ljubljana to Amsterdam on a brand new CRJ900 Next Gen which has a hugely improved cabin. Much more spacious higher ceiling and with big windows. The seats seem to be more comfortable and have more legroom. The business class is not separated from the main cabin though not even with the standard back seat curtain. The food offering could be slightly improved for usually I've had good meals on Adria.                                                                                                                               [adria, serves, this, 100, min, flight, from, ljubljana, to, amsterdam, on, a, brand, new, crj900, next, gen, which, has, a, hugely, improved, cabin., much, more, spacious, higher, ceiling, and, with, big, windows., the, seats, seem, to, be, more, comfortable, and, have, more, legroom., the, business, class, is, not, separated, from, the, main, cabin, though, not, even, with, the, standard, back, seat, curtain., the, food, offering, could, be, slightly, improved, for, usually, i've, had, good, meals, on, adria.]                                                                                                                                                                                       [adria, serves, 100, min, flight, ljubljana, amsterdam, brand, new, crj900, next, gen, hugely, improved, cabin., much, spacious, higher, ceiling, big, windows., seats, seem, comfortable, legroom., business, class, separated, main, cabin, though, even, standard, back, seat, curtain., food, offering, slightly, improved, usually, good, meals, adria.]  (1.0, 0.0, 1.0, 0.0, 1.0, 1.0, 0.0, 1.0, 0.0, 0.0, 0.0, 1.0, 0.0, 0.0, 0.0, 0.0, 1.0, 0.0, 1.0, 0.0, 0.0, 0.0, 0.0, 0.0, 1.0, 0.0, 0.0, 0.0, 0.0, 0.0, 1.0, 1.0, 0.0, 0.0, 0.0, 0.0, 0.0, 0.0, 0.0, 0.0, 1.0, 0.0, 0.0, 0.0, 0.0, 0.0, 0.0, 0.0, 0.0, 1.0, 0.0, 0.0, 0.0, 0.0, 0.0, 0.0, 0.0, 0.0, 0.0, 0.0, 0.0, 0.0, 0.0, 0.0, 1.0, 0.0, 0.0, 0.0, 0.0, 0.0, 0.0, 0.0, 0.0, 0.0, 0.0, 0.0, 0.0, 0.0, 0.0, 0.0, 0.0, 0.0, 0.0, 0.0, 0.0, 0.0, 0.0, 0.0, 0.0, 0.0, 0.0, 0.0, 0.0, 0.0, 0.0, 0.0, 0.0, 0.0, 0.0, 0.0, ...)\n",
       "4    4  \"WAW-SKJ Economy. No free snacks or drinks on this Star Alliance partner. Just full legacy carrier fares for basically a budget airline. Flying out of Poland had no Euros or USD on me. I was thirsty and asked to purchase a bottle of water. The stewardess said that I could not buy it and could not use a credit card or purchase it in cash without their preferred currency. When I pointed out that they were able to sell duty free with visa cards she huffed and puffed and basically said it would be \"\"difficult\"\". She never offered me a tiny cup of water. On the way back I switched to Turkish Airlines via IST and got a free 3 course meal on both segments and friendly service.\"  [\"waw-skj, economy., no, free, snacks, or, drinks, on, this, star, alliance, partner., just, full, legacy, carrier, fares, for, basically, a, budget, airline., flying, out, of, poland, had, no, euros, or, usd, on, me., i, was, thirsty, and, asked, to, purchase, a, bottle, of, water., the, stewardess, said, that, i, could, not, buy, it, and, could, not, use, a, credit, card, or, purchase, it, in, cash, without, their, preferred, currency., when, i, pointed, out, that, they, were, able, to, sell, duty, free, with, visa, cards, she, huffed, and, puffed, and, basically, said, it, would, be, \"\"difficult\"\"., she, never, offered, me, a, ...]  [\"waw-skj, economy., free, snacks, drinks, star, alliance, partner., full, legacy, carrier, fares, basically, budget, airline., flying, poland, euros, usd, me., thirsty, asked, purchase, bottle, water., stewardess, said, buy, use, credit, card, purchase, cash, without, preferred, currency., pointed, able, sell, duty, free, visa, cards, huffed, puffed, basically, said, \"\"difficult\"\"., never, offered, tiny, cup, water., way, back, switched, turkish, airlines, via, ist, got, free, 3, course, meal, segments, friendly, service.\"]  (0.0, 0.0, 0.0, 0.0, 0.0, 0.0, 0.0, 0.0, 0.0, 0.0, 0.0, 0.0, 0.0, 0.0, 0.0, 0.0, 0.0, 0.0, 0.0, 0.0, 0.0, 0.0, 0.0, 0.0, 1.0, 0.0, 0.0, 0.0, 0.0, 0.0, 0.0, 0.0, 0.0, 0.0, 0.0, 0.0, 0.0, 1.0, 0.0, 0.0, 0.0, 0.0, 0.0, 0.0, 1.0, 1.0, 1.0, 1.0, 0.0, 0.0, 0.0, 1.0, 0.0, 1.0, 0.0, 0.0, 0.0, 0.0, 0.0, 1.0, 0.0, 0.0, 1.0, 0.0, 0.0, 0.0, 0.0, 0.0, 0.0, 0.0, 0.0, 0.0, 0.0, 0.0, 0.0, 0.0, 0.0, 0.0, 0.0, 0.0, 0.0, 0.0, 0.0, 0.0, 0.0, 0.0, 0.0, 0.0, 0.0, 0.0, 0.0, 0.0, 1.0, 0.0, 0.0, 1.0, 0.0, 1.0, 0.0, 0.0, ...)"
      ]
     },
     "execution_count": 13,
     "metadata": {},
     "output_type": "execute_result"
    }
   ],
   "source": [
    "feat_reviews.limit(5).toPandas()"
   ]
  },
  {
   "cell_type": "code",
   "execution_count": 14,
   "id": "f2a75a26",
   "metadata": {
    "slideshow": {
     "slide_type": "slide"
    }
   },
   "outputs": [
    {
     "name": "stderr",
     "output_type": "stream",
     "text": [
      "                                                                                \r"
     ]
    }
   ],
   "source": [
    "from pyspark.ml.feature import IDF\n",
    "\n",
    "# IDF: Calcula os valore de TF-IDF usando os vetores de rawFeatures.\n",
    "idf = IDF(inputCol=\"rawFeatures\", outputCol=\"features\")\n",
    "idfModel = idf.fit(feat_reviews)\n",
    "feat_reviews = idfModel.transform(feat_reviews)"
   ]
  },
  {
   "cell_type": "code",
   "execution_count": 15,
   "id": "26a3819c",
   "metadata": {
    "slideshow": {
     "slide_type": "slide"
    }
   },
   "outputs": [
    {
     "data": {
      "text/html": [
       "<div>\n",
       "<style scoped>\n",
       "    .dataframe tbody tr th:only-of-type {\n",
       "        vertical-align: middle;\n",
       "    }\n",
       "\n",
       "    .dataframe tbody tr th {\n",
       "        vertical-align: top;\n",
       "    }\n",
       "\n",
       "    .dataframe thead th {\n",
       "        text-align: right;\n",
       "    }\n",
       "</style>\n",
       "<table border=\"1\" class=\"dataframe\">\n",
       "  <thead>\n",
       "    <tr style=\"text-align: right;\">\n",
       "      <th></th>\n",
       "      <th>uid</th>\n",
       "      <th>content</th>\n",
       "      <th>tokens</th>\n",
       "      <th>words</th>\n",
       "      <th>rawFeatures</th>\n",
       "      <th>features</th>\n",
       "    </tr>\n",
       "  </thead>\n",
       "  <tbody>\n",
       "    <tr>\n",
       "      <th>0</th>\n",
       "      <td>0</td>\n",
       "      <td>Outbound flight FRA/PRN A319. 2 hours 10 min flight. I thought drinks/snacks for sale but sandwich soft drinks were served complimentary. Inbound flights SKP/LJU/FRA CRJ900. each 1 hour 30 min flight. Skyshop menu was in a seat pocket and drinks/snacks were for sale. All flight crews were friendly. Security check at the Ljubljana airport for transit passengers was chaos however it's possible to go to a gate within 30min.</td>\n",
       "      <td>[outbound, flight, fra/prn, a319., 2, hours, 10, min, flight., i, thought, drinks/snacks, for, sale, but, sandwich, soft, drinks, were, served, complimentary., inbound, flights, skp/lju/fra, crj900., each, 1, hour, 30, min, flight., skyshop, menu, was, in, a, seat, pocket, and, drinks/snacks, were, for, sale., all, flight, crews, were, friendly., security, check, at, the, ljubljana, airport, for, transit, passengers, was, chaos, however, it's, possible, to, go, to, a, gate, within, 30min.]</td>\n",
       "      <td>[outbound, flight, fra/prn, a319., 2, hours, 10, min, flight., thought, drinks/snacks, sale, sandwich, soft, drinks, served, complimentary., inbound, flights, skp/lju/fra, crj900., 1, hour, 30, min, flight., skyshop, menu, seat, pocket, drinks/snacks, sale., flight, crews, friendly., security, check, ljubljana, airport, transit, passengers, chaos, however, possible, go, gate, within, 30min.]</td>\n",
       "      <td>(2.0, 0.0, 0.0, 0.0, 0.0, 0.0, 0.0, 1.0, 0.0, 0.0, 1.0, 0.0, 0.0, 0.0, 0.0, 0.0, 0.0, 0.0, 0.0, 0.0, 0.0, 1.0, 2.0, 0.0, 0.0, 0.0, 1.0, 0.0, 1.0, 0.0, 0.0, 0.0, 1.0, 0.0, 0.0, 1.0, 1.0, 0.0, 0.0, 0.0, 0.0, 0.0, 0.0, 0.0, 0.0, 0.0, 0.0, 0.0, 0.0, 0.0, 0.0, 0.0, 0.0, 0.0, 0.0, 0.0, 0.0, 0.0, 0.0, 0.0, 0.0, 0.0, 1.0, 0.0, 0.0, 0.0, 0.0, 0.0, 0.0, 1.0, 0.0, 0.0, 0.0, 0.0, 1.0, 0.0, 0.0, 0.0, 0.0, 0.0, 0.0, 0.0, 0.0, 0.0, 0.0, 0.0, 0.0, 0.0, 0.0, 0.0, 0.0, 1.0, 0.0, 0.0, 0.0, 0.0, 0.0, 0.0, 0.0, 0.0, ...)</td>\n",
       "      <td>(0.8432725261725198, 0.0, 0.0, 0.0, 0.0, 0.0, 0.0, 1.413880968159315, 0.0, 0.0, 1.3881293126222478, 0.0, 0.0, 0.0, 0.0, 0.0, 0.0, 0.0, 0.0, 0.0, 0.0, 1.8072689324568305, 3.331553031498053, 0.0, 0.0, 0.0, 1.8650587550078428, 0.0, 1.8663054436530282, 0.0, 0.0, 0.0, 2.0157114329007038, 0.0, 0.0, 2.113595990021957, 2.0282833393963573, 0.0, 0.0, 0.0, 0.0, 0.0, 0.0, 0.0, 0.0, 0.0, 0.0, 0.0, 0.0, 0.0, 0.0, 0.0, 0.0, 0.0, 0.0, 0.0, 0.0, 0.0, 0.0, 0.0, 0.0, 0.0, 2.2798335333273005, 0.0, 0.0, 0.0, 0.0, 0.0, 0.0, 2.3833356286305993, 0.0, 0.0, 0.0, 0.0, 2.368797470184572, 0.0, 0.0, 0.0, 0.0, 0.0, 0.0, 0.0, 0.0, 0.0, 0.0, 0.0, 0.0, 0.0, 0.0, 0.0, 0.0, 2.700743881347581, 0.0, 0.0, 0.0, 0.0, 0.0, 0.0, 0.0, 0.0, ...)</td>\n",
       "    </tr>\n",
       "    <tr>\n",
       "      <th>1</th>\n",
       "      <td>1</td>\n",
       "      <td>Two short hops ZRH-LJU and LJU-VIE. Very fast on CRJ 90. Seats comfortable and crew was fine. Ground services good and lounge was quite nice.</td>\n",
       "      <td>[two, short, hops, zrh-lju, and, lju-vie., very, fast, on, crj, 90., seats, comfortable, and, crew, was, fine., ground, services, good, and, lounge, was, quite, nice.]</td>\n",
       "      <td>[two, short, hops, zrh-lju, lju-vie., fast, crj, 90., seats, comfortable, crew, fine., ground, services, good, lounge, quite, nice.]</td>\n",
       "      <td>(0.0, 0.0, 0.0, 0.0, 1.0, 1.0, 0.0, 0.0, 1.0, 0.0, 0.0, 0.0, 0.0, 0.0, 0.0, 0.0, 0.0, 0.0, 0.0, 0.0, 0.0, 0.0, 0.0, 0.0, 0.0, 0.0, 0.0, 0.0, 0.0, 0.0, 0.0, 0.0, 0.0, 0.0, 0.0, 0.0, 0.0, 0.0, 0.0, 0.0, 1.0, 0.0, 0.0, 0.0, 0.0, 0.0, 0.0, 0.0, 0.0, 0.0, 0.0, 0.0, 0.0, 0.0, 0.0, 0.0, 0.0, 0.0, 0.0, 0.0, 0.0, 0.0, 0.0, 0.0, 0.0, 0.0, 0.0, 1.0, 0.0, 0.0, 0.0, 0.0, 0.0, 0.0, 0.0, 0.0, 0.0, 0.0, 0.0, 0.0, 0.0, 0.0, 0.0, 1.0, 0.0, 0.0, 0.0, 1.0, 0.0, 0.0, 0.0, 0.0, 0.0, 0.0, 0.0, 0.0, 0.0, 0.0, 0.0, 0.0, ...)</td>\n",
       "      <td>(0.0, 0.0, 0.0, 0.0, 1.2064523972688284, 1.1920475387150122, 0.0, 0.0, 1.3302891055861679, 0.0, 0.0, 0.0, 0.0, 0.0, 0.0, 0.0, 0.0, 0.0, 0.0, 0.0, 0.0, 0.0, 0.0, 0.0, 0.0, 0.0, 0.0, 0.0, 0.0, 0.0, 0.0, 0.0, 0.0, 0.0, 0.0, 0.0, 0.0, 0.0, 0.0, 0.0, 2.005623074956363, 0.0, 0.0, 0.0, 0.0, 0.0, 0.0, 0.0, 0.0, 0.0, 0.0, 0.0, 0.0, 0.0, 0.0, 0.0, 0.0, 0.0, 0.0, 0.0, 0.0, 0.0, 0.0, 0.0, 0.0, 0.0, 0.0, 2.3481361051799743, 0.0, 0.0, 0.0, 0.0, 0.0, 0.0, 0.0, 0.0, 0.0, 0.0, 0.0, 0.0, 0.0, 0.0, 0.0, 2.6692758438226014, 0.0, 0.0, 0.0, 2.50409773119484, 0.0, 0.0, 0.0, 0.0, 0.0, 0.0, 0.0, 0.0, 0.0, 0.0, 0.0, 0.0, ...)</td>\n",
       "    </tr>\n",
       "    <tr>\n",
       "      <th>2</th>\n",
       "      <td>2</td>\n",
       "      <td>Flew Zurich-Ljubljana on JP365 newish CRJ900. Flight almost full departure on time. Service on board by 2 pleasant and friendly female flight attendants. I bought coffee mineral water and a very nice and fresh filled croissant for EUR 6. Good value!</td>\n",
       "      <td>[flew, zurich-ljubljana, on, jp365, newish, crj900., flight, almost, full, departure, on, time., service, on, board, by, 2, pleasant, and, friendly, female, flight, attendants., i, bought, coffee, mineral, water, and, a, very, nice, and, fresh, filled, croissant, for, eur, 6., good, value!]</td>\n",
       "      <td>[flew, zurich-ljubljana, jp365, newish, crj900., flight, almost, full, departure, time., service, board, 2, pleasant, friendly, female, flight, attendants., bought, coffee, mineral, water, nice, fresh, filled, croissant, eur, 6., good, value!]</td>\n",
       "      <td>(2.0, 1.0, 0.0, 0.0, 1.0, 0.0, 0.0, 0.0, 0.0, 0.0, 0.0, 0.0, 0.0, 0.0, 0.0, 0.0, 0.0, 0.0, 0.0, 0.0, 0.0, 0.0, 0.0, 1.0, 0.0, 0.0, 0.0, 0.0, 0.0, 0.0, 0.0, 0.0, 0.0, 0.0, 0.0, 0.0, 1.0, 1.0, 0.0, 0.0, 0.0, 0.0, 0.0, 0.0, 0.0, 0.0, 0.0, 0.0, 0.0, 0.0, 0.0, 0.0, 0.0, 0.0, 0.0, 0.0, 0.0, 0.0, 0.0, 0.0, 0.0, 1.0, 0.0, 1.0, 0.0, 0.0, 0.0, 0.0, 0.0, 0.0, 0.0, 0.0, 0.0, 0.0, 0.0, 0.0, 0.0, 0.0, 0.0, 0.0, 0.0, 0.0, 0.0, 0.0, 0.0, 0.0, 0.0, 0.0, 0.0, 0.0, 0.0, 0.0, 0.0, 0.0, 0.0, 0.0, 0.0, 1.0, 1.0, 0.0, ...)</td>\n",
       "      <td>(0.8432725261725198, 1.0466293440698407, 0.0, 0.0, 1.2064523972688284, 0.0, 0.0, 0.0, 0.0, 0.0, 0.0, 0.0, 0.0, 0.0, 0.0, 0.0, 0.0, 0.0, 0.0, 0.0, 0.0, 0.0, 0.0, 1.6080157285398606, 0.0, 0.0, 0.0, 0.0, 0.0, 0.0, 0.0, 0.0, 0.0, 0.0, 0.0, 0.0, 2.0282833393963573, 1.9148695301521244, 0.0, 0.0, 0.0, 0.0, 0.0, 0.0, 0.0, 0.0, 0.0, 0.0, 0.0, 0.0, 0.0, 0.0, 0.0, 0.0, 0.0, 0.0, 0.0, 0.0, 0.0, 0.0, 0.0, 2.3348443734456077, 0.0, 2.2203330295089585, 0.0, 0.0, 0.0, 0.0, 0.0, 0.0, 0.0, 0.0, 0.0, 0.0, 0.0, 0.0, 0.0, 0.0, 0.0, 0.0, 0.0, 0.0, 0.0, 0.0, 0.0, 0.0, 0.0, 0.0, 0.0, 0.0, 0.0, 0.0, 0.0, 0.0, 0.0, 0.0, 0.0, 2.527382365254645, 2.584878391820469, 0.0, ...)</td>\n",
       "    </tr>\n",
       "    <tr>\n",
       "      <th>3</th>\n",
       "      <td>3</td>\n",
       "      <td>Adria serves this 100 min flight from Ljubljana to Amsterdam on a brand new CRJ900 Next Gen which has a hugely improved cabin. Much more spacious higher ceiling and with big windows. The seats seem to be more comfortable and have more legroom. The business class is not separated from the main cabin though not even with the standard back seat curtain. The food offering could be slightly improved for usually I've had good meals on Adria.</td>\n",
       "      <td>[adria, serves, this, 100, min, flight, from, ljubljana, to, amsterdam, on, a, brand, new, crj900, next, gen, which, has, a, hugely, improved, cabin., much, more, spacious, higher, ceiling, and, with, big, windows., the, seats, seem, to, be, more, comfortable, and, have, more, legroom., the, business, class, is, not, separated, from, the, main, cabin, though, not, even, with, the, standard, back, seat, curtain., the, food, offering, could, be, slightly, improved, for, usually, i've, had, good, meals, on, adria.]</td>\n",
       "      <td>[adria, serves, 100, min, flight, ljubljana, amsterdam, brand, new, crj900, next, gen, hugely, improved, cabin., much, spacious, higher, ceiling, big, windows., seats, seem, comfortable, legroom., business, class, separated, main, cabin, though, even, standard, back, seat, curtain., food, offering, slightly, improved, usually, good, meals, adria.]</td>\n",
       "      <td>(1.0, 0.0, 1.0, 0.0, 1.0, 1.0, 0.0, 1.0, 0.0, 0.0, 0.0, 1.0, 0.0, 0.0, 0.0, 0.0, 1.0, 0.0, 1.0, 0.0, 0.0, 0.0, 0.0, 0.0, 1.0, 0.0, 0.0, 0.0, 0.0, 0.0, 1.0, 1.0, 0.0, 0.0, 0.0, 0.0, 0.0, 0.0, 0.0, 0.0, 1.0, 0.0, 0.0, 0.0, 0.0, 0.0, 0.0, 0.0, 0.0, 1.0, 0.0, 0.0, 0.0, 0.0, 0.0, 0.0, 0.0, 0.0, 0.0, 0.0, 0.0, 0.0, 0.0, 0.0, 1.0, 0.0, 0.0, 0.0, 0.0, 0.0, 0.0, 0.0, 0.0, 0.0, 0.0, 0.0, 0.0, 0.0, 0.0, 0.0, 0.0, 0.0, 0.0, 0.0, 0.0, 0.0, 0.0, 0.0, 0.0, 0.0, 0.0, 0.0, 0.0, 0.0, 0.0, 0.0, 0.0, 0.0, 0.0, 0.0, ...)</td>\n",
       "      <td>(0.4216362630862599, 0.0, 1.0068301312748658, 0.0, 1.2064523972688284, 1.1920475387150122, 0.0, 1.413880968159315, 0.0, 0.0, 0.0, 1.507605419187355, 0.0, 0.0, 0.0, 0.0, 1.9227578208506062, 0.0, 1.8933319799711663, 0.0, 0.0, 0.0, 0.0, 0.0, 1.7620058367317533, 0.0, 0.0, 0.0, 0.0, 0.0, 1.8465425648406786, 1.893652441438418, 0.0, 0.0, 0.0, 0.0, 0.0, 0.0, 0.0, 0.0, 2.005623074956363, 0.0, 0.0, 0.0, 0.0, 0.0, 0.0, 0.0, 0.0, 2.162076697285784, 0.0, 0.0, 0.0, 0.0, 0.0, 0.0, 0.0, 0.0, 0.0, 0.0, 0.0, 0.0, 0.0, 0.0, 2.3468745937221502, 0.0, 0.0, 0.0, 0.0, 0.0, 0.0, 0.0, 0.0, 0.0, 0.0, 0.0, 0.0, 0.0, 0.0, 0.0, 0.0, 0.0, 0.0, 0.0, 0.0, 0.0, 0.0, 0.0, 0.0, 0.0, 0.0, 0.0, 0.0, 0.0, 0.0, 0.0, 0.0, 0.0, 0.0, 0.0, ...)</td>\n",
       "    </tr>\n",
       "    <tr>\n",
       "      <th>4</th>\n",
       "      <td>4</td>\n",
       "      <td>\"WAW-SKJ Economy. No free snacks or drinks on this Star Alliance partner. Just full legacy carrier fares for basically a budget airline. Flying out of Poland had no Euros or USD on me. I was thirsty and asked to purchase a bottle of water. The stewardess said that I could not buy it and could not use a credit card or purchase it in cash without their preferred currency. When I pointed out that they were able to sell duty free with visa cards she huffed and puffed and basically said it would be \"\"difficult\"\". She never offered me a tiny cup of water. On the way back I switched to Turkish Airlines via IST and got a free 3 course meal on both segments and friendly service.\"</td>\n",
       "      <td>[\"waw-skj, economy., no, free, snacks, or, drinks, on, this, star, alliance, partner., just, full, legacy, carrier, fares, for, basically, a, budget, airline., flying, out, of, poland, had, no, euros, or, usd, on, me., i, was, thirsty, and, asked, to, purchase, a, bottle, of, water., the, stewardess, said, that, i, could, not, buy, it, and, could, not, use, a, credit, card, or, purchase, it, in, cash, without, their, preferred, currency., when, i, pointed, out, that, they, were, able, to, sell, duty, free, with, visa, cards, she, huffed, and, puffed, and, basically, said, it, would, be, \"\"difficult\"\"., she, never, offered, me, a, ...]</td>\n",
       "      <td>[\"waw-skj, economy., free, snacks, drinks, star, alliance, partner., full, legacy, carrier, fares, basically, budget, airline., flying, poland, euros, usd, me., thirsty, asked, purchase, bottle, water., stewardess, said, buy, use, credit, card, purchase, cash, without, preferred, currency., pointed, able, sell, duty, free, visa, cards, huffed, puffed, basically, said, \"\"difficult\"\"., never, offered, tiny, cup, water., way, back, switched, turkish, airlines, via, ist, got, free, 3, course, meal, segments, friendly, service.\"]</td>\n",
       "      <td>(0.0, 0.0, 0.0, 0.0, 0.0, 0.0, 0.0, 0.0, 0.0, 0.0, 0.0, 0.0, 0.0, 0.0, 0.0, 0.0, 0.0, 0.0, 0.0, 0.0, 0.0, 0.0, 0.0, 0.0, 1.0, 0.0, 0.0, 0.0, 0.0, 0.0, 0.0, 0.0, 0.0, 0.0, 0.0, 0.0, 0.0, 1.0, 0.0, 0.0, 0.0, 0.0, 0.0, 0.0, 1.0, 1.0, 1.0, 1.0, 0.0, 0.0, 0.0, 1.0, 0.0, 1.0, 0.0, 0.0, 0.0, 0.0, 0.0, 1.0, 0.0, 0.0, 1.0, 0.0, 0.0, 0.0, 0.0, 0.0, 0.0, 0.0, 0.0, 0.0, 0.0, 0.0, 0.0, 0.0, 0.0, 0.0, 0.0, 0.0, 0.0, 0.0, 0.0, 0.0, 0.0, 0.0, 0.0, 0.0, 0.0, 0.0, 0.0, 0.0, 1.0, 0.0, 0.0, 1.0, 0.0, 1.0, 0.0, 0.0, ...)</td>\n",
       "      <td>(0.0, 0.0, 0.0, 0.0, 0.0, 0.0, 0.0, 0.0, 0.0, 0.0, 0.0, 0.0, 0.0, 0.0, 0.0, 0.0, 0.0, 0.0, 0.0, 0.0, 0.0, 0.0, 0.0, 0.0, 1.7620058367317533, 0.0, 0.0, 0.0, 0.0, 0.0, 0.0, 0.0, 0.0, 0.0, 0.0, 0.0, 0.0, 1.9148695301521244, 0.0, 0.0, 0.0, 0.0, 0.0, 0.0, 2.1556001260206927, 2.1415386867252555, 2.2121462374621044, 2.1345814251858437, 0.0, 0.0, 0.0, 2.1935887788136657, 0.0, 2.249640807938577, 0.0, 0.0, 0.0, 0.0, 0.0, 2.258141720705587, 0.0, 0.0, 2.2798335333273005, 0.0, 0.0, 0.0, 0.0, 0.0, 0.0, 0.0, 0.0, 0.0, 0.0, 0.0, 0.0, 0.0, 0.0, 0.0, 0.0, 0.0, 0.0, 0.0, 0.0, 0.0, 0.0, 0.0, 0.0, 0.0, 0.0, 0.0, 0.0, 0.0, 2.4715839818472256, 0.0, 0.0, 2.5558725752495626, 0.0, 2.527382365254645, 0.0, 0.0, ...)</td>\n",
       "    </tr>\n",
       "  </tbody>\n",
       "</table>\n",
       "</div>"
      ],
      "text/plain": [
       "   uid                                                                                                                                                                                                                                                                                                                                                                                                                                                                                                                                                                                                                                                                                                  content                                                                                                                                                                                                                                                                                                                                                                                                                                                                                                                                                                                                                                                              tokens                                                                                                                                                                                                                                                                                                                                                                                                                                                                                                                                               words                                                                                                                                                                                                                                                                                                                                                                                                                                                                                                                rawFeatures                                                                                                                                                                                                                                                                                                                                                                                                                                                                                                                                                                                                                                                                                                                                features\n",
       "0    0                                                                                                                                                                                                                                                                 Outbound flight FRA/PRN A319. 2 hours 10 min flight. I thought drinks/snacks for sale but sandwich soft drinks were served complimentary. Inbound flights SKP/LJU/FRA CRJ900. each 1 hour 30 min flight. Skyshop menu was in a seat pocket and drinks/snacks were for sale. All flight crews were friendly. Security check at the Ljubljana airport for transit passengers was chaos however it's possible to go to a gate within 30min.                                                                                                                                                      [outbound, flight, fra/prn, a319., 2, hours, 10, min, flight., i, thought, drinks/snacks, for, sale, but, sandwich, soft, drinks, were, served, complimentary., inbound, flights, skp/lju/fra, crj900., each, 1, hour, 30, min, flight., skyshop, menu, was, in, a, seat, pocket, and, drinks/snacks, were, for, sale., all, flight, crews, were, friendly., security, check, at, the, ljubljana, airport, for, transit, passengers, was, chaos, however, it's, possible, to, go, to, a, gate, within, 30min.]                                                                                                                                          [outbound, flight, fra/prn, a319., 2, hours, 10, min, flight., thought, drinks/snacks, sale, sandwich, soft, drinks, served, complimentary., inbound, flights, skp/lju/fra, crj900., 1, hour, 30, min, flight., skyshop, menu, seat, pocket, drinks/snacks, sale., flight, crews, friendly., security, check, ljubljana, airport, transit, passengers, chaos, however, possible, go, gate, within, 30min.]  (2.0, 0.0, 0.0, 0.0, 0.0, 0.0, 0.0, 1.0, 0.0, 0.0, 1.0, 0.0, 0.0, 0.0, 0.0, 0.0, 0.0, 0.0, 0.0, 0.0, 0.0, 1.0, 2.0, 0.0, 0.0, 0.0, 1.0, 0.0, 1.0, 0.0, 0.0, 0.0, 1.0, 0.0, 0.0, 1.0, 1.0, 0.0, 0.0, 0.0, 0.0, 0.0, 0.0, 0.0, 0.0, 0.0, 0.0, 0.0, 0.0, 0.0, 0.0, 0.0, 0.0, 0.0, 0.0, 0.0, 0.0, 0.0, 0.0, 0.0, 0.0, 0.0, 1.0, 0.0, 0.0, 0.0, 0.0, 0.0, 0.0, 1.0, 0.0, 0.0, 0.0, 0.0, 1.0, 0.0, 0.0, 0.0, 0.0, 0.0, 0.0, 0.0, 0.0, 0.0, 0.0, 0.0, 0.0, 0.0, 0.0, 0.0, 0.0, 1.0, 0.0, 0.0, 0.0, 0.0, 0.0, 0.0, 0.0, 0.0, ...)  (0.8432725261725198, 0.0, 0.0, 0.0, 0.0, 0.0, 0.0, 1.413880968159315, 0.0, 0.0, 1.3881293126222478, 0.0, 0.0, 0.0, 0.0, 0.0, 0.0, 0.0, 0.0, 0.0, 0.0, 1.8072689324568305, 3.331553031498053, 0.0, 0.0, 0.0, 1.8650587550078428, 0.0, 1.8663054436530282, 0.0, 0.0, 0.0, 2.0157114329007038, 0.0, 0.0, 2.113595990021957, 2.0282833393963573, 0.0, 0.0, 0.0, 0.0, 0.0, 0.0, 0.0, 0.0, 0.0, 0.0, 0.0, 0.0, 0.0, 0.0, 0.0, 0.0, 0.0, 0.0, 0.0, 0.0, 0.0, 0.0, 0.0, 0.0, 0.0, 2.2798335333273005, 0.0, 0.0, 0.0, 0.0, 0.0, 0.0, 2.3833356286305993, 0.0, 0.0, 0.0, 0.0, 2.368797470184572, 0.0, 0.0, 0.0, 0.0, 0.0, 0.0, 0.0, 0.0, 0.0, 0.0, 0.0, 0.0, 0.0, 0.0, 0.0, 0.0, 2.700743881347581, 0.0, 0.0, 0.0, 0.0, 0.0, 0.0, 0.0, 0.0, ...)\n",
       "1    1                                                                                                                                                                                                                                                                                                                                                                                                                                                                                                                                                            Two short hops ZRH-LJU and LJU-VIE. Very fast on CRJ 90. Seats comfortable and crew was fine. Ground services good and lounge was quite nice.                                                                                                                                                                                                                                                                                                                                                                                                                                                                                             [two, short, hops, zrh-lju, and, lju-vie., very, fast, on, crj, 90., seats, comfortable, and, crew, was, fine., ground, services, good, and, lounge, was, quite, nice.]                                                                                                                                                                                                                                                                                                                                                                                                                [two, short, hops, zrh-lju, lju-vie., fast, crj, 90., seats, comfortable, crew, fine., ground, services, good, lounge, quite, nice.]  (0.0, 0.0, 0.0, 0.0, 1.0, 1.0, 0.0, 0.0, 1.0, 0.0, 0.0, 0.0, 0.0, 0.0, 0.0, 0.0, 0.0, 0.0, 0.0, 0.0, 0.0, 0.0, 0.0, 0.0, 0.0, 0.0, 0.0, 0.0, 0.0, 0.0, 0.0, 0.0, 0.0, 0.0, 0.0, 0.0, 0.0, 0.0, 0.0, 0.0, 1.0, 0.0, 0.0, 0.0, 0.0, 0.0, 0.0, 0.0, 0.0, 0.0, 0.0, 0.0, 0.0, 0.0, 0.0, 0.0, 0.0, 0.0, 0.0, 0.0, 0.0, 0.0, 0.0, 0.0, 0.0, 0.0, 0.0, 1.0, 0.0, 0.0, 0.0, 0.0, 0.0, 0.0, 0.0, 0.0, 0.0, 0.0, 0.0, 0.0, 0.0, 0.0, 0.0, 1.0, 0.0, 0.0, 0.0, 1.0, 0.0, 0.0, 0.0, 0.0, 0.0, 0.0, 0.0, 0.0, 0.0, 0.0, 0.0, 0.0, ...)                                                                                                         (0.0, 0.0, 0.0, 0.0, 1.2064523972688284, 1.1920475387150122, 0.0, 0.0, 1.3302891055861679, 0.0, 0.0, 0.0, 0.0, 0.0, 0.0, 0.0, 0.0, 0.0, 0.0, 0.0, 0.0, 0.0, 0.0, 0.0, 0.0, 0.0, 0.0, 0.0, 0.0, 0.0, 0.0, 0.0, 0.0, 0.0, 0.0, 0.0, 0.0, 0.0, 0.0, 0.0, 2.005623074956363, 0.0, 0.0, 0.0, 0.0, 0.0, 0.0, 0.0, 0.0, 0.0, 0.0, 0.0, 0.0, 0.0, 0.0, 0.0, 0.0, 0.0, 0.0, 0.0, 0.0, 0.0, 0.0, 0.0, 0.0, 0.0, 0.0, 2.3481361051799743, 0.0, 0.0, 0.0, 0.0, 0.0, 0.0, 0.0, 0.0, 0.0, 0.0, 0.0, 0.0, 0.0, 0.0, 0.0, 2.6692758438226014, 0.0, 0.0, 0.0, 2.50409773119484, 0.0, 0.0, 0.0, 0.0, 0.0, 0.0, 0.0, 0.0, 0.0, 0.0, 0.0, 0.0, ...)\n",
       "2    2                                                                                                                                                                                                                                                                                                                                                                                                                                                Flew Zurich-Ljubljana on JP365 newish CRJ900. Flight almost full departure on time. Service on board by 2 pleasant and friendly female flight attendants. I bought coffee mineral water and a very nice and fresh filled croissant for EUR 6. Good value!                                                                                                                                                                                                                                                                                                                                                                 [flew, zurich-ljubljana, on, jp365, newish, crj900., flight, almost, full, departure, on, time., service, on, board, by, 2, pleasant, and, friendly, female, flight, attendants., i, bought, coffee, mineral, water, and, a, very, nice, and, fresh, filled, croissant, for, eur, 6., good, value!]                                                                                                                                                                                                                                                                                                 [flew, zurich-ljubljana, jp365, newish, crj900., flight, almost, full, departure, time., service, board, 2, pleasant, friendly, female, flight, attendants., bought, coffee, mineral, water, nice, fresh, filled, croissant, eur, 6., good, value!]  (2.0, 1.0, 0.0, 0.0, 1.0, 0.0, 0.0, 0.0, 0.0, 0.0, 0.0, 0.0, 0.0, 0.0, 0.0, 0.0, 0.0, 0.0, 0.0, 0.0, 0.0, 0.0, 0.0, 1.0, 0.0, 0.0, 0.0, 0.0, 0.0, 0.0, 0.0, 0.0, 0.0, 0.0, 0.0, 0.0, 1.0, 1.0, 0.0, 0.0, 0.0, 0.0, 0.0, 0.0, 0.0, 0.0, 0.0, 0.0, 0.0, 0.0, 0.0, 0.0, 0.0, 0.0, 0.0, 0.0, 0.0, 0.0, 0.0, 0.0, 0.0, 1.0, 0.0, 1.0, 0.0, 0.0, 0.0, 0.0, 0.0, 0.0, 0.0, 0.0, 0.0, 0.0, 0.0, 0.0, 0.0, 0.0, 0.0, 0.0, 0.0, 0.0, 0.0, 0.0, 0.0, 0.0, 0.0, 0.0, 0.0, 0.0, 0.0, 0.0, 0.0, 0.0, 0.0, 0.0, 0.0, 1.0, 1.0, 0.0, ...)                                                           (0.8432725261725198, 1.0466293440698407, 0.0, 0.0, 1.2064523972688284, 0.0, 0.0, 0.0, 0.0, 0.0, 0.0, 0.0, 0.0, 0.0, 0.0, 0.0, 0.0, 0.0, 0.0, 0.0, 0.0, 0.0, 0.0, 1.6080157285398606, 0.0, 0.0, 0.0, 0.0, 0.0, 0.0, 0.0, 0.0, 0.0, 0.0, 0.0, 0.0, 2.0282833393963573, 1.9148695301521244, 0.0, 0.0, 0.0, 0.0, 0.0, 0.0, 0.0, 0.0, 0.0, 0.0, 0.0, 0.0, 0.0, 0.0, 0.0, 0.0, 0.0, 0.0, 0.0, 0.0, 0.0, 0.0, 0.0, 2.3348443734456077, 0.0, 2.2203330295089585, 0.0, 0.0, 0.0, 0.0, 0.0, 0.0, 0.0, 0.0, 0.0, 0.0, 0.0, 0.0, 0.0, 0.0, 0.0, 0.0, 0.0, 0.0, 0.0, 0.0, 0.0, 0.0, 0.0, 0.0, 0.0, 0.0, 0.0, 0.0, 0.0, 0.0, 0.0, 0.0, 0.0, 2.527382365254645, 2.584878391820469, 0.0, ...)\n",
       "3    3                                                                                                                                                                                                                                                  Adria serves this 100 min flight from Ljubljana to Amsterdam on a brand new CRJ900 Next Gen which has a hugely improved cabin. Much more spacious higher ceiling and with big windows. The seats seem to be more comfortable and have more legroom. The business class is not separated from the main cabin though not even with the standard back seat curtain. The food offering could be slightly improved for usually I've had good meals on Adria.                                                                                                                               [adria, serves, this, 100, min, flight, from, ljubljana, to, amsterdam, on, a, brand, new, crj900, next, gen, which, has, a, hugely, improved, cabin., much, more, spacious, higher, ceiling, and, with, big, windows., the, seats, seem, to, be, more, comfortable, and, have, more, legroom., the, business, class, is, not, separated, from, the, main, cabin, though, not, even, with, the, standard, back, seat, curtain., the, food, offering, could, be, slightly, improved, for, usually, i've, had, good, meals, on, adria.]                                                                                                                                                                                       [adria, serves, 100, min, flight, ljubljana, amsterdam, brand, new, crj900, next, gen, hugely, improved, cabin., much, spacious, higher, ceiling, big, windows., seats, seem, comfortable, legroom., business, class, separated, main, cabin, though, even, standard, back, seat, curtain., food, offering, slightly, improved, usually, good, meals, adria.]  (1.0, 0.0, 1.0, 0.0, 1.0, 1.0, 0.0, 1.0, 0.0, 0.0, 0.0, 1.0, 0.0, 0.0, 0.0, 0.0, 1.0, 0.0, 1.0, 0.0, 0.0, 0.0, 0.0, 0.0, 1.0, 0.0, 0.0, 0.0, 0.0, 0.0, 1.0, 1.0, 0.0, 0.0, 0.0, 0.0, 0.0, 0.0, 0.0, 0.0, 1.0, 0.0, 0.0, 0.0, 0.0, 0.0, 0.0, 0.0, 0.0, 1.0, 0.0, 0.0, 0.0, 0.0, 0.0, 0.0, 0.0, 0.0, 0.0, 0.0, 0.0, 0.0, 0.0, 0.0, 1.0, 0.0, 0.0, 0.0, 0.0, 0.0, 0.0, 0.0, 0.0, 0.0, 0.0, 0.0, 0.0, 0.0, 0.0, 0.0, 0.0, 0.0, 0.0, 0.0, 0.0, 0.0, 0.0, 0.0, 0.0, 0.0, 0.0, 0.0, 0.0, 0.0, 0.0, 0.0, 0.0, 0.0, 0.0, 0.0, ...)  (0.4216362630862599, 0.0, 1.0068301312748658, 0.0, 1.2064523972688284, 1.1920475387150122, 0.0, 1.413880968159315, 0.0, 0.0, 0.0, 1.507605419187355, 0.0, 0.0, 0.0, 0.0, 1.9227578208506062, 0.0, 1.8933319799711663, 0.0, 0.0, 0.0, 0.0, 0.0, 1.7620058367317533, 0.0, 0.0, 0.0, 0.0, 0.0, 1.8465425648406786, 1.893652441438418, 0.0, 0.0, 0.0, 0.0, 0.0, 0.0, 0.0, 0.0, 2.005623074956363, 0.0, 0.0, 0.0, 0.0, 0.0, 0.0, 0.0, 0.0, 2.162076697285784, 0.0, 0.0, 0.0, 0.0, 0.0, 0.0, 0.0, 0.0, 0.0, 0.0, 0.0, 0.0, 0.0, 0.0, 2.3468745937221502, 0.0, 0.0, 0.0, 0.0, 0.0, 0.0, 0.0, 0.0, 0.0, 0.0, 0.0, 0.0, 0.0, 0.0, 0.0, 0.0, 0.0, 0.0, 0.0, 0.0, 0.0, 0.0, 0.0, 0.0, 0.0, 0.0, 0.0, 0.0, 0.0, 0.0, 0.0, 0.0, 0.0, 0.0, 0.0, ...)\n",
       "4    4  \"WAW-SKJ Economy. No free snacks or drinks on this Star Alliance partner. Just full legacy carrier fares for basically a budget airline. Flying out of Poland had no Euros or USD on me. I was thirsty and asked to purchase a bottle of water. The stewardess said that I could not buy it and could not use a credit card or purchase it in cash without their preferred currency. When I pointed out that they were able to sell duty free with visa cards she huffed and puffed and basically said it would be \"\"difficult\"\". She never offered me a tiny cup of water. On the way back I switched to Turkish Airlines via IST and got a free 3 course meal on both segments and friendly service.\"  [\"waw-skj, economy., no, free, snacks, or, drinks, on, this, star, alliance, partner., just, full, legacy, carrier, fares, for, basically, a, budget, airline., flying, out, of, poland, had, no, euros, or, usd, on, me., i, was, thirsty, and, asked, to, purchase, a, bottle, of, water., the, stewardess, said, that, i, could, not, buy, it, and, could, not, use, a, credit, card, or, purchase, it, in, cash, without, their, preferred, currency., when, i, pointed, out, that, they, were, able, to, sell, duty, free, with, visa, cards, she, huffed, and, puffed, and, basically, said, it, would, be, \"\"difficult\"\"., she, never, offered, me, a, ...]  [\"waw-skj, economy., free, snacks, drinks, star, alliance, partner., full, legacy, carrier, fares, basically, budget, airline., flying, poland, euros, usd, me., thirsty, asked, purchase, bottle, water., stewardess, said, buy, use, credit, card, purchase, cash, without, preferred, currency., pointed, able, sell, duty, free, visa, cards, huffed, puffed, basically, said, \"\"difficult\"\"., never, offered, tiny, cup, water., way, back, switched, turkish, airlines, via, ist, got, free, 3, course, meal, segments, friendly, service.\"]  (0.0, 0.0, 0.0, 0.0, 0.0, 0.0, 0.0, 0.0, 0.0, 0.0, 0.0, 0.0, 0.0, 0.0, 0.0, 0.0, 0.0, 0.0, 0.0, 0.0, 0.0, 0.0, 0.0, 0.0, 1.0, 0.0, 0.0, 0.0, 0.0, 0.0, 0.0, 0.0, 0.0, 0.0, 0.0, 0.0, 0.0, 1.0, 0.0, 0.0, 0.0, 0.0, 0.0, 0.0, 1.0, 1.0, 1.0, 1.0, 0.0, 0.0, 0.0, 1.0, 0.0, 1.0, 0.0, 0.0, 0.0, 0.0, 0.0, 1.0, 0.0, 0.0, 1.0, 0.0, 0.0, 0.0, 0.0, 0.0, 0.0, 0.0, 0.0, 0.0, 0.0, 0.0, 0.0, 0.0, 0.0, 0.0, 0.0, 0.0, 0.0, 0.0, 0.0, 0.0, 0.0, 0.0, 0.0, 0.0, 0.0, 0.0, 0.0, 0.0, 1.0, 0.0, 0.0, 1.0, 0.0, 1.0, 0.0, 0.0, ...)               (0.0, 0.0, 0.0, 0.0, 0.0, 0.0, 0.0, 0.0, 0.0, 0.0, 0.0, 0.0, 0.0, 0.0, 0.0, 0.0, 0.0, 0.0, 0.0, 0.0, 0.0, 0.0, 0.0, 0.0, 1.7620058367317533, 0.0, 0.0, 0.0, 0.0, 0.0, 0.0, 0.0, 0.0, 0.0, 0.0, 0.0, 0.0, 1.9148695301521244, 0.0, 0.0, 0.0, 0.0, 0.0, 0.0, 2.1556001260206927, 2.1415386867252555, 2.2121462374621044, 2.1345814251858437, 0.0, 0.0, 0.0, 2.1935887788136657, 0.0, 2.249640807938577, 0.0, 0.0, 0.0, 0.0, 0.0, 2.258141720705587, 0.0, 0.0, 2.2798335333273005, 0.0, 0.0, 0.0, 0.0, 0.0, 0.0, 0.0, 0.0, 0.0, 0.0, 0.0, 0.0, 0.0, 0.0, 0.0, 0.0, 0.0, 0.0, 0.0, 0.0, 0.0, 0.0, 0.0, 0.0, 0.0, 0.0, 0.0, 0.0, 0.0, 2.4715839818472256, 0.0, 0.0, 2.5558725752495626, 0.0, 2.527382365254645, 0.0, 0.0, ...)"
      ]
     },
     "execution_count": 15,
     "metadata": {},
     "output_type": "execute_result"
    }
   ],
   "source": [
    "feat_reviews.limit(5).toPandas()"
   ]
  },
  {
   "cell_type": "code",
   "execution_count": 17,
   "id": "99afa81e",
   "metadata": {
    "slideshow": {
     "slide_type": "slide"
    }
   },
   "outputs": [
    {
     "name": "stderr",
     "output_type": "stream",
     "text": [
      "                                                                                \r"
     ]
    }
   ],
   "source": [
    "from pyspark.ml.feature import HashingTF\n",
    "\n",
    "hashingTF = HashingTF(inputCol=\"words\", outputCol=\"rawFeatures\", numFeatures=1000)\n",
    "feat_reviews = hashingTF.transform(reviews)\n",
    "\n",
    "idf = IDF(inputCol=\"rawFeatures\", outputCol=\"features\")\n",
    "idfModel = idf.fit(feat_reviews)\n",
    "feat_reviews = idfModel.transform(feat_reviews)"
   ]
  },
  {
   "cell_type": "code",
   "execution_count": 18,
   "id": "13839048",
   "metadata": {
    "slideshow": {
     "slide_type": "slide"
    }
   },
   "outputs": [
    {
     "data": {
      "text/html": [
       "<div>\n",
       "<style scoped>\n",
       "    .dataframe tbody tr th:only-of-type {\n",
       "        vertical-align: middle;\n",
       "    }\n",
       "\n",
       "    .dataframe tbody tr th {\n",
       "        vertical-align: top;\n",
       "    }\n",
       "\n",
       "    .dataframe thead th {\n",
       "        text-align: right;\n",
       "    }\n",
       "</style>\n",
       "<table border=\"1\" class=\"dataframe\">\n",
       "  <thead>\n",
       "    <tr style=\"text-align: right;\">\n",
       "      <th></th>\n",
       "      <th>uid</th>\n",
       "      <th>content</th>\n",
       "      <th>tokens</th>\n",
       "      <th>words</th>\n",
       "      <th>rawFeatures</th>\n",
       "      <th>features</th>\n",
       "    </tr>\n",
       "  </thead>\n",
       "  <tbody>\n",
       "    <tr>\n",
       "      <th>0</th>\n",
       "      <td>0</td>\n",
       "      <td>Outbound flight FRA/PRN A319. 2 hours 10 min flight. I thought drinks/snacks for sale but sandwich soft drinks were served complimentary. Inbound flights SKP/LJU/FRA CRJ900. each 1 hour 30 min flight. Skyshop menu was in a seat pocket and drinks/snacks were for sale. All flight crews were friendly. Security check at the Ljubljana airport for transit passengers was chaos however it's possible to go to a gate within 30min.</td>\n",
       "      <td>[outbound, flight, fra/prn, a319., 2, hours, 10, min, flight., i, thought, drinks/snacks, for, sale, but, sandwich, soft, drinks, were, served, complimentary., inbound, flights, skp/lju/fra, crj900., each, 1, hour, 30, min, flight., skyshop, menu, was, in, a, seat, pocket, and, drinks/snacks, were, for, sale., all, flight, crews, were, friendly., security, check, at, the, ljubljana, airport, for, transit, passengers, was, chaos, however, it's, possible, to, go, to, a, gate, within, 30min.]</td>\n",
       "      <td>[outbound, flight, fra/prn, a319., 2, hours, 10, min, flight., thought, drinks/snacks, sale, sandwich, soft, drinks, served, complimentary., inbound, flights, skp/lju/fra, crj900., 1, hour, 30, min, flight., skyshop, menu, seat, pocket, drinks/snacks, sale., flight, crews, friendly., security, check, ljubljana, airport, transit, passengers, chaos, however, possible, go, gate, within, 30min.]</td>\n",
       "      <td>(0.0, 0.0, 0.0, 0.0, 0.0, 0.0, 0.0, 0.0, 0.0, 0.0, 0.0, 0.0, 0.0, 0.0, 0.0, 0.0, 0.0, 0.0, 0.0, 0.0, 0.0, 0.0, 0.0, 0.0, 0.0, 0.0, 0.0, 0.0, 0.0, 2.0, 0.0, 0.0, 0.0, 0.0, 0.0, 0.0, 0.0, 0.0, 0.0, 0.0, 0.0, 0.0, 0.0, 0.0, 0.0, 0.0, 0.0, 1.0, 0.0, 0.0, 0.0, 0.0, 0.0, 0.0, 0.0, 1.0, 0.0, 0.0, 0.0, 0.0, 0.0, 1.0, 0.0, 0.0, 0.0, 0.0, 0.0, 0.0, 0.0, 0.0, 0.0, 0.0, 0.0, 0.0, 0.0, 0.0, 0.0, 0.0, 0.0, 0.0, 0.0, 0.0, 0.0, 0.0, 0.0, 0.0, 1.0, 0.0, 0.0, 0.0, 0.0, 0.0, 0.0, 0.0, 0.0, 0.0, 0.0, 0.0, 0.0, 1.0, ...)</td>\n",
       "      <td>(0.0, 0.0, 0.0, 0.0, 0.0, 0.0, 0.0, 0.0, 0.0, 0.0, 0.0, 0.0, 0.0, 0.0, 0.0, 0.0, 0.0, 0.0, 0.0, 0.0, 0.0, 0.0, 0.0, 0.0, 0.0, 0.0, 0.0, 0.0, 0.0, 0.8188579106491499, 0.0, 0.0, 0.0, 0.0, 0.0, 0.0, 0.0, 0.0, 0.0, 0.0, 0.0, 0.0, 0.0, 0.0, 0.0, 0.0, 0.0, 1.3891931939547615, 0.0, 0.0, 0.0, 0.0, 0.0, 0.0, 0.0, 2.8059447673458777, 0.0, 0.0, 0.0, 0.0, 0.0, 1.8812299214398607, 0.0, 0.0, 0.0, 0.0, 0.0, 0.0, 0.0, 0.0, 0.0, 0.0, 0.0, 0.0, 0.0, 0.0, 0.0, 0.0, 0.0, 0.0, 0.0, 0.0, 0.0, 0.0, 0.0, 0.0, 2.4853892054118987, 0.0, 0.0, 0.0, 0.0, 0.0, 0.0, 0.0, 0.0, 0.0, 0.0, 0.0, 0.0, 3.029986567136073, ...)</td>\n",
       "    </tr>\n",
       "    <tr>\n",
       "      <th>1</th>\n",
       "      <td>1</td>\n",
       "      <td>Two short hops ZRH-LJU and LJU-VIE. Very fast on CRJ 90. Seats comfortable and crew was fine. Ground services good and lounge was quite nice.</td>\n",
       "      <td>[two, short, hops, zrh-lju, and, lju-vie., very, fast, on, crj, 90., seats, comfortable, and, crew, was, fine., ground, services, good, and, lounge, was, quite, nice.]</td>\n",
       "      <td>[two, short, hops, zrh-lju, lju-vie., fast, crj, 90., seats, comfortable, crew, fine., ground, services, good, lounge, quite, nice.]</td>\n",
       "      <td>(0.0, 0.0, 0.0, 0.0, 0.0, 0.0, 0.0, 0.0, 0.0, 0.0, 0.0, 0.0, 0.0, 0.0, 0.0, 0.0, 0.0, 0.0, 0.0, 0.0, 0.0, 0.0, 0.0, 0.0, 0.0, 0.0, 0.0, 0.0, 0.0, 0.0, 0.0, 0.0, 0.0, 0.0, 0.0, 0.0, 0.0, 0.0, 0.0, 0.0, 0.0, 0.0, 0.0, 0.0, 0.0, 0.0, 0.0, 0.0, 0.0, 1.0, 0.0, 0.0, 0.0, 0.0, 0.0, 0.0, 1.0, 0.0, 0.0, 0.0, 0.0, 0.0, 0.0, 0.0, 0.0, 0.0, 0.0, 0.0, 0.0, 0.0, 0.0, 0.0, 0.0, 0.0, 0.0, 0.0, 0.0, 0.0, 0.0, 0.0, 0.0, 0.0, 0.0, 0.0, 0.0, 0.0, 0.0, 0.0, 0.0, 0.0, 0.0, 0.0, 0.0, 0.0, 0.0, 0.0, 0.0, 0.0, 0.0, 0.0, ...)</td>\n",
       "      <td>(0.0, 0.0, 0.0, 0.0, 0.0, 0.0, 0.0, 0.0, 0.0, 0.0, 0.0, 0.0, 0.0, 0.0, 0.0, 0.0, 0.0, 0.0, 0.0, 0.0, 0.0, 0.0, 0.0, 0.0, 0.0, 0.0, 0.0, 0.0, 0.0, 0.0, 0.0, 0.0, 0.0, 0.0, 0.0, 0.0, 0.0, 0.0, 0.0, 0.0, 0.0, 0.0, 0.0, 0.0, 0.0, 0.0, 0.0, 0.0, 0.0, 1.859932530189984, 0.0, 0.0, 0.0, 0.0, 0.0, 0.0, 2.3580308960456, 0.0, 0.0, 0.0, 0.0, 0.0, 0.0, 0.0, 0.0, 0.0, 0.0, 0.0, 0.0, 0.0, 0.0, 0.0, 0.0, 0.0, 0.0, 0.0, 0.0, 0.0, 0.0, 0.0, 0.0, 0.0, 0.0, 0.0, 0.0, 0.0, 0.0, 0.0, 0.0, 0.0, 0.0, 0.0, 0.0, 0.0, 0.0, 0.0, 0.0, 0.0, 0.0, 0.0, ...)</td>\n",
       "    </tr>\n",
       "    <tr>\n",
       "      <th>2</th>\n",
       "      <td>2</td>\n",
       "      <td>Flew Zurich-Ljubljana on JP365 newish CRJ900. Flight almost full departure on time. Service on board by 2 pleasant and friendly female flight attendants. I bought coffee mineral water and a very nice and fresh filled croissant for EUR 6. Good value!</td>\n",
       "      <td>[flew, zurich-ljubljana, on, jp365, newish, crj900., flight, almost, full, departure, on, time., service, on, board, by, 2, pleasant, and, friendly, female, flight, attendants., i, bought, coffee, mineral, water, and, a, very, nice, and, fresh, filled, croissant, for, eur, 6., good, value!]</td>\n",
       "      <td>[flew, zurich-ljubljana, jp365, newish, crj900., flight, almost, full, departure, time., service, board, 2, pleasant, friendly, female, flight, attendants., bought, coffee, mineral, water, nice, fresh, filled, croissant, eur, 6., good, value!]</td>\n",
       "      <td>(0.0, 0.0, 0.0, 0.0, 0.0, 0.0, 0.0, 0.0, 0.0, 0.0, 1.0, 0.0, 0.0, 0.0, 0.0, 0.0, 0.0, 0.0, 0.0, 0.0, 0.0, 0.0, 0.0, 0.0, 0.0, 0.0, 0.0, 0.0, 0.0, 2.0, 0.0, 0.0, 0.0, 0.0, 0.0, 0.0, 0.0, 0.0, 0.0, 0.0, 0.0, 0.0, 0.0, 0.0, 0.0, 0.0, 0.0, 0.0, 0.0, 0.0, 0.0, 0.0, 0.0, 0.0, 0.0, 0.0, 0.0, 0.0, 0.0, 0.0, 0.0, 0.0, 0.0, 0.0, 0.0, 0.0, 0.0, 0.0, 1.0, 0.0, 0.0, 0.0, 0.0, 0.0, 1.0, 0.0, 0.0, 0.0, 0.0, 0.0, 0.0, 0.0, 0.0, 0.0, 0.0, 0.0, 1.0, 0.0, 0.0, 0.0, 0.0, 0.0, 0.0, 0.0, 0.0, 0.0, 0.0, 0.0, 0.0, 0.0, ...)</td>\n",
       "      <td>(0.0, 0.0, 0.0, 0.0, 0.0, 0.0, 0.0, 0.0, 0.0, 0.0, 1.9885620604522878, 0.0, 0.0, 0.0, 0.0, 0.0, 0.0, 0.0, 0.0, 0.0, 0.0, 0.0, 0.0, 0.0, 0.0, 0.0, 0.0, 0.0, 0.0, 0.8188579106491499, 0.0, 0.0, 0.0, 0.0, 0.0, 0.0, 0.0, 0.0, 0.0, 0.0, 0.0, 0.0, 0.0, 0.0, 0.0, 0.0, 0.0, 0.0, 0.0, 0.0, 0.0, 0.0, 0.0, 0.0, 0.0, 0.0, 0.0, 0.0, 0.0, 0.0, 0.0, 0.0, 0.0, 0.0, 0.0, 0.0, 0.0, 0.0, 3.3910216194795733, 0.0, 0.0, 0.0, 0.0, 0.0, 3.36975930182765, 0.0, 0.0, 0.0, 0.0, 0.0, 0.0, 0.0, 0.0, 0.0, 0.0, 0.0, 2.4853892054118987, 0.0, 0.0, 0.0, 0.0, 0.0, 0.0, 0.0, 0.0, 0.0, 0.0, 0.0, 0.0, 0.0, ...)</td>\n",
       "    </tr>\n",
       "    <tr>\n",
       "      <th>3</th>\n",
       "      <td>3</td>\n",
       "      <td>Adria serves this 100 min flight from Ljubljana to Amsterdam on a brand new CRJ900 Next Gen which has a hugely improved cabin. Much more spacious higher ceiling and with big windows. The seats seem to be more comfortable and have more legroom. The business class is not separated from the main cabin though not even with the standard back seat curtain. The food offering could be slightly improved for usually I've had good meals on Adria.</td>\n",
       "      <td>[adria, serves, this, 100, min, flight, from, ljubljana, to, amsterdam, on, a, brand, new, crj900, next, gen, which, has, a, hugely, improved, cabin., much, more, spacious, higher, ceiling, and, with, big, windows., the, seats, seem, to, be, more, comfortable, and, have, more, legroom., the, business, class, is, not, separated, from, the, main, cabin, though, not, even, with, the, standard, back, seat, curtain., the, food, offering, could, be, slightly, improved, for, usually, i've, had, good, meals, on, adria.]</td>\n",
       "      <td>[adria, serves, 100, min, flight, ljubljana, amsterdam, brand, new, crj900, next, gen, hugely, improved, cabin., much, spacious, higher, ceiling, big, windows., seats, seem, comfortable, legroom., business, class, separated, main, cabin, though, even, standard, back, seat, curtain., food, offering, slightly, improved, usually, good, meals, adria.]</td>\n",
       "      <td>(0.0, 1.0, 0.0, 0.0, 0.0, 0.0, 0.0, 1.0, 0.0, 0.0, 0.0, 0.0, 0.0, 0.0, 0.0, 0.0, 0.0, 0.0, 0.0, 0.0, 0.0, 0.0, 0.0, 0.0, 0.0, 0.0, 0.0, 0.0, 0.0, 1.0, 0.0, 0.0, 0.0, 0.0, 0.0, 0.0, 0.0, 0.0, 0.0, 0.0, 0.0, 0.0, 0.0, 0.0, 0.0, 0.0, 0.0, 1.0, 1.0, 1.0, 0.0, 0.0, 0.0, 0.0, 0.0, 0.0, 0.0, 0.0, 0.0, 0.0, 0.0, 0.0, 0.0, 0.0, 0.0, 0.0, 0.0, 0.0, 0.0, 0.0, 0.0, 0.0, 0.0, 0.0, 0.0, 0.0, 0.0, 0.0, 0.0, 0.0, 0.0, 0.0, 0.0, 0.0, 0.0, 0.0, 0.0, 0.0, 0.0, 0.0, 0.0, 0.0, 0.0, 0.0, 0.0, 0.0, 0.0, 0.0, 0.0, 0.0, ...)</td>\n",
       "      <td>(0.0, 3.032485943593392, 0.0, 0.0, 0.0, 0.0, 0.0, 1.6026106346048, 0.0, 0.0, 0.0, 0.0, 0.0, 0.0, 0.0, 0.0, 0.0, 0.0, 0.0, 0.0, 0.0, 0.0, 0.0, 0.0, 0.0, 0.0, 0.0, 0.0, 0.0, 0.40942895532457496, 0.0, 0.0, 0.0, 0.0, 0.0, 0.0, 0.0, 0.0, 0.0, 0.0, 0.0, 0.0, 0.0, 0.0, 0.0, 0.0, 0.0, 1.3891931939547615, 2.9280267348915787, 1.859932530189984, 0.0, 0.0, 0.0, 0.0, 0.0, 0.0, 0.0, 0.0, 0.0, 0.0, 0.0, 0.0, 0.0, 0.0, 0.0, 0.0, 0.0, 0.0, 0.0, 0.0, 0.0, 0.0, 0.0, 0.0, 0.0, 0.0, 0.0, 0.0, 0.0, 0.0, 0.0, 0.0, 0.0, 0.0, 0.0, 0.0, 0.0, 0.0, 0.0, 0.0, 0.0, 0.0, 0.0, 0.0, 0.0, 0.0, 0.0, 0.0, 0.0, 0.0, ...)</td>\n",
       "    </tr>\n",
       "    <tr>\n",
       "      <th>4</th>\n",
       "      <td>4</td>\n",
       "      <td>\"WAW-SKJ Economy. No free snacks or drinks on this Star Alliance partner. Just full legacy carrier fares for basically a budget airline. Flying out of Poland had no Euros or USD on me. I was thirsty and asked to purchase a bottle of water. The stewardess said that I could not buy it and could not use a credit card or purchase it in cash without their preferred currency. When I pointed out that they were able to sell duty free with visa cards she huffed and puffed and basically said it would be \"\"difficult\"\". She never offered me a tiny cup of water. On the way back I switched to Turkish Airlines via IST and got a free 3 course meal on both segments and friendly service.\"</td>\n",
       "      <td>[\"waw-skj, economy., no, free, snacks, or, drinks, on, this, star, alliance, partner., just, full, legacy, carrier, fares, for, basically, a, budget, airline., flying, out, of, poland, had, no, euros, or, usd, on, me., i, was, thirsty, and, asked, to, purchase, a, bottle, of, water., the, stewardess, said, that, i, could, not, buy, it, and, could, not, use, a, credit, card, or, purchase, it, in, cash, without, their, preferred, currency., when, i, pointed, out, that, they, were, able, to, sell, duty, free, with, visa, cards, she, huffed, and, puffed, and, basically, said, it, would, be, \"\"difficult\"\"., she, never, offered, me, a, ...]</td>\n",
       "      <td>[\"waw-skj, economy., free, snacks, drinks, star, alliance, partner., full, legacy, carrier, fares, basically, budget, airline., flying, poland, euros, usd, me., thirsty, asked, purchase, bottle, water., stewardess, said, buy, use, credit, card, purchase, cash, without, preferred, currency., pointed, able, sell, duty, free, visa, cards, huffed, puffed, basically, said, \"\"difficult\"\"., never, offered, tiny, cup, water., way, back, switched, turkish, airlines, via, ist, got, free, 3, course, meal, segments, friendly, service.\"]</td>\n",
       "      <td>(0.0, 0.0, 0.0, 0.0, 0.0, 0.0, 0.0, 1.0, 0.0, 0.0, 1.0, 0.0, 0.0, 0.0, 0.0, 0.0, 0.0, 0.0, 0.0, 0.0, 0.0, 0.0, 0.0, 1.0, 0.0, 0.0, 0.0, 0.0, 0.0, 0.0, 0.0, 0.0, 0.0, 0.0, 0.0, 0.0, 0.0, 0.0, 0.0, 0.0, 1.0, 0.0, 0.0, 1.0, 0.0, 0.0, 0.0, 0.0, 0.0, 0.0, 0.0, 0.0, 0.0, 0.0, 0.0, 0.0, 0.0, 0.0, 0.0, 1.0, 0.0, 0.0, 0.0, 0.0, 0.0, 0.0, 0.0, 0.0, 0.0, 0.0, 0.0, 0.0, 0.0, 3.0, 0.0, 0.0, 0.0, 0.0, 0.0, 0.0, 1.0, 0.0, 0.0, 0.0, 0.0, 0.0, 0.0, 0.0, 0.0, 0.0, 0.0, 0.0, 0.0, 0.0, 0.0, 0.0, 0.0, 0.0, 0.0, 0.0, ...)</td>\n",
       "      <td>(0.0, 0.0, 0.0, 0.0, 0.0, 0.0, 0.0, 1.6026106346048, 0.0, 0.0, 1.9885620604522878, 0.0, 0.0, 0.0, 0.0, 0.0, 0.0, 0.0, 0.0, 0.0, 0.0, 0.0, 0.0, 2.685062875785428, 0.0, 0.0, 0.0, 0.0, 0.0, 0.0, 0.0, 0.0, 0.0, 0.0, 0.0, 0.0, 0.0, 0.0, 0.0, 0.0, 3.3676577248720236, 0.0, 0.0, 2.238719197671151, 0.0, 0.0, 0.0, 0.0, 0.0, 0.0, 0.0, 0.0, 0.0, 0.0, 0.0, 0.0, 0.0, 0.0, 0.0, 2.890420002981206, 0.0, 0.0, 0.0, 0.0, 0.0, 0.0, 0.0, 0.0, 0.0, 0.0, 0.0, 0.0, 0.0, 5.98743886309672, 0.0, 0.0, 0.0, 0.0, 0.0, 0.0, 3.26467933042752, 0.0, 0.0, 0.0, 0.0, 0.0, 0.0, 0.0, 0.0, 0.0, 0.0, 0.0, 0.0, 0.0, 0.0, 0.0, 0.0, 0.0, 0.0, 0.0, ...)</td>\n",
       "    </tr>\n",
       "  </tbody>\n",
       "</table>\n",
       "</div>"
      ],
      "text/plain": [
       "   uid                                                                                                                                                                                                                                                                                                                                                                                                                                                                                                                                                                                                                                                                                                  content                                                                                                                                                                                                                                                                                                                                                                                                                                                                                                                                                                                                                                                              tokens                                                                                                                                                                                                                                                                                                                                                                                                                                                                                                                                               words                                                                                                                                                                                                                                                                                                                                                                                                                                                                                                                rawFeatures                                                                                                                                                                                                                                                                                                                                                                                                                                                                                                                                                                                                                                 features\n",
       "0    0                                                                                                                                                                                                                                                                 Outbound flight FRA/PRN A319. 2 hours 10 min flight. I thought drinks/snacks for sale but sandwich soft drinks were served complimentary. Inbound flights SKP/LJU/FRA CRJ900. each 1 hour 30 min flight. Skyshop menu was in a seat pocket and drinks/snacks were for sale. All flight crews were friendly. Security check at the Ljubljana airport for transit passengers was chaos however it's possible to go to a gate within 30min.                                                                                                                                                      [outbound, flight, fra/prn, a319., 2, hours, 10, min, flight., i, thought, drinks/snacks, for, sale, but, sandwich, soft, drinks, were, served, complimentary., inbound, flights, skp/lju/fra, crj900., each, 1, hour, 30, min, flight., skyshop, menu, was, in, a, seat, pocket, and, drinks/snacks, were, for, sale., all, flight, crews, were, friendly., security, check, at, the, ljubljana, airport, for, transit, passengers, was, chaos, however, it's, possible, to, go, to, a, gate, within, 30min.]                                                                                                                                          [outbound, flight, fra/prn, a319., 2, hours, 10, min, flight., thought, drinks/snacks, sale, sandwich, soft, drinks, served, complimentary., inbound, flights, skp/lju/fra, crj900., 1, hour, 30, min, flight., skyshop, menu, seat, pocket, drinks/snacks, sale., flight, crews, friendly., security, check, ljubljana, airport, transit, passengers, chaos, however, possible, go, gate, within, 30min.]  (0.0, 0.0, 0.0, 0.0, 0.0, 0.0, 0.0, 0.0, 0.0, 0.0, 0.0, 0.0, 0.0, 0.0, 0.0, 0.0, 0.0, 0.0, 0.0, 0.0, 0.0, 0.0, 0.0, 0.0, 0.0, 0.0, 0.0, 0.0, 0.0, 2.0, 0.0, 0.0, 0.0, 0.0, 0.0, 0.0, 0.0, 0.0, 0.0, 0.0, 0.0, 0.0, 0.0, 0.0, 0.0, 0.0, 0.0, 1.0, 0.0, 0.0, 0.0, 0.0, 0.0, 0.0, 0.0, 1.0, 0.0, 0.0, 0.0, 0.0, 0.0, 1.0, 0.0, 0.0, 0.0, 0.0, 0.0, 0.0, 0.0, 0.0, 0.0, 0.0, 0.0, 0.0, 0.0, 0.0, 0.0, 0.0, 0.0, 0.0, 0.0, 0.0, 0.0, 0.0, 0.0, 0.0, 1.0, 0.0, 0.0, 0.0, 0.0, 0.0, 0.0, 0.0, 0.0, 0.0, 0.0, 0.0, 0.0, 1.0, ...)                       (0.0, 0.0, 0.0, 0.0, 0.0, 0.0, 0.0, 0.0, 0.0, 0.0, 0.0, 0.0, 0.0, 0.0, 0.0, 0.0, 0.0, 0.0, 0.0, 0.0, 0.0, 0.0, 0.0, 0.0, 0.0, 0.0, 0.0, 0.0, 0.0, 0.8188579106491499, 0.0, 0.0, 0.0, 0.0, 0.0, 0.0, 0.0, 0.0, 0.0, 0.0, 0.0, 0.0, 0.0, 0.0, 0.0, 0.0, 0.0, 1.3891931939547615, 0.0, 0.0, 0.0, 0.0, 0.0, 0.0, 0.0, 2.8059447673458777, 0.0, 0.0, 0.0, 0.0, 0.0, 1.8812299214398607, 0.0, 0.0, 0.0, 0.0, 0.0, 0.0, 0.0, 0.0, 0.0, 0.0, 0.0, 0.0, 0.0, 0.0, 0.0, 0.0, 0.0, 0.0, 0.0, 0.0, 0.0, 0.0, 0.0, 0.0, 2.4853892054118987, 0.0, 0.0, 0.0, 0.0, 0.0, 0.0, 0.0, 0.0, 0.0, 0.0, 0.0, 0.0, 3.029986567136073, ...)\n",
       "1    1                                                                                                                                                                                                                                                                                                                                                                                                                                                                                                                                                            Two short hops ZRH-LJU and LJU-VIE. Very fast on CRJ 90. Seats comfortable and crew was fine. Ground services good and lounge was quite nice.                                                                                                                                                                                                                                                                                                                                                                                                                                                                                             [two, short, hops, zrh-lju, and, lju-vie., very, fast, on, crj, 90., seats, comfortable, and, crew, was, fine., ground, services, good, and, lounge, was, quite, nice.]                                                                                                                                                                                                                                                                                                                                                                                                                [two, short, hops, zrh-lju, lju-vie., fast, crj, 90., seats, comfortable, crew, fine., ground, services, good, lounge, quite, nice.]  (0.0, 0.0, 0.0, 0.0, 0.0, 0.0, 0.0, 0.0, 0.0, 0.0, 0.0, 0.0, 0.0, 0.0, 0.0, 0.0, 0.0, 0.0, 0.0, 0.0, 0.0, 0.0, 0.0, 0.0, 0.0, 0.0, 0.0, 0.0, 0.0, 0.0, 0.0, 0.0, 0.0, 0.0, 0.0, 0.0, 0.0, 0.0, 0.0, 0.0, 0.0, 0.0, 0.0, 0.0, 0.0, 0.0, 0.0, 0.0, 0.0, 1.0, 0.0, 0.0, 0.0, 0.0, 0.0, 0.0, 1.0, 0.0, 0.0, 0.0, 0.0, 0.0, 0.0, 0.0, 0.0, 0.0, 0.0, 0.0, 0.0, 0.0, 0.0, 0.0, 0.0, 0.0, 0.0, 0.0, 0.0, 0.0, 0.0, 0.0, 0.0, 0.0, 0.0, 0.0, 0.0, 0.0, 0.0, 0.0, 0.0, 0.0, 0.0, 0.0, 0.0, 0.0, 0.0, 0.0, 0.0, 0.0, 0.0, 0.0, ...)                                                                                      (0.0, 0.0, 0.0, 0.0, 0.0, 0.0, 0.0, 0.0, 0.0, 0.0, 0.0, 0.0, 0.0, 0.0, 0.0, 0.0, 0.0, 0.0, 0.0, 0.0, 0.0, 0.0, 0.0, 0.0, 0.0, 0.0, 0.0, 0.0, 0.0, 0.0, 0.0, 0.0, 0.0, 0.0, 0.0, 0.0, 0.0, 0.0, 0.0, 0.0, 0.0, 0.0, 0.0, 0.0, 0.0, 0.0, 0.0, 0.0, 0.0, 1.859932530189984, 0.0, 0.0, 0.0, 0.0, 0.0, 0.0, 2.3580308960456, 0.0, 0.0, 0.0, 0.0, 0.0, 0.0, 0.0, 0.0, 0.0, 0.0, 0.0, 0.0, 0.0, 0.0, 0.0, 0.0, 0.0, 0.0, 0.0, 0.0, 0.0, 0.0, 0.0, 0.0, 0.0, 0.0, 0.0, 0.0, 0.0, 0.0, 0.0, 0.0, 0.0, 0.0, 0.0, 0.0, 0.0, 0.0, 0.0, 0.0, 0.0, 0.0, 0.0, ...)\n",
       "2    2                                                                                                                                                                                                                                                                                                                                                                                                                                                Flew Zurich-Ljubljana on JP365 newish CRJ900. Flight almost full departure on time. Service on board by 2 pleasant and friendly female flight attendants. I bought coffee mineral water and a very nice and fresh filled croissant for EUR 6. Good value!                                                                                                                                                                                                                                                                                                                                                                 [flew, zurich-ljubljana, on, jp365, newish, crj900., flight, almost, full, departure, on, time., service, on, board, by, 2, pleasant, and, friendly, female, flight, attendants., i, bought, coffee, mineral, water, and, a, very, nice, and, fresh, filled, croissant, for, eur, 6., good, value!]                                                                                                                                                                                                                                                                                                 [flew, zurich-ljubljana, jp365, newish, crj900., flight, almost, full, departure, time., service, board, 2, pleasant, friendly, female, flight, attendants., bought, coffee, mineral, water, nice, fresh, filled, croissant, eur, 6., good, value!]  (0.0, 0.0, 0.0, 0.0, 0.0, 0.0, 0.0, 0.0, 0.0, 0.0, 1.0, 0.0, 0.0, 0.0, 0.0, 0.0, 0.0, 0.0, 0.0, 0.0, 0.0, 0.0, 0.0, 0.0, 0.0, 0.0, 0.0, 0.0, 0.0, 2.0, 0.0, 0.0, 0.0, 0.0, 0.0, 0.0, 0.0, 0.0, 0.0, 0.0, 0.0, 0.0, 0.0, 0.0, 0.0, 0.0, 0.0, 0.0, 0.0, 0.0, 0.0, 0.0, 0.0, 0.0, 0.0, 0.0, 0.0, 0.0, 0.0, 0.0, 0.0, 0.0, 0.0, 0.0, 0.0, 0.0, 0.0, 0.0, 1.0, 0.0, 0.0, 0.0, 0.0, 0.0, 1.0, 0.0, 0.0, 0.0, 0.0, 0.0, 0.0, 0.0, 0.0, 0.0, 0.0, 0.0, 1.0, 0.0, 0.0, 0.0, 0.0, 0.0, 0.0, 0.0, 0.0, 0.0, 0.0, 0.0, 0.0, 0.0, ...)                                       (0.0, 0.0, 0.0, 0.0, 0.0, 0.0, 0.0, 0.0, 0.0, 0.0, 1.9885620604522878, 0.0, 0.0, 0.0, 0.0, 0.0, 0.0, 0.0, 0.0, 0.0, 0.0, 0.0, 0.0, 0.0, 0.0, 0.0, 0.0, 0.0, 0.0, 0.8188579106491499, 0.0, 0.0, 0.0, 0.0, 0.0, 0.0, 0.0, 0.0, 0.0, 0.0, 0.0, 0.0, 0.0, 0.0, 0.0, 0.0, 0.0, 0.0, 0.0, 0.0, 0.0, 0.0, 0.0, 0.0, 0.0, 0.0, 0.0, 0.0, 0.0, 0.0, 0.0, 0.0, 0.0, 0.0, 0.0, 0.0, 0.0, 0.0, 3.3910216194795733, 0.0, 0.0, 0.0, 0.0, 0.0, 3.36975930182765, 0.0, 0.0, 0.0, 0.0, 0.0, 0.0, 0.0, 0.0, 0.0, 0.0, 0.0, 2.4853892054118987, 0.0, 0.0, 0.0, 0.0, 0.0, 0.0, 0.0, 0.0, 0.0, 0.0, 0.0, 0.0, 0.0, ...)\n",
       "3    3                                                                                                                                                                                                                                                  Adria serves this 100 min flight from Ljubljana to Amsterdam on a brand new CRJ900 Next Gen which has a hugely improved cabin. Much more spacious higher ceiling and with big windows. The seats seem to be more comfortable and have more legroom. The business class is not separated from the main cabin though not even with the standard back seat curtain. The food offering could be slightly improved for usually I've had good meals on Adria.                                                                                                                               [adria, serves, this, 100, min, flight, from, ljubljana, to, amsterdam, on, a, brand, new, crj900, next, gen, which, has, a, hugely, improved, cabin., much, more, spacious, higher, ceiling, and, with, big, windows., the, seats, seem, to, be, more, comfortable, and, have, more, legroom., the, business, class, is, not, separated, from, the, main, cabin, though, not, even, with, the, standard, back, seat, curtain., the, food, offering, could, be, slightly, improved, for, usually, i've, had, good, meals, on, adria.]                                                                                                                                                                                       [adria, serves, 100, min, flight, ljubljana, amsterdam, brand, new, crj900, next, gen, hugely, improved, cabin., much, spacious, higher, ceiling, big, windows., seats, seem, comfortable, legroom., business, class, separated, main, cabin, though, even, standard, back, seat, curtain., food, offering, slightly, improved, usually, good, meals, adria.]  (0.0, 1.0, 0.0, 0.0, 0.0, 0.0, 0.0, 1.0, 0.0, 0.0, 0.0, 0.0, 0.0, 0.0, 0.0, 0.0, 0.0, 0.0, 0.0, 0.0, 0.0, 0.0, 0.0, 0.0, 0.0, 0.0, 0.0, 0.0, 0.0, 1.0, 0.0, 0.0, 0.0, 0.0, 0.0, 0.0, 0.0, 0.0, 0.0, 0.0, 0.0, 0.0, 0.0, 0.0, 0.0, 0.0, 0.0, 1.0, 1.0, 1.0, 0.0, 0.0, 0.0, 0.0, 0.0, 0.0, 0.0, 0.0, 0.0, 0.0, 0.0, 0.0, 0.0, 0.0, 0.0, 0.0, 0.0, 0.0, 0.0, 0.0, 0.0, 0.0, 0.0, 0.0, 0.0, 0.0, 0.0, 0.0, 0.0, 0.0, 0.0, 0.0, 0.0, 0.0, 0.0, 0.0, 0.0, 0.0, 0.0, 0.0, 0.0, 0.0, 0.0, 0.0, 0.0, 0.0, 0.0, 0.0, 0.0, 0.0, ...)                          (0.0, 3.032485943593392, 0.0, 0.0, 0.0, 0.0, 0.0, 1.6026106346048, 0.0, 0.0, 0.0, 0.0, 0.0, 0.0, 0.0, 0.0, 0.0, 0.0, 0.0, 0.0, 0.0, 0.0, 0.0, 0.0, 0.0, 0.0, 0.0, 0.0, 0.0, 0.40942895532457496, 0.0, 0.0, 0.0, 0.0, 0.0, 0.0, 0.0, 0.0, 0.0, 0.0, 0.0, 0.0, 0.0, 0.0, 0.0, 0.0, 0.0, 1.3891931939547615, 2.9280267348915787, 1.859932530189984, 0.0, 0.0, 0.0, 0.0, 0.0, 0.0, 0.0, 0.0, 0.0, 0.0, 0.0, 0.0, 0.0, 0.0, 0.0, 0.0, 0.0, 0.0, 0.0, 0.0, 0.0, 0.0, 0.0, 0.0, 0.0, 0.0, 0.0, 0.0, 0.0, 0.0, 0.0, 0.0, 0.0, 0.0, 0.0, 0.0, 0.0, 0.0, 0.0, 0.0, 0.0, 0.0, 0.0, 0.0, 0.0, 0.0, 0.0, 0.0, 0.0, 0.0, ...)\n",
       "4    4  \"WAW-SKJ Economy. No free snacks or drinks on this Star Alliance partner. Just full legacy carrier fares for basically a budget airline. Flying out of Poland had no Euros or USD on me. I was thirsty and asked to purchase a bottle of water. The stewardess said that I could not buy it and could not use a credit card or purchase it in cash without their preferred currency. When I pointed out that they were able to sell duty free with visa cards she huffed and puffed and basically said it would be \"\"difficult\"\". She never offered me a tiny cup of water. On the way back I switched to Turkish Airlines via IST and got a free 3 course meal on both segments and friendly service.\"  [\"waw-skj, economy., no, free, snacks, or, drinks, on, this, star, alliance, partner., just, full, legacy, carrier, fares, for, basically, a, budget, airline., flying, out, of, poland, had, no, euros, or, usd, on, me., i, was, thirsty, and, asked, to, purchase, a, bottle, of, water., the, stewardess, said, that, i, could, not, buy, it, and, could, not, use, a, credit, card, or, purchase, it, in, cash, without, their, preferred, currency., when, i, pointed, out, that, they, were, able, to, sell, duty, free, with, visa, cards, she, huffed, and, puffed, and, basically, said, it, would, be, \"\"difficult\"\"., she, never, offered, me, a, ...]  [\"waw-skj, economy., free, snacks, drinks, star, alliance, partner., full, legacy, carrier, fares, basically, budget, airline., flying, poland, euros, usd, me., thirsty, asked, purchase, bottle, water., stewardess, said, buy, use, credit, card, purchase, cash, without, preferred, currency., pointed, able, sell, duty, free, visa, cards, huffed, puffed, basically, said, \"\"difficult\"\"., never, offered, tiny, cup, water., way, back, switched, turkish, airlines, via, ist, got, free, 3, course, meal, segments, friendly, service.\"]  (0.0, 0.0, 0.0, 0.0, 0.0, 0.0, 0.0, 1.0, 0.0, 0.0, 1.0, 0.0, 0.0, 0.0, 0.0, 0.0, 0.0, 0.0, 0.0, 0.0, 0.0, 0.0, 0.0, 1.0, 0.0, 0.0, 0.0, 0.0, 0.0, 0.0, 0.0, 0.0, 0.0, 0.0, 0.0, 0.0, 0.0, 0.0, 0.0, 0.0, 1.0, 0.0, 0.0, 1.0, 0.0, 0.0, 0.0, 0.0, 0.0, 0.0, 0.0, 0.0, 0.0, 0.0, 0.0, 0.0, 0.0, 0.0, 0.0, 1.0, 0.0, 0.0, 0.0, 0.0, 0.0, 0.0, 0.0, 0.0, 0.0, 0.0, 0.0, 0.0, 0.0, 3.0, 0.0, 0.0, 0.0, 0.0, 0.0, 0.0, 1.0, 0.0, 0.0, 0.0, 0.0, 0.0, 0.0, 0.0, 0.0, 0.0, 0.0, 0.0, 0.0, 0.0, 0.0, 0.0, 0.0, 0.0, 0.0, 0.0, ...)  (0.0, 0.0, 0.0, 0.0, 0.0, 0.0, 0.0, 1.6026106346048, 0.0, 0.0, 1.9885620604522878, 0.0, 0.0, 0.0, 0.0, 0.0, 0.0, 0.0, 0.0, 0.0, 0.0, 0.0, 0.0, 2.685062875785428, 0.0, 0.0, 0.0, 0.0, 0.0, 0.0, 0.0, 0.0, 0.0, 0.0, 0.0, 0.0, 0.0, 0.0, 0.0, 0.0, 3.3676577248720236, 0.0, 0.0, 2.238719197671151, 0.0, 0.0, 0.0, 0.0, 0.0, 0.0, 0.0, 0.0, 0.0, 0.0, 0.0, 0.0, 0.0, 0.0, 0.0, 2.890420002981206, 0.0, 0.0, 0.0, 0.0, 0.0, 0.0, 0.0, 0.0, 0.0, 0.0, 0.0, 0.0, 0.0, 5.98743886309672, 0.0, 0.0, 0.0, 0.0, 0.0, 0.0, 3.26467933042752, 0.0, 0.0, 0.0, 0.0, 0.0, 0.0, 0.0, 0.0, 0.0, 0.0, 0.0, 0.0, 0.0, 0.0, 0.0, 0.0, 0.0, 0.0, 0.0, ...)"
      ]
     },
     "execution_count": 18,
     "metadata": {},
     "output_type": "execute_result"
    }
   ],
   "source": [
    "feat_reviews.limit(5).toPandas()"
   ]
  },
  {
   "cell_type": "code",
   "execution_count": 19,
   "id": "b432dfc4",
   "metadata": {
    "slideshow": {
     "slide_type": "slide"
    }
   },
   "outputs": [
    {
     "name": "stderr",
     "output_type": "stream",
     "text": [
      "                                                                                \r"
     ]
    },
    {
     "name": "stdout",
     "output_type": "stream",
     "text": [
      "23/01/11 09:36:26 WARN InstanceBuilder$NativeBLAS: Failed to load implementation from:dev.ludovic.netlib.blas.JNIBLAS\n",
      "23/01/11 09:36:26 WARN InstanceBuilder$NativeBLAS: Failed to load implementation from:dev.ludovic.netlib.blas.ForeignLinkerBLAS\n",
      "23/01/11 09:36:26 WARN InstanceBuilder$JavaBLAS: Failed to load implementation from:dev.ludovic.netlib.blas.VectorBLAS\n"
     ]
    },
    {
     "name": "stderr",
     "output_type": "stream",
     "text": [
      "                                                                                \r"
     ]
    }
   ],
   "source": [
    "from pyspark.ml.clustering import KMeans\n",
    "# KMeans Clustering \n",
    "numIterations = 200 \n",
    "numberClusters = 10\n",
    "kmeans = KMeans().setMaxIter(numIterations).setK(numberClusters).setSeed(1).setDistanceMeasure('cosine') \n",
    "kmeans_model = kmeans.fit(feat_reviews)\n",
    "predictions = kmeans_model.transform(feat_reviews)"
   ]
  },
  {
   "cell_type": "code",
   "execution_count": 20,
   "id": "79c6f580",
   "metadata": {
    "slideshow": {
     "slide_type": "slide"
    }
   },
   "outputs": [
    {
     "data": {
      "text/html": [
       "<div>\n",
       "<style scoped>\n",
       "    .dataframe tbody tr th:only-of-type {\n",
       "        vertical-align: middle;\n",
       "    }\n",
       "\n",
       "    .dataframe tbody tr th {\n",
       "        vertical-align: top;\n",
       "    }\n",
       "\n",
       "    .dataframe thead th {\n",
       "        text-align: right;\n",
       "    }\n",
       "</style>\n",
       "<table border=\"1\" class=\"dataframe\">\n",
       "  <thead>\n",
       "    <tr style=\"text-align: right;\">\n",
       "      <th></th>\n",
       "      <th>uid</th>\n",
       "      <th>content</th>\n",
       "      <th>prediction</th>\n",
       "    </tr>\n",
       "  </thead>\n",
       "  <tbody>\n",
       "    <tr>\n",
       "      <th>0</th>\n",
       "      <td>0</td>\n",
       "      <td>Outbound flight FRA/PRN A319. 2 hours 10 min flight. I thought drinks/snacks for sale but sandwich soft drinks were served complimentary. Inbound flights SKP/LJU/FRA CRJ900. each 1 hour 30 min flight. Skyshop menu was in a seat pocket and drinks/snacks were for sale. All flight crews were friendly. Security check at the Ljubljana airport for transit passengers was chaos however it's possible to go to a gate within 30min.</td>\n",
       "      <td>4</td>\n",
       "    </tr>\n",
       "    <tr>\n",
       "      <th>1</th>\n",
       "      <td>1</td>\n",
       "      <td>Two short hops ZRH-LJU and LJU-VIE. Very fast on CRJ 90. Seats comfortable and crew was fine. Ground services good and lounge was quite nice.</td>\n",
       "      <td>0</td>\n",
       "    </tr>\n",
       "    <tr>\n",
       "      <th>2</th>\n",
       "      <td>2</td>\n",
       "      <td>Flew Zurich-Ljubljana on JP365 newish CRJ900. Flight almost full departure on time. Service on board by 2 pleasant and friendly female flight attendants. I bought coffee mineral water and a very nice and fresh filled croissant for EUR 6. Good value!</td>\n",
       "      <td>8</td>\n",
       "    </tr>\n",
       "    <tr>\n",
       "      <th>3</th>\n",
       "      <td>3</td>\n",
       "      <td>Adria serves this 100 min flight from Ljubljana to Amsterdam on a brand new CRJ900 Next Gen which has a hugely improved cabin. Much more spacious higher ceiling and with big windows. The seats seem to be more comfortable and have more legroom. The business class is not separated from the main cabin though not even with the standard back seat curtain. The food offering could be slightly improved for usually I've had good meals on Adria.</td>\n",
       "      <td>1</td>\n",
       "    </tr>\n",
       "    <tr>\n",
       "      <th>4</th>\n",
       "      <td>4</td>\n",
       "      <td>\"WAW-SKJ Economy. No free snacks or drinks on this Star Alliance partner. Just full legacy carrier fares for basically a budget airline. Flying out of Poland had no Euros or USD on me. I was thirsty and asked to purchase a bottle of water. The stewardess said that I could not buy it and could not use a credit card or purchase it in cash without their preferred currency. When I pointed out that they were able to sell duty free with visa cards she huffed and puffed and basically said it would be \"\"difficult\"\". She never offered me a tiny cup of water. On the way back I switched to Turkish Airlines via IST and got a free 3 course meal on both segments and friendly service.\"</td>\n",
       "      <td>6</td>\n",
       "    </tr>\n",
       "  </tbody>\n",
       "</table>\n",
       "</div>"
      ],
      "text/plain": [
       "   uid                                                                                                                                                                                                                                                                                                                                                                                                                                                                                                                                                                                                                                                                                                  content  prediction\n",
       "0    0                                                                                                                                                                                                                                                                 Outbound flight FRA/PRN A319. 2 hours 10 min flight. I thought drinks/snacks for sale but sandwich soft drinks were served complimentary. Inbound flights SKP/LJU/FRA CRJ900. each 1 hour 30 min flight. Skyshop menu was in a seat pocket and drinks/snacks were for sale. All flight crews were friendly. Security check at the Ljubljana airport for transit passengers was chaos however it's possible to go to a gate within 30min.           4\n",
       "1    1                                                                                                                                                                                                                                                                                                                                                                                                                                                                                                                                                            Two short hops ZRH-LJU and LJU-VIE. Very fast on CRJ 90. Seats comfortable and crew was fine. Ground services good and lounge was quite nice.           0\n",
       "2    2                                                                                                                                                                                                                                                                                                                                                                                                                                                Flew Zurich-Ljubljana on JP365 newish CRJ900. Flight almost full departure on time. Service on board by 2 pleasant and friendly female flight attendants. I bought coffee mineral water and a very nice and fresh filled croissant for EUR 6. Good value!           8\n",
       "3    3                                                                                                                                                                                                                                                  Adria serves this 100 min flight from Ljubljana to Amsterdam on a brand new CRJ900 Next Gen which has a hugely improved cabin. Much more spacious higher ceiling and with big windows. The seats seem to be more comfortable and have more legroom. The business class is not separated from the main cabin though not even with the standard back seat curtain. The food offering could be slightly improved for usually I've had good meals on Adria.           1\n",
       "4    4  \"WAW-SKJ Economy. No free snacks or drinks on this Star Alliance partner. Just full legacy carrier fares for basically a budget airline. Flying out of Poland had no Euros or USD on me. I was thirsty and asked to purchase a bottle of water. The stewardess said that I could not buy it and could not use a credit card or purchase it in cash without their preferred currency. When I pointed out that they were able to sell duty free with visa cards she huffed and puffed and basically said it would be \"\"difficult\"\". She never offered me a tiny cup of water. On the way back I switched to Turkish Airlines via IST and got a free 3 course meal on both segments and friendly service.\"           6"
      ]
     },
     "execution_count": 20,
     "metadata": {},
     "output_type": "execute_result"
    }
   ],
   "source": [
    "predictions.select(\"uid\",\"content\",\"prediction\").limit(5).toPandas()"
   ]
  },
  {
   "cell_type": "code",
   "execution_count": 21,
   "id": "d393b5f5",
   "metadata": {
    "slideshow": {
     "slide_type": "slide"
    }
   },
   "outputs": [
    {
     "name": "stdout",
     "output_type": "stream",
     "text": [
      "Cluster Centers: \n",
      "[0.0366766  0.02980635 0.01070559 0.01142918 0.01054484 0.00819233\n",
      " 0.01841492 0.04234203 0.00816398 0.01937598 0.02914602 0.04768361\n",
      " 0.02895035 0.00894391 0.00777266 0.02736844 0.05532739 0.00501941\n",
      " 0.00810897 0.01376262 0.00965124 0.02271795 0.025272   0.02480166\n",
      " 0.01955811 0.04546625 0.0309413  0.01445304 0.01029078 0.08213748\n",
      " 0.01264817 0.0079258  0.00819915 0.0089998  0.02072495 0.01570785\n",
      " 0.00376981 0.0183604  0.04651473 0.0603773  0.01200087 0.01513388\n",
      " 0.00895167 0.03257366 0.02363325 0.03106999 0.00979068 0.07795471\n",
      " 0.02328631 0.11124731 0.00776971 0.00609116 0.00978716 0.06442971\n",
      " 0.0190353  0.02796506 0.07563057 0.01599392 0.01579891 0.01555696\n",
      " 0.00951582 0.03264403 0.00639879 0.05307527 0.01021954 0.00645733\n",
      " 0.00885578 0.00197816 0.02111734 0.04099552 0.01073074 0.01302325\n",
      " 0.04937527 0.04525357 0.02011807 0.00695405 0.01114904 0.00716629\n",
      " 0.02276005 0.09786261 0.01341492 0.02222967 0.01494736 0.05413949\n",
      " 0.01233513 0.04471682 0.03300273 0.00700684 0.02606621 0.01436309\n",
      " 0.00892393 0.00636095 0.03291152 0.01103601 0.00593185 0.00946279\n",
      " 0.02227307 0.0301041  0.01852687 0.022444   0.03800885 0.00524046\n",
      " 0.00627926 0.05514569 0.01107916 0.00863804 0.01000518 0.00896631\n",
      " 0.0227096  0.00941279 0.03427977 0.01264785 0.06363    0.0203521\n",
      " 0.02265303 0.02624679 0.04891481 0.01125309 0.02501646 0.03468073\n",
      " 0.01021332 0.02630096 0.01257002 0.09858134 0.00537584 0.03150266\n",
      " 0.01987902 0.00909879 0.03783707 0.01268623 0.02434454 0.01303484\n",
      " 0.01076447 0.04462879 0.01223437 0.01082416 0.00457877 0.01036083\n",
      " 0.00943539 0.00593052 0.01605271 0.00681353 0.03184193 0.00811273\n",
      " 0.03977959 0.02259606 0.0110747  0.0132566  0.0060552  0.0132505\n",
      " 0.00983681 0.00861806 0.08729165 0.00604291 0.01485957 0.03392169\n",
      " 0.02728142 0.09160874 0.02702721 0.01516224 0.02243444 0.01057878\n",
      " 0.01454812 0.00589814 0.00911714 0.02457285 0.0232959  0.03397506\n",
      " 0.40756533 0.03435335 0.0239898  0.01069845 0.00385046 0.03538196\n",
      " 0.01600775 0.01525884 0.00323704 0.02205695 0.01200818 0.01002689\n",
      " 0.0072529  0.03966165 0.01003266 0.01598101 0.01623183 0.11590284\n",
      " 0.01512129 0.020577   0.0517259  0.01621713 0.01460709 0.0098509\n",
      " 0.03519932 0.01690831 0.02312176 0.02181646 0.01496494 0.0397813\n",
      " 0.01466562 0.015837   0.00951278 0.00941388 0.0085476  0.02092707\n",
      " 0.00770885 0.01411621 0.0319037  0.01127856 0.00787333 0.02105663\n",
      " 0.00889455 0.01426795 0.02226056 0.00461004 0.01404228 0.01430986\n",
      " 0.01445177 0.08164583 0.0100132  0.00679177 0.00649325 0.05507221\n",
      " 0.03990381 0.01582316 0.09929457 0.00842563 0.018153   0.02523268\n",
      " 0.03506426 0.02084588 0.00920552 0.03968228 0.02404608 0.01247601\n",
      " 0.02094275 0.01570975 0.01112885 0.01613679 0.0169353  0.01965394\n",
      " 0.03673896 0.04363437 0.00848566 0.01490969 0.00934045 0.00777951\n",
      " 0.02588589 0.00648263 0.01397163 0.02025427 0.00434048 0.03416351\n",
      " 0.12729903 0.02752759 0.00758841 0.01230953 0.02393352 0.00787846\n",
      " 0.01622393 0.01127614 0.00694807 0.01015058 0.0581992  0.02957373\n",
      " 0.01119725 0.04012849 0.01743457 0.05620586 0.02324021 0.01563463\n",
      " 0.01063157 0.00844804 0.01558723 0.02174479 0.01239742 0.03847214\n",
      " 0.07636387 0.01148776 0.01444832 0.01041077 0.01526718 0.0208177\n",
      " 0.00894687 0.02162236 0.00558727 0.00996921 0.05559073 0.01725198\n",
      " 0.0268257  0.04394678 0.07624214 0.00762324 0.0505271  0.00960997\n",
      " 0.0062265  0.01055    0.01868896 0.04913857 0.00906918 0.03829343\n",
      " 0.0167183  0.02890134 0.00926613 0.01426041 0.02766826 0.03744579\n",
      " 0.03909989 0.01148299 0.00973984 0.02136352 0.01921855 0.00567456\n",
      " 0.01851364 0.01593091 0.0102897  0.02921083 0.0104421  0.01259236\n",
      " 0.00879976 0.00890997 0.00852014 0.01965997 0.00613933 0.02905728\n",
      " 0.01355479 0.03607707 0.01391995 0.00833624 0.03782183 0.0068237\n",
      " 0.04175849 0.01040671 0.02583357 0.01280522 0.04238626 0.02869345\n",
      " 0.0247087  0.02238402 0.02242793 0.0178481  0.0100265  0.02460299\n",
      " 0.0150822  0.01274518 0.03019521 0.01877193 0.01533688 0.03019559\n",
      " 0.0132582  0.01466584 0.01111721 0.01796821 0.02231848 0.01073538\n",
      " 0.01592143 0.01862684 0.01761564 0.02954988 0.02088305 0.01474441\n",
      " 0.02319417 0.02798451 0.01383525 0.00509062 0.00971248 0.02452658\n",
      " 0.02284713 0.01603453 0.00687846 0.0498569  0.09791517 0.03212818\n",
      " 0.01507642 0.01776194 0.03254778 0.01161901 0.00964912 0.01988007\n",
      " 0.00726363 0.16200117 0.01389722 0.01108575 0.0104638  0.01146261\n",
      " 0.00800118 0.05477664 0.07947541 0.02169991 0.01479567 0.0219261\n",
      " 0.01060622 0.04053228 0.01434442 0.01216095 0.01000253 0.01180822\n",
      " 0.00597429 0.00612941 0.01654894 0.00713465 0.01387309 0.01317201\n",
      " 0.01005925 0.08311205 0.10790568 0.02002144 0.03385929 0.00648107\n",
      " 0.02643705 0.02964693 0.01038157 0.03438194 0.02122817 0.02819515\n",
      " 0.00777945 0.01860556 0.01868192 0.01917821 0.01096112 0.01405984\n",
      " 0.04483413 0.01003358 0.01762463 0.01136681 0.01616975 0.00891822\n",
      " 0.03281016 0.0088664  0.02123734 0.01030128 0.04486495 0.04690207\n",
      " 0.01135754 0.09714471 0.03675806 0.00531922 0.08857483 0.04396337\n",
      " 0.01710986 0.02485338 0.04125905 0.00825245 0.01831226 0.01743902\n",
      " 0.02476911 0.02281873 0.0061534  0.03211968 0.00387272 0.01609431\n",
      " 0.00764551 0.02596176 0.01045026 0.01191024 0.02921697 0.00656767\n",
      " 0.03068497 0.02177981 0.0176109  0.00823268 0.03287614 0.00941912\n",
      " 0.00361303 0.02350429 0.00552078 0.03055889 0.01523571 0.01467183\n",
      " 0.01978635 0.00558349 0.01529062 0.00769322 0.03611126 0.04055703\n",
      " 0.01252653 0.0279759  0.01288402 0.01138205 0.01132163 0.00889516\n",
      " 0.01936075 0.01805362 0.01450603 0.00718132 0.01006532 0.00914012\n",
      " 0.03581801 0.02935228 0.01000868 0.01024491 0.07293939 0.00722309\n",
      " 0.00918421 0.03880185 0.046084   0.01706406 0.0163321  0.0314659\n",
      " 0.00976404 0.03076033 0.02815962 0.04121937 0.01480752 0.00639595\n",
      " 0.011391   0.02429224 0.06587043 0.02486658 0.01996567 0.00746692\n",
      " 0.0154612  0.05197552 0.00607836 0.00658762 0.0153642  0.01127234\n",
      " 0.00786116 0.0251269  0.01753204 0.01231595 0.02518664 0.01164293\n",
      " 0.03271046 0.01745915 0.05373502 0.02217037 0.0179255  0.03601929\n",
      " 0.0564906  0.00664421 0.00783034 0.00821531 0.00934737 0.03597305\n",
      " 0.01274053 0.05434029 0.00772244 0.02693158 0.01565545 0.0054916\n",
      " 0.01283366 0.00934521 0.03310378 0.05689573 0.03370565 0.01922134\n",
      " 0.03965285 0.03951605 0.00753599 0.00750979 0.00783274 0.00899153\n",
      " 0.02803857 0.03827293 0.01022299 0.06636835 0.00521989 0.02434299\n",
      " 0.02838434 0.00654635 0.01565071 0.01936989 0.00629105 0.00872585\n",
      " 0.01223716 0.00916614 0.02162492 0.01263783 0.00745286 0.01716127\n",
      " 0.00608224 0.00889648 0.01203238 0.01266939 0.02087974 0.02258535\n",
      " 0.067897   0.01558058 0.01204456 0.00708479 0.01019682 0.0077408\n",
      " 0.02950572 0.00305223 0.00461974 0.08375842 0.01079138 0.01373634\n",
      " 0.01347423 0.03529391 0.05021065 0.03913277 0.0118249  0.02104701\n",
      " 0.02978202 0.01576906 0.00829923 0.03748247 0.01048317 0.01287172\n",
      " 0.01019021 0.0112311  0.02458021 0.06907765 0.01109788 0.03905095\n",
      " 0.01251192 0.01304113 0.00663153 0.01428737 0.01418792 0.01752754\n",
      " 0.01741894 0.02787134 0.01916014 0.00903403 0.01558452 0.01150648\n",
      " 0.00573814 0.03936859 0.03222673 0.01153568 0.0258132  0.01284223\n",
      " 0.01459797 0.00833113 0.02013192 0.01959108 0.04445334 0.0042494\n",
      " 0.02127452 0.00833328 0.00945096 0.01976446 0.02566011 0.09242885\n",
      " 0.01075462 0.0296477  0.0077247  0.01649004 0.01071964 0.01525567\n",
      " 0.01440635 0.01282346 0.02684916 0.05493065 0.02237179 0.0070899\n",
      " 0.01631482 0.02218022 0.02142517 0.00937827 0.02086803 0.15245234\n",
      " 0.00701891 0.00679524 0.01220721 0.00915829 0.00310091 0.00674481\n",
      " 0.02601169 0.0104489  0.03455472 0.01878002 0.02057249 0.0096486\n",
      " 0.01806079 0.00732281 0.00580073 0.00975489 0.00739041 0.00587856\n",
      " 0.00582832 0.03896367 0.01464858 0.01958348 0.02717731 0.02459459\n",
      " 0.02524551 0.02424114 0.02356962 0.03123047 0.00622925 0.04654526\n",
      " 0.06355482 0.01324115 0.00849259 0.00867071 0.01635212 0.01246573\n",
      " 0.0228616  0.03484343 0.006987   0.03531752 0.01174092 0.01746179\n",
      " 0.01630626 0.0401875  0.02680634 0.04270143 0.0250244  0.0148585\n",
      " 0.01338634 0.02389558 0.01268041 0.00466334 0.02034902 0.01456269\n",
      " 0.01886186 0.08884796 0.01995161 0.01949886 0.04850617 0.01861649\n",
      " 0.01673415 0.01114615 0.02080686 0.01373277 0.02256713 0.01686968\n",
      " 0.06880552 0.00594034 0.00934991 0.02165807 0.01081904 0.02194535\n",
      " 0.02704205 0.01031338 0.02833761 0.04419371 0.01863944 0.0369562\n",
      " 0.02154607 0.01259621 0.06428515 0.01948883 0.01136262 0.01588912\n",
      " 0.04055478 0.02688152 0.01836636 0.02893799 0.02968817 0.02947182\n",
      " 0.01411073 0.02840765 0.01183814 0.0185363  0.03879736 0.00887022\n",
      " 0.02338769 0.01682565 0.00766755 0.0555519  0.01006597 0.00608922\n",
      " 0.01345752 0.02416216 0.09511105 0.00979172 0.0555384  0.00542119\n",
      " 0.0215981  0.04813286 0.08865797 0.01112295 0.01101816 0.00628538\n",
      " 0.01744037 0.0178989  0.00951768 0.0160223  0.00664614 0.02493867\n",
      " 0.00452318 0.01461094 0.01777577 0.02185736 0.02189825 0.05186184\n",
      " 0.03721813 0.02596002 0.05719392 0.01739648 0.01448252 0.01094962\n",
      " 0.0214802  0.01034952 0.00962569 0.00799587 0.02712891 0.01623282\n",
      " 0.05255378 0.00435537 0.01343689 0.00738768 0.01525289 0.02849631\n",
      " 0.04967182 0.02907803 0.00500522 0.02937881 0.0076389  0.02597301\n",
      " 0.03010597 0.0248463  0.00785054 0.01925701 0.00660698 0.03074757\n",
      " 0.01386925 0.01440658 0.01654152 0.00987079 0.01396965 0.04655448\n",
      " 0.01815524 0.01677628 0.02556928 0.03642343 0.01209505 0.01588432\n",
      " 0.00903057 0.01318807 0.01534767 0.02585501 0.02101254 0.01140876\n",
      " 0.02104461 0.00906708 0.00599399 0.01984976 0.01004383 0.02584816\n",
      " 0.04358438 0.0145947  0.04148497 0.02768878 0.01002309 0.00975835\n",
      " 0.01607812 0.00627723 0.01365701 0.00713858 0.01172876 0.01573956\n",
      " 0.01555156 0.0290164  0.00837383 0.006558   0.0068616  0.01179912\n",
      " 0.0074831  0.01564878 0.00850907 0.02258041 0.00698554 0.04231853\n",
      " 0.02861055 0.01212626 0.02120818 0.01015484 0.02645835 0.00986688\n",
      " 0.01468077 0.02252409 0.02160897 0.01836532 0.03161493 0.09288438\n",
      " 0.03617277 0.0200377  0.00284869 0.02316375 0.05412641 0.01468848\n",
      " 0.01326559 0.01961738 0.02808159 0.00435707 0.00486771 0.01701089\n",
      " 0.01158384 0.03098841 0.02445648 0.02497234 0.0173703  0.01475017\n",
      " 0.00984307 0.01840552 0.01341911 0.02706278 0.03246063 0.01708162\n",
      " 0.00552314 0.00994653 0.00614608 0.04077979 0.05268016 0.02638293\n",
      " 0.00707172 0.03151829 0.02123612 0.01435683 0.05296206 0.00571897\n",
      " 0.01445965 0.01392098 0.01635494 0.01727924 0.02201894 0.06573318\n",
      " 0.00776062 0.02464862 0.01299287 0.05460884 0.00421121 0.00410276\n",
      " 0.03575257 0.06938049 0.01239666 0.01537495 0.02038782 0.00853488\n",
      " 0.01527866 0.01795102 0.00439298 0.02367151 0.01108784 0.02873688\n",
      " 0.00529452 0.0201054  0.02462168 0.0116455  0.02445723 0.02278621\n",
      " 0.01012676 0.01360107 0.00393007 0.04337631 0.01692656 0.00953484\n",
      " 0.00816709 0.04845914 0.05466391 0.02278745 0.01946358 0.01116533\n",
      " 0.0735769  0.00919412 0.00584625 0.00443397 0.02622354 0.01898062\n",
      " 0.00821312 0.01410677 0.03491475 0.01901307 0.02454975 0.01162612\n",
      " 0.02101139 0.02255512 0.04966944 0.01376741 0.01349399 0.00835583\n",
      " 0.00879986 0.03249392 0.01324353 0.0154281  0.00862175 0.02764755\n",
      " 0.01176684 0.02426404 0.01450243 0.01457352 0.00740418 0.01548782\n",
      " 0.00922922 0.0113903  0.0148027  0.03218399 0.03255048 0.02445489\n",
      " 0.0512221  0.01328927 0.0057436  0.01442148 0.01456071 0.06211423\n",
      " 0.0127923  0.01581368 0.01045884 0.01624565 0.00391495 0.05140736\n",
      " 0.07384114 0.02213797 0.01827935 0.0078969 ]\n",
      "[0.05651021 0.02236253 0.01476421 0.01314124 0.01460066 0.00767844\n",
      " 0.01430329 0.34849963 0.0124417  0.03540436 0.02812337 0.03293739\n",
      " 0.02676804 0.0087515  0.00524993 0.03574364 0.03023865 0.00616982\n",
      " 0.00777472 0.01309301 0.01076037 0.02164015 0.02391134 0.02584009\n",
      " 0.02844033 0.03183743 0.01425817 0.01077024 0.0074538  0.0553811\n",
      " 0.01724856 0.00804802 0.0118664  0.00780234 0.02399865 0.01703972\n",
      " 0.00499977 0.02183025 0.0365769  0.04268541 0.01558778 0.01766737\n",
      " 0.01776711 0.03819074 0.02134095 0.03112344 0.01468528 0.09567571\n",
      " 0.02632086 0.08122951 0.00524257 0.0064381  0.01172435 0.04105841\n",
      " 0.03222427 0.02821877 0.04122607 0.01550508 0.01936381 0.01846401\n",
      " 0.00937811 0.03282728 0.00748218 0.02920168 0.00992468 0.01199703\n",
      " 0.00824523 0.00675861 0.01615781 0.0257589  0.01250374 0.01212746\n",
      " 0.02890497 0.03248885 0.0192018  0.00501244 0.00883095 0.01226069\n",
      " 0.01919804 0.05081741 0.01166306 0.01725154 0.02155846 0.05912127\n",
      " 0.01159985 0.04098938 0.02306253 0.00735415 0.03806681 0.02026239\n",
      " 0.01284817 0.00492132 0.02885664 0.00677589 0.00846131 0.00912747\n",
      " 0.01881703 0.02410668 0.02030453 0.01567455 0.04084973 0.00577449\n",
      " 0.0076489  0.05701732 0.01107051 0.0104165  0.0087497  0.00949685\n",
      " 0.01422644 0.00998854 0.02167721 0.01798221 0.05509732 0.02093543\n",
      " 0.02329619 0.02978282 0.04124666 0.01119368 0.03593851 0.02661677\n",
      " 0.01456058 0.01783033 0.0115957  0.10112301 0.00682839 0.02642511\n",
      " 0.02591277 0.00903245 0.03904211 0.01076092 0.02011739 0.00909789\n",
      " 0.0140596  0.04055817 0.0118552  0.00879344 0.00604523 0.01066345\n",
      " 0.00777835 0.00521241 0.01157919 0.00893063 0.02248381 0.00879111\n",
      " 0.04007097 0.01730243 0.01737478 0.00984875 0.00990073 0.01753603\n",
      " 0.014558   0.00750962 0.09197999 0.0092653  0.04711297 0.0232279\n",
      " 0.02473481 0.05877513 0.02605843 0.02336944 0.02466324 0.01570328\n",
      " 0.01344461 0.00986197 0.0113473  0.01845446 0.02449805 0.01842013\n",
      " 0.09567563 0.04109482 0.04346398 0.01251346 0.00693641 0.02635662\n",
      " 0.0170539  0.01686743 0.00854795 0.02184129 0.01037374 0.00698399\n",
      " 0.00877257 0.0286936  0.01912341 0.01347375 0.01417963 0.09557949\n",
      " 0.01319472 0.01492208 0.05428318 0.01527466 0.01146874 0.00903701\n",
      " 0.02386484 0.02191434 0.02606426 0.02480568 0.0164976  0.03285243\n",
      " 0.02456913 0.02663188 0.00970844 0.00988001 0.00701668 0.02052105\n",
      " 0.00980387 0.01283832 0.04346237 0.01209815 0.01471673 0.01801152\n",
      " 0.00752097 0.01894608 0.01196156 0.00652417 0.01206069 0.01606847\n",
      " 0.01229439 0.10583441 0.01245314 0.00744573 0.00917217 0.04919191\n",
      " 0.03922771 0.01110992 0.0589196  0.01951786 0.01902046 0.02124904\n",
      " 0.02876944 0.01586631 0.00930309 0.14884149 0.02180804 0.01397943\n",
      " 0.01186416 0.01704588 0.00424722 0.02021327 0.02032966 0.00830886\n",
      " 0.06374754 0.13734681 0.01232416 0.01812562 0.009402   0.00817414\n",
      " 0.01733    0.01008523 0.01115519 0.02420008 0.00586731 0.04179925\n",
      " 0.11015757 0.02455407 0.0066713  0.0087667  0.02364572 0.00794953\n",
      " 0.02317576 0.01335045 0.01040673 0.01469412 0.03718311 0.03627531\n",
      " 0.0128058  0.01933685 0.01841914 0.05265071 0.02797566 0.01766871\n",
      " 0.02048694 0.00548549 0.01184303 0.02440185 0.01148581 0.03545001\n",
      " 0.0460306  0.00706412 0.01584694 0.01546559 0.01190534 0.02992089\n",
      " 0.01391631 0.02054569 0.00779853 0.01249116 0.03828256 0.02137676\n",
      " 0.01748442 0.01495873 0.04401567 0.01013939 0.04869842 0.01139882\n",
      " 0.00726825 0.0076948  0.01159735 0.03830088 0.01241356 0.04869151\n",
      " 0.01574861 0.02977579 0.00880961 0.01883613 0.02599652 0.02997872\n",
      " 0.02553443 0.01119024 0.01374829 0.01491113 0.0184436  0.00980407\n",
      " 0.01565855 0.01660519 0.01419529 0.02353599 0.01164472 0.01148224\n",
      " 0.00901511 0.01451009 0.01600056 0.01421546 0.00937512 0.02452994\n",
      " 0.01300852 0.04024955 0.01150726 0.01061972 0.03836385 0.00740474\n",
      " 0.04945726 0.0148946  0.03495836 0.01329366 0.03471549 0.02649658\n",
      " 0.01686691 0.02443665 0.0183894  0.01634681 0.01397495 0.01851658\n",
      " 0.01592338 0.01698282 0.03035619 0.0159858  0.02054929 0.02369647\n",
      " 0.01755816 0.01520454 0.01222167 0.01341935 0.02709104 0.01051173\n",
      " 0.02315656 0.01950007 0.01407336 0.02451714 0.01307636 0.01120797\n",
      " 0.02981482 0.01826011 0.00924108 0.00777088 0.00846167 0.02087675\n",
      " 0.01976755 0.01581203 0.01018512 0.03487279 0.05250322 0.03319953\n",
      " 0.01254034 0.01692749 0.44486681 0.01190836 0.01252591 0.02533739\n",
      " 0.01131843 0.05165593 0.01097436 0.00946702 0.01076957 0.01434525\n",
      " 0.01084481 0.03830274 0.05805726 0.01857778 0.01822359 0.02447603\n",
      " 0.01317346 0.03893538 0.01751637 0.00909209 0.01264047 0.01028882\n",
      " 0.00702303 0.00394075 0.01031349 0.01111007 0.0119111  0.01586005\n",
      " 0.01323323 0.1011691  0.04071625 0.01538556 0.04765129 0.00580593\n",
      " 0.01816384 0.02561099 0.00985705 0.02760461 0.01840824 0.02888194\n",
      " 0.00563836 0.02179783 0.01585197 0.01351616 0.01351956 0.01007283\n",
      " 0.04207365 0.00948895 0.01906337 0.01452758 0.0223281  0.01081074\n",
      " 0.04582431 0.01023679 0.01387618 0.01694628 0.03346996 0.02853986\n",
      " 0.02418566 0.05135188 0.02980316 0.01082785 0.05611916 0.05175107\n",
      " 0.04024795 0.01293429 0.03559473 0.00674189 0.02396737 0.01461143\n",
      " 0.02162833 0.02518592 0.00837132 0.05132517 0.00661296 0.02139644\n",
      " 0.01899255 0.0307712  0.01094805 0.01682301 0.02953973 0.00340659\n",
      " 0.02215495 0.01837862 0.0257515  0.00961503 0.0250894  0.00629788\n",
      " 0.00794433 0.02225482 0.00768545 0.0224272  0.01212744 0.01224182\n",
      " 0.02423748 0.00637025 0.01209792 0.00566761 0.03051142 0.03291898\n",
      " 0.01407291 0.03243685 0.01027967 0.01769604 0.00824752 0.0111513\n",
      " 0.01814464 0.01823964 0.01115823 0.00413597 0.00878251 0.00578997\n",
      " 0.02175982 0.02680669 0.01049005 0.01502347 0.04902085 0.01400381\n",
      " 0.01173285 0.03425721 0.03177126 0.01771148 0.02148009 0.06478697\n",
      " 0.01024502 0.03664972 0.02366707 0.02781681 0.01183915 0.00914839\n",
      " 0.01801885 0.02963951 0.06927093 0.021149   0.0124293  0.01444855\n",
      " 0.02297603 0.03863465 0.00704611 0.01297244 0.01564907 0.01289295\n",
      " 0.01162889 0.02193562 0.01712117 0.01320454 0.02615079 0.00907474\n",
      " 0.02467578 0.01834363 0.04975736 0.02595644 0.01775781 0.04003407\n",
      " 0.03538494 0.0083728  0.00743717 0.00957499 0.01483489 0.02374674\n",
      " 0.00931203 0.03579436 0.00842985 0.02956797 0.01216743 0.01013189\n",
      " 0.01247707 0.00624136 0.02047296 0.05391288 0.02113354 0.01755632\n",
      " 0.04467389 0.02438919 0.0093654  0.00617536 0.01093824 0.01344918\n",
      " 0.02108102 0.02174271 0.0106893  0.044438   0.00511979 0.02106627\n",
      " 0.05460529 0.00884504 0.01450313 0.01891135 0.00859937 0.00658716\n",
      " 0.00911953 0.00792707 0.03230222 0.01523795 0.00973306 0.01705901\n",
      " 0.00588471 0.00885493 0.01236501 0.01424629 0.024332   0.02715882\n",
      " 0.0444637  0.01341922 0.01044249 0.01022271 0.01249624 0.00553382\n",
      " 0.02399758 0.00500176 0.00422507 0.0681154  0.01061595 0.01963925\n",
      " 0.01717824 0.02236726 0.04096001 0.03305329 0.01315783 0.01885496\n",
      " 0.02901698 0.0141549  0.01073848 0.02988845 0.00694391 0.00903912\n",
      " 0.01168596 0.0134558  0.03017711 0.04545341 0.01471616 0.04325902\n",
      " 0.01530314 0.01497339 0.0080298  0.01076555 0.01240633 0.01820751\n",
      " 0.02287668 0.02680008 0.0133136  0.00638912 0.01818337 0.01588022\n",
      " 0.00579115 0.03061413 0.02510101 0.01527702 0.01819831 0.01696136\n",
      " 0.0151394  0.009265   0.01436178 0.02166132 0.04063854 0.00558564\n",
      " 0.02884265 0.00978277 0.00954898 0.0151694  0.0338104  0.06411841\n",
      " 0.01683426 0.02981348 0.00509379 0.01136603 0.00707444 0.01041056\n",
      " 0.01989439 0.01224669 0.02477218 0.0363285  0.02860791 0.00965655\n",
      " 0.02054828 0.0346762  0.02661303 0.0108893  0.03182817 0.10251447\n",
      " 0.00658389 0.00945051 0.00689427 0.00745249 0.00607333 0.01226301\n",
      " 0.03414401 0.01322385 0.02805755 0.02309736 0.01647491 0.01117217\n",
      " 0.02570166 0.00430188 0.0093601  0.00806851 0.01332302 0.01095854\n",
      " 0.00685336 0.03645227 0.0186557  0.01006085 0.01942689 0.01926148\n",
      " 0.03088982 0.03580409 0.01363294 0.03671128 0.00763371 0.03572083\n",
      " 0.02286694 0.01319518 0.00753823 0.01385734 0.02844786 0.01176151\n",
      " 0.0191401  0.03580377 0.00671221 0.0442933  0.01326253 0.0191271\n",
      " 0.01603913 0.05114068 0.02123893 0.03256313 0.01764581 0.02508168\n",
      " 0.01452668 0.02321473 0.0094863  0.00777846 0.02110465 0.01635411\n",
      " 0.02672982 0.04475099 0.02246537 0.01758524 0.04413072 0.01805443\n",
      " 0.02051325 0.01275863 0.01742507 0.01013496 0.03950873 0.01512933\n",
      " 0.03561216 0.00730206 0.00910921 0.02111725 0.01025015 0.02512102\n",
      " 0.0220024  0.00871654 0.03274407 0.04748127 0.01191533 0.04094618\n",
      " 0.02100285 0.00741415 0.02458775 0.01942981 0.0124025  0.01744215\n",
      " 0.02994288 0.01331882 0.02395171 0.03117369 0.03594997 0.02404929\n",
      " 0.00817707 0.02436333 0.01050571 0.02672005 0.02632895 0.00848776\n",
      " 0.05077005 0.01322661 0.01330579 0.0366829  0.00876767 0.01041379\n",
      " 0.0193966  0.02365977 0.06580431 0.01055332 0.0432599  0.00792836\n",
      " 0.01449346 0.0425688  0.04103566 0.01429796 0.0078092  0.00504393\n",
      " 0.01913087 0.00871852 0.00664835 0.01234733 0.00617865 0.01576002\n",
      " 0.00591551 0.01472841 0.01560204 0.01921563 0.02567491 0.04381358\n",
      " 0.02956478 0.02562638 0.04631901 0.02192667 0.0111098  0.01343799\n",
      " 0.02056007 0.01257075 0.01026058 0.01019678 0.03087273 0.01980775\n",
      " 0.04548916 0.01004407 0.00991013 0.00759362 0.01681251 0.03033812\n",
      " 0.03146896 0.02168543 0.00880728 0.02613436 0.00989021 0.02140736\n",
      " 0.03089153 0.02960196 0.0074591  0.01217926 0.00815818 0.03532287\n",
      " 0.02297741 0.01941175 0.01539446 0.02672245 0.00994774 0.05805947\n",
      " 0.01595872 0.02137413 0.01918885 0.0281415  0.00686293 0.01826232\n",
      " 0.00687676 0.01930394 0.02093463 0.02889782 0.02483986 0.01667221\n",
      " 0.02970299 0.0086522  0.01216084 0.01728574 0.00950585 0.01904305\n",
      " 0.02539043 0.01688224 0.02730005 0.02398907 0.01817586 0.01396127\n",
      " 0.0194424  0.00866022 0.01174885 0.01210405 0.01528032 0.01313652\n",
      " 0.01949499 0.01791997 0.00953828 0.00703705 0.0080741  0.00764842\n",
      " 0.00723546 0.01934994 0.00841981 0.03015899 0.0076586  0.02325489\n",
      " 0.02994224 0.01163311 0.01891534 0.01444734 0.02506917 0.00997841\n",
      " 0.01701343 0.01861959 0.02921762 0.01373566 0.02987346 0.07922839\n",
      " 0.03075086 0.0318857  0.00357711 0.01444165 0.03658591 0.0153204\n",
      " 0.01401274 0.0145148  0.03718662 0.00500853 0.00785808 0.026423\n",
      " 0.01212612 0.02741976 0.01508978 0.01670085 0.01791007 0.01362471\n",
      " 0.00929118 0.01686663 0.01850035 0.02223204 0.03334498 0.01585402\n",
      " 0.00834185 0.01392529 0.00975784 0.04477332 0.02851359 0.03474692\n",
      " 0.01062221 0.03400028 0.01897678 0.01906637 0.04598516 0.01147728\n",
      " 0.00780449 0.01771684 0.01490098 0.02133249 0.0272379  0.05558511\n",
      " 0.00724997 0.02497732 0.01147486 0.05003998 0.00424417 0.00489512\n",
      " 0.0873713  0.03118871 0.0175919  0.01914007 0.02173137 0.010035\n",
      " 0.01690959 0.02577704 0.00868121 0.01917264 0.01484288 0.03295784\n",
      " 0.00820384 0.02345233 0.03498506 0.01808914 0.02117052 0.02013698\n",
      " 0.01675399 0.01507509 0.00607086 0.03466787 0.01669889 0.0096053\n",
      " 0.00692277 0.04098526 0.04211212 0.02467176 0.0246383  0.01637463\n",
      " 0.03844596 0.00815726 0.01157743 0.00691532 0.02899523 0.02428448\n",
      " 0.00529387 0.01682156 0.02775402 0.01903839 0.02790104 0.01779492\n",
      " 0.02306331 0.02507549 0.03879197 0.01236856 0.0164024  0.00646397\n",
      " 0.0127134  0.03642643 0.01965101 0.01095502 0.01001138 0.01956562\n",
      " 0.0138379  0.01786211 0.0156715  0.01568097 0.00995923 0.010343\n",
      " 0.01009254 0.01003455 0.01189947 0.02168996 0.04343624 0.02263173\n",
      " 0.03759457 0.01716417 0.00887603 0.01915946 0.00876519 0.04795939\n",
      " 0.01436056 0.01016879 0.01709219 0.01221869 0.00418731 0.02574247\n",
      " 0.03322686 0.02224149 0.01161486 0.00543697]\n",
      "[0.02787874 0.02408498 0.02014976 0.00929847 0.02868379 0.00981816\n",
      " 0.01623177 0.0480702  0.01130818 0.01525816 0.0296089  0.02316701\n",
      " 0.02824297 0.00911567 0.00990889 0.0247459  0.03821288 0.00880225\n",
      " 0.01036527 0.01750531 0.00968289 0.02284217 0.01950362 0.02665041\n",
      " 0.03006942 0.02674008 0.01955967 0.00802597 0.01001163 0.07224509\n",
      " 0.01815158 0.02438414 0.00809766 0.00912596 0.02508416 0.01382066\n",
      " 0.00213756 0.01790157 0.03983483 0.05429255 0.01602096 0.01910141\n",
      " 0.00926292 0.03836753 0.02565087 0.02007887 0.0120086  0.06460841\n",
      " 0.01179983 0.03661272 0.01176299 0.01461648 0.0115061  0.03339068\n",
      " 0.00845023 0.0267059  0.04962131 0.01296047 0.0126985  0.02523458\n",
      " 0.00645718 0.03855572 0.01027311 0.03212917 0.00858717 0.0115181\n",
      " 0.01373527 0.65367535 0.02187776 0.0241617  0.00588924 0.01085642\n",
      " 0.02131193 0.03123119 0.01598744 0.00686974 0.00951396 0.00589982\n",
      " 0.02101157 0.05449536 0.0121781  0.0389385  0.01823305 0.03945909\n",
      " 0.010574   0.0242328  0.02142308 0.01303266 0.067337   0.01254403\n",
      " 0.01914219 0.00479696 0.03083418 0.00568971 0.00867203 0.00899405\n",
      " 0.01746553 0.02358403 0.01860175 0.01928357 0.03777747 0.00760952\n",
      " 0.01089727 0.0430804  0.00627302 0.00842027 0.01629884 0.01137178\n",
      " 0.0202974  0.01118848 0.02195108 0.0115559  0.04242201 0.02591257\n",
      " 0.02775881 0.0282303  0.03716898 0.01809003 0.01361968 0.02427816\n",
      " 0.00733922 0.01231857 0.02183253 0.04724489 0.00315885 0.02722326\n",
      " 0.02332722 0.00636088 0.02781821 0.01449558 0.01720856 0.00995732\n",
      " 0.01325238 0.04320263 0.01274914 0.01099911 0.00836312 0.01121448\n",
      " 0.00612999 0.00540623 0.01405003 0.00566055 0.02823349 0.00677147\n",
      " 0.04155988 0.01738576 0.0151935  0.00794447 0.01276543 0.02016779\n",
      " 0.01482962 0.0081975  0.09987196 0.00686982 0.01211402 0.01829568\n",
      " 0.02613082 0.06970297 0.02667752 0.02166863 0.02357796 0.02336715\n",
      " 0.01669701 0.0103577  0.0271655  0.0160061  0.0377264  0.01909243\n",
      " 0.0685393  0.01661871 0.01573632 0.01326796 0.00943984 0.03135863\n",
      " 0.01675794 0.0114425  0.01091257 0.02221812 0.0135818  0.01024953\n",
      " 0.00931529 0.02079836 0.01875272 0.00369336 0.01851927 0.04194151\n",
      " 0.01567099 0.01417263 0.05641805 0.0137305  0.01387292 0.00618947\n",
      " 0.02045248 0.05084333 0.00739822 0.02317768 0.01055129 0.03735087\n",
      " 0.02031405 0.01476865 0.01236613 0.00669614 0.00718952 0.01461794\n",
      " 0.00408415 0.0115053  0.04122087 0.01362133 0.02662516 0.02431833\n",
      " 0.004015   0.01953755 0.01653749 0.00990842 0.01623626 0.01191037\n",
      " 0.02235417 0.04192909 0.00793953 0.00674452 0.00747532 0.03025248\n",
      " 0.02876292 0.01352047 0.0625736  0.0118339  0.01702217 0.02775209\n",
      " 0.02872531 0.02404075 0.00958609 0.02686756 0.01626695 0.01747596\n",
      " 0.00815907 0.02612515 0.00622873 0.0172272  0.01702426 0.00782277\n",
      " 0.02107601 0.03192271 0.00443267 0.01271506 0.01096779 0.01011161\n",
      " 0.01939578 0.01282719 0.01275096 0.02624133 0.00317009 0.02035737\n",
      " 0.06649124 0.01892068 0.00287124 0.011145   0.01329253 0.0115459\n",
      " 0.02571255 0.0131934  0.0117568  0.00720015 0.03133807 0.03642652\n",
      " 0.01236246 0.0367148  0.01260792 0.03056887 0.02153659 0.01132986\n",
      " 0.01966375 0.00614845 0.01047035 0.03469386 0.01222075 0.0247477\n",
      " 0.05948613 0.00603539 0.00831217 0.01925342 0.01060095 0.04544742\n",
      " 0.0203334  0.01324909 0.00753386 0.00529103 0.03706168 0.01653908\n",
      " 0.01341491 0.01907655 0.03721631 0.00551583 0.03522287 0.01563531\n",
      " 0.0030708  0.01512516 0.01277459 0.03337457 0.01499889 0.04108461\n",
      " 0.01633035 0.03290688 0.004747   0.01880349 0.04085622 0.04185369\n",
      " 0.02692157 0.00800646 0.01368556 0.01334688 0.02335663 0.00470045\n",
      " 0.02187197 0.01398735 0.01614304 0.03008539 0.01429129 0.01198613\n",
      " 0.00906891 0.01416405 0.02545462 0.01432389 0.00632572 0.03426407\n",
      " 0.00909054 0.02161883 0.01221173 0.01099251 0.0292147  0.01681395\n",
      " 0.04596841 0.0078228  0.0397449  0.01440993 0.02606446 0.02304729\n",
      " 0.01075155 0.00572675 0.01310857 0.01752719 0.01325047 0.01406642\n",
      " 0.0187685  0.01572924 0.03017783 0.01759057 0.02497731 0.0295432\n",
      " 0.01713251 0.01461959 0.01271966 0.02225428 0.00827789 0.00879288\n",
      " 0.02171409 0.02109921 0.01046774 0.02697128 0.01608711 0.01456001\n",
      " 0.02500903 0.01403261 0.01159685 0.0085137  0.01154298 0.01977645\n",
      " 0.02057423 0.01997859 0.01048478 0.03933173 0.03636816 0.03310499\n",
      " 0.01233094 0.01703318 0.03888439 0.01506683 0.00689445 0.02202113\n",
      " 0.0077786  0.05807135 0.01072848 0.01544209 0.00992404 0.00878535\n",
      " 0.00811921 0.03032547 0.0252274  0.02445219 0.01715901 0.01519412\n",
      " 0.01434171 0.03998121 0.02120585 0.01594441 0.0183765  0.01407557\n",
      " 0.0059887  0.01027451 0.01899084 0.01402687 0.01218299 0.01097875\n",
      " 0.01618618 0.05716047 0.04243979 0.02268662 0.04361973 0.00389494\n",
      " 0.02582223 0.04159685 0.010232   0.03342147 0.01671809 0.03024049\n",
      " 0.00987034 0.04321377 0.01347386 0.02040623 0.01365232 0.0165041\n",
      " 0.01898848 0.00777657 0.01680024 0.03142262 0.01621769 0.00940526\n",
      " 0.04275882 0.01092409 0.00837139 0.01813376 0.04406433 0.04307925\n",
      " 0.0099395  0.07466561 0.02514064 0.0058815  0.05470393 0.03549762\n",
      " 0.00969171 0.01945009 0.05185764 0.01127948 0.01612997 0.01392809\n",
      " 0.01607383 0.02203498 0.00780889 0.02610343 0.00498652 0.01226666\n",
      " 0.02461943 0.03387042 0.01147375 0.01602251 0.02693357 0.00501382\n",
      " 0.0437021  0.01409017 0.02453326 0.00943629 0.02511503 0.00604846\n",
      " 0.0059569  0.02467728 0.0079174  0.03372581 0.01319593 0.00814663\n",
      " 0.02464184 0.01020056 0.01062071 0.0069066  0.0454186  0.02017963\n",
      " 0.014483   0.02548687 0.01394022 0.02050496 0.01402629 0.01475613\n",
      " 0.02068535 0.01880751 0.01883821 0.00552546 0.00658437 0.01119114\n",
      " 0.02033702 0.03277502 0.01431077 0.01768835 0.03541521 0.01112634\n",
      " 0.01370791 0.0256626  0.05699939 0.01564161 0.01234884 0.02440801\n",
      " 0.00728506 0.01880787 0.03152805 0.02266277 0.0152299  0.00725725\n",
      " 0.02113501 0.02904759 0.04746591 0.02084225 0.00789904 0.00706811\n",
      " 0.03173371 0.04345596 0.00514003 0.00448968 0.01243545 0.0148808\n",
      " 0.01135483 0.0289333  0.02567448 0.01376703 0.04738829 0.00835148\n",
      " 0.0196917  0.01328538 0.04529337 0.02526777 0.02113317 0.05363129\n",
      " 0.035892   0.00443145 0.00574024 0.00682881 0.01419677 0.0294952\n",
      " 0.01472391 0.03710591 0.00878083 0.02858751 0.01163293 0.01027994\n",
      " 0.01634244 0.0105711  0.02728787 0.04751509 0.01901627 0.01183792\n",
      " 0.02358853 0.02735104 0.01330331 0.00620545 0.00605099 0.01212682\n",
      " 0.02384958 0.02573799 0.01104756 0.02818414 0.01918038 0.0136859\n",
      " 0.01528981 0.01363762 0.01838583 0.0242375  0.0033735  0.00652393\n",
      " 0.00873361 0.00930867 0.02336188 0.00947301 0.00777168 0.01205996\n",
      " 0.00594714 0.00922008 0.00725183 0.01440474 0.01939605 0.06162962\n",
      " 0.03870972 0.01894639 0.01287642 0.00585898 0.0105737  0.00382199\n",
      " 0.02177605 0.00927658 0.0080435  0.04636632 0.01711145 0.01946404\n",
      " 0.02093592 0.02937261 0.03813669 0.02851293 0.01235991 0.01713925\n",
      " 0.03269294 0.01287164 0.01641223 0.02634925 0.00999288 0.00522166\n",
      " 0.00724768 0.01181157 0.04196441 0.04812648 0.00861936 0.02434537\n",
      " 0.01598939 0.01280593 0.00515678 0.01142274 0.01118298 0.02510727\n",
      " 0.01497268 0.02632534 0.01532798 0.00823248 0.03078903 0.02025564\n",
      " 0.00436825 0.04936241 0.02039267 0.02164164 0.02330511 0.01279957\n",
      " 0.00914993 0.01247294 0.02265347 0.025299   0.03790012 0.00483757\n",
      " 0.0180431  0.013085   0.00982834 0.01416852 0.03056168 0.0607011\n",
      " 0.00599015 0.01937848 0.00590359 0.00899762 0.00800169 0.0094516\n",
      " 0.01419089 0.0079326  0.0237346  0.02873417 0.02510185 0.00765948\n",
      " 0.01698884 0.03097457 0.03272468 0.00715785 0.02334879 0.07583278\n",
      " 0.00290905 0.0058897  0.009622   0.01361315 0.00522538 0.0044853\n",
      " 0.04015374 0.03031305 0.03552693 0.0329248  0.02813559 0.01316381\n",
      " 0.0199904  0.00866966 0.01049524 0.01261509 0.01067148 0.01568218\n",
      " 0.00673186 0.03234632 0.01786951 0.01915169 0.02083771 0.01858198\n",
      " 0.03530445 0.0213113  0.01154984 0.03742936 0.00365485 0.03883251\n",
      " 0.01992096 0.02540266 0.01305925 0.02161108 0.01091527 0.0141739\n",
      " 0.0228409  0.02759844 0.01261688 0.03063501 0.01397551 0.01352716\n",
      " 0.01605835 0.03382427 0.02012973 0.04296484 0.01978683 0.00832305\n",
      " 0.01641124 0.04394389 0.01416361 0.00653965 0.01977777 0.01794024\n",
      " 0.02102372 0.0379234  0.04266864 0.01599989 0.04451108 0.02835382\n",
      " 0.10964139 0.01603957 0.02264104 0.02496994 0.03112246 0.02511016\n",
      " 0.03782368 0.00696853 0.01903651 0.01413138 0.01192145 0.02112778\n",
      " 0.01818387 0.01639119 0.03577177 0.04931621 0.0096212  0.03381715\n",
      " 0.02856684 0.00723416 0.03201153 0.02240563 0.02027989 0.02415362\n",
      " 0.02807316 0.01439326 0.03274962 0.03492147 0.03039732 0.03014091\n",
      " 0.01417734 0.01183848 0.00851264 0.01408445 0.02675873 0.00800724\n",
      " 0.04035258 0.00717625 0.01230169 0.0408898  0.0055442  0.0102101\n",
      " 0.0180291  0.0389895  0.05802312 0.00875374 0.02462612 0.01063619\n",
      " 0.02671098 0.01852615 0.03977728 0.00762108 0.01285454 0.00421004\n",
      " 0.01551329 0.0094731  0.00902025 0.01063693 0.0038326  0.01605083\n",
      " 0.00677241 0.01820121 0.01113283 0.015739   0.03042755 0.03087104\n",
      " 0.03309546 0.02126424 0.04436857 0.02308342 0.01729645 0.0148798\n",
      " 0.02268831 0.00903326 0.00637352 0.00842562 0.02958773 0.02505162\n",
      " 0.05832308 0.0066301  0.00302289 0.00235064 0.02244945 0.0318615\n",
      " 0.03375938 0.01279614 0.00868419 0.02201916 0.01183064 0.0176612\n",
      " 0.02624322 0.02351934 0.00591408 0.02300899 0.01275981 0.02433811\n",
      " 0.01334467 0.0228342  0.02283561 0.0154872  0.00958816 0.05626258\n",
      " 0.01455064 0.03539265 0.01829543 0.02534038 0.0137998  0.02102023\n",
      " 0.01196273 0.02042882 0.01600675 0.03494938 0.02144046 0.02628662\n",
      " 0.01025289 0.00979465 0.00770673 0.02352592 0.00918109 0.02358575\n",
      " 0.02887063 0.01565612 0.01801751 0.02103394 0.01721202 0.00985302\n",
      " 0.02533011 0.00847345 0.01086633 0.01454587 0.0105107  0.00645435\n",
      " 0.0143191  0.02465677 0.00889745 0.00899542 0.01161422 0.01073371\n",
      " 0.01009459 0.02403175 0.00947599 0.04240711 0.00513439 0.02360932\n",
      " 0.05331782 0.0164834  0.02638742 0.01207113 0.03411203 0.01671204\n",
      " 0.01814843 0.01981953 0.01784842 0.01797892 0.02140436 0.05941912\n",
      " 0.01736371 0.03026072 0.00374268 0.01380187 0.05952484 0.0094235\n",
      " 0.01187827 0.01761183 0.01953505 0.0021051  0.00413561 0.013594\n",
      " 0.01470601 0.03457039 0.01539671 0.01852476 0.02261727 0.01337505\n",
      " 0.00805278 0.02171543 0.0133444  0.02706795 0.04644404 0.01640674\n",
      " 0.00461076 0.01800885 0.01204872 0.05014668 0.0420828  0.0284938\n",
      " 0.01134496 0.047312   0.01435993 0.02234828 0.04885096 0.00313835\n",
      " 0.00984471 0.01537001 0.00714448 0.02920594 0.02606146 0.05585609\n",
      " 0.00470433 0.02174554 0.01498433 0.04143007 0.00611221 0.01432729\n",
      " 0.02509348 0.0162078  0.01224649 0.01848096 0.0171225  0.01225949\n",
      " 0.01458959 0.01912027 0.00870719 0.01421832 0.0135572  0.02654538\n",
      " 0.00889723 0.03668238 0.03294009 0.01758578 0.01360225 0.01704813\n",
      " 0.01746763 0.01363009 0.00397094 0.02211634 0.0160406  0.01247448\n",
      " 0.00986078 0.03489892 0.04508089 0.01916834 0.02151111 0.01339913\n",
      " 0.04323109 0.01960178 0.00562885 0.01083051 0.03641394 0.01862587\n",
      " 0.0044971  0.01327718 0.030088   0.01564426 0.0180574  0.02200903\n",
      " 0.01785751 0.00966467 0.04240058 0.01169704 0.01394059 0.00827289\n",
      " 0.01440772 0.03095491 0.0144378  0.00808019 0.01000301 0.01938323\n",
      " 0.00796027 0.02281538 0.01633474 0.01740236 0.01034147 0.00338829\n",
      " 0.01034169 0.00514786 0.01790142 0.02223094 0.0297459  0.01421358\n",
      " 0.02037901 0.03248795 0.00513169 0.01279753 0.00722153 0.05163754\n",
      " 0.00940758 0.01206583 0.01272167 0.02288641 0.00487112 0.02696691\n",
      " 0.03195664 0.0152933  0.01871631 0.00702336]\n",
      "[0.0342206  0.01421771 0.03166383 0.01209278 0.02610367 0.00787083\n",
      " 0.01204421 0.03237257 0.01588552 0.01908116 0.09262573 0.02066628\n",
      " 0.03835395 0.01930035 0.00811381 0.02917794 0.04078285 0.01531702\n",
      " 0.01580314 0.05774304 0.00961899 0.03646782 0.03786173 0.03719254\n",
      " 0.06588602 0.0216135  0.02551926 0.00778768 0.00962004 0.10880526\n",
      " 0.02115703 0.00902577 0.01454962 0.01009758 0.0323246  0.01603787\n",
      " 0.00687973 0.02724256 0.05740379 0.10083633 0.02397008 0.02053115\n",
      " 0.00915591 0.05102489 0.02152968 0.01264144 0.02164101 0.0404585\n",
      " 0.01995616 0.0154597  0.01103223 0.01183479 0.01276073 0.01470593\n",
      " 0.00984836 0.02654602 0.018496   0.02171442 0.01324448 0.03486095\n",
      " 0.01292289 0.1153549  0.02978851 0.03509727 0.01460767 0.02745949\n",
      " 0.01251655 0.00697488 0.01779288 0.01756944 0.01113294 0.02203627\n",
      " 0.02942591 0.04538757 0.0139498  0.01013354 0.02195268 0.0156455\n",
      " 0.03317476 0.04953754 0.03178768 0.04053532 0.04906728 0.02965877\n",
      " 0.01032441 0.01648221 0.0403943  0.01871265 0.03299882 0.01617588\n",
      " 0.03210859 0.00815812 0.04919832 0.01102915 0.0192403  0.02367967\n",
      " 0.01722439 0.01613505 0.01610053 0.02135273 0.02616971 0.01248986\n",
      " 0.01287307 0.03847296 0.01319651 0.01525466 0.01514859 0.01549641\n",
      " 0.01635098 0.0127003  0.02861842 0.01160157 0.02533609 0.02055382\n",
      " 0.04117572 0.02920803 0.02917393 0.02947856 0.01953173 0.02021921\n",
      " 0.00684998 0.0175014  0.04887987 0.05355636 0.0096079  0.02432633\n",
      " 0.03438877 0.0108371  0.02097123 0.01340653 0.01220705 0.01141755\n",
      " 0.01217525 0.07540379 0.02133475 0.01333949 0.02211096 0.00572384\n",
      " 0.0105853  0.01671977 0.01417435 0.00673043 0.02413354 0.00962121\n",
      " 0.05638723 0.01276938 0.03852037 0.01744362 0.02118865 0.02361651\n",
      " 0.03635535 0.03315258 0.07449606 0.00673942 0.00945542 0.00695342\n",
      " 0.02769834 0.07749929 0.01806398 0.02841096 0.04617156 0.02194737\n",
      " 0.03171865 0.01660562 0.04087989 0.00899471 0.08780659 0.00715513\n",
      " 0.0266659  0.02299152 0.01604637 0.01823224 0.01338983 0.02177299\n",
      " 0.03288357 0.01960392 0.00794414 0.02627364 0.01455173 0.02948049\n",
      " 0.01507439 0.0142211  0.06663986 0.00943265 0.03729831 0.01268781\n",
      " 0.01756116 0.01050769 0.04548607 0.0165862  0.03534882 0.01792494\n",
      " 0.01700149 0.1024076  0.01724764 0.02296268 0.02754567 0.04422273\n",
      " 0.02908119 0.028916   0.02064509 0.00856675 0.00919531 0.01697424\n",
      " 0.0062417  0.0112068  0.05791288 0.0208113  0.05305261 0.03263171\n",
      " 0.00557841 0.02502361 0.03500193 0.02164769 0.01599221 0.02495484\n",
      " 0.01414627 0.01388422 0.02154976 0.0072831  0.00656086 0.02924541\n",
      " 0.03632793 0.01030564 0.07681257 0.01736383 0.02465495 0.04326774\n",
      " 0.03223795 0.02002938 0.01607351 0.0201305  0.01533392 0.04860181\n",
      " 0.01532942 0.04902021 0.00783658 0.02440007 0.01981819 0.01615109\n",
      " 0.01734825 0.02531914 0.01869864 0.01833459 0.01682942 0.00956842\n",
      " 0.0120615  0.00931742 0.01788854 0.04708722 0.0108339  0.0095636\n",
      " 0.04864052 0.01747201 0.0054373  0.00934807 0.02324656 0.01769381\n",
      " 0.02124995 0.01399798 0.01001186 0.00955756 0.03137563 0.07654187\n",
      " 0.01615309 0.03653089 0.01997302 0.0305329  0.02890755 0.0082764\n",
      " 0.04077711 0.00732356 0.01048462 0.07899694 0.01596431 0.01552917\n",
      " 0.05636406 0.01190008 0.01016304 0.03222159 0.01341557 0.07722904\n",
      " 0.02137162 0.00652213 0.00961796 0.00759324 0.07889842 0.03378953\n",
      " 0.02347611 0.00962077 0.02803881 0.00729573 0.03447329 0.01306789\n",
      " 0.00732383 0.01146497 0.00549048 0.03931702 0.03110179 0.03704056\n",
      " 0.02203488 0.04869452 0.00735438 0.03225727 0.05270349 0.04310629\n",
      " 0.01185878 0.02941177 0.01894999 0.01562401 0.02539218 0.00759628\n",
      " 0.02884196 0.01879168 0.01160903 0.01593289 0.01321665 0.02595003\n",
      " 0.01732919 0.03171556 0.07554447 0.01442827 0.0107152  0.03859188\n",
      " 0.00778602 0.02423416 0.01699392 0.02019303 0.02985913 0.00997269\n",
      " 0.06233311 0.00569182 0.04530395 0.01382843 0.01275612 0.02949523\n",
      " 0.01036295 0.01283348 0.01291063 0.01522357 0.01395089 0.01525452\n",
      " 0.03108089 0.01944582 0.06019663 0.03370024 0.02685475 0.05099804\n",
      " 0.04559606 0.01843939 0.01084062 0.03068162 0.00963796 0.02059541\n",
      " 0.03136637 0.06902648 0.0157204  0.03721142 0.01471116 0.02466344\n",
      " 0.02122339 0.02837114 0.01386946 0.00999083 0.02650266 0.05384812\n",
      " 0.02421377 0.02975061 0.02638008 0.07199564 0.02222501 0.05314402\n",
      " 0.04374872 0.02581623 0.017249   0.01297092 0.00746839 0.01474572\n",
      " 0.0193549  0.01701592 0.00461563 0.02058403 0.0287074  0.019197\n",
      " 0.00720837 0.03956074 0.01817013 0.03652859 0.02195845 0.02839429\n",
      " 0.02154202 0.07379054 0.07362913 0.03665707 0.02526879 0.00914952\n",
      " 0.00655184 0.00682569 0.01274108 0.02328338 0.01518779 0.02307037\n",
      " 0.02229059 0.05024033 0.0212561  0.04043183 0.06533053 0.01069642\n",
      " 0.01501186 0.03679636 0.00904102 0.03421736 0.01076035 0.07775163\n",
      " 0.00903808 0.09306409 0.02481553 0.02748232 0.0238288  0.00970213\n",
      " 0.01876391 0.0101334  0.01271652 0.04731892 0.02454699 0.00880477\n",
      " 0.1138872  0.01232903 0.01129637 0.02396877 0.07915079 0.02408236\n",
      " 0.01118572 0.06559549 0.04072137 0.01141468 0.05314163 0.03144643\n",
      " 0.00998341 0.01192955 0.02215822 0.0157169  0.0213085  0.01073677\n",
      " 0.01262113 0.02624455 0.01146252 0.03045411 0.00886862 0.00863082\n",
      " 0.16965966 0.08505986 0.0185856  0.0250115  0.08432146 0.00671566\n",
      " 0.06629078 0.01963971 0.03404318 0.00812242 0.03661563 0.01740588\n",
      " 0.01604837 0.03701866 0.02185174 0.04042642 0.02189502 0.01204994\n",
      " 0.01201339 0.01942905 0.01086667 0.0094237  0.11232184 0.02319237\n",
      " 0.01709882 0.03185546 0.01873868 0.06584155 0.01023747 0.00960049\n",
      " 0.02263954 0.01628938 0.01903577 0.00793021 0.00986673 0.01167641\n",
      " 0.01917768 0.04314463 0.02039164 0.01309455 0.03164761 0.01593182\n",
      " 0.01382484 0.01302248 0.05576993 0.0461196  0.04002632 0.01912936\n",
      " 0.00987017 0.00994134 0.01659263 0.01843394 0.01823173 0.00975008\n",
      " 0.03002329 0.03722473 0.06288269 0.03730411 0.01829744 0.01732412\n",
      " 0.04901357 0.03518491 0.02006543 0.02146612 0.01527482 0.01682612\n",
      " 0.01523736 0.02303143 0.02835143 0.03631448 0.06785838 0.01019552\n",
      " 0.00881765 0.02003384 0.02775317 0.06047399 0.01999656 0.08009663\n",
      " 0.01095735 0.00602037 0.00794805 0.0171126  0.01027554 0.02865766\n",
      " 0.02340429 0.03301318 0.02692877 0.04999045 0.01571943 0.01250191\n",
      " 0.03912736 0.00484719 0.01371377 0.01915534 0.02180334 0.02225085\n",
      " 0.0235433  0.01762806 0.02479063 0.01262821 0.00828994 0.01097321\n",
      " 0.02249985 0.01407154 0.01288132 0.01406598 0.00755671 0.02033287\n",
      " 0.01384724 0.01649481 0.05425262 0.01225904 0.00879652 0.01796627\n",
      " 0.01908352 0.01989151 0.02872866 0.01606947 0.0161735  0.02411789\n",
      " 0.00483506 0.00843556 0.00963271 0.01546863 0.02677069 0.02679478\n",
      " 0.02805371 0.02576934 0.01119338 0.01574075 0.00888698 0.01041403\n",
      " 0.01189282 0.00592186 0.02208292 0.03694632 0.02016816 0.02159724\n",
      " 0.01698093 0.032301   0.03498578 0.02281421 0.02044848 0.0143225\n",
      " 0.05027813 0.01335387 0.02763035 0.04086813 0.01124125 0.00859772\n",
      " 0.01737914 0.0298529  0.06907389 0.0557156  0.01400864 0.02333053\n",
      " 0.01550905 0.01405849 0.00843061 0.01930663 0.01624439 0.04005214\n",
      " 0.01561511 0.03277762 0.01162117 0.00787637 0.03644634 0.02667441\n",
      " 0.00715752 0.03847756 0.01595002 0.01283656 0.01786086 0.0310992\n",
      " 0.01084586 0.01244193 0.03255542 0.02924262 0.05806315 0.01998596\n",
      " 0.02903865 0.01244919 0.01911466 0.01521581 0.05011237 0.05986103\n",
      " 0.00744908 0.00919608 0.00575057 0.01361055 0.01127847 0.0138106\n",
      " 0.0235573  0.00992687 0.05263008 0.01932876 0.0390248  0.01043599\n",
      " 0.02796021 0.03027933 0.07462335 0.00980465 0.03623018 0.0323067\n",
      " 0.01178125 0.00973884 0.01426039 0.01523707 0.02292794 0.00933776\n",
      " 0.18383285 0.0682111  0.05658893 0.05267228 0.02724801 0.01281367\n",
      " 0.03514964 0.01410308 0.01253594 0.01456117 0.01305809 0.03279082\n",
      " 0.01387926 0.03116872 0.02230444 0.01764466 0.01687236 0.01251758\n",
      " 0.07384253 0.03730279 0.01504385 0.05286146 0.00861086 0.04298154\n",
      " 0.01533262 0.04247552 0.00701451 0.03362022 0.01064825 0.0151888\n",
      " 0.03615476 0.02480242 0.01036356 0.03007386 0.01302989 0.0151563\n",
      " 0.02636392 0.0163975  0.03848059 0.04168615 0.01379986 0.01218113\n",
      " 0.0210797  0.0663778  0.01586577 0.00915296 0.01863635 0.01969002\n",
      " 0.02698646 0.01595354 0.01325567 0.01561221 0.05553337 0.02588614\n",
      " 0.01683257 0.02825258 0.01468703 0.02733584 0.0205088  0.03334962\n",
      " 0.02063777 0.00832682 0.02245384 0.01151186 0.01059738 0.01231603\n",
      " 0.02437178 0.01408015 0.05456659 0.05268294 0.01059999 0.02449927\n",
      " 0.02322166 0.01393539 0.00893904 0.02636247 0.02660667 0.02849449\n",
      " 0.02288323 0.00800222 0.02288103 0.04393118 0.02600834 0.01644743\n",
      " 0.01200355 0.01230777 0.01007941 0.0117045  0.02802245 0.01429462\n",
      " 0.02109003 0.02438811 0.02028599 0.03640598 0.0070832  0.01467607\n",
      " 0.02228851 0.01622616 0.03721703 0.01747083 0.015321   0.0160682\n",
      " 0.05803141 0.01799244 0.03727398 0.01234831 0.01975282 0.00585157\n",
      " 0.02116037 0.01376181 0.00928633 0.01518125 0.01591645 0.0308041\n",
      " 0.00735337 0.0160248  0.01705873 0.02275027 0.04348909 0.04288239\n",
      " 0.0506138  0.02711453 0.06477252 0.04609478 0.01200341 0.02480095\n",
      " 0.01933142 0.01391763 0.01323848 0.01081408 0.04104996 0.05909326\n",
      " 0.03847779 0.01703326 0.0078334  0.01397496 0.02757661 0.02986074\n",
      " 0.02250426 0.00984614 0.01345829 0.01697769 0.01049743 0.01730513\n",
      " 0.049352   0.03258165 0.01607629 0.06352931 0.02048592 0.05308455\n",
      " 0.01374949 0.03816332 0.04072969 0.01724395 0.0261851  0.09453395\n",
      " 0.01215915 0.0684342  0.01570821 0.01959297 0.01347478 0.02836622\n",
      " 0.01247477 0.03294765 0.01999413 0.0275484  0.02463782 0.0167006\n",
      " 0.0173737  0.01344324 0.01253293 0.02409598 0.01325002 0.01419981\n",
      " 0.02382904 0.02826502 0.0147624  0.01669264 0.04350401 0.00493553\n",
      " 0.02917561 0.01033418 0.03355863 0.00963856 0.0097876  0.01827377\n",
      " 0.0144618  0.02364252 0.00994171 0.00891992 0.03814012 0.01191843\n",
      " 0.00963548 0.0299324  0.0160232  0.06491302 0.00984457 0.02576045\n",
      " 0.04962932 0.01234986 0.02997717 0.01565436 0.04853737 0.02283853\n",
      " 0.02016855 0.0227975  0.02437961 0.01680956 0.01596578 0.03401095\n",
      " 0.03007842 0.05753243 0.00476506 0.02101814 0.07136669 0.01492481\n",
      " 0.01228107 0.01261588 0.01799531 0.00588777 0.00862579 0.01551507\n",
      " 0.01420472 0.03359554 0.00813023 0.03058251 0.02950612 0.020423\n",
      " 0.00630171 0.01662611 0.01149061 0.03392452 0.06644664 0.03378212\n",
      " 0.00929144 0.0334733  0.01110058 0.07678471 0.0510824  0.03313688\n",
      " 0.01237254 0.11541188 0.01653197 0.0226959  0.04169597 0.00971553\n",
      " 0.01398384 0.01337806 0.00585392 0.03902376 0.02821493 0.03423061\n",
      " 0.00871443 0.04149125 0.00806493 0.01951445 0.01254496 0.01834556\n",
      " 0.01133856 0.01714781 0.01232811 0.00870403 0.01782593 0.01027579\n",
      " 0.01775486 0.05204214 0.01547852 0.02154449 0.02419553 0.04521365\n",
      " 0.01249867 0.04352578 0.02958568 0.02035053 0.02000519 0.0105705\n",
      " 0.0341557  0.02237203 0.01133006 0.03714075 0.02156814 0.0307237\n",
      " 0.02942104 0.05000784 0.07656187 0.02266486 0.04210052 0.01743436\n",
      " 0.02403847 0.02529363 0.00863218 0.01184593 0.03872115 0.0402845\n",
      " 0.00846067 0.02012829 0.040403   0.02721878 0.03899118 0.02455084\n",
      " 0.02022179 0.01471888 0.02326647 0.01721579 0.02729283 0.00989378\n",
      " 0.01237265 0.01943927 0.01215051 0.00725328 0.01228287 0.02586789\n",
      " 0.01581749 0.0153065  0.02571837 0.02172918 0.00975435 0.00685257\n",
      " 0.01222459 0.01435825 0.02887104 0.0393021  0.10704401 0.01648288\n",
      " 0.01255457 0.07704275 0.00532869 0.01639389 0.01271973 0.0593378\n",
      " 0.01448776 0.01467013 0.01961413 0.03176637 0.00493406 0.01891792\n",
      " 0.02938819 0.0218261  0.0292426  0.008288  ]\n",
      "[0.0275375  0.01442683 0.03614776 0.01277068 0.01080888 0.00774163\n",
      " 0.02034374 0.02866321 0.01512978 0.01937899 0.06695519 0.02468097\n",
      " 0.03511611 0.01622407 0.0061769  0.0411634  0.0239541  0.0130839\n",
      " 0.0116932  0.01824007 0.01531035 0.01888277 0.04130304 0.02894533\n",
      " 0.02640801 0.02214232 0.03471098 0.00672615 0.01190293 0.14408032\n",
      " 0.01474963 0.01015461 0.01055184 0.00976224 0.02429724 0.01776274\n",
      " 0.00812532 0.02777524 0.05725712 0.09525633 0.00986517 0.02379649\n",
      " 0.00740046 0.05266333 0.01779424 0.0138777  0.01655442 0.02199434\n",
      " 0.02151592 0.01559381 0.01300785 0.00908488 0.00990183 0.0153139\n",
      " 0.00894199 0.01860527 0.01581658 0.01601186 0.01451743 0.03381186\n",
      " 0.0137446  0.05265546 0.02167314 0.03891046 0.01432154 0.01645065\n",
      " 0.01349325 0.00411923 0.01822562 0.0191183  0.01202704 0.027053\n",
      " 0.0301296  0.04523211 0.01132252 0.01494793 0.01398238 0.01186144\n",
      " 0.03936398 0.08132283 0.01728767 0.30441405 0.02572692 0.03468255\n",
      " 0.01026451 0.02124384 0.04213997 0.02085477 0.03518503 0.0181702\n",
      " 0.02192457 0.00714933 0.03965454 0.01579105 0.01166526 0.02098924\n",
      " 0.01238116 0.01252969 0.01166437 0.02675598 0.0312587  0.00734717\n",
      " 0.01073317 0.04691152 0.01502304 0.01619983 0.01648711 0.01789848\n",
      " 0.01360588 0.00972883 0.02383252 0.0081432  0.03074601 0.02093399\n",
      " 0.0223936  0.03107205 0.02809725 0.02364867 0.01598999 0.01648726\n",
      " 0.00975332 0.0130388  0.06077515 0.03198144 0.01064332 0.02707105\n",
      " 0.02977264 0.00975577 0.01771453 0.02521633 0.0120998  0.00931017\n",
      " 0.01418435 0.07070686 0.02242317 0.00767052 0.01445906 0.00588217\n",
      " 0.00971622 0.00867695 0.0090074  0.00338341 0.01484402 0.01017016\n",
      " 0.05178381 0.01284634 0.02390708 0.01518985 0.01678002 0.02354467\n",
      " 0.02086265 0.04336432 0.08826326 0.01113466 0.00676194 0.0070837\n",
      " 0.01977603 0.07539964 0.01884152 0.02888728 0.04773927 0.02400492\n",
      " 0.01749468 0.01093148 0.01793493 0.00911751 0.08276344 0.00952397\n",
      " 0.02890803 0.02719768 0.01622308 0.00788319 0.00808959 0.0180526\n",
      " 0.02746139 0.02085599 0.00626466 0.01599048 0.01415269 0.01800021\n",
      " 0.03645308 0.01605499 0.0219188  0.01074846 0.03016403 0.01978745\n",
      " 0.01545669 0.00978147 0.03897248 0.01315718 0.05915248 0.01418929\n",
      " 0.00892771 0.03485515 0.01504052 0.01947984 0.01873414 0.05153326\n",
      " 0.01975752 0.01795978 0.0195546  0.00746079 0.00870555 0.01296084\n",
      " 0.00683512 0.01175723 0.10975648 0.01573163 0.07821206 0.0193714\n",
      " 0.00688061 0.02259035 0.03681126 0.01452912 0.02329675 0.01977253\n",
      " 0.01236352 0.01500461 0.01167337 0.00948851 0.00636586 0.04228618\n",
      " 0.03219417 0.00796225 0.07311258 0.01137322 0.01444037 0.03729654\n",
      " 0.0372897  0.02157123 0.01592728 0.01714602 0.01220352 0.04476902\n",
      " 0.0129212  0.04424196 0.01253562 0.02575676 0.0152345  0.01783414\n",
      " 0.0180983  0.02024194 0.00841166 0.02295318 0.01059683 0.01379927\n",
      " 0.01006209 0.01137322 0.01830951 0.01902675 0.01477807 0.00913124\n",
      " 0.0525594  0.01335318 0.00829228 0.0056578  0.03025408 0.01234896\n",
      " 0.01927962 0.00827886 0.01117792 0.00838406 0.02868709 0.05055348\n",
      " 0.01248183 0.02824174 0.01675508 0.01772363 0.01070812 0.00962591\n",
      " 0.01914519 0.00735455 0.00941363 0.07099722 0.01121328 0.02063302\n",
      " 0.05552599 0.01180609 0.00921312 0.02585423 0.01291068 0.08382121\n",
      " 0.01368031 0.00839983 0.00831492 0.00552784 0.06271519 0.02426291\n",
      " 0.01795307 0.01487263 0.03133247 0.00632557 0.03518222 0.01268163\n",
      " 0.00792943 0.01201301 0.00577557 0.03498149 0.01586083 0.03305867\n",
      " 0.02010923 0.02839948 0.00987992 0.02883408 0.11810656 0.04862519\n",
      " 0.00873265 0.03040839 0.01298049 0.01924065 0.02527233 0.00589493\n",
      " 0.0168881  0.01413713 0.0103556  0.01143752 0.01474266 0.01470412\n",
      " 0.03847828 0.02143677 0.036745   0.01770863 0.00884997 0.04297777\n",
      " 0.00955838 0.01823088 0.01579301 0.0257623  0.02815331 0.00741196\n",
      " 0.07768159 0.00824474 0.04977724 0.01500319 0.01102506 0.02790728\n",
      " 0.01109148 0.02663445 0.0173773  0.01655591 0.01437625 0.01511682\n",
      " 0.02028128 0.01223438 0.04844507 0.03424776 0.01890864 0.03075981\n",
      " 0.04672377 0.01315728 0.00888754 0.01702903 0.01320044 0.02029397\n",
      " 0.01658684 0.03840563 0.00928694 0.03816229 0.00909146 0.01489198\n",
      " 0.01971126 0.02361164 0.01036962 0.00709025 0.03134497 0.05737003\n",
      " 0.01831715 0.01913667 0.00862049 0.06295485 0.0154058  0.02576432\n",
      " 0.02209169 0.04504309 0.01768301 0.01228819 0.00993684 0.01319333\n",
      " 0.0136283  0.02637036 0.0079258  0.01815114 0.02473031 0.01638924\n",
      " 0.00663296 0.03108984 0.01666047 0.02715718 0.03119553 0.02354817\n",
      " 0.01371513 0.0551099  0.04487791 0.02548178 0.03060948 0.01077918\n",
      " 0.00667296 0.00524631 0.01350119 0.02309273 0.0230292  0.01703429\n",
      " 0.01194877 0.05079068 0.02951543 0.04235596 0.05062425 0.00613224\n",
      " 0.01982525 0.04333763 0.00762461 0.08461169 0.01020781 0.0667002\n",
      " 0.01108526 0.01961797 0.01936993 0.01540936 0.02479435 0.01129743\n",
      " 0.01900173 0.0105185  0.01513972 0.02724454 0.03980906 0.00826299\n",
      " 0.07893829 0.01777572 0.01343937 0.03034113 0.06691114 0.02773556\n",
      " 0.00811706 0.07411339 0.02521666 0.00808495 0.06101864 0.04467269\n",
      " 0.00750859 0.0088961  0.02576134 0.00907933 0.02085593 0.0113638\n",
      " 0.01107358 0.02143086 0.0085713  0.02590289 0.01102875 0.01143975\n",
      " 0.06997281 0.04557978 0.01286948 0.01861433 0.03774734 0.00550185\n",
      " 0.02747972 0.02010286 0.03281837 0.0063273  0.03434763 0.01939678\n",
      " 0.01332169 0.04491289 0.01314939 0.03496475 0.02031155 0.01056534\n",
      " 0.01227698 0.02028991 0.01301036 0.01655936 0.11063083 0.02816757\n",
      " 0.01203013 0.0333683  0.02046626 0.05538602 0.01379273 0.00746181\n",
      " 0.01836339 0.0160329  0.04078602 0.00444038 0.01540413 0.00884013\n",
      " 0.02160642 0.04379005 0.02057355 0.01387359 0.02098821 0.01349571\n",
      " 0.01504317 0.01842736 0.02990616 0.02357046 0.02359905 0.01882939\n",
      " 0.00790387 0.00963715 0.0215893  0.02868389 0.02341407 0.00738466\n",
      " 0.01565712 0.0273503  0.0667985  0.02261731 0.01973333 0.01227903\n",
      " 0.03509408 0.02865941 0.0105345  0.00975258 0.01251532 0.02023388\n",
      " 0.01636888 0.03952727 0.02949596 0.04903779 0.04785399 0.01152494\n",
      " 0.01231056 0.01179372 0.02438659 0.03549623 0.01724972 0.13018265\n",
      " 0.01810685 0.00680879 0.00796684 0.01170295 0.01081407 0.06823037\n",
      " 0.02299493 0.0463292  0.03107361 0.02970274 0.01714762 0.00898374\n",
      " 0.02850267 0.00452545 0.01661918 0.02088256 0.01577267 0.0264845\n",
      " 0.02269195 0.01545224 0.01420977 0.01202331 0.00723494 0.00925923\n",
      " 0.01712459 0.01512093 0.01780125 0.01593028 0.00408271 0.01881397\n",
      " 0.01113483 0.01401045 0.0568766  0.01449069 0.0102309  0.00745754\n",
      " 0.02089774 0.01424481 0.04222169 0.01242781 0.01118061 0.02077742\n",
      " 0.00260773 0.01049241 0.00688013 0.01120701 0.04013044 0.04028432\n",
      " 0.03504866 0.01324217 0.00976109 0.01780022 0.01107321 0.01330492\n",
      " 0.01443606 0.00533105 0.01858478 0.02941854 0.02318457 0.01198812\n",
      " 0.01889101 0.03555075 0.03425517 0.02883334 0.0194203  0.01319287\n",
      " 0.04055624 0.01272875 0.02766765 0.04228619 0.01299267 0.00799281\n",
      " 0.00941747 0.03127614 0.24948128 0.06159564 0.01306826 0.02306645\n",
      " 0.02095425 0.01615917 0.0082803  0.01784529 0.01299931 0.03871886\n",
      " 0.01148624 0.02258816 0.01539742 0.0065973  0.02750269 0.02274132\n",
      " 0.00707011 0.03457669 0.01896207 0.01200915 0.01211818 0.02652438\n",
      " 0.00730315 0.00958507 0.02076087 0.02294664 0.03176044 0.01686472\n",
      " 0.02482576 0.03607762 0.01920882 0.02137808 0.0344491  0.07948854\n",
      " 0.0052497  0.00947529 0.006362   0.0085423  0.01031282 0.0117654\n",
      " 0.01963591 0.01083585 0.03403163 0.02395241 0.02753494 0.01161249\n",
      " 0.02776162 0.02614887 0.03029253 0.00525197 0.02500073 0.04611247\n",
      " 0.00666439 0.00935359 0.01208369 0.01598064 0.02388428 0.00959096\n",
      " 0.088813   0.07845186 0.06160401 0.05759655 0.02164192 0.01214669\n",
      " 0.05529845 0.01342322 0.00766843 0.01160311 0.00649519 0.01997139\n",
      " 0.01195445 0.02465156 0.02416113 0.02113556 0.01754449 0.00855775\n",
      " 0.0279415  0.0347627  0.01408754 0.04327676 0.00645373 0.03471289\n",
      " 0.02238379 0.02689038 0.00627351 0.03778247 0.00766423 0.01530753\n",
      " 0.02688813 0.02223708 0.01062605 0.02650526 0.00895164 0.01384217\n",
      " 0.02027436 0.01606969 0.03573593 0.14502465 0.0127948  0.01101273\n",
      " 0.01746957 0.06657196 0.01883168 0.00924478 0.01436769 0.01424516\n",
      " 0.01744089 0.01603514 0.02521434 0.0172462  0.0436155  0.02807439\n",
      " 0.01862306 0.01902393 0.01042018 0.01674391 0.01584951 0.03682039\n",
      " 0.02068246 0.00878847 0.01180541 0.01630322 0.0102016  0.01818847\n",
      " 0.01877517 0.01170836 0.05387439 0.04399483 0.01126679 0.03049399\n",
      " 0.02059294 0.01146819 0.00513009 0.01768497 0.0386928  0.01879342\n",
      " 0.0219259  0.00829458 0.03042581 0.06845172 0.02756561 0.01855361\n",
      " 0.01604733 0.0115527  0.00707928 0.00873749 0.02650977 0.01609772\n",
      " 0.01434699 0.0202846  0.0223409  0.03705378 0.01147461 0.01136359\n",
      " 0.01639389 0.01765954 0.04745142 0.01323779 0.01312788 0.02748484\n",
      " 0.07733274 0.01731091 0.03037626 0.01142694 0.01478975 0.00530345\n",
      " 0.01510608 0.01354081 0.00840309 0.02203435 0.01494799 0.02310065\n",
      " 0.0060784  0.01197586 0.01637622 0.01638955 0.03232221 0.03539839\n",
      " 0.04386288 0.01892487 0.06693301 0.03220704 0.00932528 0.02530227\n",
      " 0.01825374 0.01357831 0.00887681 0.00585248 0.03168596 0.06142433\n",
      " 0.04434068 0.01412503 0.00741182 0.00528225 0.02287007 0.03403663\n",
      " 0.02170443 0.01077305 0.01437986 0.02741958 0.01041332 0.02777962\n",
      " 0.0293034  0.02632841 0.01306385 0.0243964  0.05198099 0.06572777\n",
      " 0.01545753 0.01466663 0.0223608  0.01151697 0.02136723 0.08444495\n",
      " 0.01333138 0.07062789 0.01679745 0.01961046 0.00989231 0.01919484\n",
      " 0.01105832 0.03032432 0.0198639  0.05150101 0.02284875 0.0198586\n",
      " 0.02573055 0.0098363  0.01144635 0.02646516 0.02134612 0.01542294\n",
      " 0.02605662 0.01413693 0.01543662 0.0189409  0.03592321 0.00615649\n",
      " 0.01840361 0.01108578 0.03570691 0.01264337 0.00794916 0.0170585\n",
      " 0.01481057 0.02259083 0.01495183 0.0094202  0.02558272 0.00763694\n",
      " 0.00888264 0.0231895  0.01094672 0.05439358 0.01224995 0.02521147\n",
      " 0.05281303 0.01419831 0.02617433 0.01664064 0.02847584 0.01455831\n",
      " 0.036759   0.01722094 0.02421744 0.01499468 0.01181229 0.0416014\n",
      " 0.03686765 0.03901889 0.00616239 0.02853403 0.08213408 0.01481976\n",
      " 0.01352724 0.0137278  0.01295207 0.00451996 0.00750898 0.01138921\n",
      " 0.01212995 0.03046614 0.00651706 0.03495478 0.02372547 0.01320441\n",
      " 0.0047615  0.01738087 0.01176274 0.01606376 0.12221698 0.02696696\n",
      " 0.00583262 0.03459433 0.01120298 0.03481036 0.06312139 0.03134319\n",
      " 0.01025314 0.03167352 0.01351174 0.02155898 0.03370471 0.00428652\n",
      " 0.00933381 0.01383601 0.00809575 0.03499285 0.04001499 0.05111177\n",
      " 0.00944037 0.04856792 0.00655889 0.03359249 0.00478451 0.01617224\n",
      " 0.01365838 0.01784626 0.01183165 0.00871084 0.01770142 0.00776637\n",
      " 0.01592503 0.05345955 0.01284882 0.01393165 0.02014756 0.02546754\n",
      " 0.00976186 0.0572863  0.06102884 0.0116946  0.02371555 0.01388592\n",
      " 0.01625502 0.01616507 0.01160158 0.03361021 0.01674843 0.01611373\n",
      " 0.02722021 0.04840755 0.08606517 0.02588846 0.02528181 0.01428462\n",
      " 0.026906   0.02556301 0.00641839 0.00711913 0.03160675 0.03779238\n",
      " 0.00722229 0.0241456  0.05444011 0.02102303 0.03024632 0.01350629\n",
      " 0.02047359 0.01693574 0.04232634 0.01650622 0.03185707 0.01270547\n",
      " 0.01007689 0.02089923 0.01088633 0.00914545 0.02645237 0.02175979\n",
      " 0.01822376 0.01669937 0.02487042 0.01534263 0.01026447 0.00804078\n",
      " 0.01052116 0.01295245 0.05746841 0.05078681 0.03431847 0.03290612\n",
      " 0.01197611 0.02488881 0.00536654 0.01515044 0.01209232 0.06007437\n",
      " 0.01077838 0.01750868 0.01991516 0.04813133 0.0042868  0.01350651\n",
      " 0.02305238 0.02369077 0.02449292 0.00790063]\n",
      "[0.03778606 0.02136284 0.01139526 0.01509934 0.01012088 0.00423842\n",
      " 0.0218354  0.05328053 0.0125934  0.02351561 0.03313679 0.05411463\n",
      " 0.02022501 0.01763961 0.01015533 0.03225755 0.05562757 0.00651437\n",
      " 0.00923477 0.01150284 0.00773084 0.0217361  0.01850077 0.02594115\n",
      " 0.02179787 0.0392301  0.02487116 0.01071153 0.01302279 0.0761116\n",
      " 0.01681171 0.01088732 0.01480305 0.00751945 0.02444279 0.01739335\n",
      " 0.00166714 0.01650415 0.04603746 0.05743266 0.01660471 0.01014346\n",
      " 0.0112871  0.03148195 0.02606955 0.03068814 0.00843902 0.06169579\n",
      " 0.02654868 0.08322361 0.00633114 0.00708676 0.01156877 0.03350452\n",
      " 0.02287783 0.02352815 0.0275585  0.01264089 0.01659129 0.02106986\n",
      " 0.00645176 0.03007108 0.00876148 0.04450017 0.01381763 0.01132416\n",
      " 0.00938615 0.00268203 0.02587314 0.03247066 0.00824893 0.00807618\n",
      " 0.05212258 0.06089625 0.02027461 0.00712282 0.01248034 0.00878039\n",
      " 0.02002922 0.04914313 0.01344979 0.02012049 0.01399822 0.03603131\n",
      " 0.01041004 0.03550653 0.03194277 0.00936535 0.04002441 0.01892488\n",
      " 0.01348694 0.0059701  0.04332094 0.01252573 0.00811689 0.00847656\n",
      " 0.01898652 0.02736227 0.01476958 0.01681474 0.03287165 0.00643804\n",
      " 0.00769425 0.03368483 0.00948408 0.00641961 0.0112336  0.01775456\n",
      " 0.0093549  0.00680122 0.02713973 0.01566961 0.06764499 0.01871345\n",
      " 0.02391648 0.031642   0.05034691 0.00787443 0.02345057 0.02256776\n",
      " 0.0091924  0.01805022 0.01426643 0.07184664 0.00279883 0.0189717\n",
      " 0.01912833 0.01190108 0.02597237 0.01260993 0.01914877 0.00994732\n",
      " 0.01208174 0.04433606 0.01424643 0.00690743 0.00386801 0.0109386\n",
      " 0.00656288 0.01041091 0.0122901  0.00615555 0.03263506 0.01108516\n",
      " 0.05268919 0.01865289 0.00981606 0.01472849 0.0093271  0.01562792\n",
      " 0.01215276 0.01268041 0.09653113 0.00811216 0.01596166 0.03552782\n",
      " 0.03093968 0.08513939 0.02094177 0.02289444 0.02600368 0.01253516\n",
      " 0.01475277 0.01176294 0.01626911 0.02439993 0.03016271 0.02392844\n",
      " 0.09991819 0.0241865  0.02549239 0.00887606 0.00375951 0.03281168\n",
      " 0.02185123 0.02143301 0.00624636 0.02118517 0.01197914 0.01048307\n",
      " 0.01041183 0.0186713  0.01205721 0.01672246 0.01331874 0.08995694\n",
      " 0.01888414 0.01204183 0.05193208 0.02049821 0.01189452 0.01047206\n",
      " 0.03021438 0.01793834 0.02622358 0.02223182 0.01412926 0.03488065\n",
      " 0.01954642 0.02127739 0.010184   0.01303225 0.00357886 0.01637326\n",
      " 0.00454485 0.01506931 0.03819973 0.01100021 0.0150507  0.02276143\n",
      " 0.01226955 0.01203353 0.02266562 0.00758817 0.01196979 0.01361387\n",
      " 0.01276482 0.05923381 0.01233653 0.00383523 0.00450233 0.0567327\n",
      " 0.03596878 0.01563866 0.08810577 0.00798591 0.01541872 0.02100988\n",
      " 0.0385532  0.01831728 0.0138986  0.04979126 0.02274897 0.01917212\n",
      " 0.01312868 0.01177394 0.00658341 0.01302883 0.01590431 0.00860552\n",
      " 0.03805339 0.03500973 0.00823604 0.01525341 0.01103462 0.0081184\n",
      " 0.0184464  0.00692426 0.01561582 0.01758772 0.00523582 0.03685861\n",
      " 0.11340332 0.02340412 0.00193586 0.01068295 0.01851236 0.01095918\n",
      " 0.01886455 0.01024094 0.00938029 0.00798935 0.0470176  0.03682322\n",
      " 0.00973327 0.03194238 0.01440382 0.04482203 0.02935538 0.00976067\n",
      " 0.01471709 0.00558215 0.01398074 0.0274275  0.0117169  0.02806693\n",
      " 0.06359008 0.00855014 0.01158962 0.01245281 0.01448303 0.02752006\n",
      " 0.01006388 0.01582067 0.00528943 0.01542543 0.04738523 0.02335397\n",
      " 0.02451646 0.02474483 0.06346816 0.00746029 0.03934114 0.00880776\n",
      " 0.00674967 0.01185294 0.01388972 0.03923781 0.01558339 0.05166926\n",
      " 0.01888445 0.02377769 0.01032307 0.0144319  0.02649497 0.04804935\n",
      " 0.03835228 0.00942691 0.0171567  0.0188302  0.02074829 0.00750002\n",
      " 0.01672776 0.01796115 0.0056709  0.02122167 0.00971334 0.01524359\n",
      " 0.00850604 0.01381364 0.01262985 0.01680176 0.0047489  0.01915057\n",
      " 0.01689748 0.03127835 0.01234266 0.00816225 0.02902406 0.00619531\n",
      " 0.04472552 0.00860588 0.02268172 0.01392777 0.02461679 0.02419838\n",
      " 0.02965322 0.02060784 0.01635988 0.01631344 0.00836003 0.01593562\n",
      " 0.01632128 0.01659273 0.03933433 0.01989598 0.02085263 0.03647633\n",
      " 0.01119304 0.01768644 0.01025693 0.01263758 0.02225316 0.00877737\n",
      " 0.02216584 0.01987316 0.01631386 0.04228585 0.01605038 0.01628132\n",
      " 0.024351   0.02871518 0.01049215 0.00889844 0.01081608 0.02516042\n",
      " 0.02181606 0.01978775 0.01219656 0.05053138 0.07076607 0.03333759\n",
      " 0.01834145 0.01647535 0.04908764 0.01107471 0.008337   0.02146029\n",
      " 0.008521   0.07932316 0.01175284 0.01552893 0.00958207 0.01352972\n",
      " 0.00797594 0.05015115 0.05798501 0.01748561 0.0114237  0.01653964\n",
      " 0.01131909 0.04327546 0.01674378 0.01532329 0.01140707 0.01116624\n",
      " 0.0102837  0.00937399 0.01463699 0.0090247  0.01029982 0.01587925\n",
      " 0.01391929 0.07776934 0.06234487 0.01242276 0.04286937 0.00844854\n",
      " 0.01971068 0.03070449 0.01053013 0.04117877 0.01949116 0.03088471\n",
      " 0.00613358 0.02923604 0.0136937  0.01418636 0.00821745 0.01317933\n",
      " 0.04071702 0.0088254  0.01623826 0.01411379 0.01182565 0.0069797\n",
      " 0.03444779 0.00966223 0.02245521 0.01136861 0.05056091 0.0359301\n",
      " 0.0113147  0.09102944 0.03414247 0.0135807  0.09007231 0.0409047\n",
      " 0.01911855 0.01726444 0.02359648 0.01130173 0.02564877 0.01380641\n",
      " 0.02058329 0.02187543 0.01028611 0.02693786 0.00509242 0.0136127\n",
      " 0.00643465 0.03523741 0.01501237 0.01522077 0.02955489 0.00178366\n",
      " 0.02936067 0.02130469 0.01842806 0.01107982 0.02761113 0.01313684\n",
      " 0.00860398 0.02169498 0.00883731 0.02730757 0.0149303  0.00835246\n",
      " 0.02191865 0.00550907 0.01282369 0.00851993 0.04383598 0.03842633\n",
      " 0.01173568 0.02254407 0.01681903 0.01421381 0.0112823  0.00759868\n",
      " 0.02298688 0.01835176 0.01290734 0.00520519 0.00524174 0.00659625\n",
      " 0.02877548 0.02934623 0.01461475 0.01179447 0.05423313 0.00721136\n",
      " 0.01021929 0.02231764 0.05177144 0.02691166 0.02494196 0.03300791\n",
      " 0.01045323 0.02339786 0.02457982 0.03464522 0.01075497 0.00776839\n",
      " 0.01408204 0.02607886 0.0420696  0.02386627 0.017189   0.00802757\n",
      " 0.02087117 0.04303463 0.00666709 0.00930165 0.01794641 0.01249512\n",
      " 0.01257574 0.03073831 0.01738446 0.01662098 0.02518982 0.006654\n",
      " 0.02003706 0.01344291 0.04677276 0.02144114 0.01845282 0.03741986\n",
      " 0.04765438 0.00603603 0.0043322  0.00711321 0.01023332 0.03065275\n",
      " 0.0144788  0.04202384 0.00772969 0.02442005 0.01095902 0.0054815\n",
      " 0.02074455 0.00989394 0.02866358 0.04218732 0.02339992 0.01216727\n",
      " 0.02350266 0.03929683 0.01001981 0.00842623 0.0061799  0.00814863\n",
      " 0.03021007 0.02397954 0.00674894 0.04617932 0.00551787 0.02240191\n",
      " 0.03001567 0.01005048 0.01759949 0.01474518 0.00528641 0.00954086\n",
      " 0.01346457 0.01194834 0.02613232 0.01257747 0.00806318 0.02188651\n",
      " 0.00587761 0.00936713 0.01232656 0.01284563 0.01410324 0.02134792\n",
      " 0.04681729 0.01632037 0.01138805 0.00785309 0.00652142 0.0066141\n",
      " 0.02256058 0.00611379 0.00498239 0.08654518 0.01790807 0.01485692\n",
      " 0.01751721 0.02256055 0.04821589 0.05648877 0.01382146 0.01853248\n",
      " 0.03040828 0.01536402 0.00940971 0.03202478 0.00972085 0.01057028\n",
      " 0.00930856 0.01260556 0.02365825 0.06558937 0.00920216 0.03817518\n",
      " 0.01295049 0.01205751 0.00236318 0.01082968 0.01133948 0.01745846\n",
      " 0.01517592 0.02275639 0.01621664 0.00871825 0.01789587 0.01853383\n",
      " 0.00455969 0.02728036 0.02767071 0.01202301 0.01956632 0.01759475\n",
      " 0.01108604 0.01402116 0.02061549 0.02427377 0.05069399 0.00554353\n",
      " 0.02056597 0.00958746 0.00893511 0.02157126 0.02672383 0.07403389\n",
      " 0.01246897 0.0193905  0.00462365 0.01211968 0.01132866 0.00793559\n",
      " 0.0116805  0.01332227 0.02504075 0.03123979 0.02451274 0.00544687\n",
      " 0.02090244 0.02582935 0.02681496 0.00766494 0.02017276 0.10062584\n",
      " 0.0087375  0.00718616 0.01154955 0.00939723 0.00215975 0.00750699\n",
      " 0.0384007  0.0123727  0.03932013 0.02054643 0.02272182 0.01526221\n",
      " 0.01913463 0.00559656 0.00667567 0.01082236 0.01084693 0.00879633\n",
      " 0.00389713 0.02961739 0.01576234 0.01452022 0.02141844 0.02302402\n",
      " 0.02652927 0.02709236 0.01795679 0.04747151 0.0070037  0.03405663\n",
      " 0.04289135 0.01124417 0.00696315 0.01379988 0.0112253  0.01760519\n",
      " 0.0197672  0.03537631 0.00772555 0.03929647 0.00805587 0.01691947\n",
      " 0.01674016 0.03292491 0.02304794 0.03732311 0.02121598 0.01480476\n",
      " 0.01990284 0.03219681 0.01552492 0.00920444 0.02384696 0.02101921\n",
      " 0.01886011 0.09589059 0.02161323 0.01586595 0.04411957 0.02015508\n",
      " 0.01960919 0.01601686 0.01535264 0.01475746 0.03026832 0.02183457\n",
      " 0.03548893 0.00608939 0.01364396 0.01546977 0.01003533 0.01861907\n",
      " 0.0295608  0.0081856  0.02509842 0.04829379 0.01091475 0.03394966\n",
      " 0.01546392 0.00899596 0.0415286  0.01343689 0.01269376 0.02072011\n",
      " 0.04448974 0.01748548 0.01568991 0.03122838 0.03388707 0.02073235\n",
      " 0.00722772 0.01443569 0.00835455 0.0208536  0.02722195 0.01797362\n",
      " 0.56225789 0.01372728 0.0098208  0.04493605 0.01083451 0.00967993\n",
      " 0.01665988 0.02790636 0.09250941 0.00949745 0.06217492 0.00629852\n",
      " 0.01654466 0.05368264 0.05588678 0.01071933 0.00721353 0.00598276\n",
      " 0.01577458 0.01865834 0.00762248 0.01480116 0.00558269 0.01749057\n",
      " 0.00428163 0.01144731 0.01419227 0.02757942 0.02354421 0.03492986\n",
      " 0.02953516 0.02584235 0.05940945 0.02015338 0.01396413 0.01166171\n",
      " 0.01531166 0.01023355 0.00996013 0.01458157 0.03403802 0.0164956\n",
      " 0.0451843  0.00865275 0.00924152 0.00646778 0.0204732  0.03709006\n",
      " 0.04497722 0.021624   0.00756729 0.0313946  0.01048434 0.02455674\n",
      " 0.02820423 0.02434965 0.00673152 0.01699196 0.00616677 0.03346617\n",
      " 0.01576514 0.01407702 0.01892944 0.01560682 0.01540604 0.04741078\n",
      " 0.01632402 0.01949755 0.02645466 0.02117423 0.00829188 0.02072018\n",
      " 0.00544499 0.01463671 0.01336132 0.01843315 0.02134377 0.01903288\n",
      " 0.02686335 0.01161816 0.00863919 0.02123293 0.01249925 0.02053069\n",
      " 0.05439911 0.01315633 0.02831022 0.02032479 0.01243272 0.01389741\n",
      " 0.02040765 0.01028494 0.01416562 0.00609088 0.01210541 0.02153144\n",
      " 0.0155705  0.02344964 0.00606854 0.00880475 0.00497964 0.01358913\n",
      " 0.00865704 0.02150081 0.01232556 0.02277155 0.00559356 0.02931446\n",
      " 0.02794089 0.00605473 0.03229962 0.01572832 0.03195925 0.01249403\n",
      " 0.01078834 0.02049303 0.02470164 0.02017431 0.03067517 0.07852985\n",
      " 0.03241781 0.02051969 0.0027133  0.02556621 0.05843318 0.01561552\n",
      " 0.00699613 0.01703372 0.02366243 0.00270273 0.00850932 0.02732871\n",
      " 0.00976773 0.03528748 0.01569526 0.02160062 0.01153831 0.01291264\n",
      " 0.00926435 0.01413148 0.01382279 0.0157509  0.03272574 0.01401448\n",
      " 0.00532207 0.01501267 0.00839033 0.03793196 0.05338316 0.03552451\n",
      " 0.00871475 0.04371573 0.01062096 0.01807966 0.04245454 0.00691833\n",
      " 0.01600317 0.01527713 0.01279811 0.01605925 0.02527479 0.04971517\n",
      " 0.00550525 0.02826396 0.01027633 0.05022396 0.00600539 0.00949714\n",
      " 0.03089703 0.03436287 0.01284995 0.01732116 0.01502737 0.0112437\n",
      " 0.01535884 0.01780861 0.0035613  0.02173227 0.01642379 0.03494277\n",
      " 0.00583797 0.02319991 0.0239041  0.02139277 0.01828559 0.02062753\n",
      " 0.01039657 0.01599559 0.00532383 0.03751801 0.01587921 0.0123818\n",
      " 0.00916704 0.04114533 0.07174432 0.01678223 0.01857364 0.01788028\n",
      " 0.05843215 0.00865019 0.00738284 0.007356   0.04062328 0.02522054\n",
      " 0.00909796 0.00858843 0.02607518 0.01835788 0.02424859 0.01798588\n",
      " 0.01974705 0.02247965 0.05322652 0.00863038 0.01174862 0.00522578\n",
      " 0.01072778 0.02789353 0.01496192 0.00849924 0.00707278 0.02207589\n",
      " 0.0121879  0.02169973 0.0163757  0.01474178 0.01167631 0.01638125\n",
      " 0.00944839 0.01070414 0.00961761 0.02421826 0.03595911 0.02486116\n",
      " 0.04015348 0.01689592 0.00560027 0.01194593 0.01753178 0.05442923\n",
      " 0.01774163 0.01677768 0.01146933 0.01449764 0.00871166 0.04289618\n",
      " 0.04477502 0.02594706 0.01549754 0.00953738]\n",
      "[0.04124027 0.03175274 0.02466022 0.01469559 0.02264803 0.0093339\n",
      " 0.0176478  0.04708762 0.01541027 0.02246771 0.04800658 0.03481568\n",
      " 0.03395887 0.01538679 0.00989103 0.04090483 0.02688354 0.00774128\n",
      " 0.01402921 0.01538528 0.01795968 0.03262251 0.02855218 0.03544231\n",
      " 0.03066934 0.02443803 0.02027468 0.01105163 0.0092883  0.08232532\n",
      " 0.03366929 0.00998751 0.01813839 0.01366929 0.03870809 0.01612372\n",
      " 0.00701774 0.03567264 0.04007685 0.06882699 0.02049616 0.02720432\n",
      " 0.01498388 0.04555958 0.02744291 0.0304185  0.01831899 0.14451243\n",
      " 0.0348227  0.04346557 0.01055428 0.01524208 0.01781023 0.04353033\n",
      " 0.02261506 0.03585294 0.04952613 0.02603627 0.01936036 0.03070889\n",
      " 0.00961384 0.04551423 0.01322657 0.0389237  0.0241001  0.015874\n",
      " 0.01413141 0.0041567  0.02081162 0.03515934 0.01446516 0.01416687\n",
      " 0.03020707 0.04735707 0.02223706 0.00711734 0.01651755 0.02021976\n",
      " 0.03126679 0.04033321 0.02362983 0.02348769 0.01642597 0.06052055\n",
      " 0.01165048 0.04704666 0.02918842 0.01170775 0.02862165 0.02748786\n",
      " 0.02144776 0.00755555 0.03774171 0.01081172 0.0163325  0.01562767\n",
      " 0.02748197 0.02932327 0.02542077 0.02666107 0.06730271 0.00813013\n",
      " 0.01088872 0.07410819 0.01199063 0.01395118 0.01287339 0.01418657\n",
      " 0.01521859 0.01202526 0.03177925 0.02056684 0.06247308 0.03455496\n",
      " 0.04452717 0.0394065  0.04889043 0.01759124 0.04653946 0.02708685\n",
      " 0.01223213 0.01999693 0.02045813 0.11379843 0.00539014 0.03984368\n",
      " 0.02807381 0.01362556 0.04541346 0.01275049 0.02244043 0.01096062\n",
      " 0.01308534 0.05324162 0.01820606 0.0153522  0.01119625 0.01766041\n",
      " 0.0135039  0.00786323 0.01513694 0.01088521 0.03064956 0.01332639\n",
      " 0.05979267 0.02313874 0.02969535 0.0170393  0.01538045 0.0256295\n",
      " 0.02174664 0.01509973 0.1240238  0.01110788 0.01299725 0.01534221\n",
      " 0.03142439 0.07421066 0.04239428 0.01841201 0.03489463 0.02172325\n",
      " 0.02608815 0.01793181 0.03005705 0.01817981 0.04273389 0.02466621\n",
      " 0.05227908 0.02878077 0.02821835 0.01458767 0.00901417 0.03162807\n",
      " 0.01963782 0.02121797 0.00545461 0.03278775 0.02315714 0.01100012\n",
      " 0.01282855 0.03335322 0.02016458 0.01368696 0.02338303 0.02969645\n",
      " 0.02248039 0.01873064 0.07843056 0.0172039  0.0173593  0.01247145\n",
      " 0.03004666 0.02558132 0.02171755 0.03800245 0.02281983 0.04607224\n",
      " 0.02742519 0.03457772 0.01556999 0.01261925 0.00953793 0.02411141\n",
      " 0.00927524 0.01681291 0.04740659 0.02134602 0.02477712 0.03099007\n",
      " 0.00817923 0.02887565 0.02736611 0.01651728 0.01813004 0.02677501\n",
      " 0.01619861 0.09364045 0.01641259 0.01127595 0.01054291 0.04301084\n",
      " 0.05931448 0.01492021 0.07151601 0.01581118 0.0266462  0.03078949\n",
      " 0.04045941 0.03269268 0.01253347 0.02639869 0.02670536 0.0227847\n",
      " 0.01203747 0.03194577 0.01015514 0.01731567 0.03033989 0.00979147\n",
      " 0.04968305 0.03634233 0.01489742 0.02376601 0.01879615 0.01139603\n",
      " 0.01845447 0.01528724 0.01791342 0.03942664 0.00766887 0.03980518\n",
      " 0.08120157 0.0355067  0.00878528 0.01388252 0.02874381 0.01223187\n",
      " 0.0243284  0.01608444 0.01303322 0.01509866 0.0429668  0.05505378\n",
      " 0.01841427 0.03507238 0.02467154 0.02965489 0.04188422 0.01746519\n",
      " 0.01837687 0.00844574 0.01831188 0.03970196 0.01548123 0.03624351\n",
      " 0.05877842 0.01187191 0.01564827 0.02153579 0.01498324 0.06245615\n",
      " 0.02652239 0.01870269 0.00937293 0.01220269 0.04366647 0.0317305\n",
      " 0.02522143 0.02259194 0.10035525 0.00939325 0.06655819 0.01509514\n",
      " 0.00937003 0.01508278 0.01782263 0.05361907 0.02046035 0.03556203\n",
      " 0.03052559 0.04267497 0.01178391 0.025371   0.03998369 0.04555711\n",
      " 0.02092584 0.01423429 0.01539191 0.0215792  0.02976268 0.00790279\n",
      " 0.03602474 0.02587601 0.01801825 0.04076941 0.01795153 0.02073854\n",
      " 0.01411634 0.01904777 0.0287456  0.01466031 0.01054966 0.04841189\n",
      " 0.01280779 0.04877437 0.02047293 0.01728672 0.03792794 0.00877815\n",
      " 0.07595297 0.01382726 0.05302918 0.01942605 0.04657326 0.04572562\n",
      " 0.01613298 0.02200421 0.02410523 0.0245455  0.01849528 0.02158993\n",
      " 0.03362256 0.02050992 0.04830928 0.02316337 0.03266292 0.03783684\n",
      " 0.02591209 0.02413371 0.01705613 0.02163766 0.01605635 0.01787555\n",
      " 0.03591621 0.02792683 0.02137687 0.03006221 0.01606898 0.02193626\n",
      " 0.03185302 0.03518208 0.01510261 0.01122229 0.01116655 0.02741695\n",
      " 0.03792632 0.02545403 0.01402949 0.03925327 0.03571545 0.03186334\n",
      " 0.01643023 0.0222749  0.02897198 0.01559905 0.01446817 0.02733824\n",
      " 0.0148365  0.07155548 0.01174236 0.02132543 0.02027858 0.01928158\n",
      " 0.0106395  0.04196907 0.05758869 0.03412741 0.02920975 0.02906884\n",
      " 0.01976246 0.05971902 0.02512717 0.02126988 0.0227189  0.0157939\n",
      " 0.0073145  0.00766836 0.0159908  0.01668666 0.01844654 0.01810905\n",
      " 0.01810225 0.07455424 0.05714026 0.02008631 0.07392114 0.0099013\n",
      " 0.02452363 0.03953567 0.01646617 0.05496254 0.01721159 0.0442835\n",
      " 0.01058597 0.03065451 0.02492293 0.021396   0.02310797 0.02279832\n",
      " 0.02873609 0.01038411 0.02375554 0.02233475 0.02067938 0.01395614\n",
      " 0.07201622 0.01086118 0.02032767 0.02811261 0.07382159 0.03930692\n",
      " 0.0119452  0.06738899 0.03758627 0.01220968 0.0702857  0.04905672\n",
      " 0.02488758 0.02234686 0.04553459 0.00943937 0.03887821 0.01935202\n",
      " 0.02024166 0.02861737 0.01262536 0.0474563  0.00792631 0.01989311\n",
      " 0.02482558 0.03767966 0.01786013 0.02380114 0.03612587 0.00527981\n",
      " 0.03561335 0.02995043 0.04165296 0.01295061 0.04979347 0.01991819\n",
      " 0.01148749 0.01762787 0.01292051 0.04433972 0.01783061 0.01365984\n",
      " 0.02875169 0.00825745 0.01696705 0.01188167 0.03230926 0.03698889\n",
      " 0.0198324  0.04178734 0.01840273 0.02013433 0.01353111 0.01200136\n",
      " 0.02607249 0.01894826 0.01604596 0.0083458  0.01277577 0.01582739\n",
      " 0.02143519 0.03347936 0.02224656 0.01564733 0.05258029 0.01397856\n",
      " 0.01473835 0.03677263 0.110986   0.0240963  0.02820982 0.04347078\n",
      " 0.01446267 0.02732074 0.02186421 0.03139202 0.02189793 0.01142062\n",
      " 0.06316746 0.02805382 0.07974533 0.03409845 0.02235755 0.02061245\n",
      " 0.02883778 0.05096814 0.01131216 0.01655061 0.01482942 0.01572837\n",
      " 0.01975262 0.04222685 0.03034021 0.0244764  0.05042568 0.00951414\n",
      " 0.03431359 0.01762676 0.07251333 0.03747576 0.02761397 0.06660645\n",
      " 0.04776774 0.01030663 0.01083124 0.01087894 0.01728968 0.04047777\n",
      " 0.01596782 0.04800818 0.01692605 0.04318582 0.01825699 0.01048279\n",
      " 0.02258649 0.00771447 0.02463005 0.06366484 0.04256109 0.01883327\n",
      " 0.03680128 0.04016308 0.01561836 0.01224528 0.01025172 0.01867535\n",
      " 0.03059429 0.02491087 0.00965748 0.0208547  0.00875126 0.02401529\n",
      " 0.06069339 0.01424895 0.02334677 0.01921022 0.01034047 0.01383437\n",
      " 0.01414464 0.01329983 0.0385751  0.01905461 0.01433941 0.0261242\n",
      " 0.00718065 0.0137338  0.01649826 0.02246004 0.02673775 0.03152086\n",
      " 0.06050296 0.02002289 0.02102864 0.01307048 0.01579522 0.00828907\n",
      " 0.02421275 0.00651965 0.00935986 0.04890835 0.0180228  0.03082036\n",
      " 0.03144601 0.05527769 0.05706501 0.03088905 0.01925602 0.03228379\n",
      " 0.04979737 0.0229425  0.02114143 0.03630914 0.00911632 0.01507088\n",
      " 0.0122847  0.01800107 0.04413072 0.05626434 0.01824142 0.04764748\n",
      " 0.02485432 0.01952574 0.01063098 0.01411766 0.0196465  0.03403241\n",
      " 0.02239961 0.04682498 0.02182384 0.01045256 0.03385621 0.02047028\n",
      " 0.00876328 0.05006648 0.02806834 0.0188509  0.02862132 0.03016242\n",
      " 0.01628928 0.01368468 0.01929236 0.03715428 0.03881268 0.0093373\n",
      " 0.03957535 0.01365822 0.0150297  0.01482036 0.03982716 0.07860634\n",
      " 0.01528159 0.03303941 0.00915505 0.01473854 0.01530067 0.0083148\n",
      " 0.02448843 0.01210028 0.03901644 0.04899454 0.02755046 0.01317522\n",
      " 0.03577357 0.0433598  0.0561444  0.00696614 0.03297966 0.08534714\n",
      " 0.00815701 0.0115817  0.0121305  0.01729648 0.00760443 0.0128218\n",
      " 0.0431815  0.01745305 0.03770415 0.0235476  0.04183547 0.02090334\n",
      " 0.03574749 0.01019281 0.01196139 0.01447378 0.02661766 0.01901739\n",
      " 0.01084334 0.050535   0.02678035 0.01956822 0.02489145 0.01967396\n",
      " 0.03142471 0.03949292 0.0169728  0.0581355  0.0076177  0.05009195\n",
      " 0.03005016 0.03003391 0.00928585 0.0291658  0.01585917 0.01609618\n",
      " 0.0342713  0.03961963 0.01410415 0.07176215 0.02157402 0.0191085\n",
      " 0.01916257 0.04298652 0.02962992 0.03736293 0.03131192 0.027528\n",
      " 0.02780561 0.04139478 0.01974641 0.01036428 0.02662847 0.02225168\n",
      " 0.04296656 0.0317255  0.02472977 0.02022644 0.06458357 0.02337405\n",
      " 0.02439331 0.01607273 0.01823975 0.01817357 0.03174304 0.02351533\n",
      " 0.04175025 0.01044256 0.02117593 0.02087899 0.01687551 0.0315854\n",
      " 0.02613046 0.01415881 0.05204222 0.06258398 0.01623359 0.03881386\n",
      " 0.02761784 0.01328718 0.02930712 0.01811746 0.01882054 0.02911553\n",
      " 0.04346844 0.01782638 0.0315217  0.03397711 0.03159631 0.0282809\n",
      " 0.01836479 0.01773939 0.01177448 0.02621153 0.03927382 0.01840494\n",
      " 0.02576123 0.02161644 0.01781265 0.04021577 0.00994812 0.01609106\n",
      " 0.02586043 0.02318937 0.0775264  0.0142527  0.03157682 0.01383418\n",
      " 0.01764395 0.03684474 0.04273694 0.01423069 0.01498205 0.007326\n",
      " 0.01934974 0.01788992 0.00947728 0.01549683 0.01097154 0.02503785\n",
      " 0.00966683 0.02336252 0.02237463 0.06266881 0.03187388 0.05313039\n",
      " 0.04718892 0.03541494 0.06184781 0.0326506  0.01727513 0.02675737\n",
      " 0.01684544 0.01474714 0.01316982 0.0121489  0.04644645 0.02394806\n",
      " 0.06431477 0.01270687 0.01312051 0.00958549 0.02629794 0.05026206\n",
      " 0.03631613 0.01723109 0.01176045 0.02992479 0.00983765 0.02145442\n",
      " 0.03533813 0.04616563 0.00816813 0.02479976 0.01322162 0.03291282\n",
      " 0.03250783 0.03549277 0.02793962 0.0182708  0.01945555 0.08942055\n",
      " 0.01845817 0.03042064 0.02882527 0.02940133 0.01312195 0.02505563\n",
      " 0.01220957 0.02563329 0.02714002 0.05522389 0.04024668 0.02917838\n",
      " 0.02662155 0.00978768 0.01184409 0.02496024 0.0116142  0.02182154\n",
      " 0.03305569 0.02051263 0.02013786 0.036344   0.02695102 0.01288663\n",
      " 0.02088109 0.01042772 0.01544716 0.0156251  0.01482851 0.01712275\n",
      " 0.02370262 0.03510786 0.01269843 0.00971381 0.0182393  0.0114763\n",
      " 0.0092022  0.03656853 0.01266377 0.0489364  0.00890616 0.03406116\n",
      " 0.03278574 0.01612554 0.03813316 0.01175141 0.04866128 0.01713659\n",
      " 0.0155943  0.02280006 0.02856036 0.01450671 0.01780967 0.07694593\n",
      " 0.04192878 0.03998547 0.00795529 0.02015186 0.0744474  0.02446459\n",
      " 0.01832766 0.02077311 0.03695766 0.00614177 0.00914758 0.01754507\n",
      " 0.01520268 0.0434646  0.011028   0.02415638 0.02944507 0.01950873\n",
      " 0.00996375 0.02573564 0.02076753 0.03653569 0.04741359 0.02684324\n",
      " 0.00958578 0.02399271 0.01308765 0.07048448 0.04102743 0.03921601\n",
      " 0.01865852 0.03796348 0.01636113 0.02713255 0.07043334 0.00837699\n",
      " 0.03718735 0.02190464 0.01557332 0.02897765 0.02135812 0.07374135\n",
      " 0.00986521 0.02915055 0.01540651 0.07520883 0.00724225 0.01090072\n",
      " 0.01796631 0.03935064 0.02685798 0.02156493 0.03251928 0.01490187\n",
      " 0.02212684 0.03448807 0.01169107 0.02589962 0.02393333 0.05509279\n",
      " 0.0137787  0.0428113  0.03943367 0.02061504 0.02194757 0.02284807\n",
      " 0.0219733  0.01400957 0.01026466 0.04119146 0.02568664 0.01270089\n",
      " 0.01233361 0.05442017 0.06038732 0.02970264 0.04658693 0.01915941\n",
      " 0.06871016 0.01362811 0.00862705 0.00848331 0.03059605 0.03570355\n",
      " 0.00939748 0.02196292 0.04637932 0.03229783 0.03574715 0.02529129\n",
      " 0.02523698 0.0224007  0.05098352 0.02059879 0.02293859 0.00956774\n",
      " 0.01464665 0.04227471 0.02883715 0.01153666 0.01196867 0.02193926\n",
      " 0.01781601 0.02658417 0.02631608 0.02380958 0.01570282 0.01509588\n",
      " 0.01201023 0.011127   0.02237153 0.02676801 0.03978161 0.01954272\n",
      " 0.03028126 0.02188101 0.00675743 0.02816149 0.01133863 0.07194758\n",
      " 0.0180511  0.02692992 0.01855049 0.01762112 0.00663135 0.02548251\n",
      " 0.05114539 0.02828248 0.02277832 0.0090763 ]\n",
      "[0.03224489 0.01833577 0.0109819  0.00876132 0.01471886 0.0103911\n",
      " 0.00901372 0.04490021 0.01083583 0.01449708 0.03881123 0.03630459\n",
      " 0.02971892 0.01109481 0.00744155 0.02317929 0.04911665 0.0113232\n",
      " 0.0082699  0.01584327 0.00872957 0.02456042 0.02060281 0.02569077\n",
      " 0.02319797 0.02104891 0.01498488 0.00811408 0.00955513 0.07467549\n",
      " 0.01766918 0.00969883 0.00757771 0.0074371  0.02339269 0.01002339\n",
      " 0.00483709 0.01865252 0.03912469 0.06006588 0.01070981 0.02264333\n",
      " 0.00891145 0.04219247 0.02371944 0.02497556 0.01024728 0.05098991\n",
      " 0.02114122 0.04961195 0.00494366 0.00879926 0.01172798 0.02565432\n",
      " 0.00555727 0.0164556  0.03186233 0.01111656 0.01476798 0.02084436\n",
      " 0.00395582 0.03802258 0.00992161 0.03536221 0.01120567 0.01875053\n",
      " 0.00558346 0.00678248 0.01769818 0.04319517 0.01562814 0.00942601\n",
      " 0.02098573 0.0433107  0.0127303  0.01181494 0.01724954 0.01399914\n",
      " 0.01732184 0.05444434 0.01804716 0.03859816 0.01258172 0.03497504\n",
      " 0.00517098 0.03233153 0.04107257 0.01306081 0.02443278 0.01584009\n",
      " 0.0131608  0.00652155 0.02890634 0.00631075 0.0102922  0.0127667\n",
      " 0.01683819 0.01677758 0.01752998 0.0143257  0.03602222 0.00584462\n",
      " 0.00579752 0.03738774 0.00785819 0.01076975 0.00717467 0.00738999\n",
      " 0.01407064 0.01415879 0.02934314 0.01213859 0.0397614  0.01978794\n",
      " 0.02779714 0.02346256 0.03886153 0.00960029 0.00906587 0.01065114\n",
      " 0.00270311 0.01673825 0.0213612  0.06205339 0.00826778 0.02373042\n",
      " 0.01969069 0.01275199 0.02752481 0.0125101  0.01564794 0.00637286\n",
      " 0.01846943 0.04042078 0.01739862 0.00473274 0.00673859 0.00852222\n",
      " 0.01039288 0.00404808 0.00954725 0.0062432  0.02274959 0.01275301\n",
      " 0.0407494  0.01263957 0.01508719 0.00900303 0.00822181 0.01746978\n",
      " 0.01138924 0.01291972 0.08435155 0.00621538 0.00938623 0.02270909\n",
      " 0.02144087 0.07232584 0.02049846 0.02222308 0.02626854 0.01558561\n",
      " 0.01280785 0.01171182 0.01389502 0.01260633 0.03280974 0.0180916\n",
      " 0.0753803  0.01788776 0.01982929 0.00703525 0.00723303 0.02359802\n",
      " 0.01418634 0.0141117  0.68537862 0.01491734 0.01734885 0.00827511\n",
      " 0.01458606 0.01678225 0.01316972 0.00973316 0.01303136 0.05185563\n",
      " 0.01697232 0.01807088 0.04842294 0.01289083 0.01537401 0.00528626\n",
      " 0.02251357 0.03408644 0.01225715 0.02423024 0.01057801 0.03144137\n",
      " 0.01565322 0.01866493 0.01732978 0.00716794 0.00706794 0.01808127\n",
      " 0.00552027 0.00645969 0.0337372  0.01160332 0.01906588 0.01492318\n",
      " 0.00973766 0.01533081 0.03401955 0.00793629 0.00988236 0.0195433\n",
      " 0.00882467 0.04246902 0.00849786 0.00877523 0.00405031 0.03931031\n",
      " 0.03623143 0.01037354 0.0693369  0.01408377 0.01428141 0.02494777\n",
      " 0.02962032 0.02265149 0.00739631 0.02751449 0.010098   0.01479552\n",
      " 0.0064468  0.0246995  0.00591735 0.03290811 0.01953504 0.01059971\n",
      " 0.03074522 0.02545275 0.01151109 0.01859974 0.00652466 0.00690976\n",
      " 0.01219933 0.00945786 0.01472741 0.01753197 0.00785312 0.01800527\n",
      " 0.07471645 0.02110678 0.00693022 0.00935232 0.01735023 0.00438247\n",
      " 0.01936611 0.01607926 0.00404438 0.01116509 0.03158366 0.03661025\n",
      " 0.01476608 0.04071186 0.00999159 0.02671965 0.02133816 0.01009773\n",
      " 0.01125175 0.00859586 0.00557671 0.03466249 0.0104203  0.01874072\n",
      " 0.04746444 0.00843594 0.007163   0.01299253 0.00990616 0.03406742\n",
      " 0.01458044 0.01215445 0.00465966 0.01172091 0.05160776 0.02195946\n",
      " 0.02070856 0.01477576 0.04748558 0.0052079  0.07571796 0.01206831\n",
      " 0.00723895 0.01490461 0.01161188 0.02832515 0.01014101 0.03234427\n",
      " 0.01528707 0.03346228 0.00652443 0.01347571 0.03494759 0.0343999\n",
      " 0.02070956 0.0162251  0.00971013 0.00939603 0.01448262 0.00473799\n",
      " 0.01592426 0.01509983 0.00744674 0.01188433 0.0121259  0.01327533\n",
      " 0.00534586 0.01666155 0.0193541  0.0126517  0.00729564 0.0190226\n",
      " 0.00882497 0.02680392 0.01309837 0.00879476 0.0254945  0.0052084\n",
      " 0.04161028 0.00807822 0.03932682 0.01626215 0.01867865 0.02066352\n",
      " 0.019083   0.01519762 0.01764035 0.01202624 0.00807631 0.01107805\n",
      " 0.01492128 0.01627969 0.02968404 0.01583812 0.01289551 0.02368115\n",
      " 0.01261551 0.01919256 0.00999456 0.0173697  0.00915257 0.01166499\n",
      " 0.02095743 0.02053163 0.01615371 0.02181303 0.00981107 0.01884862\n",
      " 0.01852294 0.02736511 0.00977085 0.00841742 0.00576469 0.02740842\n",
      " 0.01749957 0.02050699 0.02503806 0.04881543 0.04761156 0.02857498\n",
      " 0.00876696 0.01372505 0.04386352 0.00923145 0.011261   0.01602038\n",
      " 0.0135613  0.05224949 0.00650773 0.01707463 0.01608408 0.01491713\n",
      " 0.00679644 0.0309201  0.03185654 0.0170565  0.0229894  0.03825064\n",
      " 0.01469142 0.04404344 0.02311851 0.0144887  0.01780429 0.0063365\n",
      " 0.01205713 0.00258553 0.01552443 0.00892875 0.00949607 0.01540105\n",
      " 0.014085   0.0499421  0.05265535 0.01301927 0.04677948 0.00507259\n",
      " 0.01691595 0.0251968  0.01016582 0.0312021  0.00927686 0.04758717\n",
      " 0.00384898 0.02193648 0.01553391 0.01529017 0.01327017 0.01096485\n",
      " 0.03010366 0.00761589 0.01119437 0.0158871  0.01733229 0.00941053\n",
      " 0.03712729 0.03385462 0.01076357 0.01304378 0.04048838 0.03068686\n",
      " 0.00961928 0.08000472 0.02159893 0.00467968 0.07023222 0.03829552\n",
      " 0.01450123 0.01663317 0.03538605 0.0073911  0.02537319 0.01061177\n",
      " 0.01250362 0.03411995 0.00533107 0.02711915 0.00097454 0.01015684\n",
      " 0.01974951 0.02810275 0.00829905 0.0090313  0.03082461 0.00245989\n",
      " 0.02885619 0.01646062 0.02111015 0.01159261 0.02742232 0.0085716\n",
      " 0.0058076  0.02544949 0.00884742 0.0267494  0.01411873 0.01650965\n",
      " 0.01732139 0.00910766 0.01562324 0.00630277 0.05251372 0.02543605\n",
      " 0.01533566 0.01937224 0.01823245 0.02902517 0.00834084 0.00538463\n",
      " 0.01345821 0.01626044 0.01426082 0.00535392 0.01012882 0.00771961\n",
      " 0.02374185 0.03176276 0.01117061 0.01009559 0.03739481 0.01627462\n",
      " 0.01221935 0.01643055 0.04230149 0.01542994 0.01365391 0.02260735\n",
      " 0.01174333 0.0182819  0.02452681 0.01835682 0.01516507 0.00612074\n",
      " 0.01947205 0.09607927 0.04897956 0.03061395 0.01351858 0.01012073\n",
      " 0.02456682 0.03684667 0.00793375 0.00406687 0.01042016 0.01070359\n",
      " 0.01590794 0.02055523 0.02356246 0.01689182 0.03322491 0.00437261\n",
      " 0.01478574 0.00739905 0.0415532  0.02420031 0.01929014 0.05100109\n",
      " 0.03139694 0.00779383 0.00852519 0.01185411 0.01046057 0.02797659\n",
      " 0.01502583 0.04208557 0.00761755 0.02240704 0.01422267 0.00473025\n",
      " 0.01549934 0.00215732 0.01654485 0.03321937 0.0282277  0.01536911\n",
      " 0.02962966 0.01951035 0.0102276  0.00761124 0.00797092 0.01146088\n",
      " 0.02142808 0.01983911 0.00905797 0.02521246 0.00326818 0.01764536\n",
      " 0.01882488 0.00560803 0.02041722 0.0092679  0.00513779 0.00925127\n",
      " 0.00955789 0.00979945 0.01726069 0.01210355 0.01086431 0.01115065\n",
      " 0.00526914 0.00620064 0.01252991 0.01441934 0.01681551 0.02434571\n",
      " 0.04336077 0.01330785 0.01000309 0.00797761 0.00537386 0.00533956\n",
      " 0.0111684  0.00712435 0.00598751 0.04521079 0.01228633 0.01611256\n",
      " 0.02146927 0.03195887 0.04577611 0.02830158 0.01081316 0.01093792\n",
      " 0.04248287 0.01383328 0.00933511 0.03049743 0.00773353 0.00418238\n",
      " 0.00818765 0.01896877 0.04857633 0.04881576 0.01018279 0.02687849\n",
      " 0.02263054 0.01295446 0.00402509 0.02141029 0.01033419 0.02241739\n",
      " 0.01537155 0.01791363 0.01685332 0.00863011 0.01782636 0.00836234\n",
      " 0.00827676 0.02588963 0.01294093 0.01057197 0.02415045 0.02203877\n",
      " 0.01158349 0.00853605 0.01358409 0.02271591 0.04083387 0.0112164\n",
      " 0.02165427 0.00378675 0.00955936 0.01663229 0.02903804 0.05852161\n",
      " 0.00945266 0.01540434 0.00720024 0.00565794 0.01142891 0.01418732\n",
      " 0.01455274 0.01100683 0.02719167 0.03256357 0.02167687 0.00647141\n",
      " 0.01665885 0.02295971 0.03124656 0.0026147  0.02276816 0.07596518\n",
      " 0.00516341 0.01404041 0.00562899 0.00834064 0.00698735 0.01015504\n",
      " 0.04361673 0.0274521  0.03473254 0.0325591  0.0181868  0.00993479\n",
      " 0.0260156  0.00623945 0.00967861 0.00981631 0.01634037 0.01395911\n",
      " 0.008743   0.02465124 0.01462403 0.01865199 0.01401594 0.01408745\n",
      " 0.02093107 0.02932272 0.01606756 0.03003053 0.00716773 0.03612112\n",
      " 0.03239147 0.02467471 0.01438923 0.02042407 0.00951558 0.00981171\n",
      " 0.02690351 0.03485495 0.0099646  0.03702253 0.01388696 0.01043984\n",
      " 0.01315883 0.04034185 0.02008618 0.03824734 0.02048405 0.00762572\n",
      " 0.00727439 0.03734219 0.00909126 0.0062461  0.01503208 0.0164465\n",
      " 0.01985438 0.04656827 0.01115899 0.01483378 0.03813995 0.02285275\n",
      " 0.01306168 0.01433974 0.01053185 0.01847013 0.02246597 0.01660317\n",
      " 0.04276223 0.00554553 0.01017898 0.01273166 0.01218679 0.02200751\n",
      " 0.02567721 0.01493219 0.02932059 0.06134112 0.01242938 0.02733425\n",
      " 0.02973958 0.00669602 0.0181167  0.01368801 0.024775   0.05634534\n",
      " 0.02365745 0.01486418 0.02391531 0.02639075 0.02246461 0.01208847\n",
      " 0.01069666 0.0133207  0.00625056 0.01640659 0.02751211 0.01262727\n",
      " 0.03555    0.00648963 0.00750169 0.04697536 0.01634493 0.00493999\n",
      " 0.01423351 0.02111168 0.06783212 0.00982931 0.03985676 0.00608919\n",
      " 0.03478726 0.03557915 0.03441002 0.00821314 0.01144098 0.00426522\n",
      " 0.0057123  0.01795968 0.00904719 0.01034891 0.00656042 0.02122496\n",
      " 0.00779664 0.01006863 0.00917126 0.03186658 0.0212879  0.03906297\n",
      " 0.0273818  0.02584874 0.04039333 0.01752209 0.00946117 0.01339166\n",
      " 0.01845657 0.01386836 0.0123222  0.00539086 0.02850159 0.02987409\n",
      " 0.03029649 0.00715654 0.01056983 0.00851348 0.02459634 0.03045278\n",
      " 0.03514966 0.01243763 0.00481376 0.02361264 0.01089176 0.01127182\n",
      " 0.02074417 0.02875606 0.00671147 0.01908289 0.01177535 0.03518295\n",
      " 0.01658058 0.01572295 0.01195946 0.00872898 0.00765505 0.06190553\n",
      " 0.02591906 0.02544403 0.02500811 0.02203938 0.00610828 0.01324459\n",
      " 0.00965045 0.01200129 0.01150934 0.02639941 0.01834444 0.01731122\n",
      " 0.02136489 0.0060337  0.00947468 0.01888561 0.00829886 0.015979\n",
      " 0.03483102 0.01224423 0.02406875 0.02124584 0.01626633 0.00113387\n",
      " 0.01564841 0.00626781 0.01330111 0.00795021 0.00380691 0.00930072\n",
      " 0.0147254  0.02081753 0.02311818 0.00634406 0.01084248 0.00940674\n",
      " 0.00648461 0.01813925 0.01121805 0.03416534 0.00973608 0.02322845\n",
      " 0.02167733 0.00798344 0.02138295 0.01358918 0.02867995 0.01413191\n",
      " 0.01282856 0.01432696 0.01923763 0.01217047 0.01893424 0.06755308\n",
      " 0.0280619  0.02208285 0.00272125 0.01540459 0.05525499 0.01119293\n",
      " 0.01345498 0.01837147 0.01970654 0.00535333 0.00716276 0.0116527\n",
      " 0.01218281 0.02968512 0.01215404 0.02074653 0.0109178  0.00765077\n",
      " 0.01021973 0.02161806 0.00889673 0.02553005 0.03921808 0.01253553\n",
      " 0.00416203 0.01955156 0.0101179  0.03773172 0.03195663 0.023691\n",
      " 0.00653061 0.03260383 0.01731848 0.02557858 0.04148654 0.0035345\n",
      " 0.0163265  0.0168911  0.00999147 0.02819633 0.0209218  0.05374085\n",
      " 0.00654597 0.02196817 0.0072813  0.04906325 0.00496454 0.00513089\n",
      " 0.01820267 0.02694388 0.01678296 0.01230761 0.02357969 0.00636097\n",
      " 0.01055256 0.02549931 0.01035912 0.01666999 0.01435966 0.02535881\n",
      " 0.00420024 0.03137605 0.02516305 0.01374243 0.01637611 0.0129151\n",
      " 0.01101783 0.01291679 0.01306101 0.02707711 0.01682696 0.003274\n",
      " 0.0090288  0.04686466 0.0444923  0.01932595 0.02315354 0.01007591\n",
      " 0.03568842 0.01265155 0.00531124 0.00602232 0.02021542 0.02263715\n",
      " 0.00097514 0.01478579 0.03150241 0.02093538 0.01665934 0.0122137\n",
      " 0.01906607 0.01811856 0.04313683 0.00871811 0.01685964 0.00749029\n",
      " 0.00930868 0.0269672  0.00686339 0.01250899 0.01504583 0.0214725\n",
      " 0.01094588 0.01476818 0.01413754 0.02086085 0.01022907 0.01119467\n",
      " 0.00657933 0.00774571 0.02143216 0.02625439 0.03554894 0.01234135\n",
      " 0.02004208 0.02187939 0.00403779 0.01609744 0.01355522 0.05088744\n",
      " 0.01577584 0.01632794 0.00906706 0.01772048 0.00434349 0.02433494\n",
      " 0.03017846 0.02913294 0.01203371 0.01069667]\n",
      "[0.05580146 0.03599249 0.01206068 0.03013797 0.01736945 0.00700759\n",
      " 0.02424654 0.02606522 0.01658474 0.02306344 0.03496268 0.04474443\n",
      " 0.04128193 0.0163077  0.01413246 0.03344483 0.14472188 0.00653071\n",
      " 0.0108089  0.01618056 0.01064107 0.01669371 0.02332623 0.02464834\n",
      " 0.02093709 0.0270874  0.02259168 0.01006569 0.01148998 0.09748274\n",
      " 0.01718765 0.00889788 0.01682782 0.00934755 0.02392041 0.01553404\n",
      " 0.00673328 0.01938131 0.07335313 0.06885416 0.02179217 0.02022331\n",
      " 0.01407121 0.03310468 0.02111091 0.02444888 0.01252086 0.05292419\n",
      " 0.02357959 0.09704111 0.00740365 0.00593157 0.01120005 0.02766609\n",
      " 0.01892097 0.02330491 0.05663883 0.01366624 0.01870171 0.02526437\n",
      " 0.01250667 0.04307828 0.00822905 0.05822093 0.01740823 0.01232074\n",
      " 0.01550147 0.001348   0.02206398 0.07159294 0.00803964 0.01325938\n",
      " 0.03776367 0.10608841 0.01976238 0.00672499 0.01540891 0.00887717\n",
      " 0.02089061 0.07769009 0.01911551 0.02818794 0.01543062 0.04948935\n",
      " 0.01004153 0.021274   0.05971086 0.0078061  0.02727013 0.01475769\n",
      " 0.01687403 0.00733468 0.061221   0.01207544 0.01048249 0.01569705\n",
      " 0.0337544  0.03365518 0.01530485 0.03255401 0.04632548 0.00470152\n",
      " 0.00721669 0.02969785 0.00691582 0.01098058 0.00855902 0.01821829\n",
      " 0.01138282 0.01154412 0.02593548 0.01600078 0.04402378 0.02002957\n",
      " 0.03424346 0.03026009 0.05703377 0.00863578 0.02127536 0.01663856\n",
      " 0.01390043 0.01663499 0.02045385 0.06823602 0.00792183 0.02929656\n",
      " 0.02425512 0.01149142 0.02229198 0.01415668 0.03199123 0.02010298\n",
      " 0.01443898 0.05555442 0.01185803 0.00772222 0.01051073 0.019303\n",
      " 0.01038217 0.00587453 0.00978121 0.00546121 0.02707848 0.00990282\n",
      " 0.04741864 0.0196994  0.0100332  0.0117183  0.01032269 0.02297842\n",
      " 0.01151341 0.01627377 0.08369209 0.00594706 0.00912641 0.06541443\n",
      " 0.03445961 0.12950018 0.02116588 0.02848367 0.03331957 0.02246086\n",
      " 0.01103632 0.01197734 0.02561983 0.0203616  0.02317811 0.01791357\n",
      " 0.07436388 0.01681993 0.01978734 0.01341812 0.0070066  0.02923925\n",
      " 0.03710676 0.01963703 0.00234085 0.01761687 0.01625402 0.01146613\n",
      " 0.01069587 0.02430454 0.01260411 0.01755367 0.01657415 0.1126064\n",
      " 0.01892256 0.02403285 0.05051971 0.01284908 0.02011503 0.01291995\n",
      " 0.04388325 0.04198581 0.01692339 0.02293769 0.01330409 0.04909803\n",
      " 0.01659269 0.02292463 0.01342993 0.01388577 0.0067704  0.01789389\n",
      " 0.00804847 0.01535372 0.03800723 0.01894535 0.01494966 0.01789613\n",
      " 0.00982524 0.01770195 0.02938333 0.006793   0.01656679 0.01512311\n",
      " 0.01543041 0.03558755 0.01351406 0.008894   0.01244045 0.04959436\n",
      " 0.04839433 0.02123519 0.09729189 0.00968563 0.01501712 0.04189375\n",
      " 0.0511595  0.03137401 0.01001051 0.03404638 0.02313135 0.01491751\n",
      " 0.0310285  0.01774954 0.00698271 0.02289069 0.02537079 0.00974964\n",
      " 0.03093192 0.02700894 0.01491648 0.01650017 0.00961171 0.0099998\n",
      " 0.02227029 0.00799671 0.01913739 0.02545716 0.00559852 0.01598305\n",
      " 0.08409893 0.02661705 0.00678364 0.01049729 0.02014881 0.01316985\n",
      " 0.0209941  0.01351311 0.00864521 0.00795038 0.10049026 0.04046108\n",
      " 0.01098964 0.04820906 0.01683446 0.04700434 0.03439373 0.01635998\n",
      " 0.01151846 0.00863215 0.01857796 0.02388067 0.01424115 0.02428306\n",
      " 0.09216433 0.00947687 0.01579306 0.01310901 0.02210723 0.02133995\n",
      " 0.00946538 0.01331823 0.00643541 0.01136133 0.09862796 0.02310675\n",
      " 0.03263673 0.0162712  0.04643052 0.01115703 0.0553156  0.01007659\n",
      " 0.00463265 0.01693923 0.01422414 0.04563932 0.01014962 0.02852824\n",
      " 0.01948054 0.04107587 0.01150893 0.01921891 0.04322671 0.04260692\n",
      " 0.09487533 0.02614604 0.01655371 0.01974089 0.0153762  0.00829745\n",
      " 0.01891523 0.01945403 0.01553455 0.01434061 0.0143159  0.0174737\n",
      " 0.01591098 0.01228558 0.01186154 0.01429933 0.01012564 0.03193543\n",
      " 0.02927418 0.03076085 0.01239743 0.01070918 0.03420043 0.00813236\n",
      " 0.03799356 0.00777273 0.02975593 0.01540501 0.03773089 0.02108675\n",
      " 0.03432626 0.0121204  0.02315743 0.01825265 0.01184575 0.01781994\n",
      " 0.01665303 0.01308264 0.03911309 0.02166893 0.01643036 0.04736234\n",
      " 0.01482921 0.02442848 0.01312656 0.02052031 0.01860058 0.00972205\n",
      " 0.01908416 0.01766654 0.01938252 0.0735094  0.01235989 0.01518848\n",
      " 0.01852153 0.03745646 0.01187906 0.0076971  0.01819561 0.03376688\n",
      " 0.01786556 0.0170093  0.01597392 0.09429991 0.12202236 0.03706178\n",
      " 0.01667665 0.0114084  0.02379666 0.00865572 0.00898245 0.02785221\n",
      " 0.0093878  0.03766809 0.00930056 0.01687738 0.01287085 0.01223658\n",
      " 0.01091699 0.07276079 0.05589806 0.01845127 0.01703245 0.03135934\n",
      " 0.01000048 0.04447333 0.0175145  0.01267241 0.01558518 0.00746217\n",
      " 0.00841661 0.01795013 0.01414787 0.00981143 0.01459116 0.01500712\n",
      " 0.01508368 0.05896476 0.04052505 0.01739663 0.0496035  0.00453069\n",
      " 0.02345554 0.02514589 0.0097717  0.04783249 0.01645882 0.02820329\n",
      " 0.01007358 0.02651903 0.01768088 0.0201009  0.00959417 0.01188794\n",
      " 0.0921774  0.0108974  0.01446197 0.03000641 0.01633652 0.00710605\n",
      " 0.03296331 0.00959753 0.02598212 0.01000226 0.04381224 0.046382\n",
      " 0.00803013 0.12824298 0.03276027 0.01166778 0.08176994 0.04848695\n",
      " 0.01617808 0.01313268 0.03543233 0.01222093 0.01928789 0.01467038\n",
      " 0.01477403 0.02149299 0.01017653 0.02677246 0.00753394 0.01886077\n",
      " 0.00727549 0.02571956 0.01659485 0.01498183 0.04860045 0.00493956\n",
      " 0.05783251 0.0264974  0.02255934 0.0098792  0.02905338 0.01712778\n",
      " 0.00763967 0.02760077 0.00600306 0.02979221 0.01858985 0.01623848\n",
      " 0.0262026  0.00673075 0.01605408 0.0077859  0.05305371 0.02426965\n",
      " 0.01471708 0.0317384  0.01286999 0.01874294 0.01368728 0.00876175\n",
      " 0.0284962  0.01677015 0.01512489 0.00727592 0.01042317 0.01308029\n",
      " 0.07202457 0.05106621 0.01328585 0.01079633 0.04093715 0.01016806\n",
      " 0.02262623 0.02160352 0.04063551 0.02074609 0.01901778 0.02278075\n",
      " 0.00811532 0.01431948 0.02361828 0.02341688 0.0150109  0.0111651\n",
      " 0.01137769 0.02030497 0.05098448 0.02723149 0.02286623 0.00852372\n",
      " 0.0206525  0.05251188 0.0074125  0.01039774 0.01500158 0.01929541\n",
      " 0.01777357 0.03608433 0.03037638 0.01403124 0.02654909 0.01193588\n",
      " 0.02411134 0.01495002 0.04070955 0.02092869 0.02158391 0.04560062\n",
      " 0.0414165  0.00774056 0.01156676 0.01184668 0.01751326 0.04428579\n",
      " 0.01995873 0.04395547 0.00668828 0.03078677 0.01355628 0.00710529\n",
      " 0.01435679 0.00515138 0.03764921 0.03754413 0.0340747  0.01258699\n",
      " 0.03025977 0.02969109 0.01150744 0.00881384 0.00845698 0.00932751\n",
      " 0.02726598 0.03259323 0.01197446 0.05214333 0.00592865 0.03147812\n",
      " 0.01217437 0.01180971 0.02031886 0.01587717 0.00758198 0.01239528\n",
      " 0.0121421  0.00937077 0.02130802 0.01553253 0.00980169 0.0218231\n",
      " 0.00740199 0.0103516  0.0204789  0.00858115 0.01718441 0.02424237\n",
      " 0.09381071 0.0329323  0.01263181 0.00650868 0.00965714 0.01041866\n",
      " 0.02102491 0.00876104 0.00847347 0.09464003 0.01862816 0.01870422\n",
      " 0.01444659 0.03226182 0.05010065 0.03527554 0.01291254 0.02134515\n",
      " 0.02023458 0.01415551 0.01201593 0.04917662 0.0109887  0.00799731\n",
      " 0.01255452 0.01506505 0.02301855 0.08803837 0.01357602 0.03335224\n",
      " 0.01862616 0.01574062 0.00690088 0.01560475 0.01384948 0.02178967\n",
      " 0.01768908 0.01982031 0.01638684 0.01549627 0.01871248 0.01370436\n",
      " 0.00703143 0.03198564 0.03342218 0.01077005 0.03030526 0.01609075\n",
      " 0.00987449 0.01642086 0.0278736  0.02160183 0.10342849 0.00813679\n",
      " 0.02027209 0.01502005 0.00888089 0.0366372  0.03320533 0.08972341\n",
      " 0.01250849 0.01873881 0.00773836 0.01348254 0.00893343 0.00984626\n",
      " 0.01600165 0.01496128 0.03705755 0.03860968 0.03728772 0.00774704\n",
      " 0.01943783 0.0332291  0.0203461  0.0089427  0.01954299 0.07344761\n",
      " 0.00919561 0.00796391 0.01476318 0.01216143 0.006096   0.0064621\n",
      " 0.03106645 0.01204597 0.06515376 0.01936467 0.0301918  0.01169806\n",
      " 0.02028914 0.00651102 0.00905409 0.0123746  0.01209308 0.00674929\n",
      " 0.00492237 0.03786339 0.01634111 0.02931046 0.02496234 0.02456996\n",
      " 0.0369403  0.02316124 0.01637733 0.03008045 0.00823256 0.03408913\n",
      " 0.06718327 0.01261975 0.00604903 0.01036579 0.01316882 0.01317767\n",
      " 0.02114744 0.05222512 0.0098958  0.04874833 0.01248223 0.01491546\n",
      " 0.01940969 0.03030139 0.03037378 0.03420429 0.03745307 0.01430733\n",
      " 0.01733763 0.04236683 0.01483781 0.00955743 0.02061087 0.02121655\n",
      " 0.0213906  0.18042966 0.01848469 0.01980358 0.04316604 0.03173455\n",
      " 0.01441277 0.01313635 0.01658197 0.02011767 0.01956223 0.02187578\n",
      " 0.07595409 0.00808163 0.01474621 0.01816891 0.01211041 0.02978629\n",
      " 0.02623681 0.00805936 0.03106723 0.03809267 0.01739347 0.03594795\n",
      " 0.02359471 0.0105967  0.01936576 0.0140994  0.02556769 0.01949608\n",
      " 0.04002436 0.01784168 0.0224709  0.0294044  0.01937737 0.02225239\n",
      " 0.01145568 0.02922833 0.01444604 0.01483081 0.03094189 0.01621405\n",
      " 0.01907304 0.01742217 0.01113921 0.06210364 0.01411052 0.00756589\n",
      " 0.01307703 0.04039461 0.18163886 0.00917415 0.06509477 0.00689539\n",
      " 0.01960208 0.03722343 0.05637959 0.01915437 0.00958163 0.00655489\n",
      " 0.01486774 0.01778945 0.00812385 0.01312174 0.00822772 0.02460297\n",
      " 0.00559825 0.01362009 0.01785023 0.01802516 0.0199502  0.04657221\n",
      " 0.03952108 0.03655865 0.04807728 0.01893527 0.01735917 0.01186237\n",
      " 0.01898974 0.02560283 0.01133985 0.00798668 0.04194951 0.0271396\n",
      " 0.04544684 0.00848801 0.02973989 0.00746341 0.01789977 0.03063594\n",
      " 0.07790483 0.0249336  0.0069504  0.04581488 0.00840016 0.02397945\n",
      " 0.02581124 0.0240716  0.00978752 0.03640265 0.00917079 0.05798165\n",
      " 0.01727762 0.0162132  0.0163817  0.0131011  0.01375219 0.05535179\n",
      " 0.01432403 0.02743288 0.05466787 0.02709976 0.00880891 0.02075583\n",
      " 0.00672895 0.01011699 0.01353864 0.02425165 0.01867105 0.02801977\n",
      " 0.01974987 0.01158296 0.00799678 0.02020601 0.01376979 0.02322517\n",
      " 0.05018468 0.01581729 0.05079012 0.02483999 0.01289207 0.00848034\n",
      " 0.01858936 0.00597878 0.01522696 0.00954611 0.01376165 0.02254808\n",
      " 0.01866746 0.02219066 0.0101713  0.01070833 0.01028707 0.01559118\n",
      " 0.01414364 0.0214263  0.01277174 0.03253357 0.00885103 0.02458542\n",
      " 0.02828251 0.02100797 0.03299449 0.01177262 0.022743   0.01243971\n",
      " 0.01372175 0.0180551  0.02091676 0.01492599 0.05762016 0.1648298\n",
      " 0.0304808  0.01748179 0.007456   0.01879614 0.05190437 0.01666332\n",
      " 0.01795924 0.01679975 0.02249355 0.00653788 0.00977335 0.02095047\n",
      " 0.0156809  0.06320321 0.05441855 0.02074108 0.01760423 0.0164895\n",
      " 0.00567028 0.01522213 0.00882724 0.02383532 0.03985789 0.01564562\n",
      " 0.00907219 0.02150423 0.00990847 0.04786832 0.05775473 0.02765686\n",
      " 0.00865212 0.06850615 0.01581293 0.0229683  0.03883329 0.00786111\n",
      " 0.01373307 0.0133512  0.01137801 0.02287249 0.03896482 0.08464621\n",
      " 0.00923286 0.03800092 0.01176538 0.06647114 0.00251437 0.01179573\n",
      " 0.02054168 0.03222018 0.02614951 0.01329343 0.02821324 0.00604203\n",
      " 0.01389857 0.02893359 0.00836822 0.0199605  0.01463348 0.02763236\n",
      " 0.00687578 0.03518703 0.02834357 0.01559619 0.01839887 0.02280428\n",
      " 0.01187217 0.01263547 0.00625326 0.02983844 0.01250805 0.00778583\n",
      " 0.01124656 0.04523866 0.05669798 0.01757652 0.01647071 0.01105499\n",
      " 0.07376927 0.01219869 0.00763721 0.006727   0.02972802 0.03440432\n",
      " 0.00794907 0.01508802 0.02686362 0.01981494 0.02600629 0.01633773\n",
      " 0.0211774  0.02071669 0.13125828 0.00910904 0.01419769 0.00543499\n",
      " 0.01136657 0.03315372 0.01059214 0.01385696 0.0080091  0.03499903\n",
      " 0.0152872  0.0291667  0.01888564 0.01962728 0.00730535 0.0158191\n",
      " 0.00988849 0.01710207 0.01524513 0.02430231 0.06745131 0.01457098\n",
      " 0.04544891 0.02491928 0.00484179 0.01681385 0.02688796 0.06090255\n",
      " 0.01564076 0.02656246 0.0157423  0.02450544 0.00630216 0.03943952\n",
      " 0.02129557 0.02362669 0.01693153 0.00641255]\n",
      "[0.02984124 0.02598007 0.02017374 0.01312155 0.01681878 0.00648653\n",
      " 0.01413434 0.04416734 0.0167714  0.01603365 0.03345108 0.03955512\n",
      " 0.02173458 0.00802759 0.00762367 0.03062357 0.02728027 0.0064461\n",
      " 0.01065472 0.01517464 0.01055334 0.03065953 0.02837107 0.0342468\n",
      " 0.03604939 0.02418708 0.01910658 0.00604743 0.01169016 0.07924896\n",
      " 0.01747525 0.01004276 0.01662201 0.00676555 0.032945   0.01299826\n",
      " 0.00453467 0.02909169 0.04066025 0.05359845 0.02095573 0.01807482\n",
      " 0.0110095  0.0448595  0.02081661 0.01860791 0.01132673 0.07007855\n",
      " 0.02256303 0.0339547  0.00837746 0.00963504 0.0121142  0.02741658\n",
      " 0.01893615 0.0264938  0.03210558 0.01739595 0.01691536 0.02263476\n",
      " 0.01152158 0.04323685 0.00811572 0.03247627 0.01102054 0.01080819\n",
      " 0.01270309 0.004828   0.01965779 0.02952245 0.01111111 0.01161515\n",
      " 0.02814598 0.04230662 0.01429622 0.00656524 0.01140971 0.00860379\n",
      " 0.02268286 0.04182662 0.03677089 0.02403653 0.01308707 0.04135223\n",
      " 0.01230191 0.02646987 0.02740937 0.00996493 0.49977562 0.01736015\n",
      " 0.01644176 0.00316536 0.02964197 0.00778711 0.01119815 0.01920566\n",
      " 0.01909335 0.01612588 0.01687093 0.01858196 0.04312621 0.01105659\n",
      " 0.00930342 0.04652988 0.00920528 0.01356681 0.00992437 0.01091745\n",
      " 0.00509958 0.00999808 0.02720007 0.02004956 0.03600188 0.02794979\n",
      " 0.03325276 0.02383667 0.04390656 0.01383587 0.01775339 0.01915042\n",
      " 0.00884547 0.01905243 0.02413106 0.07266972 0.0059825  0.02828172\n",
      " 0.02285431 0.00811795 0.0234824  0.00964754 0.01726206 0.00947859\n",
      " 0.01339282 0.05236529 0.01637479 0.01182356 0.01264621 0.01000964\n",
      " 0.01202373 0.00777365 0.01476912 0.00597137 0.02259551 0.00680237\n",
      " 0.06484205 0.01448941 0.01561246 0.0159955  0.01638968 0.01879828\n",
      " 0.01964597 0.01517928 0.07163397 0.0034012  0.00779658 0.01707453\n",
      " 0.02800664 0.06411749 0.02807845 0.01947133 0.03608481 0.017474\n",
      " 0.01714507 0.01198809 0.02354032 0.01108941 0.04309671 0.0180593\n",
      " 0.04702402 0.01653942 0.02209402 0.01065347 0.00766979 0.02418738\n",
      " 0.02004338 0.05724706 0.00633909 0.02295487 0.01480412 0.00638778\n",
      " 0.01388811 0.0181003  0.01674193 0.00679597 0.01919259 0.03066402\n",
      " 0.02855074 0.01326188 0.0535976  0.02095427 0.01804872 0.01087518\n",
      " 0.02090091 0.03316597 0.01495169 0.02593131 0.0213317  0.03287456\n",
      " 0.02283792 0.03052004 0.01510875 0.00889747 0.00913157 0.0156782\n",
      " 0.008271   0.01296277 0.03597032 0.01595984 0.03456947 0.04270788\n",
      " 0.00581508 0.02766294 0.01720814 0.01849982 0.01449446 0.02069057\n",
      " 0.01548597 0.04050824 0.01873277 0.00717579 0.01165294 0.04828745\n",
      " 0.0350464  0.01052463 0.06527742 0.00906364 0.02135885 0.02641008\n",
      " 0.03791785 0.02007251 0.01083057 0.0185632  0.01760828 0.05211945\n",
      " 0.00955627 0.02386039 0.00909845 0.01382179 0.01888022 0.00771028\n",
      " 0.02378621 0.03482402 0.00931012 0.01537845 0.01148512 0.00700539\n",
      " 0.01973372 0.09620605 0.0127404  0.02761475 0.00729603 0.01539632\n",
      " 0.07165336 0.01831662 0.00649989 0.00723066 0.01698588 0.01072948\n",
      " 0.01866639 0.01134816 0.01155233 0.00948878 0.0318621  0.04043945\n",
      " 0.01228561 0.03115678 0.01746413 0.02417273 0.02676608 0.01048557\n",
      " 0.01760125 0.01127601 0.0103925  0.03434177 0.01444583 0.02339552\n",
      " 0.05129862 0.01449781 0.01049839 0.01799475 0.01108711 0.05929257\n",
      " 0.01410085 0.00903625 0.01546487 0.00658269 0.04211701 0.0313431\n",
      " 0.02012435 0.01564144 0.05268942 0.00897131 0.03611708 0.01152107\n",
      " 0.00769092 0.00755226 0.01633396 0.03671473 0.01509897 0.08155103\n",
      " 0.01719617 0.03051433 0.00914443 0.01828479 0.03450013 0.04266783\n",
      " 0.01641935 0.01316122 0.01080245 0.01302689 0.02182247 0.00410505\n",
      " 0.02259145 0.01868129 0.01477611 0.01768708 0.00699707 0.01622455\n",
      " 0.01265134 0.01448156 0.02771416 0.00921499 0.00795429 0.03221108\n",
      " 0.01369987 0.03147822 0.01205898 0.01105643 0.0351612  0.01045579\n",
      " 0.05442406 0.00861422 0.04379853 0.01248555 0.02413338 0.03123273\n",
      " 0.01440889 0.02426336 0.01639016 0.01254528 0.01211817 0.01335733\n",
      " 0.01865291 0.01182741 0.04298206 0.01913292 0.02304303 0.03573219\n",
      " 0.02622519 0.01892309 0.01374158 0.01840067 0.01309233 0.01537045\n",
      " 0.02383892 0.02662298 0.01648326 0.02583896 0.01621506 0.01587072\n",
      " 0.02319823 0.02208558 0.00946989 0.00802917 0.0150376  0.02877347\n",
      " 0.03233138 0.01822401 0.00962395 0.03108982 0.03009789 0.02395062\n",
      " 0.012867   0.01830206 0.03533654 0.01057961 0.01041701 0.01053402\n",
      " 0.01357976 0.06807887 0.00767121 0.02184611 0.01332999 0.04665499\n",
      " 0.00621147 0.0304383  0.02543996 0.02941523 0.03538264 0.01715983\n",
      " 0.01611954 0.04828622 0.04832484 0.02646854 0.01871304 0.01176914\n",
      " 0.00586497 0.0049089  0.0145957  0.01391468 0.01331029 0.01643383\n",
      " 0.01512114 0.05694463 0.04259441 0.01773009 0.05448129 0.00687155\n",
      " 0.02095966 0.05317071 0.01025105 0.0344545  0.01013144 0.04395026\n",
      " 0.00546517 0.0282598  0.02030786 0.01562494 0.01507632 0.00773911\n",
      " 0.03489874 0.00766362 0.01269946 0.01511194 0.01229942 0.01073968\n",
      " 0.05333526 0.01168503 0.01690804 0.02082799 0.05642678 0.02885638\n",
      " 0.00775578 0.0778055  0.02137787 0.01452492 0.07393026 0.03211576\n",
      " 0.01151303 0.01879034 0.02785318 0.00635926 0.04622813 0.01028455\n",
      " 0.01358328 0.02144502 0.01513281 0.02800832 0.01467986 0.01549961\n",
      " 0.02631455 0.02947818 0.01354068 0.01727197 0.02594806 0.00679343\n",
      " 0.02848373 0.01439555 0.02879655 0.00931594 0.03738482 0.01084207\n",
      " 0.010303   0.01861808 0.01328545 0.03362599 0.0132351  0.00895662\n",
      " 0.01737982 0.00985451 0.01321242 0.01039337 0.0331461  0.01970171\n",
      " 0.01563782 0.02381695 0.01478394 0.02321437 0.01177067 0.01000859\n",
      " 0.02542021 0.01512228 0.01943076 0.00533255 0.008105   0.00780178\n",
      " 0.0211614  0.037379   0.02287345 0.01560011 0.03696922 0.00890864\n",
      " 0.00992313 0.02622064 0.05793235 0.0194603  0.02421509 0.02579161\n",
      " 0.0125163  0.01732467 0.01310095 0.02220948 0.02141567 0.01139098\n",
      " 0.03694064 0.03011045 0.05287394 0.02551587 0.0156704  0.01694339\n",
      " 0.02968244 0.05569735 0.01086825 0.00920475 0.01025706 0.01358538\n",
      " 0.01511411 0.02535383 0.02209409 0.0211664  0.06041179 0.01413365\n",
      " 0.0195854  0.01385954 0.04670443 0.02948232 0.01964278 0.05438785\n",
      " 0.03178988 0.01036228 0.00421659 0.0197713  0.01070436 0.027149\n",
      " 0.01774979 0.0355664  0.01375619 0.02943461 0.01526513 0.00562602\n",
      " 0.0231295  0.00516941 0.01400225 0.04828355 0.02451654 0.01736232\n",
      " 0.0282755  0.03072291 0.01094975 0.00880789 0.00913143 0.00911624\n",
      " 0.03109896 0.01380095 0.00899047 0.01646258 0.00619577 0.01786005\n",
      " 0.03420029 0.01728389 0.02616279 0.01091622 0.00569712 0.00945081\n",
      " 0.01614959 0.01467654 0.02581933 0.01617592 0.00838195 0.01316482\n",
      " 0.00578825 0.00701149 0.01184098 0.0137784  0.01992204 0.02556635\n",
      " 0.03172869 0.01814485 0.01315072 0.01004568 0.01229315 0.00598956\n",
      " 0.0155157  0.00357675 0.00875986 0.05045548 0.01824693 0.01361415\n",
      " 0.02012906 0.02987901 0.03413424 0.02339139 0.01276158 0.03071501\n",
      " 0.03970563 0.01714761 0.01656909 0.03603823 0.00508893 0.00856033\n",
      " 0.0127124  0.02053903 0.03967507 0.05297466 0.01028728 0.0332528\n",
      " 0.01461828 0.01463421 0.00706085 0.01184073 0.01399395 0.02760248\n",
      " 0.01366251 0.03378151 0.01669417 0.00778135 0.02716361 0.02320148\n",
      " 0.00400133 0.03121675 0.02096304 0.01361407 0.02099851 0.02342487\n",
      " 0.01312456 0.00835031 0.01913912 0.02525936 0.0294549  0.00737248\n",
      " 0.03767632 0.01461763 0.01666509 0.01558421 0.03055775 0.06675075\n",
      " 0.00935605 0.02056517 0.01311633 0.01448056 0.01152542 0.01371794\n",
      " 0.02045115 0.01368451 0.03345664 0.02192561 0.02100527 0.0075925\n",
      " 0.02267778 0.04244189 0.03501382 0.00934211 0.05214568 0.05770428\n",
      " 0.00365126 0.00607037 0.01278828 0.01582114 0.0052674  0.01148144\n",
      " 0.0511591  0.02840685 0.03257302 0.02418601 0.0291618  0.01626087\n",
      " 0.02942345 0.00973784 0.00827028 0.01081325 0.01245652 0.01626507\n",
      " 0.00705039 0.04345429 0.01410145 0.01661749 0.02134744 0.01635665\n",
      " 0.02930842 0.02701403 0.01310181 0.05884422 0.00579923 0.03402213\n",
      " 0.02144151 0.02944905 0.00761872 0.01899684 0.00814387 0.01431477\n",
      " 0.03164742 0.02852085 0.00945412 0.03681663 0.01603803 0.01153594\n",
      " 0.01690107 0.02199308 0.02676279 0.03131599 0.01994378 0.0187044\n",
      " 0.02194405 0.03350001 0.01270878 0.01062095 0.02900796 0.0148079\n",
      " 0.02883274 0.0372446  0.01372768 0.01171522 0.043653   0.02056364\n",
      " 0.03108023 0.01619572 0.0125638  0.02119565 0.01647568 0.09203052\n",
      " 0.03113094 0.00710648 0.01530851 0.01738391 0.0119237  0.02018605\n",
      " 0.02251129 0.01172791 0.03483658 0.04281584 0.00842971 0.0316367\n",
      " 0.01873677 0.01286316 0.03145049 0.012022   0.02029568 0.02165266\n",
      " 0.03478103 0.01077299 0.03150514 0.04313965 0.02223752 0.0250341\n",
      " 0.01452559 0.01343874 0.01035894 0.01379936 0.02905085 0.02513122\n",
      " 0.02742419 0.01488952 0.01365424 0.03221349 0.01820013 0.01002593\n",
      " 0.01449449 0.02011825 0.05033573 0.02727744 0.02117489 0.01196665\n",
      " 0.02036561 0.03256791 0.03290058 0.00991394 0.00890975 0.00578718\n",
      " 0.01700296 0.00997551 0.0163408  0.01239761 0.01003062 0.02357483\n",
      " 0.00505065 0.0115014  0.01925295 0.03154422 0.02948123 0.04194232\n",
      " 0.03424818 0.0304786  0.06177161 0.02484368 0.01341764 0.03466782\n",
      " 0.00871337 0.01521267 0.04275732 0.01033606 0.03248334 0.02263436\n",
      " 0.04272264 0.01098435 0.00928181 0.00617852 0.02053938 0.04849406\n",
      " 0.02663737 0.00836584 0.00675725 0.01885038 0.00989887 0.01241064\n",
      " 0.02814231 0.02703597 0.00841755 0.02029386 0.01526555 0.03695983\n",
      " 0.02244329 0.02204054 0.02560003 0.01848133 0.02639166 0.06038656\n",
      " 0.0095372  0.04193739 0.02102156 0.02002118 0.00745165 0.02319959\n",
      " 0.00886262 0.01858898 0.01944571 0.04325748 0.02330273 0.02024704\n",
      " 0.0233679  0.00819993 0.00927506 0.0230744  0.01462349 0.01718208\n",
      " 0.0323803  0.01994604 0.01380692 0.02228851 0.0258591  0.00375926\n",
      " 0.01803673 0.04190471 0.01600318 0.0101007  0.00934854 0.01850186\n",
      " 0.01919367 0.02602792 0.00624743 0.00849201 0.02217028 0.00961517\n",
      " 0.00564293 0.0198152  0.0133129  0.03429239 0.00889654 0.02250482\n",
      " 0.03148899 0.00983358 0.03317268 0.26297235 0.03721612 0.01874138\n",
      " 0.01592089 0.02008944 0.0207359  0.02554793 0.01216991 0.04495296\n",
      " 0.01998983 0.03155951 0.00507169 0.01842994 0.05961354 0.03629822\n",
      " 0.0128466  0.01677406 0.0225087  0.00590138 0.00713777 0.01565827\n",
      " 0.01101135 0.03386685 0.01155844 0.02525518 0.02291771 0.01567193\n",
      " 0.00678427 0.01570875 0.01425756 0.02104469 0.03794479 0.02021808\n",
      " 0.00718519 0.01789311 0.01507967 0.04504659 0.05438854 0.03579596\n",
      " 0.01459627 0.03201552 0.01800562 0.02092236 0.04293582 0.00745754\n",
      " 0.01343602 0.01828319 0.00740448 0.02332946 0.02093582 0.04525596\n",
      " 0.00692269 0.02570258 0.00886774 0.03819719 0.00524039 0.0088778\n",
      " 0.0185869  0.02366528 0.01871154 0.01731836 0.02235187 0.01872178\n",
      " 0.01241345 0.02523117 0.02169035 0.02032503 0.01655218 0.03944851\n",
      " 0.00610398 0.0273134  0.03628498 0.01843972 0.0152659  0.0158141\n",
      " 0.01725441 0.01506367 0.01001795 0.03186694 0.02053813 0.01434813\n",
      " 0.01672139 0.03655367 0.08115269 0.02681125 0.03187157 0.02702488\n",
      " 0.05164484 0.01216171 0.00512196 0.0053134  0.03125377 0.02772346\n",
      " 0.00661158 0.01570892 0.03457432 0.02371182 0.03132985 0.02582276\n",
      " 0.02336827 0.04751645 0.03647979 0.01729145 0.01304701 0.02044185\n",
      " 0.01752887 0.02813953 0.01520207 0.00733081 0.0095385  0.01545775\n",
      " 0.0152316  0.01761299 0.01994318 0.01574061 0.00946525 0.0063973\n",
      " 0.00811358 0.00841477 0.02489037 0.02160377 0.02955727 0.01378808\n",
      " 0.02264065 0.19848852 0.00501594 0.02372873 0.0085794  0.06449779\n",
      " 0.02555302 0.02026097 0.01565808 0.01483726 0.00512767 0.02067846\n",
      " 0.03949817 0.02783063 0.01781216 0.00700617]\n"
     ]
    }
   ],
   "source": [
    "centers = kmeans_model.clusterCenters()\n",
    "print(\"Cluster Centers: \")\n",
    "for center in centers:\n",
    "    print(center)"
   ]
  },
  {
   "cell_type": "markdown",
   "id": "74c36c73",
   "metadata": {
    "slideshow": {
     "slide_type": "slide"
    }
   },
   "source": [
    "### Silhouette Score\n",
    "---\n",
    "\n",
    "- Para um ponto $\\color{blue}{i\\in C_{I}}$, no cluster $\\color{blue}{C_{I}}$ \n",
    "\n",
    "- Seja a distância média entre $\\color{blue}{i}$ e todos os outros pontos de dados no mesmo cluster:\n",
    "  - $\\color{blue}{\\displaystyle a(i)={\\frac {1}{|C_{I}|-1}}\\sum _{j\\in C_{I},i\\neq j}d(i,j)}$\n",
    "    - onde $\\color{blue}{d(i,j)}$ é a distância entre os pontos de dados i e j no cluster \n",
    "  - Podemos interpretar $\\color{blue}{a(i)}$ como uma medida de quão bem $\\color{blue}{i}$ é atribuído ao seu cluster.\n",
    "\n",
    "\n",
    "- Seja $\\color{blue}{\\displaystyle b(i)=\\min _{J\\neq I}{\\frac {1}{|C_{J}|}}\\sum _{j\\in C_{J}}d(i,j)}$ a menor distância média de $\\color{blue}{i}$ a todos os pontos em qualquer outro cluster. \n"
   ]
  },
  {
   "cell_type": "markdown",
   "id": "99683f84",
   "metadata": {
    "slideshow": {
     "slide_type": "slide"
    }
   },
   "source": [
    "### Silhouette Score\n",
    "---\n",
    "\n",
    "- O valor de silhueta de $\\color{blue}{i}$  é dado por: \n",
    "  - $\\color{blue}{\\displaystyle s(i)={\\frac {b(i)-a(i)}{\\max\\{a(i),b(i)\\}}}}$, se $\\color{blue}{|C_{I}|>1}$\n",
    "  \n",
    "  \n",
    "- O __coeficiente de silhueta__ para um número específico de clusters k.\n",
    "  - $\\color{blue}{SC=\\max _{k}{\\tilde {s}}\\left(k\\right)}$\n",
    "    -  onde $\\color{blue}{\\tilde {s}(k)}$ é média de $\\color{blue}{s(i)}$ sobre todos os dados de todo conjunto de dados para um número específico de clusters k.\n"
   ]
  },
  {
   "cell_type": "code",
   "execution_count": 23,
   "id": "f58412b5",
   "metadata": {
    "slideshow": {
     "slide_type": "slide"
    }
   },
   "outputs": [
    {
     "name": "stderr",
     "output_type": "stream",
     "text": [
      "\r",
      "[Stage 76:=====================>                                    (3 + 5) / 8]\r",
      "\r",
      "                                                                                \r"
     ]
    },
    {
     "name": "stdout",
     "output_type": "stream",
     "text": [
      "Silhouette with squared euclidean distance = 0.008113178398585372\n"
     ]
    },
    {
     "name": "stderr",
     "output_type": "stream",
     "text": [
      "\r",
      "[Stage 78:=======>                                                  (1 + 7) / 8]\r",
      "\r",
      "                                                                                \r"
     ]
    }
   ],
   "source": [
    "from pyspark.ml.evaluation import ClusteringEvaluator\n",
    "# Evaluate clustering by computing Silhouette score\n",
    "evaluator = ClusteringEvaluator(predictionCol='prediction', featuresCol='features', \\\n",
    "                                metricName='silhouette', distanceMeasure='cosine')\n",
    "\n",
    "silhouette = evaluator.evaluate(predictions)\n",
    "print(\"Silhouette with squared euclidean distance = \" + str(silhouette))"
   ]
  },
  {
   "cell_type": "code",
   "execution_count": 28,
   "id": "fa954104",
   "metadata": {
    "slideshow": {
     "slide_type": "slide"
    }
   },
   "outputs": [
    {
     "name": "stderr",
     "output_type": "stream",
     "text": [
      "                                                                                \r"
     ]
    },
    {
     "name": "stdout",
     "output_type": "stream",
     "text": [
      "K-means com k= 2\n",
      "Silhouette Score: 0.009431957268788507\n"
     ]
    },
    {
     "name": "stderr",
     "output_type": "stream",
     "text": [
      "                                                                                \r"
     ]
    },
    {
     "name": "stdout",
     "output_type": "stream",
     "text": [
      "K-means com k= 3\n",
      "Silhouette Score: 0.007924673763551009\n"
     ]
    },
    {
     "name": "stderr",
     "output_type": "stream",
     "text": [
      "                                                                                \r"
     ]
    },
    {
     "name": "stdout",
     "output_type": "stream",
     "text": [
      "K-means com k= 4\n",
      "Silhouette Score: 0.007241753151813976\n"
     ]
    },
    {
     "name": "stderr",
     "output_type": "stream",
     "text": [
      "                                                                                \r"
     ]
    },
    {
     "name": "stdout",
     "output_type": "stream",
     "text": [
      "K-means com k= 5\n",
      "Silhouette Score: 0.006964342116133693\n"
     ]
    },
    {
     "name": "stderr",
     "output_type": "stream",
     "text": [
      "                                                                                \r"
     ]
    },
    {
     "name": "stdout",
     "output_type": "stream",
     "text": [
      "K-means com k= 6\n",
      "Silhouette Score: 0.0065955876646417244\n"
     ]
    },
    {
     "name": "stderr",
     "output_type": "stream",
     "text": [
      "                                                                                \r"
     ]
    },
    {
     "name": "stdout",
     "output_type": "stream",
     "text": [
      "K-means com k= 7\n",
      "Silhouette Score: 0.007306266908499943\n"
     ]
    },
    {
     "name": "stderr",
     "output_type": "stream",
     "text": [
      "                                                                                \r"
     ]
    },
    {
     "name": "stdout",
     "output_type": "stream",
     "text": [
      "K-means com k= 8\n",
      "Silhouette Score: 0.0068079285053353885\n"
     ]
    },
    {
     "name": "stderr",
     "output_type": "stream",
     "text": [
      "                                                                                \r"
     ]
    },
    {
     "name": "stdout",
     "output_type": "stream",
     "text": [
      "K-means com k= 9\n",
      "Silhouette Score: 0.007528434999447683\n"
     ]
    },
    {
     "name": "stderr",
     "output_type": "stream",
     "text": [
      "                                                                                \r"
     ]
    },
    {
     "name": "stdout",
     "output_type": "stream",
     "text": [
      "K-means com k= 10\n",
      "Silhouette Score: 0.007990693545454184\n"
     ]
    },
    {
     "name": "stderr",
     "output_type": "stream",
     "text": [
      "                                                                                \r"
     ]
    },
    {
     "name": "stdout",
     "output_type": "stream",
     "text": [
      "K-means com k= 11\n",
      "Silhouette Score: 0.00882803831835354\n"
     ]
    },
    {
     "name": "stderr",
     "output_type": "stream",
     "text": [
      "                                                                                \r"
     ]
    },
    {
     "name": "stdout",
     "output_type": "stream",
     "text": [
      "K-means com k= 12\n",
      "Silhouette Score: 0.00896871419580491\n"
     ]
    },
    {
     "name": "stderr",
     "output_type": "stream",
     "text": [
      "                                                                                \r"
     ]
    },
    {
     "name": "stdout",
     "output_type": "stream",
     "text": [
      "K-means com k= 13\n",
      "Silhouette Score: 0.008938648986671722\n"
     ]
    },
    {
     "name": "stderr",
     "output_type": "stream",
     "text": [
      "                                                                                \r"
     ]
    },
    {
     "name": "stdout",
     "output_type": "stream",
     "text": [
      "K-means com k= 14\n",
      "Silhouette Score: 0.009946188173304966\n"
     ]
    },
    {
     "name": "stderr",
     "output_type": "stream",
     "text": [
      "                                                                                \r"
     ]
    },
    {
     "name": "stdout",
     "output_type": "stream",
     "text": [
      "K-means com k= 15\n",
      "Silhouette Score: 0.009784644625779564\n"
     ]
    },
    {
     "name": "stderr",
     "output_type": "stream",
     "text": [
      "                                                                                \r"
     ]
    },
    {
     "name": "stdout",
     "output_type": "stream",
     "text": [
      "K-means com k= 16\n",
      "Silhouette Score: 0.009602519480707826\n"
     ]
    },
    {
     "name": "stderr",
     "output_type": "stream",
     "text": [
      "                                                                                \r"
     ]
    },
    {
     "name": "stdout",
     "output_type": "stream",
     "text": [
      "K-means com k= 17\n",
      "Silhouette Score: 0.010663009884669419\n"
     ]
    },
    {
     "name": "stderr",
     "output_type": "stream",
     "text": [
      "                                                                                \r"
     ]
    },
    {
     "name": "stdout",
     "output_type": "stream",
     "text": [
      "K-means com k= 18\n",
      "Silhouette Score: 0.010720151634292324\n"
     ]
    },
    {
     "name": "stderr",
     "output_type": "stream",
     "text": [
      "                                                                                \r"
     ]
    },
    {
     "name": "stdout",
     "output_type": "stream",
     "text": [
      "K-means com k= 19\n",
      "Silhouette Score: 0.010580041898011289\n"
     ]
    },
    {
     "name": "stderr",
     "output_type": "stream",
     "text": [
      "                                                                                \r"
     ]
    },
    {
     "name": "stdout",
     "output_type": "stream",
     "text": [
      "K-means com k= 20\n",
      "Silhouette Score: 0.010685261886892007\n"
     ]
    },
    {
     "name": "stderr",
     "output_type": "stream",
     "text": [
      "                                                                                \r"
     ]
    },
    {
     "name": "stdout",
     "output_type": "stream",
     "text": [
      "K-means com k= 21\n",
      "Silhouette Score: 0.009900448236383058\n"
     ]
    },
    {
     "name": "stderr",
     "output_type": "stream",
     "text": [
      "                                                                                \r"
     ]
    },
    {
     "name": "stdout",
     "output_type": "stream",
     "text": [
      "K-means com k= 22\n",
      "Silhouette Score: 0.010638090092212768\n"
     ]
    },
    {
     "name": "stderr",
     "output_type": "stream",
     "text": [
      "                                                                                \r"
     ]
    },
    {
     "name": "stdout",
     "output_type": "stream",
     "text": [
      "K-means com k= 23\n",
      "Silhouette Score: 0.011197729481159246\n"
     ]
    },
    {
     "name": "stderr",
     "output_type": "stream",
     "text": [
      "                                                                                \r"
     ]
    },
    {
     "name": "stdout",
     "output_type": "stream",
     "text": [
      "K-means com k= 24\n",
      "Silhouette Score: 0.011237843874817839\n"
     ]
    },
    {
     "name": "stderr",
     "output_type": "stream",
     "text": [
      "                                                                                \r"
     ]
    },
    {
     "name": "stdout",
     "output_type": "stream",
     "text": [
      "K-means com k= 25\n",
      "Silhouette Score: 0.011700016763224267\n"
     ]
    },
    {
     "name": "stderr",
     "output_type": "stream",
     "text": [
      "                                                                                \r"
     ]
    },
    {
     "name": "stdout",
     "output_type": "stream",
     "text": [
      "K-means com k= 26\n",
      "Silhouette Score: 0.011283688630277715\n"
     ]
    },
    {
     "name": "stderr",
     "output_type": "stream",
     "text": [
      "                                                                                \r"
     ]
    },
    {
     "name": "stdout",
     "output_type": "stream",
     "text": [
      "K-means com k= 27\n",
      "Silhouette Score: 0.01130785035931084\n"
     ]
    },
    {
     "name": "stderr",
     "output_type": "stream",
     "text": [
      "                                                                                \r"
     ]
    },
    {
     "name": "stdout",
     "output_type": "stream",
     "text": [
      "K-means com k= 28\n",
      "Silhouette Score: 0.011397760325619235\n"
     ]
    },
    {
     "name": "stderr",
     "output_type": "stream",
     "text": [
      "                                                                                \r"
     ]
    },
    {
     "name": "stdout",
     "output_type": "stream",
     "text": [
      "K-means com k= 29\n",
      "Silhouette Score: 0.012079659263156196\n"
     ]
    },
    {
     "name": "stderr",
     "output_type": "stream",
     "text": [
      "                                                                                \r"
     ]
    },
    {
     "name": "stdout",
     "output_type": "stream",
     "text": [
      "K-means com k= 30\n",
      "Silhouette Score: 0.01258538464386276\n"
     ]
    },
    {
     "name": "stderr",
     "output_type": "stream",
     "text": [
      "                                                                                \r"
     ]
    },
    {
     "name": "stdout",
     "output_type": "stream",
     "text": [
      "K-means com k= 31\n",
      "Silhouette Score: 0.01201073972388747\n"
     ]
    },
    {
     "name": "stderr",
     "output_type": "stream",
     "text": [
      "                                                                                \r"
     ]
    },
    {
     "name": "stdout",
     "output_type": "stream",
     "text": [
      "K-means com k= 32\n",
      "Silhouette Score: 0.013103072673607248\n"
     ]
    },
    {
     "name": "stderr",
     "output_type": "stream",
     "text": [
      "                                                                                \r"
     ]
    },
    {
     "name": "stdout",
     "output_type": "stream",
     "text": [
      "K-means com k= 33\n",
      "Silhouette Score: 0.01326987511097831\n"
     ]
    },
    {
     "name": "stderr",
     "output_type": "stream",
     "text": [
      "                                                                                \r"
     ]
    },
    {
     "name": "stdout",
     "output_type": "stream",
     "text": [
      "K-means com k= 34\n",
      "Silhouette Score: 0.01356394517423156\n"
     ]
    },
    {
     "name": "stderr",
     "output_type": "stream",
     "text": [
      "                                                                                \r"
     ]
    },
    {
     "name": "stdout",
     "output_type": "stream",
     "text": [
      "K-means com k= 35\n",
      "Silhouette Score: 0.01372299290440286\n"
     ]
    },
    {
     "name": "stderr",
     "output_type": "stream",
     "text": [
      "                                                                                \r"
     ]
    },
    {
     "name": "stdout",
     "output_type": "stream",
     "text": [
      "K-means com k= 36\n",
      "Silhouette Score: 0.013492825174649845\n"
     ]
    },
    {
     "name": "stderr",
     "output_type": "stream",
     "text": [
      "                                                                                \r"
     ]
    },
    {
     "name": "stdout",
     "output_type": "stream",
     "text": [
      "K-means com k= 37\n",
      "Silhouette Score: 0.013380121946456462\n"
     ]
    },
    {
     "name": "stderr",
     "output_type": "stream",
     "text": [
      "                                                                                \r"
     ]
    },
    {
     "name": "stdout",
     "output_type": "stream",
     "text": [
      "K-means com k= 38\n",
      "Silhouette Score: 0.014055755942316958\n"
     ]
    },
    {
     "name": "stderr",
     "output_type": "stream",
     "text": [
      "                                                                                \r"
     ]
    },
    {
     "name": "stdout",
     "output_type": "stream",
     "text": [
      "K-means com k= 39\n",
      "Silhouette Score: 0.013834762548135792\n"
     ]
    },
    {
     "name": "stderr",
     "output_type": "stream",
     "text": [
      "                                                                                \r"
     ]
    },
    {
     "name": "stdout",
     "output_type": "stream",
     "text": [
      "K-means com k= 40\n",
      "Silhouette Score: 0.013473427920766426\n"
     ]
    },
    {
     "name": "stderr",
     "output_type": "stream",
     "text": [
      "                                                                                \r"
     ]
    },
    {
     "name": "stdout",
     "output_type": "stream",
     "text": [
      "K-means com k= 41\n",
      "Silhouette Score: 0.01388142222171739\n"
     ]
    },
    {
     "name": "stderr",
     "output_type": "stream",
     "text": [
      "                                                                                \r"
     ]
    },
    {
     "name": "stdout",
     "output_type": "stream",
     "text": [
      "K-means com k= 42\n",
      "Silhouette Score: 0.014717449981274834\n"
     ]
    },
    {
     "name": "stderr",
     "output_type": "stream",
     "text": [
      "                                                                                \r"
     ]
    },
    {
     "name": "stdout",
     "output_type": "stream",
     "text": [
      "K-means com k= 43\n",
      "Silhouette Score: 0.013679028483607898\n"
     ]
    },
    {
     "name": "stderr",
     "output_type": "stream",
     "text": [
      "                                                                                \r"
     ]
    },
    {
     "name": "stdout",
     "output_type": "stream",
     "text": [
      "K-means com k= 44\n",
      "Silhouette Score: 0.01361371303112779\n"
     ]
    },
    {
     "name": "stderr",
     "output_type": "stream",
     "text": [
      "                                                                                \r"
     ]
    },
    {
     "name": "stdout",
     "output_type": "stream",
     "text": [
      "K-means com k= 45\n",
      "Silhouette Score: 0.014281480682121291\n"
     ]
    },
    {
     "name": "stderr",
     "output_type": "stream",
     "text": [
      "                                                                                \r"
     ]
    },
    {
     "name": "stdout",
     "output_type": "stream",
     "text": [
      "K-means com k= 46\n",
      "Silhouette Score: 0.013328807644659916\n"
     ]
    },
    {
     "name": "stderr",
     "output_type": "stream",
     "text": [
      "                                                                                \r"
     ]
    },
    {
     "name": "stdout",
     "output_type": "stream",
     "text": [
      "K-means com k= 47\n",
      "Silhouette Score: 0.014560164481903861\n"
     ]
    },
    {
     "name": "stderr",
     "output_type": "stream",
     "text": [
      "                                                                                \r"
     ]
    },
    {
     "name": "stdout",
     "output_type": "stream",
     "text": [
      "K-means com k= 48\n",
      "Silhouette Score: 0.013966779254536469\n"
     ]
    },
    {
     "name": "stderr",
     "output_type": "stream",
     "text": [
      "                                                                                \r"
     ]
    },
    {
     "name": "stdout",
     "output_type": "stream",
     "text": [
      "K-means com k= 49\n",
      "Silhouette Score: 0.014662683911873987\n"
     ]
    }
   ],
   "source": [
    "silhouette_score=[]\n",
    "evaluator = ClusteringEvaluator(predictionCol='prediction', featuresCol='features', \\\n",
    "                                metricName='silhouette', distanceMeasure='cosine')\n",
    "for i in range(2,50):\n",
    "    KMeans_algo=KMeans(featuresCol='features',k=i,distanceMeasure='cosine')\n",
    "    KMeans_fit=KMeans_algo.fit(feat_reviews)\n",
    "    output=KMeans_fit.transform(feat_reviews)\n",
    "    score=evaluator.evaluate(output)\n",
    "    silhouette_score.append(score)\n",
    "    print(\"K-means com k=\",i)\n",
    "    print(\"Silhouette Score:\",score)\n",
    "    "
   ]
  },
  {
   "cell_type": "code",
   "execution_count": 29,
   "id": "b8cd5689",
   "metadata": {
    "slideshow": {
     "slide_type": "slide"
    }
   },
   "outputs": [
    {
     "data": {
      "text/plain": [
       "Text(0, 0.5, 'Silhouette Score')"
      ]
     },
     "execution_count": 29,
     "metadata": {},
     "output_type": "execute_result"
    },
    {
     "data": {
      "image/png": "[encoded data removed]",
      "text/plain": [
       "<Figure size 800x600 with 1 Axes>"
      ]
     },
     "metadata": {},
     "output_type": "display_data"
    }
   ],
   "source": [
    "#Visualizing the silhouette scores in a plot\n",
    "import matplotlib.pyplot as plt\n",
    "fig, ax = plt.subplots(1,1, figsize =(8,6))\n",
    "ax.plot(range(2,),silhouette_score)\n",
    "ax.set_xlabel('k')\n",
    "ax.set_ylabel('Silhouette Score')"
   ]
  },
  {
   "cell_type": "code",
   "execution_count": null,
   "id": "5ab07d02",
   "metadata": {},
   "outputs": [],
   "source": []
  }
 ],
 "metadata": {
  "celltoolbar": "Slideshow",
  "kernelspec": {
   "display_name": "Python 3 (ipykernel)",
   "language": "python",
   "name": "python3"
  },
  "language_info": {
   "codemirror_mode": {
    "name": "ipython",
    "version": 3
   },
   "file_extension": ".py",
   "mimetype": "text/x-python",
   "name": "python",
   "nbconvert_exporter": "python",
   "pygments_lexer": "ipython3",
   "version": "3.9.15"
  }
 },
 "nbformat": 4,
 "nbformat_minor": 5
}
